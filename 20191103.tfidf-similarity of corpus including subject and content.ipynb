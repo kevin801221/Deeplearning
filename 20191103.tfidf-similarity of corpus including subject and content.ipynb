{
 "cells": [
  {
   "cell_type": "code",
   "execution_count": 5,
   "metadata": {},
   "outputs": [
    {
     "name": "stdout",
     "output_type": "stream",
     "text": [
      "['10', '1809', '1876', 'asking', 'cat', 'clients', 'console', 'cute', 'feature', 'have', 'micro', 'not', 'on', 'one', 'online', 'osce', 'pack', 'showing', 'to', 'trend', 'uninstall', 'update', 'us', 'windows', 'xg']\n",
      "[1.         0.         0.34635933 0.        ]\n"
     ]
    }
   ],
   "source": [
    "import numpy as np\n",
    "from sklearn.feature_extraction.text import CountVectorizer\n",
    "from sklearn.feature_extraction.text import TfidfTransformer\n",
    "from sklearn.metrics.pairwise import cosine_similarity\n",
    "\n",
    "base = 0 # index of corpus with zero-base\n",
    "\n",
    "#Case subject\n",
    "subject = [\n",
    "    '[OSCE XG 1876] windows 10 update 1809 asking us to uninstall trend micro',\n",
    "    'Clients Not showing online on Console',\n",
    "    '[OSCE XG] Windows feature pack 1809', \n",
    "    'I have one cute cat',\n",
    "]\n",
    "\n",
    "vectorizer = CountVectorizer()\n",
    "X = vectorizer.fit_transform(subject)\n",
    "word = vectorizer.get_feature_names()\n",
    "print(word)\n",
    "transformer = TfidfTransformer()\n",
    "tfidf = transformer.fit_transform(X)\n",
    "similarity_subject = np.array(cosine_similarity(tfidf[base], tfidf)).ravel()\n",
    "print(similarity_subject)"
   ]
  },
  {
   "cell_type": "code",
   "execution_count": 6,
   "metadata": {},
   "outputs": [
    {
     "name": "stdout",
     "output_type": "stream",
     "text": [
      "['10', '1809', 'agents', 'allow', 'altaan', 'an', 'and', 'any', 'asking', 'but', 'called', 'clients', 'console', 'end', 'feature', 'files', 'forces', 'hangs', 'have', 'how', 'in', 'incompatibility', 'installation', 'is', 'issues', 'manually', 'micro', 'not', 'of', 'office', 'on', 'online', 'order', 'pack', 'recent', 'regarding', 'reinstall', 'reports', 'run', 'scan', 'scanning', 'server', 'showing', 'suddenly', 'taipei', 'task', 'the', 'then', 'to', 'today', 'trend', 'uninstall', 'unloading', 'update', 'upgrade', 'us', 'weather', 'went', 'when', 'will', 'windows', 'with', 'without']\n",
      "[1.         0.03382064 0.20835866 0.03767698]\n"
     ]
    }
   ],
   "source": [
    "#Case body\n",
    "body = [    \n",
    "    'Altaan called in regarding recent windows 10 update 1809 asking us to uninstall trend micro . Unloading agents will allow the installation of 1809 upgrade',\n",
    "    'Clients Not showing online on Console \\\\Suddenly clients on the server went 0',\n",
    "    'Windows feature pack 1809 reports an incompatibility with Trend. Forces an uninstall in order to update Windows. I then manually reinstall Trend without any issues but when manually scanning files Office scan hangs and i have to run an end task.',\n",
    "    'How is weather today in Taipei',\n",
    "]\n",
    "\n",
    "vectorizer = CountVectorizer()\n",
    "X = vectorizer.fit_transform(body)\n",
    "word = vectorizer.get_feature_names()\n",
    "print(word)\n",
    "transformer = TfidfTransformer()\n",
    "tfidf = transformer.fit_transform(X)\n",
    "body_subject = np.array(cosine_similarity(tfidf[base], tfidf)).ravel()\n",
    "print(body_subject)"
   ]
  },
  {
   "cell_type": "code",
   "execution_count": 7,
   "metadata": {},
   "outputs": [
    {
     "data": {
      "text/plain": [
       "array([1.        , 0.01691032, 0.277359  , 0.01883849])"
      ]
     },
     "execution_count": 7,
     "metadata": {},
     "output_type": "execute_result"
    }
   ],
   "source": [
    "values = similarity_subject * 0.5 + body_subject * 0.5\n",
    "values"
   ]
  },
  {
   "cell_type": "code",
   "execution_count": 8,
   "metadata": {},
   "outputs": [
    {
     "name": "stdout",
     "output_type": "stream",
     "text": [
      "Similarity 0.27735899520865304\n",
      "---------------------------------------------------------------\n",
      "Src Subject :  \n",
      " [OSCE XG 1876] windows 10 update 1809 asking us to uninstall trend micro\n",
      "Src Body : \n",
      " Altaan called in regarding recent windows 10 update 1809 asking us to uninstall trend micro . Unloading agents will allow the installation of 1809 upgrade\n",
      "---------------------------------------------------------------\n",
      "Prd Subject :  \n",
      " [OSCE XG] Windows feature pack 1809\n",
      "Prd Body : \n",
      " Windows feature pack 1809 reports an incompatibility with Trend. Forces an uninstall in order to update Windows. I then manually reinstall Trend without any issues but when manually scanning files Office scan hangs and i have to run an end task.\n"
     ]
    }
   ],
   "source": [
    "# 50 : 50 weight\n",
    "values = similarity_subject * 0.5 + body_subject * 0.5\n",
    "# remove myself\n",
    "\n",
    "values[base] = 0 \n",
    "# find best solution\n",
    "index = np.argmax(values)\n",
    "# print out sugesiton only similarity > 0.1\n",
    "if values[index] > 0.1:\n",
    "    print('Similarity {}'.format(values[index]))\n",
    "    print('---------------------------------------------------------------')\n",
    "    print('Src Subject : ','\\n', subject[base])\n",
    "    print('Src Body :','\\n', body[base])\n",
    "    print('---------------------------------------------------------------')\n",
    "    print('Prd Subject : ','\\n', subject[index])\n",
    "    print('Prd Body :','\\n', body[index])\n",
    "else:\n",
    "    print('Similarity {}'.format(values[index]))\n",
    "    print('NO_DATA_FOUND')"
   ]
  },
  {
   "cell_type": "code",
   "execution_count": null,
   "metadata": {},
   "outputs": [],
   "source": []
  }
 ],
 "metadata": {
  "kernelspec": {
   "display_name": "Python 3",
   "language": "python",
   "name": "python3"
  },
  "language_info": {
   "codemirror_mode": {
    "name": "ipython",
    "version": 3
   },
   "file_extension": ".py",
   "mimetype": "text/x-python",
   "name": "python",
   "nbconvert_exporter": "python",
   "pygments_lexer": "ipython3",
   "version": "3.6.8"
  }
 },
 "nbformat": 4,
 "nbformat_minor": 2
}
