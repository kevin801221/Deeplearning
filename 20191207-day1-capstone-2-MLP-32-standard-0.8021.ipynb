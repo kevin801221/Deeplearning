{
 "cells": [
  {
   "cell_type": "code",
   "execution_count": 1,
   "metadata": {},
   "outputs": [
    {
     "name": "stdout",
     "output_type": "stream",
     "text": [
      "D:\\python\\巨匠第四階段\\20191207-day1-capstone\n"
     ]
    }
   ],
   "source": [
    "import os\n",
    "print(os.getcwd())"
   ]
  },
  {
   "cell_type": "code",
   "execution_count": 2,
   "metadata": {},
   "outputs": [],
   "source": [
    "#!pip install scikit-image seaborn\n",
    "#!pip install keras-radam"
   ]
  },
  {
   "cell_type": "code",
   "execution_count": 2,
   "metadata": {},
   "outputs": [
    {
     "data": {
      "text/html": [
       "<div>\n",
       "<style scoped>\n",
       "    .dataframe tbody tr th:only-of-type {\n",
       "        vertical-align: middle;\n",
       "    }\n",
       "\n",
       "    .dataframe tbody tr th {\n",
       "        vertical-align: top;\n",
       "    }\n",
       "\n",
       "    .dataframe thead th {\n",
       "        text-align: right;\n",
       "    }\n",
       "</style>\n",
       "<table border=\"1\" class=\"dataframe\">\n",
       "  <thead>\n",
       "    <tr style=\"text-align: right;\">\n",
       "      <th></th>\n",
       "      <th>id</th>\n",
       "      <th>appliance</th>\n",
       "    </tr>\n",
       "  </thead>\n",
       "  <tbody>\n",
       "    <tr>\n",
       "      <td>0</td>\n",
       "      <td>1000</td>\n",
       "      <td>4</td>\n",
       "    </tr>\n",
       "    <tr>\n",
       "      <td>1</td>\n",
       "      <td>1001</td>\n",
       "      <td>9</td>\n",
       "    </tr>\n",
       "    <tr>\n",
       "      <td>2</td>\n",
       "      <td>1002</td>\n",
       "      <td>4</td>\n",
       "    </tr>\n",
       "  </tbody>\n",
       "</table>\n",
       "</div>"
      ],
      "text/plain": [
       "     id  appliance\n",
       "0  1000          4\n",
       "1  1001          9\n",
       "2  1002          4"
      ]
     },
     "execution_count": 2,
     "metadata": {},
     "output_type": "execute_result"
    }
   ],
   "source": [
    "# HomeWork\n",
    "# 如何去讀取所有的訓練資料 (c,v) 一組\n",
    "\n",
    "# y\n",
    "import pandas as pd\n",
    "import numpy as np\n",
    "import matplotlib.pyplot as plt\n",
    "from skimage import color, io\n",
    "y = pd.read_csv('./train_labels.csv')\n",
    "y[:3]  #前三項"
   ]
  },
  {
   "cell_type": "code",
   "execution_count": 3,
   "metadata": {},
   "outputs": [
    {
     "data": {
      "image/png": "[encoded data removed]",
      "text/plain": [
       "<Figure size 432x288 with 1 Axes>"
      ]
     },
     "metadata": {
      "needs_background": "light"
     },
     "output_type": "display_data"
    }
   ],
   "source": [
    "#aplt.title('Data Distribution')\n",
    "#y.appliance.value_counts().sort_index().plot(kind='bar')\n",
    "y.appliance.value_counts().sort_index().plot(kind = \"bar\")   #value_counts() ,sort_index() \n",
    "plt.show()"
   ]
  },
  {
   "cell_type": "code",
   "execution_count": 5,
   "metadata": {},
   "outputs": [
    {
     "data": {
      "text/plain": [
       "4"
      ]
     },
     "execution_count": 5,
     "metadata": {},
     "output_type": "execute_result"
    }
   ],
   "source": [
    "#y[y.id==1000].appliance.values[0]\n",
    "y[y.id==1000].appliance.values[0] #index 1 is out of bounds for axis 0 with size 1"
   ]
  },
  {
   "cell_type": "code",
   "execution_count": 21,
   "metadata": {},
   "outputs": [
    {
     "data": {
      "text/plain": [
       "'1000'"
      ]
     },
     "execution_count": 21,
     "metadata": {},
     "output_type": "execute_result"
    }
   ],
   "source": [
    "# 分析檔案名稱\n",
    "filename = './train/1000_c.png'\n",
    "#filename.split(\"/\")[-1].split(\".\")[-2].split(\"_\")[-2]\n",
    "filename.split('/')[-1].split('.')[0].split('_')[0]\n",
    "\n",
    "#print(filename.endswith('c.png'))"
   ]
  },
  {
   "cell_type": "code",
   "execution_count": 7,
   "metadata": {},
   "outputs": [],
   "source": [
    "# X 讀取 all training data (image)\n",
    "# os.walk 從作業系統中每讀取一筆檔案名稱 進行影像讀取 加上 標籤對應\n",
    "\n",
    "image_c = [] # 每一的檔案的影像 電流訊號轉的影像\n",
    "image_v = [] # 每一的檔案的影像 電壓訊號轉的影像\n",
    "data = [] # 每一的檔案對應appliance 數字\n",
    "\n",
    "import os\n",
    "for root, dirs, files in os.walk(\"./data/train/\", topdown=False):\n",
    "    for filename in files:\n",
    "        if os.path.join(root, filename).endswith('c.png'):\n",
    "            data.append((y[y.id==int(  filename.split('_')[0] )].appliance.values[0]) )\n",
    "            file = os.path.join(root, filename)\n",
    "            image_c.append(io.imread(file, as_gray=True))\n",
    "        \n",
    "          "
   ]
  },
  {
   "cell_type": "code",
   "execution_count": 8,
   "metadata": {},
   "outputs": [
    {
     "data": {
      "text/plain": [
       "(576, 576)"
      ]
     },
     "execution_count": 8,
     "metadata": {},
     "output_type": "execute_result"
    }
   ],
   "source": [
    "len(image_c), len(data)"
   ]
  },
  {
   "cell_type": "code",
   "execution_count": 9,
   "metadata": {},
   "outputs": [
    {
     "name": "stderr",
     "output_type": "stream",
     "text": [
      "Using TensorFlow backend.\n"
     ]
    },
    {
     "data": {
      "text/plain": [
       "array([0., 0., 0., 0., 1., 0., 0., 0., 0., 0., 0.], dtype=float32)"
      ]
     },
     "execution_count": 9,
     "metadata": {},
     "output_type": "execute_result"
    }
   ],
   "source": [
    "# 準備 X_train , y_train \n",
    "# data standardization\n",
    "from keras.utils import to_categorical\n",
    "X_train, y_train = np.array(image_c).astype(np.float32)/255.0, np.array(data)\n",
    "y_train_oh = to_categorical(y_train)\n",
    "X_train.shape, y_train.shape, y_train_oh.shape\n",
    "\n",
    "y_train_oh[0]"
   ]
  },
  {
   "cell_type": "code",
   "execution_count": 10,
   "metadata": {},
   "outputs": [
    {
     "name": "stdout",
     "output_type": "stream",
     "text": [
      "Model: \"sequential_1\"\n",
      "_________________________________________________________________\n",
      "Layer (type)                 Output Shape              Param #   \n",
      "=================================================================\n",
      "dense_1 (Dense)              (None, 1024)              23069696  \n",
      "_________________________________________________________________\n",
      "dense_2 (Dense)              (None, 512)               524800    \n",
      "_________________________________________________________________\n",
      "dense_3 (Dense)              (None, 11)                5643      \n",
      "=================================================================\n",
      "Total params: 23,600,139\n",
      "Trainable params: 23,600,139\n",
      "Non-trainable params: 0\n",
      "_________________________________________________________________\n"
     ]
    }
   ],
   "source": [
    "# Build model\n",
    "from keras import Sequential\n",
    "from keras.layers import Dense\n",
    "from keras.optimizers import Adam\n",
    "from keras_radam import RAdam\n",
    "\n",
    "model = Sequential()\n",
    "model.add( Dense( units=1024, activation='relu', input_shape=(128*176,) ) )\n",
    "model.add( Dense( units=512, activation='relu' ) )\n",
    "model.add( Dense( units=11, activation='softmax' ) )\n",
    "model.summary()"
   ]
  },
  {
   "cell_type": "code",
   "execution_count": 11,
   "metadata": {
    "collapsed": true
   },
   "outputs": [
    {
     "name": "stdout",
     "output_type": "stream",
     "text": [
      "Train on 518 samples, validate on 58 samples\n",
      "Epoch 1/50\n",
      "518/518 [==============================] - 2s 4ms/step - loss: 1.8260 - accuracy: 0.3919 - val_loss: 1.7451 - val_accuracy: 0.4655\n",
      "Epoch 2/50\n",
      "518/518 [==============================] - 2s 3ms/step - loss: 1.2397 - accuracy: 0.5579 - val_loss: 1.3381 - val_accuracy: 0.5345oss: 1.2399 - accuracy: 0.\n",
      "Epoch 3/50\n",
      "518/518 [==============================] - 2s 3ms/step - loss: 1.0697 - accuracy: 0.6178 - val_loss: 1.1424 - val_accuracy: 0.6379\n",
      "Epoch 4/50\n",
      "518/518 [==============================] - 2s 3ms/step - loss: 0.9550 - accuracy: 0.6602 - val_loss: 1.0910 - val_accuracy: 0.6207\n",
      "Epoch 5/50\n",
      "518/518 [==============================] - 2s 3ms/step - loss: 0.8438 - accuracy: 0.7027 - val_loss: 1.2210 - val_accuracy: 0.5862\n",
      "Epoch 6/50\n",
      "518/518 [==============================] - 2s 3ms/step - loss: 0.8095 - accuracy: 0.6969 - val_loss: 0.8750 - val_accuracy: 0.6897\n",
      "Epoch 7/50\n",
      "518/518 [==============================] - 2s 3ms/step - loss: 0.6967 - accuracy: 0.7510 - val_loss: 0.7785 - val_accuracy: 0.7241oss: 0.694\n",
      "Epoch 8/50\n",
      "518/518 [==============================] - 2s 3ms/step - loss: 0.6748 - accuracy: 0.7703 - val_loss: 0.7756 - val_accuracy: 0.7759\n",
      "Epoch 9/50\n",
      "518/518 [==============================] - 2s 3ms/step - loss: 0.6305 - accuracy: 0.7857 - val_loss: 0.8044 - val_accuracy: 0.6897\n",
      "Epoch 10/50\n",
      "518/518 [==============================] - 2s 3ms/step - loss: 0.6358 - accuracy: 0.7741 - val_loss: 0.8789 - val_accuracy: 0.7241\n",
      "Epoch 11/50\n",
      "518/518 [==============================] - 2s 3ms/step - loss: 0.5742 - accuracy: 0.8127 - val_loss: 0.6818 - val_accuracy: 0.7586\n",
      "Epoch 12/50\n",
      "518/518 [==============================] - 2s 3ms/step - loss: 0.5060 - accuracy: 0.8320 - val_loss: 0.5887 - val_accuracy: 0.7931\n",
      "Epoch 13/50\n",
      "518/518 [==============================] - 2s 3ms/step - loss: 0.4437 - accuracy: 0.8552 - val_loss: 0.7059 - val_accuracy: 0.7241\n",
      "Epoch 14/50\n",
      "518/518 [==============================] - 2s 3ms/step - loss: 0.4010 - accuracy: 0.8707 - val_loss: 0.5895 - val_accuracy: 0.8276\n",
      "Epoch 15/50\n",
      "518/518 [==============================] - 2s 3ms/step - loss: 0.3562 - accuracy: 0.8880 - val_loss: 0.5053 - val_accuracy: 0.8448\n",
      "Epoch 16/50\n",
      "518/518 [==============================] - 2s 3ms/step - loss: 0.3473 - accuracy: 0.8938 - val_loss: 0.7136 - val_accuracy: 0.7759\n",
      "Epoch 17/50\n",
      "518/518 [==============================] - 2s 3ms/step - loss: 0.3155 - accuracy: 0.8938 - val_loss: 0.4836 - val_accuracy: 0.8621\n",
      "Epoch 18/50\n",
      "518/518 [==============================] - 2s 3ms/step - loss: 0.2887 - accuracy: 0.9015 - val_loss: 0.5328 - val_accuracy: 0.8103\n",
      "Epoch 19/50\n",
      "518/518 [==============================] - 2s 3ms/step - loss: 0.2753 - accuracy: 0.9073 - val_loss: 0.5526 - val_accuracy: 0.8793\n",
      "Epoch 20/50\n",
      "518/518 [==============================] - 2s 3ms/step - loss: 0.2458 - accuracy: 0.9189 - val_loss: 0.5426 - val_accuracy: 0.8448\n",
      "Epoch 21/50\n",
      "518/518 [==============================] - 2s 3ms/step - loss: 0.2253 - accuracy: 0.9344 - val_loss: 0.6124 - val_accuracy: 0.8448\n",
      "Epoch 22/50\n",
      "518/518 [==============================] - 2s 3ms/step - loss: 0.1922 - accuracy: 0.9363 - val_loss: 0.4554 - val_accuracy: 0.8793\n",
      "Epoch 23/50\n",
      "518/518 [==============================] - 2s 3ms/step - loss: 0.2010 - accuracy: 0.9344 - val_loss: 0.5054 - val_accuracy: 0.8448\n",
      "Epoch 24/50\n",
      "518/518 [==============================] - 2s 3ms/step - loss: 0.2344 - accuracy: 0.9208 - val_loss: 0.5747 - val_accuracy: 0.8276\n",
      "Epoch 25/50\n",
      "518/518 [==============================] - 2s 3ms/step - loss: 0.1926 - accuracy: 0.9517 - val_loss: 0.5596 - val_accuracy: 0.8621\n",
      "Epoch 26/50\n",
      "518/518 [==============================] - 2s 3ms/step - loss: 0.1836 - accuracy: 0.9459 - val_loss: 0.8778 - val_accuracy: 0.7414\n",
      "Epoch 27/50\n",
      "518/518 [==============================] - 2s 3ms/step - loss: 0.1765 - accuracy: 0.9402 - val_loss: 0.6095 - val_accuracy: 0.8621\n",
      "Epoch 28/50\n",
      "518/518 [==============================] - 2s 3ms/step - loss: 0.1311 - accuracy: 0.9595 - val_loss: 0.5473 - val_accuracy: 0.8276\n",
      "Epoch 29/50\n",
      "518/518 [==============================] - 2s 3ms/step - loss: 0.1570 - accuracy: 0.9402 - val_loss: 0.4679 - val_accuracy: 0.9138\n",
      "Epoch 30/50\n",
      "518/518 [==============================] - 2s 3ms/step - loss: 0.1767 - accuracy: 0.9363 - val_loss: 0.4708 - val_accuracy: 0.9138\n",
      "Epoch 31/50\n",
      "518/518 [==============================] - 2s 3ms/step - loss: 0.1081 - accuracy: 0.9633 - val_loss: 0.4769 - val_accuracy: 0.9138\n",
      "Epoch 32/50\n",
      "518/518 [==============================] - 2s 3ms/step - loss: 0.0819 - accuracy: 0.9788 - val_loss: 0.5927 - val_accuracy: 0.8621\n",
      "Epoch 33/50\n",
      "518/518 [==============================] - 2s 3ms/step - loss: 0.0948 - accuracy: 0.9672 - val_loss: 0.7113 - val_accuracy: 0.7241\n",
      "Epoch 34/50\n",
      "518/518 [==============================] - 2s 3ms/step - loss: 0.1085 - accuracy: 0.9614 - val_loss: 0.5487 - val_accuracy: 0.8448\n",
      "Epoch 35/50\n",
      "518/518 [==============================] - 2s 3ms/step - loss: 0.0988 - accuracy: 0.9595 - val_loss: 0.5577 - val_accuracy: 0.8966\n",
      "Epoch 36/50\n",
      "518/518 [==============================] - 2s 3ms/step - loss: 0.1657 - accuracy: 0.9479 - val_loss: 0.6373 - val_accuracy: 0.8103\n",
      "Epoch 37/50\n",
      "518/518 [==============================] - 2s 3ms/step - loss: 0.1185 - accuracy: 0.9653 - val_loss: 0.5026 - val_accuracy: 0.9138\n",
      "Epoch 38/50\n",
      "518/518 [==============================] - 2s 3ms/step - loss: 0.0736 - accuracy: 0.9788 - val_loss: 0.7245 - val_accuracy: 0.8621\n",
      "Epoch 39/50\n",
      "518/518 [==============================] - 2s 3ms/step - loss: 0.0483 - accuracy: 0.9865 - val_loss: 0.6370 - val_accuracy: 0.8793\n",
      "Epoch 40/50\n",
      "518/518 [==============================] - 2s 3ms/step - loss: 0.1266 - accuracy: 0.9498 - val_loss: 0.9604 - val_accuracy: 0.7931\n",
      "Epoch 41/50\n",
      "518/518 [==============================] - 2s 3ms/step - loss: 0.1043 - accuracy: 0.9653 - val_loss: 0.6547 - val_accuracy: 0.8621\n",
      "Epoch 42/50\n",
      "518/518 [==============================] - 2s 3ms/step - loss: 0.1004 - accuracy: 0.9614 - val_loss: 0.7422 - val_accuracy: 0.8621\n",
      "Epoch 43/50\n",
      "518/518 [==============================] - 2s 3ms/step - loss: 0.0747 - accuracy: 0.9710 - val_loss: 0.5548 - val_accuracy: 0.8793\n",
      "Epoch 44/50\n",
      "518/518 [==============================] - 2s 3ms/step - loss: 0.0436 - accuracy: 0.9903 - val_loss: 0.5789 - val_accuracy: 0.8621\n",
      "Epoch 45/50\n",
      "518/518 [==============================] - 2s 3ms/step - loss: 0.0364 - accuracy: 0.9903 - val_loss: 0.5435 - val_accuracy: 0.9310\n",
      "Epoch 46/50\n",
      "518/518 [==============================] - 2s 3ms/step - loss: 0.0327 - accuracy: 0.9923 - val_loss: 0.5808 - val_accuracy: 0.9138\n",
      "Epoch 47/50\n",
      "518/518 [==============================] - 2s 3ms/step - loss: 0.0223 - accuracy: 0.9961 - val_loss: 0.5521 - val_accuracy: 0.8966\n",
      "Epoch 48/50\n",
      "518/518 [==============================] - 2s 3ms/step - loss: 0.0182 - accuracy: 0.9942 - val_loss: 0.6804 - val_accuracy: 0.8966\n",
      "Epoch 49/50\n",
      "518/518 [==============================] - 2s 3ms/step - loss: 0.0329 - accuracy: 0.9884 - val_loss: 0.4694 - val_accuracy: 0.9310\n",
      "Epoch 50/50\n",
      "518/518 [==============================] - 2s 3ms/step - loss: 0.1059 - accuracy: 0.9653 - val_loss: 0.6251 - val_accuracy: 0.9138\n"
     ]
    }
   ],
   "source": [
    "model.compile(optimizer=Adam(0.001), loss='categorical_crossentropy', metrics=['accuracy'])\n",
    "history = model.fit(X_train.reshape(576, 128*176), y_train_oh, batch_size=5, validation_split=0.1, verbose=1, epochs=50)"
   ]
  },
  {
   "cell_type": "code",
   "execution_count": 12,
   "metadata": {},
   "outputs": [
    {
     "name": "stdout",
     "output_type": "stream",
     "text": [
      "576/576 [==============================] - 0s 126us/step\n"
     ]
    },
    {
     "data": {
      "text/plain": [
       "0.9739583134651184"
      ]
     },
     "execution_count": 12,
     "metadata": {},
     "output_type": "execute_result"
    }
   ],
   "source": [
    "# 看精準度\n",
    "model.evaluate(X_train.reshape(576, 128*176), y_train_oh)[1]\n",
    "# 0.9565972089767456\n",
    "# 0.9635416865348816\n",
    "# 0.9739583134651184"
   ]
  },
  {
   "cell_type": "code",
   "execution_count": 13,
   "metadata": {},
   "outputs": [
    {
     "data": {
      "image/png": "[encoded data removed]",
      "text/plain": [
       "<Figure size 432x288 with 1 Axes>"
      ]
     },
     "metadata": {
      "needs_background": "light"
     },
     "output_type": "display_data"
    }
   ],
   "source": [
    "plt.plot(history.history['accuracy'], color='red')\n",
    "plt.plot(history.history['val_accuracy'], color='blue')\n",
    "plt.title('Accuracy')\n",
    "plt.grid()\n",
    "plt.show()"
   ]
  },
  {
   "cell_type": "code",
   "execution_count": 14,
   "metadata": {},
   "outputs": [
    {
     "data": {
      "image/png": "[encoded data removed]",
      "text/plain": [
       "<Figure size 432x288 with 1 Axes>"
      ]
     },
     "metadata": {
      "needs_background": "light"
     },
     "output_type": "display_data"
    }
   ],
   "source": [
    "plt.plot(history.history['loss'], color='red')\n",
    "plt.plot(history.history['val_loss'], color='blue')\n",
    "plt.title('Loss')\n",
    "plt.grid()\n",
    "plt.show()"
   ]
  },
  {
   "cell_type": "code",
   "execution_count": 15,
   "metadata": {},
   "outputs": [
    {
     "data": {
      "text/plain": [
       "array([4, 9, 4, 9, 6, 3, 3, 4, 8, 3], dtype=int64)"
      ]
     },
     "execution_count": 15,
     "metadata": {},
     "output_type": "execute_result"
    }
   ],
   "source": [
    "# prediction\n",
    "y_pred= np.argmax(model.predict(X_train.reshape(576, 128*176)), axis=1)\n",
    "y_pred[:10]\n",
    "y_train[:10]"
   ]
  },
  {
   "cell_type": "code",
   "execution_count": 16,
   "metadata": {},
   "outputs": [
    {
     "data": {
      "text/plain": [
       "Text(78.308, 0.5, 'True value')"
      ]
     },
     "execution_count": 16,
     "metadata": {},
     "output_type": "execute_result"
    },
    {
     "data": {
      "image/png": "[encoded data removed]",
      "text/plain": [
       "<Figure size 432x288 with 1 Axes>"
      ]
     },
     "metadata": {},
     "output_type": "display_data"
    }
   ],
   "source": [
    "import seaborn as sns; sns.set() # plot formatting\n",
    "from sklearn.metrics import confusion_matrix\n",
    "mat = confusion_matrix(y_train, y_pred)\n",
    "sns.heatmap(mat, square=True, annot=True, cbar=False)\n",
    "plt.xlabel('Predicted value')\n",
    "plt.ylabel('True value')"
   ]
  },
  {
   "cell_type": "code",
   "execution_count": 17,
   "metadata": {},
   "outputs": [],
   "source": [
    "# 進行比賽讀入test數據 並且匯出\n",
    "\n",
    "\n",
    "# X 讀取 all training data (image)\n",
    "# os.walk 從作業系統中每讀取一筆檔案名稱 進行影像讀取 加上 標籤對應\n",
    "\n",
    "image_test_c = [] # 每一的檔案的影像 電流訊號轉的影像\n",
    "image_test_v = [] # 每一的檔案的影像 電壓訊號轉的影像\n",
    "data_test    = [] # 每一的檔案對應appliance 數字\n",
    "\n",
    "import os\n",
    "for root, dirs, files in os.walk(\"./data/test/\", topdown=False):\n",
    "    for filename in files:\n",
    "        if os.path.join(root, filename).endswith('c.png'):\n",
    "            data_test.append( filename.split('_')[0] )\n",
    "            file = os.path.join(root, filename)\n",
    "            image_test_c.append(io.imread(file, as_gray=True))"
   ]
  },
  {
   "cell_type": "code",
   "execution_count": 18,
   "metadata": {},
   "outputs": [
    {
     "data": {
      "text/plain": [
       "(384, 128, 176)"
      ]
     },
     "execution_count": 18,
     "metadata": {},
     "output_type": "execute_result"
    }
   ],
   "source": [
    "X_test = np.array(image_test_c).astype(np.float32)/255.0\n",
    "X_test.shape"
   ]
  },
  {
   "cell_type": "code",
   "execution_count": 19,
   "metadata": {},
   "outputs": [
    {
     "data": {
      "text/plain": [
       "array([ 9,  5,  4,  2,  8,  6,  7,  4,  4,  4,  2,  9,  3,  3,  7,  3,  9,\n",
       "        8, 10,  4,  9,  2,  3,  3,  8,  1,  0, 10,  3,  6, 10,  4,  9,  4,\n",
       "        3,  4,  7,  0,  9,  4,  3,  9,  3,  3,  7,  8,  3,  2,  4,  4,  7,\n",
       "        4,  4,  4,  4,  4,  3,  5,  1,  3,  3,  4,  4,  3,  4,  6,  9,  3,\n",
       "        8,  6,  3,  2,  7,  3,  9,  2,  4,  4, 10,  8,  6,  4,  1,  7,  3,\n",
       "        2,  4,  3,  7,  8,  3,  6,  7,  3,  4,  9,  8,  7, 10,  1,  4,  3,\n",
       "        7,  2,  9,  2,  3,  4,  4,  8, 10,  6,  3,  9,  4,  1,  4,  4,  9,\n",
       "        9,  4,  6, 10,  4,  3, 10,  8,  2,  4,  7,  5, 10,  7, 10,  3,  9,\n",
       "        1,  0,  2,  4,  3,  1,  7,  8,  8,  3,  2,  4,  9,  4,  4,  7,  4,\n",
       "        9,  9,  4, 10,  7,  0,  7, 10,  9,  3,  6,  1,  4, 10,  7,  1,  3,\n",
       "        2,  4,  4,  7,  4,  9,  3,  3,  1,  4,  9,  0, 10,  2, 10,  8,  3,\n",
       "        4,  6,  9,  9,  9,  2,  3, 10,  4,  4, 10,  9,  5,  3,  9,  3,  8,\n",
       "        8,  7,  3,  7,  7,  2,  4,  8,  3,  8,  7,  4,  7,  4,  4,  2,  3,\n",
       "        9,  3, 10,  4,  9,  5,  6,  1,  4,  2,  7,  7,  3,  2,  9,  9,  9,\n",
       "        0,  3,  2,  7,  9,  4,  3,  8,  8,  3,  3,  6,  1,  4,  4,  4,  7,\n",
       "        4,  0,  2,  9,  3,  3,  4,  6,  7,  4,  7,  4,  4,  4,  2,  7, 10,\n",
       "        3,  4, 10,  6,  2,  7, 10,  4,  0,  3,  3, 10,  7,  3,  9,  7,  3,\n",
       "        6,  2,  9,  7,  9,  4,  3,  1,  4,  8,  9,  3,  9,  9,  4,  2,  8,\n",
       "        4,  4,  4,  2,  9,  3,  0,  2,  4,  1,  0,  4,  7,  1,  3,  0,  3,\n",
       "        6,  9,  3,  3,  6,  3,  9,  2,  3,  7,  3,  9,  4,  4,  4, 10,  8,\n",
       "        4,  4,  4,  3,  3,  3,  8,  7,  2,  3,  3,  3,  1,  3,  9,  6,  2,\n",
       "        6,  3,  1,  3,  3,  3,  4,  7,  4,  4,  4,  8,  3,  9,  4,  9,  3,\n",
       "        4,  7,  3,  6,  9,  4,  4,  9,  2,  3], dtype=int64)"
      ]
     },
     "execution_count": 19,
     "metadata": {},
     "output_type": "execute_result"
    }
   ],
   "source": [
    "# 預測\n",
    "y_test_pred = np.argmax(model.predict(X_test.reshape(384, 128*176)), axis=1)\n",
    "y_test_pred"
   ]
  },
  {
   "cell_type": "code",
   "execution_count": 20,
   "metadata": {},
   "outputs": [],
   "source": [
    "# 彙總輸出\n",
    "submission = pd.DataFrame(data_test, columns=['id'])\n",
    "submission['appliance'] = y_test_pred\n",
    "submission.to_csv('./submission.20191207.003.csv', index=False)"
   ]
  }
 ],
 "metadata": {
  "kernelspec": {
   "display_name": "Python 3",
   "language": "python",
   "name": "python3"
  },
  "language_info": {
   "codemirror_mode": {
    "name": "ipython",
    "version": 3
   },
   "file_extension": ".py",
   "mimetype": "text/x-python",
   "name": "python",
   "nbconvert_exporter": "python",
   "pygments_lexer": "ipython3",
   "version": "3.6.8"
  }
 },
 "nbformat": 4,
 "nbformat_minor": 2
}
