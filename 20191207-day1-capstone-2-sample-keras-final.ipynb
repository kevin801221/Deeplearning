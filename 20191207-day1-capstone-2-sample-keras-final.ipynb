{
 "cells": [
  {
   "cell_type": "code",
   "execution_count": 44,
   "metadata": {},
   "outputs": [
    {
     "data": {
      "text/plain": [
       "'3.7.4 (tags/v3.7.4:e09359112e, Jul  8 2019, 20:34:20) [MSC v.1916 64 bit (AMD64)]'"
      ]
     },
     "execution_count": 44,
     "metadata": {},
     "output_type": "execute_result"
    }
   ],
   "source": [
    "import sys\n",
    "sys.version\n",
    "# cuda 10.0\n",
    "# cudnn "
   ]
  },
  {
   "cell_type": "code",
   "execution_count": 27,
   "metadata": {},
   "outputs": [
    {
     "name": "stdout",
     "output_type": "stream",
     "text": [
      "Package               Version             \n",
      "--------------------- --------------------\n",
      "absl-py               0.8.0               \n",
      "aiohttp               3.6.2               \n",
      "asn1crypto            1.1.0               \n",
      "astor                 0.8.0               \n",
      "async-timeout         3.0.1               \n",
      "attrs                 19.2.0              \n",
      "autovizwidget         0.13.1              \n",
      "awscli                1.16.251            \n",
      "backcall              0.1.0               \n",
      "beautifulsoup4        4.8.1               \n",
      "bleach                3.1.0               \n",
      "botocore              1.12.241            \n",
      "certifi               2019.9.11           \n",
      "cffi                  1.12.3              \n",
      "chardet               3.0.4               \n",
      "cloudpickle           1.2.2               \n",
      "colorama              0.4.1               \n",
      "cryptography          2.7                 \n",
      "cycler                0.10.0              \n",
      "decorator             4.4.0               \n",
      "defusedxml            0.6.0               \n",
      "distro                1.4.0               \n",
      "docutils              0.15.2              \n",
      "dotnetcore2           2.1.9               \n",
      "entrypoints           0.3                 \n",
      "et-xmlfile            1.0.1               \n",
      "future                0.17.1              \n",
      "gast                  0.2.2               \n",
      "google-pasta          0.1.7               \n",
      "grpcio                1.23.0              \n",
      "gym                   0.14.0              \n",
      "h5py                  2.10.0              \n",
      "hdijupyterutils       0.13.1              \n",
      "idna                  2.8                 \n",
      "imageio               2.6.1               \n",
      "importlib-metadata    0.23                \n",
      "ipykernel             4.10.1              \n",
      "ipython               6.5.0               \n",
      "ipython-genutils      0.2.0               \n",
      "ipywidgets            7.5.1               \n",
      "jdcal                 1.4.1               \n",
      "jedi                  0.15.1              \n",
      "Jinja2                2.10.3              \n",
      "jmespath              0.9.4               \n",
      "joblib                0.13.2              \n",
      "jsonschema            3.1.1               \n",
      "jupyter               1.0.0               \n",
      "jupyter-client        5.3.4               \n",
      "jupyter-console       6.0.0               \n",
      "jupyter-core          4.6.0               \n",
      "Keras                 2.3.0               \n",
      "Keras-Applications    1.0.8               \n",
      "Keras-Preprocessing   1.1.0               \n",
      "kiwisolver            1.1.0               \n",
      "lineTool              1.0.3               \n",
      "llvmlite              0.30.0              \n",
      "Markdown              3.1.1               \n",
      "MarkupSafe            1.1.1               \n",
      "matplotlib            3.1.1               \n",
      "mistune               0.8.4               \n",
      "mock                  3.0.5               \n",
      "more-itertools        7.2.0               \n",
      "mpl-finance           0.10.0              \n",
      "multidict             4.5.2               \n",
      "nbconvert             5.6.0               \n",
      "nbformat              4.4.0               \n",
      "networkx              2.4                 \n",
      "nltk                  3.4.5               \n",
      "nose                  1.3.7               \n",
      "notebook              5.7.8               \n",
      "numba                 0.46.0              \n",
      "numpy                 1.17.2              \n",
      "opencv-python         4.1.1.26            \n",
      "openpyxl              3.0.0               \n",
      "opt-einsum            3.0.1               \n",
      "pandas                0.25.1              \n",
      "pandocfilters         1.4.2               \n",
      "parso                 0.5.1               \n",
      "pickleshare           0.7.5               \n",
      "Pillow                6.2.1               \n",
      "pip                   19.0.3              \n",
      "plotly                4.1.1               \n",
      "prometheus-client     0.7.1               \n",
      "prompt-toolkit        1.0.18              \n",
      "prose-codeaccelerator 1.3.0               \n",
      "protobuf              3.9.1               \n",
      "ptan                  0.4                 \n",
      "pyasn1                0.4.7               \n",
      "pycparser             2.19                \n",
      "pyglet                1.3.2               \n",
      "Pygments              2.4.2               \n",
      "pymssql               2.1.4               \n",
      "pyodbc                4.0.27              \n",
      "pyparsing             2.4.2               \n",
      "pyrsistent            0.15.4              \n",
      "python-dateutil       2.8.0               \n",
      "pytz                  2019.3              \n",
      "PyWavelets            1.1.1               \n",
      "pywin32               225                 \n",
      "pywinpty              0.5.5               \n",
      "PyYAML                5.1.2               \n",
      "pyzmq                 18.1.0              \n",
      "qtconsole             4.5.5               \n",
      "regex                 2019.8.19           \n",
      "requests              2.22.0              \n",
      "requests-kerberos     0.12.0              \n",
      "retrying              1.3.3               \n",
      "rsa                   3.4.2               \n",
      "s3transfer            0.2.1               \n",
      "scikit-image          0.15.0              \n",
      "scikit-learn          0.21.3              \n",
      "scipy                 1.3.1               \n",
      "Send2Trash            1.5.0               \n",
      "setuptools            41.4.0              \n",
      "simplegeneric         0.8.1               \n",
      "six                   1.12.0              \n",
      "sklearn               0.0                 \n",
      "SkPy                  0.9.1               \n",
      "slackclient           1.3.2               \n",
      "soupsieve             1.9.5               \n",
      "sparkmagic            0.12.6.1            \n",
      "tb-nightly            1.15.0a20190806     \n",
      "tensorboard           2.0.0               \n",
      "tensorflow-estimator  2.0.0               \n",
      "tensorflow-gpu        2.0.0               \n",
      "termcolor             1.1.0               \n",
      "terminado             0.8.2               \n",
      "testpath              0.4.2               \n",
      "tf-estimator-nightly  1.14.0.dev2019080601\n",
      "tornado               6.0.3               \n",
      "traitlets             4.3.3               \n",
      "urllib3               1.25.6              \n",
      "wcwidth               0.1.7               \n",
      "webencodings          0.5.1               \n",
      "websocket-client      0.54.0              \n",
      "Werkzeug              0.16.0              \n",
      "wheel                 0.33.6              \n",
      "widgetsnbextension    3.5.1               \n",
      "winkerberos           0.7.0               \n",
      "wrapt                 1.11.2              \n",
      "yarl                  1.3.0               \n",
      "zipp                  0.6.0               \n"
     ]
    },
    {
     "name": "stderr",
     "output_type": "stream",
     "text": [
      "You are using pip version 19.0.3, however version 19.3.1 is available.\n",
      "You should consider upgrading via the 'python -m pip install --upgrade pip' command.\n"
     ]
    }
   ],
   "source": [
    "!pip list"
   ]
  },
  {
   "cell_type": "code",
   "execution_count": 21,
   "metadata": {},
   "outputs": [
    {
     "data": {
      "text/plain": [
       "((60000, 28, 28), (60000,), (10000, 28, 28), (10000,))"
      ]
     },
     "execution_count": 21,
     "metadata": {},
     "output_type": "execute_result"
    }
   ],
   "source": [
    "import pandas as pd\n",
    "import matplotlib.pyplot as plt\n",
    "from keras.datasets import mnist\n",
    "from keras import utils\n",
    "(X_train, y_train), (X_test, y_test) = mnist.load_data()\n",
    "X_train.shape, y_train.shape, X_test.shape, y_test.shape"
   ]
  },
  {
   "cell_type": "code",
   "execution_count": 25,
   "metadata": {},
   "outputs": [],
   "source": [
    "y_train_oh = utils.to_categorical(y_train)\n",
    "y_test_oh = utils.to_categorical(y_test)"
   ]
  },
  {
   "cell_type": "code",
   "execution_count": 8,
   "metadata": {},
   "outputs": [
    {
     "data": {
      "image/png": "[encoded data removed]",
      "text/plain": [
       "<Figure size 432x288 with 1 Axes>"
      ]
     },
     "metadata": {
      "needs_background": "light"
     },
     "output_type": "display_data"
    }
   ],
   "source": [
    "pd.Series(y_train).value_counts().plot(kind='bar')\n",
    "plt.show()"
   ]
  },
  {
   "cell_type": "code",
   "execution_count": 14,
   "metadata": {},
   "outputs": [
    {
     "data": {
      "text/plain": [
       "25120"
      ]
     },
     "execution_count": 14,
     "metadata": {},
     "output_type": "execute_result"
    }
   ],
   "source": [
    "28 * 28 * 32 + 32"
   ]
  },
  {
   "cell_type": "code",
   "execution_count": 13,
   "metadata": {},
   "outputs": [
    {
     "name": "stdout",
     "output_type": "stream",
     "text": [
      "Model: \"sequential_4\"\n",
      "_________________________________________________________________\n",
      "Layer (type)                 Output Shape              Param #   \n",
      "=================================================================\n",
      "dense_2 (Dense)              (None, 32)                25120     \n",
      "_________________________________________________________________\n",
      "dense_3 (Dense)              (None, 10)                330       \n",
      "=================================================================\n",
      "Total params: 25,450\n",
      "Trainable params: 25,450\n",
      "Non-trainable params: 0\n",
      "_________________________________________________________________\n"
     ]
    }
   ],
   "source": [
    "from keras import Sequential\n",
    "from keras.layers import Dense\n",
    "\n",
    "model = Sequential()\n",
    "model.add(Dense(units= 32, activation= 'relu', input_dim=784) )\n",
    "model.add(Dense(10, activation='softmax'))\n",
    "model.summary()\n"
   ]
  },
  {
   "cell_type": "code",
   "execution_count": 16,
   "metadata": {},
   "outputs": [
    {
     "data": {
      "text/plain": [
       "(60000, 28, 28)"
      ]
     },
     "execution_count": 16,
     "metadata": {},
     "output_type": "execute_result"
    }
   ],
   "source": [
    "X_train.shape"
   ]
  },
  {
   "cell_type": "code",
   "execution_count": 17,
   "metadata": {},
   "outputs": [],
   "source": [
    "model.fit?"
   ]
  },
  {
   "cell_type": "code",
   "execution_count": 26,
   "metadata": {
    "collapsed": true
   },
   "outputs": [
    {
     "name": "stdout",
     "output_type": "stream",
     "text": [
      "Train on 48000 samples, validate on 12000 samples\n",
      "Epoch 1/10\n",
      "48000/48000 [==============================] - 16s 330us/step - loss: 2.5835 - accuracy: 0.5392 - val_loss: 1.0063 - val_accuracy: 0.7125\n",
      "Epoch 2/10\n",
      "48000/48000 [==============================] - 14s 293us/step - loss: 0.8472 - accuracy: 0.7696 - val_loss: 0.6335 - val_accuracy: 0.8360\n",
      "Epoch 3/10\n",
      "48000/48000 [==============================] - 13s 271us/step - loss: 0.6060 - accuracy: 0.8324 - val_loss: 0.5596 - val_accuracy: 0.8509\n",
      "Epoch 4/10\n",
      "48000/48000 [==============================] - 14s 284us/step - loss: 0.5040 - accuracy: 0.8669 - val_loss: 0.4603 - val_accuracy: 0.8927\n",
      "Epoch 5/10\n",
      "48000/48000 [==============================] - 13s 269us/step - loss: 0.4223 - accuracy: 0.8909 - val_loss: 0.4200 - val_accuracy: 0.9018\n",
      "Epoch 6/10\n",
      "48000/48000 [==============================] - 15s 311us/step - loss: 0.3699 - accuracy: 0.9056 - val_loss: 0.3550 - val_accuracy: 0.9163\n",
      "Epoch 7/10\n",
      "48000/48000 [==============================] - 11s 234us/step - loss: 0.3294 - accuracy: 0.9145 - val_loss: 0.3328 - val_accuracy: 0.9187\n",
      "Epoch 8/10\n",
      "48000/48000 [==============================] - 13s 275us/step - loss: 0.3086 - accuracy: 0.9185 - val_loss: 0.3148 - val_accuracy: 0.9186\n",
      "Epoch 9/10\n",
      "48000/48000 [==============================] - 10s 214us/step - loss: 0.2996 - accuracy: 0.9221 - val_loss: 0.3042 - val_accuracy: 0.9247\n",
      "Epoch 10/10\n",
      "48000/48000 [==============================] - 11s 238us/step - loss: 0.2873 - accuracy: 0.9237 - val_loss: 0.3132 - val_accuracy: 0.9121\n"
     ]
    }
   ],
   "source": [
    "# 模型訓練\n",
    "model.compile(optimizer='adam', loss='categorical_crossentropy', metrics=['accuracy'])\n",
    "history = model.fit(X_train.reshape(60000, 784), y_train_oh, epochs=10, batch_size=32, validation_split=0.2, verbose=1)"
   ]
  },
  {
   "cell_type": "code",
   "execution_count": 45,
   "metadata": {},
   "outputs": [
    {
     "name": "stdout",
     "output_type": "stream",
     "text": [
      "60000/60000 [==============================] - 8s 128us/step\n",
      "10000/10000 [==============================] - 1s 124us/step\n"
     ]
    },
    {
     "data": {
      "text/plain": [
       "(0.9169999957084656, 0.9068999886512756)"
      ]
     },
     "execution_count": 45,
     "metadata": {},
     "output_type": "execute_result"
    }
   ],
   "source": [
    "# 看精準度\n",
    "model.evaluate(X_train.reshape(60000, 784), y_train_oh)[1], \\\n",
    "model.evaluate(X_test.reshape(10000, 784), y_test_oh)[1]"
   ]
  },
  {
   "cell_type": "code",
   "execution_count": 36,
   "metadata": {},
   "outputs": [
    {
     "name": "stdout",
     "output_type": "stream",
     "text": [
      "dict_keys(['val_loss', 'val_accuracy', 'loss', 'accuracy'])\n"
     ]
    },
    {
     "data": {
      "image/png": "[encoded data removed]",
      "text/plain": [
       "<Figure size 432x288 with 1 Axes>"
      ]
     },
     "metadata": {
      "needs_background": "light"
     },
     "output_type": "display_data"
    }
   ],
   "source": [
    "print(history.history.keys())\n",
    "\n",
    "plt.plot(history.history['accuracy'], color='red')\n",
    "plt.plot(history.history['val_accuracy'], color='blue')\n",
    "plt.title('Accuracy')\n",
    "plt.grid()\n",
    "plt.show()"
   ]
  },
  {
   "cell_type": "code",
   "execution_count": 37,
   "metadata": {},
   "outputs": [
    {
     "data": {
      "image/png": "[encoded data removed]",
      "text/plain": [
       "<Figure size 432x288 with 1 Axes>"
      ]
     },
     "metadata": {
      "needs_background": "light"
     },
     "output_type": "display_data"
    }
   ],
   "source": [
    "plt.plot(history.history['loss'], color='red')\n",
    "plt.plot(history.history['val_loss'], color='blue')\n",
    "plt.title('Loss')\n",
    "plt.grid()\n",
    "plt.show()"
   ]
  },
  {
   "cell_type": "code",
   "execution_count": null,
   "metadata": {},
   "outputs": [],
   "source": []
  }
 ],
 "metadata": {
  "kernelspec": {
   "display_name": "Python 3",
   "language": "python",
   "name": "python3"
  },
  "language_info": {
   "codemirror_mode": {
    "name": "ipython",
    "version": 3
   },
   "file_extension": ".py",
   "mimetype": "text/x-python",
   "name": "python",
   "nbconvert_exporter": "python",
   "pygments_lexer": "ipython3",
   "version": "3.7.4"
  }
 },
 "nbformat": 4,
 "nbformat_minor": 2
}
