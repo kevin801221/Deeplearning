{
 "cells": [
  {
   "cell_type": "code",
   "execution_count": 1,
   "metadata": {},
   "outputs": [
    {
     "name": "stdout",
     "output_type": "stream",
     "text": [
      "c:\\python\\20191207-yyyymmdd-第四階段-假日\\20200201-day6\\PM\n"
     ]
    }
   ],
   "source": [
    "path = %pwd\n",
    "print(path)"
   ]
  },
  {
   "cell_type": "code",
   "execution_count": 2,
   "metadata": {},
   "outputs": [],
   "source": [
    "import ast , numpy as np\n",
    "with open('train_data.txt') as f:\n",
    "    train_data = np.array(ast.literal_eval(f.read())).astype('float32')\n",
    "\n",
    "with open('train_labels.txt') as f:\n",
    "    train_labels = np.array(ast.literal_eval(f.read())).astype('int')\n",
    "    "
   ]
  },
  {
   "cell_type": "code",
   "execution_count": 3,
   "metadata": {},
   "outputs": [
    {
     "data": {
      "text/plain": [
       "<Figure size 640x480 with 1 Axes>"
      ]
     },
     "metadata": {},
     "output_type": "display_data"
    }
   ],
   "source": [
    "import matplotlib.pyplot as plt\n",
    "plt.imshow(train_data[2, :, :, :].reshape(28, 28), cmap='gray_r')\n",
    "plt.show()"
   ]
  },
  {
   "cell_type": "code",
   "execution_count": 4,
   "metadata": {},
   "outputs": [
    {
     "data": {
      "text/plain": [
       "((50, 28, 28, 1), (50, 3), array([[0, 1, 0]]))"
      ]
     },
     "execution_count": 4,
     "metadata": {},
     "output_type": "execute_result"
    }
   ],
   "source": [
    "# 檢查數據狀況\n",
    "train_data.shape, train_labels.shape, train_labels[:1]"
   ]
  },
  {
   "cell_type": "code",
   "execution_count": 5,
   "metadata": {},
   "outputs": [],
   "source": [
    "# 建立model \n",
    "# the Sequential model\n",
    "# the Model class used with the functional API."
   ]
  },
  {
   "cell_type": "code",
   "execution_count": 6,
   "metadata": {},
   "outputs": [
    {
     "name": "stderr",
     "output_type": "stream",
     "text": [
      "Using TensorFlow backend.\n"
     ]
    },
    {
     "name": "stdout",
     "output_type": "stream",
     "text": [
      "Model: \"sequential_1\"\n",
      "_________________________________________________________________\n",
      "Layer (type)                 Output Shape              Param #   \n",
      "=================================================================\n",
      "conv2d_1 (Conv2D)            (None, 28, 28, 5)         25        \n",
      "_________________________________________________________________\n",
      "max_pooling2d_1 (MaxPooling2 (None, 14, 14, 5)         0         \n",
      "_________________________________________________________________\n",
      "conv2d_2 (Conv2D)            (None, 14, 14, 5)         105       \n",
      "_________________________________________________________________\n",
      "max_pooling2d_2 (MaxPooling2 (None, 7, 7, 5)           0         \n",
      "_________________________________________________________________\n",
      "conv2d_3 (Conv2D)            (None, 7, 7, 5)           105       \n",
      "_________________________________________________________________\n",
      "flatten_1 (Flatten)          (None, 245)               0         \n",
      "_________________________________________________________________\n",
      "dense_1 (Dense)              (None, 32)                7872      \n",
      "_________________________________________________________________\n",
      "dense_2 (Dense)              (None, 3)                 99        \n",
      "=================================================================\n",
      "Total params: 8,206\n",
      "Trainable params: 8,206\n",
      "Non-trainable params: 0\n",
      "_________________________________________________________________\n"
     ]
    }
   ],
   "source": [
    "# the Sequential model type II\n",
    "from keras.models import Sequential\n",
    "from keras.layers import Dense, Activation, Conv2D, Flatten, MaxPooling2D\n",
    "\n",
    "model = Sequential()\n",
    "model.add( Conv2D(filters= 5, kernel_size=(2,2), activation='relu', padding='same', input_shape=(28, 28, 1)) )\n",
    "model.add( MaxPooling2D(2,2) )\n",
    "model.add( Conv2D(filters= 5, kernel_size=(2,2), activation='relu', padding='same') )\n",
    "model.add( MaxPooling2D(2,2) )\n",
    "model.add( Conv2D(filters= 5, kernel_size=(2,2), activation='relu', padding='same') )\n",
    "model.add( Flatten())\n",
    "\n",
    "model.add( Dense(32, activation='relu', input_dim=784) )\n",
    "model.add( Dense(3, activation='softmax') )\n",
    "model.summary()"
   ]
  },
  {
   "cell_type": "code",
   "execution_count": 7,
   "metadata": {},
   "outputs": [],
   "source": [
    "# dict_keys(['val_loss', 'val_accuracy', 'loss', 'accuracy'])\n",
    "# Keras : 2.3.0\n",
    "from keras.callbacks import ModelCheckpoint\n",
    "checkpoint = ModelCheckpoint('weights.hdf5', monitor='accuracy', save_best_only=True, verbose=1) # 顯示變更部分\n",
    "callbacks_list = [checkpoint]"
   ]
  },
  {
   "cell_type": "code",
   "execution_count": 8,
   "metadata": {
    "collapsed": true
   },
   "outputs": [
    {
     "name": "stdout",
     "output_type": "stream",
     "text": [
      "\n",
      "Epoch 00001: accuracy improved from -inf to 0.35000, saving model to weights.hdf5\n",
      "\n",
      "Epoch 00002: accuracy improved from 0.35000 to 0.42500, saving model to weights.hdf5\n",
      "\n",
      "Epoch 00003: accuracy did not improve from 0.42500\n",
      "\n",
      "Epoch 00004: accuracy did not improve from 0.42500\n",
      "\n",
      "Epoch 00005: accuracy improved from 0.42500 to 0.47500, saving model to weights.hdf5\n",
      "\n",
      "Epoch 00006: accuracy did not improve from 0.47500\n",
      "\n",
      "Epoch 00007: accuracy improved from 0.47500 to 0.62500, saving model to weights.hdf5\n",
      "\n",
      "Epoch 00008: accuracy improved from 0.62500 to 0.77500, saving model to weights.hdf5\n",
      "\n",
      "Epoch 00009: accuracy improved from 0.77500 to 0.95000, saving model to weights.hdf5\n",
      "\n",
      "Epoch 00010: accuracy did not improve from 0.95000\n",
      "\n",
      "Epoch 00011: accuracy did not improve from 0.95000\n",
      "\n",
      "Epoch 00012: accuracy did not improve from 0.95000\n",
      "\n",
      "Epoch 00013: accuracy did not improve from 0.95000\n",
      "\n",
      "Epoch 00014: accuracy improved from 0.95000 to 0.97500, saving model to weights.hdf5\n",
      "\n",
      "Epoch 00015: accuracy did not improve from 0.97500\n",
      "\n",
      "Epoch 00016: accuracy did not improve from 0.97500\n",
      "\n",
      "Epoch 00017: accuracy did not improve from 0.97500\n",
      "\n",
      "Epoch 00018: accuracy did not improve from 0.97500\n",
      "\n",
      "Epoch 00019: accuracy did not improve from 0.97500\n",
      "\n",
      "Epoch 00020: accuracy did not improve from 0.97500\n",
      "\n",
      "Epoch 00021: accuracy did not improve from 0.97500\n",
      "\n",
      "Epoch 00022: accuracy did not improve from 0.97500\n",
      "\n",
      "Epoch 00023: accuracy did not improve from 0.97500\n",
      "\n",
      "Epoch 00024: accuracy did not improve from 0.97500\n",
      "\n",
      "Epoch 00025: accuracy did not improve from 0.97500\n",
      "\n",
      "Epoch 00026: accuracy did not improve from 0.97500\n",
      "\n",
      "Epoch 00027: accuracy did not improve from 0.97500\n",
      "\n",
      "Epoch 00028: accuracy did not improve from 0.97500\n",
      "\n",
      "Epoch 00029: accuracy did not improve from 0.97500\n",
      "\n",
      "Epoch 00030: accuracy did not improve from 0.97500\n",
      "\n",
      "Epoch 00031: accuracy did not improve from 0.97500\n",
      "\n",
      "Epoch 00032: accuracy did not improve from 0.97500\n",
      "\n",
      "Epoch 00033: accuracy did not improve from 0.97500\n",
      "\n",
      "Epoch 00034: accuracy did not improve from 0.97500\n",
      "\n",
      "Epoch 00035: accuracy did not improve from 0.97500\n",
      "\n",
      "Epoch 00036: accuracy did not improve from 0.97500\n",
      "\n",
      "Epoch 00037: accuracy did not improve from 0.97500\n",
      "\n",
      "Epoch 00038: accuracy did not improve from 0.97500\n",
      "\n",
      "Epoch 00039: accuracy did not improve from 0.97500\n",
      "\n",
      "Epoch 00040: accuracy did not improve from 0.97500\n",
      "\n",
      "Epoch 00041: accuracy did not improve from 0.97500\n",
      "\n",
      "Epoch 00042: accuracy did not improve from 0.97500\n",
      "\n",
      "Epoch 00043: accuracy did not improve from 0.97500\n",
      "\n",
      "Epoch 00044: accuracy did not improve from 0.97500\n",
      "\n",
      "Epoch 00045: accuracy did not improve from 0.97500\n",
      "\n",
      "Epoch 00046: accuracy improved from 0.97500 to 1.00000, saving model to weights.hdf5\n",
      "\n",
      "Epoch 00047: accuracy did not improve from 1.00000\n",
      "\n",
      "Epoch 00048: accuracy did not improve from 1.00000\n",
      "\n",
      "Epoch 00049: accuracy did not improve from 1.00000\n",
      "\n",
      "Epoch 00050: accuracy did not improve from 1.00000\n",
      "\n",
      "Epoch 00051: accuracy did not improve from 1.00000\n",
      "\n",
      "Epoch 00052: accuracy did not improve from 1.00000\n",
      "\n",
      "Epoch 00053: accuracy did not improve from 1.00000\n",
      "\n",
      "Epoch 00054: accuracy did not improve from 1.00000\n",
      "\n",
      "Epoch 00055: accuracy did not improve from 1.00000\n",
      "\n",
      "Epoch 00056: accuracy did not improve from 1.00000\n",
      "\n",
      "Epoch 00057: accuracy did not improve from 1.00000\n",
      "\n",
      "Epoch 00058: accuracy did not improve from 1.00000\n",
      "\n",
      "Epoch 00059: accuracy did not improve from 1.00000\n",
      "\n",
      "Epoch 00060: accuracy did not improve from 1.00000\n",
      "\n",
      "Epoch 00061: accuracy did not improve from 1.00000\n",
      "\n",
      "Epoch 00062: accuracy did not improve from 1.00000\n",
      "\n",
      "Epoch 00063: accuracy did not improve from 1.00000\n",
      "\n",
      "Epoch 00064: accuracy did not improve from 1.00000\n",
      "\n",
      "Epoch 00065: accuracy did not improve from 1.00000\n",
      "\n",
      "Epoch 00066: accuracy did not improve from 1.00000\n",
      "\n",
      "Epoch 00067: accuracy did not improve from 1.00000\n",
      "\n",
      "Epoch 00068: accuracy did not improve from 1.00000\n",
      "\n",
      "Epoch 00069: accuracy did not improve from 1.00000\n",
      "\n",
      "Epoch 00070: accuracy did not improve from 1.00000\n",
      "\n",
      "Epoch 00071: accuracy did not improve from 1.00000\n",
      "\n",
      "Epoch 00072: accuracy did not improve from 1.00000\n",
      "\n",
      "Epoch 00073: accuracy did not improve from 1.00000\n",
      "\n",
      "Epoch 00074: accuracy did not improve from 1.00000\n",
      "\n",
      "Epoch 00075: accuracy did not improve from 1.00000\n",
      "\n",
      "Epoch 00076: accuracy did not improve from 1.00000\n",
      "\n",
      "Epoch 00077: accuracy did not improve from 1.00000\n",
      "\n",
      "Epoch 00078: accuracy did not improve from 1.00000\n",
      "\n",
      "Epoch 00079: accuracy did not improve from 1.00000\n",
      "\n",
      "Epoch 00080: accuracy did not improve from 1.00000\n",
      "\n",
      "Epoch 00081: accuracy did not improve from 1.00000\n",
      "\n",
      "Epoch 00082: accuracy did not improve from 1.00000\n",
      "\n",
      "Epoch 00083: accuracy did not improve from 1.00000\n",
      "\n",
      "Epoch 00084: accuracy did not improve from 1.00000\n",
      "\n",
      "Epoch 00085: accuracy did not improve from 1.00000\n",
      "\n",
      "Epoch 00086: accuracy did not improve from 1.00000\n",
      "\n",
      "Epoch 00087: accuracy did not improve from 1.00000\n",
      "\n",
      "Epoch 00088: accuracy did not improve from 1.00000\n",
      "\n",
      "Epoch 00089: accuracy did not improve from 1.00000\n",
      "\n",
      "Epoch 00090: accuracy did not improve from 1.00000\n",
      "\n",
      "Epoch 00091: accuracy did not improve from 1.00000\n",
      "\n",
      "Epoch 00092: accuracy did not improve from 1.00000\n",
      "\n",
      "Epoch 00093: accuracy did not improve from 1.00000\n",
      "\n",
      "Epoch 00094: accuracy did not improve from 1.00000\n",
      "\n",
      "Epoch 00095: accuracy did not improve from 1.00000\n",
      "\n",
      "Epoch 00096: accuracy did not improve from 1.00000\n",
      "\n",
      "Epoch 00097: accuracy did not improve from 1.00000\n",
      "\n",
      "Epoch 00098: accuracy did not improve from 1.00000\n",
      "\n",
      "Epoch 00099: accuracy did not improve from 1.00000\n",
      "\n",
      "Epoch 00100: accuracy did not improve from 1.00000\n"
     ]
    }
   ],
   "source": [
    "# 編譯\n",
    "model.compile(optimizer='adam', loss='categorical_crossentropy', metrics=['accuracy'])\n",
    "# <keras.callbacks.callbacks.History at 0x1b93db60748>\n",
    "history = model.fit(train_data, train_labels, batch_size=10, \n",
    "                    epochs=100, \n",
    "                    verbose=0, \n",
    "                    validation_split=0.2, \n",
    "                    callbacks = callbacks_list)"
   ]
  },
  {
   "cell_type": "code",
   "execution_count": 9,
   "metadata": {
    "scrolled": false
   },
   "outputs": [
    {
     "data": {
      "text/plain": [
       "dict_keys(['val_loss', 'val_accuracy', 'loss', 'accuracy'])"
      ]
     },
     "execution_count": 9,
     "metadata": {},
     "output_type": "execute_result"
    }
   ],
   "source": [
    "# <keras.callbacks.callbacks.History at 0x1b93db60748>\n",
    "history.history.keys()\n",
    "# history.history.get('loss'), history.history.get('accuracy')"
   ]
  },
  {
   "cell_type": "code",
   "execution_count": 10,
   "metadata": {},
   "outputs": [
    {
     "data": {
      "image/png": "[encoded data removed]",
      "text/plain": [
       "<Figure size 432x288 with 1 Axes>"
      ]
     },
     "metadata": {
      "needs_background": "light"
     },
     "output_type": "display_data"
    }
   ],
   "source": [
    "import matplotlib.pyplot as plt\n",
    "plt.title('Keras Accuracy vs val_accuracy')\n",
    "\n",
    "plt.plot(history.history.get('accuracy'), color='blue')\n",
    "plt.plot(history.history.get('val_accuracy'), color='red')\n",
    "plt.legend(['accuracy', 'val_accuracy'])\n",
    "\n",
    "plt.grid()\n",
    "plt.show()"
   ]
  },
  {
   "cell_type": "code",
   "execution_count": 11,
   "metadata": {},
   "outputs": [
    {
     "data": {
      "image/png": "[encoded data removed]",
      "text/plain": [
       "<Figure size 432x288 with 1 Axes>"
      ]
     },
     "metadata": {
      "needs_background": "light"
     },
     "output_type": "display_data"
    }
   ],
   "source": [
    "import matplotlib.pyplot as plt\n",
    "plt.title('Keras loss vs val_loss ')\n",
    "plt.plot(history.history.get('loss'), color='blue')\n",
    "plt.plot(history.history.get('val_loss'), color='red')\n",
    "plt.legend(['loss', 'val_loss'])\n",
    "plt.grid()\n",
    "plt.show()"
   ]
  },
  {
   "cell_type": "code",
   "execution_count": 12,
   "metadata": {},
   "outputs": [
    {
     "name": "stdout",
     "output_type": "stream",
     "text": [
      "50/50 [==============================] - 1s 12ms/step\n"
     ]
    },
    {
     "data": {
      "text/plain": [
       "100.0"
      ]
     },
     "execution_count": 12,
     "metadata": {},
     "output_type": "execute_result"
    }
   ],
   "source": [
    "model.evaluate(train_data, train_labels)[1] * 100.0"
   ]
  },
  {
   "cell_type": "code",
   "execution_count": 13,
   "metadata": {},
   "outputs": [
    {
     "data": {
      "text/plain": [
       "98.0"
      ]
     },
     "execution_count": 13,
     "metadata": {},
     "output_type": "execute_result"
    }
   ],
   "source": [
    "# 找出過去幾次訓練中的最佳參數\n",
    "\n",
    "model.load_weights('weights.hdf5')\n",
    "np.sum(model.predict_classes(train_data[:]) == np.argmax(train_labels, axis=1)) / len(train_data) * 100"
   ]
  },
  {
   "cell_type": "code",
   "execution_count": 14,
   "metadata": {},
   "outputs": [
    {
     "data": {
      "text/plain": [
       "[<tf.Variable 'conv2d_1/kernel:0' shape=(2, 2, 1, 5) dtype=float32, numpy=\n",
       " array([[[[-0.36938208,  0.19806547, -0.36564037,  0.62442464,\n",
       "           -0.32662523]],\n",
       " \n",
       "         [[ 0.18289933,  0.5297035 ,  0.38630867,  0.33457714,\n",
       "           -0.2514214 ]]],\n",
       " \n",
       " \n",
       "        [[[-0.35298294,  0.10774943,  0.1893332 , -0.03414788,\n",
       "            0.3385535 ]],\n",
       " \n",
       "         [[ 0.08570529,  0.19817537, -0.14633386,  0.16581507,\n",
       "           -0.44757274]]]], dtype=float32)>,\n",
       " <tf.Variable 'conv2d_1/bias:0' shape=(5,) dtype=float32, numpy=\n",
       " array([ 0.00617855,  0.0366969 , -0.00956848,  0.04294069,  0.02018971],\n",
       "       dtype=float32)>,\n",
       " <tf.Variable 'conv2d_2/kernel:0' shape=(2, 2, 5, 5) dtype=float32, numpy=\n",
       " array([[[[ 0.405803  ,  0.36320308, -0.01263222, -0.03139592,\n",
       "            0.4086631 ],\n",
       "          [-0.04954287,  0.4414243 ,  0.39344373, -0.14103495,\n",
       "            0.23832467],\n",
       "          [-0.2781692 , -0.08532275, -0.01478101, -0.3842534 ,\n",
       "            0.12909268],\n",
       "          [-0.17100357,  0.0434792 ,  0.19121176, -0.22027749,\n",
       "           -0.15418752],\n",
       "          [-0.27191284,  0.03658113,  0.06946846,  0.18113875,\n",
       "           -0.12632918]],\n",
       " \n",
       "         [[ 0.2164931 ,  0.13787763,  0.08256332, -0.05951646,\n",
       "            0.30478847],\n",
       "          [ 0.01644738,  0.16238931, -0.06290531, -0.12355172,\n",
       "           -0.19122404],\n",
       "          [ 0.0880148 ,  0.24569616, -0.26105157, -0.0840246 ,\n",
       "           -0.23507038],\n",
       "          [ 0.25194523, -0.2912704 , -0.02009974, -0.46459404,\n",
       "            0.28461218],\n",
       "          [ 0.17200175, -0.30792022,  0.4071742 ,  0.06151471,\n",
       "            0.30350965]]],\n",
       " \n",
       " \n",
       "        [[[-0.23276687,  0.10114975,  0.3145289 , -0.16768879,\n",
       "           -0.1997777 ],\n",
       "          [ 0.14381413,  0.06078901,  0.42816526,  0.33675027,\n",
       "           -0.35035482],\n",
       "          [ 0.4789369 , -0.22222462,  0.3304815 ,  0.11191598,\n",
       "           -0.07055184],\n",
       "          [ 0.07980452,  0.41852036,  0.25190973,  0.4132193 ,\n",
       "            0.2758151 ],\n",
       "          [ 0.00754001, -0.17189483, -0.24984443, -0.14175363,\n",
       "            0.36124423]],\n",
       " \n",
       "         [[ 0.04678114, -0.36746892,  0.13133049,  0.07096153,\n",
       "           -0.12614013],\n",
       "          [ 0.47473952,  0.17215016,  0.18934183,  0.02686718,\n",
       "            0.17459032],\n",
       "          [ 0.1887103 ,  0.3358335 , -0.24052043, -0.2892355 ,\n",
       "           -0.01198553],\n",
       "          [ 0.11973247,  0.1852165 , -0.01211568, -0.15818292,\n",
       "           -0.24600786],\n",
       "          [-0.03143838, -0.29873943, -0.29928535,  0.26725307,\n",
       "           -0.242574  ]]]], dtype=float32)>,\n",
       " <tf.Variable 'conv2d_2/bias:0' shape=(5,) dtype=float32, numpy=\n",
       " array([-0.03455937,  0.00018163,  0.04465792,  0.00865761,  0.05736445],\n",
       "       dtype=float32)>,\n",
       " <tf.Variable 'conv2d_3/kernel:0' shape=(2, 2, 5, 5) dtype=float32, numpy=\n",
       " array([[[[-2.80607522e-01, -1.61966085e-01,  3.47358078e-01,\n",
       "           -4.89219883e-03, -2.16702625e-01],\n",
       "          [-1.08233511e-01, -1.86142594e-01,  3.31428528e-01,\n",
       "           -2.85300761e-01,  4.56060886e-01],\n",
       "          [ 4.14687872e-01, -2.82266647e-01,  3.14798921e-01,\n",
       "           -3.18431735e-01,  3.27960938e-01],\n",
       "          [-1.53843118e-02, -3.74303460e-01,  2.59539962e-01,\n",
       "           -1.09543232e-02,  3.37398559e-01],\n",
       "          [-7.40475431e-02, -1.23717181e-01,  4.62461382e-01,\n",
       "           -3.79568501e-03, -6.59120381e-02]],\n",
       " \n",
       "         [[-2.35589549e-01, -3.53027284e-02, -2.62988567e-01,\n",
       "            2.52317429e-01,  3.90431881e-01],\n",
       "          [-9.81540233e-02,  5.59375919e-02, -1.58064768e-01,\n",
       "            1.75758511e-01,  1.37026548e-01],\n",
       "          [-1.99713126e-01,  3.68316591e-01, -4.37177514e-04,\n",
       "            2.80066282e-01,  1.31732598e-01],\n",
       "          [-3.14248949e-02,  1.84158310e-01,  6.01710007e-02,\n",
       "           -3.85284647e-02, -2.04829827e-01],\n",
       "          [-1.89548478e-01, -2.19850957e-01, -1.16015397e-01,\n",
       "           -2.70504653e-01,  2.63765872e-01]]],\n",
       " \n",
       " \n",
       "        [[[-6.31172881e-02, -1.24846831e-01, -2.94440866e-01,\n",
       "           -6.72535226e-02,  4.30989355e-01],\n",
       "          [ 2.45886594e-01, -4.67970707e-02, -3.25339735e-01,\n",
       "            2.66699225e-01, -3.11062615e-02],\n",
       "          [-1.99264195e-02,  1.94801882e-01, -5.00241946e-03,\n",
       "            2.70934165e-01,  2.03250032e-02],\n",
       "          [-2.48178199e-01,  3.75162989e-01,  2.05884784e-01,\n",
       "           -1.62668511e-01,  2.16367826e-01],\n",
       "          [ 3.72958750e-01,  2.56828368e-01,  4.21573341e-01,\n",
       "            3.70567352e-01, -1.17498249e-01]],\n",
       " \n",
       "         [[ 2.88917840e-01,  1.18309356e-01,  2.40005419e-01,\n",
       "            1.03249416e-01,  1.86837632e-02],\n",
       "          [ 1.21436492e-01,  9.58789513e-02, -2.84876049e-01,\n",
       "            1.21082515e-01, -2.77158350e-01],\n",
       "          [ 4.16701347e-01, -4.36968178e-01,  1.19436719e-01,\n",
       "            3.26440662e-01,  2.11961836e-01],\n",
       "          [ 9.50629078e-03, -2.73400009e-01, -2.60921776e-01,\n",
       "            2.24952042e-01, -3.18471998e-01],\n",
       "          [ 3.28161389e-01,  3.73161405e-01,  1.81770340e-01,\n",
       "            1.76949248e-01, -3.23004901e-01]]]], dtype=float32)>,\n",
       " <tf.Variable 'conv2d_3/bias:0' shape=(5,) dtype=float32, numpy=\n",
       " array([0.0394015 , 0.06346448, 0.07478578, 0.06869408, 0.03239853],\n",
       "       dtype=float32)>,\n",
       " <tf.Variable 'dense_1/kernel:0' shape=(245, 32) dtype=float32, numpy=\n",
       " array([[ 0.03699261, -0.02609883, -0.03696534, ...,  0.08405337,\n",
       "         -0.00829192,  0.08337487],\n",
       "        [-0.08365753,  0.06856256, -0.10073403, ...,  0.01076553,\n",
       "          0.07299914,  0.07241365],\n",
       "        [-0.1276876 , -0.17188255, -0.06554361, ..., -0.07845896,\n",
       "         -0.11549029,  0.17971432],\n",
       "        ...,\n",
       "        [ 0.05053858, -0.03374491, -0.0218028 , ..., -0.14594957,\n",
       "         -0.07449777,  0.03190581],\n",
       "        [-0.14210899, -0.01083124, -0.1183168 , ...,  0.0409606 ,\n",
       "          0.09431342, -0.02162316],\n",
       "        [ 0.02339947, -0.11066707, -0.06893041, ..., -0.00936864,\n",
       "         -0.13510104,  0.07167055]], dtype=float32)>,\n",
       " <tf.Variable 'dense_1/bias:0' shape=(32,) dtype=float32, numpy=\n",
       " array([ 0.        , -0.01457782, -0.00555664,  0.03129833, -0.00857047,\n",
       "         0.06677568,  0.00638181,  0.04499762,  0.01270797,  0.00438454,\n",
       "        -0.01983026, -0.0030163 ,  0.03727068, -0.0088128 , -0.01007942,\n",
       "         0.00946725,  0.03721708,  0.01893073, -0.00208175,  0.01051873,\n",
       "        -0.00645376,  0.00926461,  0.02290656, -0.01570094, -0.01488226,\n",
       "        -0.00860993, -0.01184427, -0.00500607, -0.00522692, -0.01070433,\n",
       "        -0.01607304, -0.01500397], dtype=float32)>,\n",
       " <tf.Variable 'dense_2/kernel:0' shape=(32, 3) dtype=float32, numpy=\n",
       " array([[ 0.01737863, -0.2221858 ,  0.08274204],\n",
       "        [ 0.0128062 ,  0.13329677, -0.44802454],\n",
       "        [ 0.15289187,  0.26724878,  0.25639832],\n",
       "        [ 0.35493228, -0.00074257, -0.21048325],\n",
       "        [-0.44557896,  0.175801  , -0.2517704 ],\n",
       "        [ 0.15937953, -0.08332958,  0.25118   ],\n",
       "        [ 0.30371118, -0.20002568, -0.3437916 ],\n",
       "        [ 0.32221076, -0.45869416,  0.25036123],\n",
       "        [ 0.42281374,  0.11564686, -0.13922375],\n",
       "        [ 0.20617603,  0.38041294, -0.17339133],\n",
       "        [-0.45739868, -0.04825678, -0.42894563],\n",
       "        [-0.04011874,  0.477811  , -0.34729096],\n",
       "        [-0.48210394,  0.06242123,  0.38251117],\n",
       "        [-0.31548774,  0.13946481, -0.27881855],\n",
       "        [-0.4256014 ,  0.3066632 , -0.33450347],\n",
       "        [ 0.20897627,  0.33608148, -0.19618767],\n",
       "        [ 0.10716435, -0.4421646 , -0.2298895 ],\n",
       "        [ 0.08459114, -0.365822  , -0.44005546],\n",
       "        [ 0.32138088,  0.13688962, -0.2914112 ],\n",
       "        [ 0.24336658,  0.05432511, -0.11646094],\n",
       "        [-0.05471788,  0.2158429 , -0.20969608],\n",
       "        [-0.39817104,  0.24903527,  0.31336927],\n",
       "        [ 0.2349465 , -0.41349855, -0.0227988 ],\n",
       "        [ 0.05097134,  0.34026983, -0.2505675 ],\n",
       "        [-0.01972542,  0.04757887, -0.45646596],\n",
       "        [-0.36390233,  0.45567402, -0.04028044],\n",
       "        [ 0.2821318 ,  0.20510079, -0.1148913 ],\n",
       "        [ 0.36454675,  0.23465423, -0.01439848],\n",
       "        [ 0.20246875, -0.09035827, -0.06553723],\n",
       "        [ 0.14310813, -0.41333422, -0.22810407],\n",
       "        [ 0.20339099, -0.24584225, -0.14254121],\n",
       "        [-0.150536  ,  0.34855917,  0.40335387]], dtype=float32)>,\n",
       " <tf.Variable 'dense_2/bias:0' shape=(3,) dtype=float32, numpy=array([ 0.00153758, -0.03743498,  0.04337083], dtype=float32)>]"
      ]
     },
     "execution_count": 14,
     "metadata": {},
     "output_type": "execute_result"
    }
   ],
   "source": [
    "# 檢視載入權重\n",
    "model.weights"
   ]
  }
 ],
 "metadata": {
  "kernelspec": {
   "display_name": "Python 3",
   "language": "python",
   "name": "python3"
  },
  "language_info": {
   "codemirror_mode": {
    "name": "ipython",
    "version": 3
   },
   "file_extension": ".py",
   "mimetype": "text/x-python",
   "name": "python",
   "nbconvert_exporter": "python",
   "pygments_lexer": "ipython3",
   "version": "3.7.4"
  }
 },
 "nbformat": 4,
 "nbformat_minor": 2
}
