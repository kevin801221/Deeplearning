{
 "cells": [
  {
   "cell_type": "code",
   "execution_count": 1,
   "metadata": {},
   "outputs": [
    {
     "name": "stdout",
     "output_type": "stream",
     "text": [
      "c:\\python\\20191207-yyyymmdd-第四階段-假日\\20200201-day6\\PM\n"
     ]
    }
   ],
   "source": [
    "path = %pwd\n",
    "print(path)"
   ]
  },
  {
   "cell_type": "code",
   "execution_count": 2,
   "metadata": {},
   "outputs": [],
   "source": [
    "import ast , numpy as np\n",
    "with open('train_data.txt') as f:\n",
    "    train_data = np.array(ast.literal_eval(f.read())).astype('float32')\n",
    "\n",
    "with open('train_labels.txt') as f:\n",
    "    train_labels = np.array(ast.literal_eval(f.read())).astype('int')\n",
    "    "
   ]
  },
  {
   "cell_type": "code",
   "execution_count": 3,
   "metadata": {},
   "outputs": [
    {
     "data": {
      "text/plain": [
       "<Figure size 640x480 with 1 Axes>"
      ]
     },
     "metadata": {},
     "output_type": "display_data"
    }
   ],
   "source": [
    "import matplotlib.pyplot as plt\n",
    "plt.imshow(train_data[2, :, :, :].reshape(28, 28), cmap='gray_r')\n",
    "plt.show()"
   ]
  },
  {
   "cell_type": "code",
   "execution_count": 4,
   "metadata": {},
   "outputs": [
    {
     "data": {
      "text/plain": [
       "((50, 28, 28, 1), (50, 3), array([[0, 1, 0]]))"
      ]
     },
     "execution_count": 4,
     "metadata": {},
     "output_type": "execute_result"
    }
   ],
   "source": [
    "# 檢查數據狀況\n",
    "train_data.shape, train_labels.shape, train_labels[:1]"
   ]
  },
  {
   "cell_type": "code",
   "execution_count": 5,
   "metadata": {},
   "outputs": [],
   "source": [
    "# 建立model \n",
    "# the Sequential model\n",
    "# the Model class used with the functional API."
   ]
  },
  {
   "cell_type": "code",
   "execution_count": 6,
   "metadata": {},
   "outputs": [
    {
     "name": "stderr",
     "output_type": "stream",
     "text": [
      "Using TensorFlow backend.\n"
     ]
    },
    {
     "name": "stdout",
     "output_type": "stream",
     "text": [
      "Model: \"sequential_1\"\n",
      "_________________________________________________________________\n",
      "Layer (type)                 Output Shape              Param #   \n",
      "=================================================================\n",
      "conv2d_1 (Conv2D)            (None, 28, 28, 5)         25        \n",
      "_________________________________________________________________\n",
      "max_pooling2d_1 (MaxPooling2 (None, 14, 14, 5)         0         \n",
      "_________________________________________________________________\n",
      "conv2d_2 (Conv2D)            (None, 14, 14, 5)         105       \n",
      "_________________________________________________________________\n",
      "max_pooling2d_2 (MaxPooling2 (None, 7, 7, 5)           0         \n",
      "_________________________________________________________________\n",
      "conv2d_3 (Conv2D)            (None, 7, 7, 5)           105       \n",
      "_________________________________________________________________\n",
      "flatten_1 (Flatten)          (None, 245)               0         \n",
      "_________________________________________________________________\n",
      "dense_1 (Dense)              (None, 32)                7872      \n",
      "_________________________________________________________________\n",
      "dense_2 (Dense)              (None, 3)                 99        \n",
      "=================================================================\n",
      "Total params: 8,206\n",
      "Trainable params: 8,206\n",
      "Non-trainable params: 0\n",
      "_________________________________________________________________\n"
     ]
    }
   ],
   "source": [
    "# the Sequential model type II\n",
    "from keras.models import Sequential\n",
    "from keras.layers import Dense, Activation, Conv2D, Flatten, MaxPooling2D\n",
    "\n",
    "model = Sequential()\n",
    "model.add( Conv2D(filters= 5, kernel_size=(2,2), activation='relu', padding='same', input_shape=(28, 28, 1)) )\n",
    "model.add( MaxPooling2D(2,2) )\n",
    "model.add( Conv2D(filters= 5, kernel_size=(2,2), activation='relu', padding='same') )\n",
    "model.add( MaxPooling2D(2,2) )\n",
    "model.add( Conv2D(filters= 5, kernel_size=(2,2), activation='relu', padding='same') )\n",
    "model.add( Flatten())\n",
    "\n",
    "model.add( Dense(32, activation='relu', input_dim=784) )\n",
    "model.add( Dense(3, activation='softmax') )\n",
    "model.summary()"
   ]
  },
  {
   "cell_type": "code",
   "execution_count": 7,
   "metadata": {},
   "outputs": [],
   "source": [
    "# dict_keys(['val_loss', 'val_accuracy', 'loss', 'accuracy'])\n",
    "# Keras : 2.3.0\n",
    "from keras.callbacks import ModelCheckpoint\n",
    "checkpoint = ModelCheckpoint('weights.hdf5', monitor='accuracy', save_best_only=True)\n",
    "callbacks_list = [checkpoint]"
   ]
  },
  {
   "cell_type": "code",
   "execution_count": 8,
   "metadata": {
    "scrolled": true
   },
   "outputs": [
    {
     "name": "stdout",
     "output_type": "stream",
     "text": [
      "Train on 40 samples, validate on 10 samples\n",
      "Epoch 1/30\n",
      "40/40 [==============================] - 2s 57ms/step - loss: 1.0924 - accuracy: 0.3500 - val_loss: 1.0829 - val_accuracy: 0.3000\n",
      "Epoch 2/30\n",
      "40/40 [==============================] - 0s 1ms/step - loss: 1.0251 - accuracy: 0.3750 - val_loss: 1.0010 - val_accuracy: 0.4000\n",
      "Epoch 3/30\n",
      "40/40 [==============================] - 0s 3ms/step - loss: 0.9716 - accuracy: 0.4750 - val_loss: 0.9254 - val_accuracy: 0.7000\n",
      "Epoch 4/30\n",
      "40/40 [==============================] - 0s 2ms/step - loss: 0.9149 - accuracy: 0.6750 - val_loss: 0.8620 - val_accuracy: 0.8000\n",
      "Epoch 5/30\n",
      "40/40 [==============================] - 0s 2ms/step - loss: 0.8622 - accuracy: 0.8250 - val_loss: 0.7939 - val_accuracy: 0.8000\n",
      "Epoch 6/30\n",
      "40/40 [==============================] - 0s 1ms/step - loss: 0.7971 - accuracy: 0.9000 - val_loss: 0.7286 - val_accuracy: 0.8000\n",
      "Epoch 7/30\n",
      "40/40 [==============================] - 0s 1ms/step - loss: 0.7245 - accuracy: 0.9000 - val_loss: 0.6658 - val_accuracy: 0.9000\n",
      "Epoch 8/30\n",
      "40/40 [==============================] - 0s 2ms/step - loss: 0.6501 - accuracy: 0.9000 - val_loss: 0.5763 - val_accuracy: 1.0000\n",
      "Epoch 9/30\n",
      "40/40 [==============================] - 0s 5ms/step - loss: 0.5683 - accuracy: 0.9250 - val_loss: 0.4892 - val_accuracy: 1.0000\n",
      "Epoch 10/30\n",
      "40/40 [==============================] - 0s 1ms/step - loss: 0.4916 - accuracy: 0.9500 - val_loss: 0.4165 - val_accuracy: 1.0000\n",
      "Epoch 11/30\n",
      "40/40 [==============================] - 0s 3ms/step - loss: 0.4129 - accuracy: 0.9500 - val_loss: 0.3542 - val_accuracy: 1.0000\n",
      "Epoch 12/30\n",
      "40/40 [==============================] - 0s 2ms/step - loss: 0.3500 - accuracy: 0.9250 - val_loss: 0.2961 - val_accuracy: 1.0000\n",
      "Epoch 13/30\n",
      "40/40 [==============================] - 0s 2ms/step - loss: 0.3006 - accuracy: 0.9500 - val_loss: 0.2669 - val_accuracy: 1.0000\n",
      "Epoch 14/30\n",
      "40/40 [==============================] - 0s 3ms/step - loss: 0.2543 - accuracy: 0.9500 - val_loss: 0.2265 - val_accuracy: 1.0000\n",
      "Epoch 15/30\n",
      "40/40 [==============================] - 0s 2ms/step - loss: 0.2201 - accuracy: 0.9500 - val_loss: 0.1800 - val_accuracy: 1.0000\n",
      "Epoch 16/30\n",
      "40/40 [==============================] - 0s 1ms/step - loss: 0.1993 - accuracy: 0.9500 - val_loss: 0.1668 - val_accuracy: 1.0000\n",
      "Epoch 17/30\n",
      "40/40 [==============================] - 0s 2ms/step - loss: 0.1720 - accuracy: 0.9750 - val_loss: 0.1472 - val_accuracy: 1.0000\n",
      "Epoch 18/30\n",
      "40/40 [==============================] - 0s 3ms/step - loss: 0.1646 - accuracy: 0.9750 - val_loss: 0.1350 - val_accuracy: 1.0000\n",
      "Epoch 19/30\n",
      "40/40 [==============================] - 0s 1ms/step - loss: 0.1502 - accuracy: 0.9750 - val_loss: 0.1104 - val_accuracy: 1.0000\n",
      "Epoch 20/30\n",
      "40/40 [==============================] - 0s 1ms/step - loss: 0.1333 - accuracy: 0.9500 - val_loss: 0.1046 - val_accuracy: 1.0000\n",
      "Epoch 21/30\n",
      "40/40 [==============================] - 0s 2ms/step - loss: 0.1216 - accuracy: 0.9750 - val_loss: 0.1011 - val_accuracy: 1.0000\n",
      "Epoch 22/30\n",
      "40/40 [==============================] - 0s 2ms/step - loss: 0.1151 - accuracy: 0.9750 - val_loss: 0.0902 - val_accuracy: 1.0000\n",
      "Epoch 23/30\n",
      "40/40 [==============================] - 0s 3ms/step - loss: 0.1092 - accuracy: 0.9750 - val_loss: 0.0772 - val_accuracy: 1.0000\n",
      "Epoch 24/30\n",
      "40/40 [==============================] - 0s 3ms/step - loss: 0.1014 - accuracy: 0.9750 - val_loss: 0.0734 - val_accuracy: 1.0000\n",
      "Epoch 25/30\n",
      "40/40 [==============================] - 0s 1ms/step - loss: 0.0915 - accuracy: 0.9750 - val_loss: 0.0712 - val_accuracy: 1.0000\n",
      "Epoch 26/30\n",
      "40/40 [==============================] - 0s 1ms/step - loss: 0.0873 - accuracy: 0.9750 - val_loss: 0.0691 - val_accuracy: 1.0000\n",
      "Epoch 27/30\n",
      "40/40 [==============================] - 0s 2ms/step - loss: 0.0869 - accuracy: 0.9750 - val_loss: 0.0646 - val_accuracy: 1.0000\n",
      "Epoch 28/30\n",
      "40/40 [==============================] - 0s 2ms/step - loss: 0.0769 - accuracy: 0.9750 - val_loss: 0.0604 - val_accuracy: 1.0000\n",
      "Epoch 29/30\n",
      "40/40 [==============================] - 0s 2ms/step - loss: 0.0951 - accuracy: 0.9500 - val_loss: 0.0562 - val_accuracy: 1.0000\n",
      "Epoch 30/30\n",
      "40/40 [==============================] - 0s 2ms/step - loss: 0.0621 - accuracy: 0.9750 - val_loss: 0.0597 - val_accuracy: 1.0000\n"
     ]
    }
   ],
   "source": [
    "# 編譯\n",
    "model.compile(optimizer='adam', loss='categorical_crossentropy', metrics=['accuracy'])\n",
    "# <keras.callbacks.callbacks.History at 0x1b93db60748>\n",
    "history = model.fit(train_data, train_labels, batch_size=10, \n",
    "                    epochs=30, \n",
    "                    verbose=1, \n",
    "                    validation_split=0.2, \n",
    "                    callbacks = callbacks_list)"
   ]
  },
  {
   "cell_type": "code",
   "execution_count": 9,
   "metadata": {
    "scrolled": false
   },
   "outputs": [
    {
     "data": {
      "text/plain": [
       "dict_keys(['val_loss', 'val_accuracy', 'loss', 'accuracy'])"
      ]
     },
     "execution_count": 9,
     "metadata": {},
     "output_type": "execute_result"
    }
   ],
   "source": [
    "# <keras.callbacks.callbacks.History at 0x1b93db60748>\n",
    "history.history.keys()\n",
    "# history.history.get('loss'), history.history.get('accuracy')"
   ]
  },
  {
   "cell_type": "code",
   "execution_count": 10,
   "metadata": {},
   "outputs": [
    {
     "data": {
      "image/png": "[encoded data removed]",
      "text/plain": [
       "<Figure size 432x288 with 1 Axes>"
      ]
     },
     "metadata": {
      "needs_background": "light"
     },
     "output_type": "display_data"
    }
   ],
   "source": [
    "import matplotlib.pyplot as plt\n",
    "plt.title('Keras Accuracy vs val_accuracy')\n",
    "\n",
    "plt.plot(history.history.get('accuracy'), color='blue')\n",
    "plt.plot(history.history.get('val_accuracy'), color='red')\n",
    "plt.legend(['accuracy', 'val_accuracy'])\n",
    "\n",
    "plt.grid()\n",
    "plt.show()"
   ]
  },
  {
   "cell_type": "code",
   "execution_count": 11,
   "metadata": {
    "collapsed": true
   },
   "outputs": [
    {
     "data": {
      "image/png": "[encoded data removed]",
      "text/plain": [
       "<Figure size 432x288 with 1 Axes>"
      ]
     },
     "metadata": {
      "needs_background": "light"
     },
     "output_type": "display_data"
    }
   ],
   "source": [
    "import matplotlib.pyplot as plt\n",
    "plt.title('Keras loss vs val_loss ')\n",
    "plt.plot(history.history.get('loss'), color='blue')\n",
    "plt.plot(history.history.get('val_loss'), color='red')\n",
    "plt.legend(['loss', 'val_loss'])\n",
    "plt.grid()\n",
    "plt.show()"
   ]
  },
  {
   "cell_type": "code",
   "execution_count": 12,
   "metadata": {},
   "outputs": [
    {
     "name": "stdout",
     "output_type": "stream",
     "text": [
      "50/50 [==============================] - 1s 11ms/step\n"
     ]
    },
    {
     "data": {
      "text/plain": [
       "98.00000190734863"
      ]
     },
     "execution_count": 12,
     "metadata": {},
     "output_type": "execute_result"
    }
   ],
   "source": [
    "model.evaluate(train_data, train_labels)[1] * 100.0"
   ]
  }
 ],
 "metadata": {
  "kernelspec": {
   "display_name": "Python 3",
   "language": "python",
   "name": "python3"
  },
  "language_info": {
   "codemirror_mode": {
    "name": "ipython",
    "version": 3
   },
   "file_extension": ".py",
   "mimetype": "text/x-python",
   "name": "python",
   "nbconvert_exporter": "python",
   "pygments_lexer": "ipython3",
   "version": "3.7.4"
  }
 },
 "nbformat": 4,
 "nbformat_minor": 2
}
