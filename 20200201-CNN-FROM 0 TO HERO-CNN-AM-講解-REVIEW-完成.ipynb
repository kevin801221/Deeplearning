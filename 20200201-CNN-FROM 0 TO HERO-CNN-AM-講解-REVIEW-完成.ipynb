{
 "cells": [
  {
   "cell_type": "code",
   "execution_count": 71,
   "metadata": {},
   "outputs": [
    {
     "data": {
      "text/plain": [
       "array([[0, 1],\n",
       "       [2, 3],\n",
       "       [4, 5]], dtype=uint8)"
      ]
     },
     "execution_count": 71,
     "metadata": {},
     "output_type": "execute_result"
    }
   ],
   "source": [
    "import numpy as np\n",
    "import ast\n",
    "with open('data2.txt') as f:\n",
    "    data = f.read()\n",
    "\n",
    "type(ast.literal_eval(data)), type(data)\n",
    "\n",
    "np.array(ast.literal_eval(data)).astype('uint8')"
   ]
  },
  {
   "cell_type": "code",
   "execution_count": 72,
   "metadata": {},
   "outputs": [],
   "source": [
    "import ast , numpy as np\n",
    "with open('train_data.txt') as f:\n",
    "    train_data = np.array(ast.literal_eval(f.read())).astype('float32')\n",
    "\n",
    "with open('train_labels.txt') as f:\n",
    "    train_labels = np.array(ast.literal_eval(f.read())).astype('int')\n",
    "    "
   ]
  },
  {
   "cell_type": "code",
   "execution_count": 73,
   "metadata": {},
   "outputs": [
    {
     "name": "stdout",
     "output_type": "stream",
     "text": [
      "(28, 28, 1)\n"
     ]
    },
    {
     "data": {
      "image/png": "[encoded data removed]",
      "text/plain": [
       "<Figure size 432x288 with 1 Axes>"
      ]
     },
     "metadata": {
      "needs_background": "light"
     },
     "output_type": "display_data"
    }
   ],
   "source": [
    "print(train_data[0,:,:,:].shape)\n",
    "import matplotlib.pyplot as plt\n",
    "plt.imshow(train_data[2, :, :, :].reshape(28, 28), cmap='gray_r')\n",
    "plt.show()"
   ]
  },
  {
   "cell_type": "code",
   "execution_count": 74,
   "metadata": {},
   "outputs": [
    {
     "data": {
      "text/plain": [
       "((50, 28, 28, 1), (50, 3), array([[0, 1, 0]]))"
      ]
     },
     "execution_count": 74,
     "metadata": {},
     "output_type": "execute_result"
    }
   ],
   "source": [
    "# 檢查數據狀況\n",
    "train_data.shape, train_labels.shape, train_labels[:1]"
   ]
  },
  {
   "cell_type": "code",
   "execution_count": 75,
   "metadata": {},
   "outputs": [],
   "source": [
    "# 建立model \n",
    "# the Sequential model\n",
    "# the Model class used with the functional API."
   ]
  },
  {
   "cell_type": "code",
   "execution_count": 76,
   "metadata": {},
   "outputs": [
    {
     "name": "stdout",
     "output_type": "stream",
     "text": [
      "Model: \"sequential_6\"\n",
      "_________________________________________________________________\n",
      "Layer (type)                 Output Shape              Param #   \n",
      "=================================================================\n",
      "conv2d_19 (Conv2D)           (None, 28, 28, 5)         25        \n",
      "_________________________________________________________________\n",
      "activation_21 (Activation)   (None, 28, 28, 5)         0         \n",
      "_________________________________________________________________\n",
      "conv2d_20 (Conv2D)           (None, 28, 28, 5)         105       \n",
      "_________________________________________________________________\n",
      "activation_22 (Activation)   (None, 28, 28, 5)         0         \n",
      "_________________________________________________________________\n",
      "conv2d_21 (Conv2D)           (None, 28, 28, 5)         105       \n",
      "_________________________________________________________________\n",
      "activation_23 (Activation)   (None, 28, 28, 5)         0         \n",
      "_________________________________________________________________\n",
      "flatten_7 (Flatten)          (None, 3920)              0         \n",
      "_________________________________________________________________\n",
      "dense_13 (Dense)             (None, 32)                125472    \n",
      "_________________________________________________________________\n",
      "activation_24 (Activation)   (None, 32)                0         \n",
      "_________________________________________________________________\n",
      "dense_14 (Dense)             (None, 3)                 99        \n",
      "_________________________________________________________________\n",
      "activation_25 (Activation)   (None, 3)                 0         \n",
      "=================================================================\n",
      "Total params: 125,806\n",
      "Trainable params: 125,806\n",
      "Non-trainable params: 0\n",
      "_________________________________________________________________\n"
     ]
    }
   ],
   "source": [
    "from keras.models import Sequential\n",
    "from keras.layers import Dense, Activation, Conv2D, Flatten\n",
    "\n",
    "# the Sequential model type I\n",
    "model = Sequential()\n",
    "\n",
    "model.add( Conv2D(filters= 5, kernel_size=(2,2), \n",
    "                  strides=(1, 1), \n",
    "                  padding='same', \n",
    "                  #dilation_rate=2 , \n",
    "                  input_shape=(28, 28, 1)\n",
    "                 ) \n",
    "         )\n",
    "model.add( Activation('relu')  )\n",
    "\n",
    "\n",
    "model.add( Conv2D(filters= 5, kernel_size=(2,2), \n",
    "                  strides=(1, 1), \n",
    "                  padding='same', \n",
    "                  #dilation_rate=2 , \n",
    "                 ) \n",
    "         )\n",
    "model.add( Activation('relu')  )\n",
    "\n",
    "model.add( Conv2D(filters= 5, kernel_size=(2,2), \n",
    "                  strides=(1, 1), \n",
    "                  padding='same', \n",
    "                  #dilation_rate=2 , \n",
    "                 ) \n",
    "         )\n",
    "model.add( Activation('relu')  )\n",
    "\n",
    "model.add(Flatten())\n",
    "model.add( Dense(32) )\n",
    "model.add( Activation('relu')  )\n",
    "model.add( Dense(3)  )\n",
    "model.add( Activation('softmax')  ) \n",
    "\n",
    "model.summary()\n"
   ]
  },
  {
   "cell_type": "code",
   "execution_count": 77,
   "metadata": {},
   "outputs": [
    {
     "name": "stdout",
     "output_type": "stream",
     "text": [
      "Model: \"sequential_7\"\n",
      "_________________________________________________________________\n",
      "Layer (type)                 Output Shape              Param #   \n",
      "=================================================================\n",
      "conv2d_22 (Conv2D)           (None, 28, 28, 5)         25        \n",
      "_________________________________________________________________\n",
      "conv2d_23 (Conv2D)           (None, 28, 28, 5)         105       \n",
      "_________________________________________________________________\n",
      "conv2d_24 (Conv2D)           (None, 28, 28, 5)         105       \n",
      "_________________________________________________________________\n",
      "flatten_8 (Flatten)          (None, 3920)              0         \n",
      "_________________________________________________________________\n",
      "dense_15 (Dense)             (None, 32)                125472    \n",
      "_________________________________________________________________\n",
      "dense_16 (Dense)             (None, 3)                 99        \n",
      "=================================================================\n",
      "Total params: 125,806\n",
      "Trainable params: 125,806\n",
      "Non-trainable params: 0\n",
      "_________________________________________________________________\n"
     ]
    }
   ],
   "source": [
    "# the Sequential model type II\n",
    "model = Sequential()\n",
    "model.add( Conv2D(filters= 5, kernel_size=(2,2), activation='relu', padding='same', input_shape=(28, 28, 1)) )\n",
    "model.add( Conv2D(filters= 5, kernel_size=(2,2), activation='relu', padding='same') )\n",
    "model.add( Conv2D(filters= 5, kernel_size=(2,2), activation='relu', padding='same') )\n",
    "model.add( Flatten())\n",
    "\n",
    "model.add( Dense(32, activation='relu', input_dim=784) )\n",
    "model.add( Dense(3, activation='softmax') )\n",
    "model.summary()"
   ]
  },
  {
   "cell_type": "code",
   "execution_count": 78,
   "metadata": {},
   "outputs": [
    {
     "name": "stdout",
     "output_type": "stream",
     "text": [
      "Model: \"sequential_8\"\n",
      "_________________________________________________________________\n",
      "Layer (type)                 Output Shape              Param #   \n",
      "=================================================================\n",
      "conv2d_25 (Conv2D)           (None, 28, 28, 5)         25        \n",
      "_________________________________________________________________\n",
      "activation_26 (Activation)   (None, 28, 28, 5)         0         \n",
      "_________________________________________________________________\n",
      "conv2d_26 (Conv2D)           (None, 28, 28, 5)         105       \n",
      "_________________________________________________________________\n",
      "activation_27 (Activation)   (None, 28, 28, 5)         0         \n",
      "_________________________________________________________________\n",
      "conv2d_27 (Conv2D)           (None, 28, 28, 5)         105       \n",
      "_________________________________________________________________\n",
      "activation_28 (Activation)   (None, 28, 28, 5)         0         \n",
      "_________________________________________________________________\n",
      "flatten_9 (Flatten)          (None, 3920)              0         \n",
      "_________________________________________________________________\n",
      "dense_17 (Dense)             (None, 32)                125472    \n",
      "_________________________________________________________________\n",
      "activation_29 (Activation)   (None, 32)                0         \n",
      "_________________________________________________________________\n",
      "dense_18 (Dense)             (None, 3)                 99        \n",
      "_________________________________________________________________\n",
      "activation_30 (Activation)   (None, 3)                 0         \n",
      "=================================================================\n",
      "Total params: 125,806\n",
      "Trainable params: 125,806\n",
      "Non-trainable params: 0\n",
      "_________________________________________________________________\n"
     ]
    }
   ],
   "source": [
    "# the Sequential model type III\n",
    "model = Sequential([\n",
    "                    Conv2D(filters= 5, kernel_size=(2,2), padding='same', input_shape=(28, 28, 1)), \n",
    "    \n",
    "                    Activation('relu'),\n",
    "    \n",
    "                    Conv2D(filters= 5, kernel_size=(2,2), padding='same'), \n",
    "    \n",
    "                    Activation('relu'),\n",
    "    \n",
    "                    Conv2D(filters= 5, kernel_size=(2,2), padding='same'), \n",
    "    \n",
    "                    Activation('relu'),\n",
    "    \n",
    "                    Flatten(),\n",
    "    \n",
    "                    Dense(32), \n",
    "                    Activation('relu'),\n",
    "    \n",
    "                    Dense(3),  \n",
    "                    Activation('softmax'),\n",
    "                   ])\n",
    "model.summary()"
   ]
  },
  {
   "cell_type": "code",
   "execution_count": 79,
   "metadata": {},
   "outputs": [
    {
     "name": "stdout",
     "output_type": "stream",
     "text": [
      "Model: \"model_2\"\n",
      "_________________________________________________________________\n",
      "Layer (type)                 Output Shape              Param #   \n",
      "=================================================================\n",
      "input_2 (InputLayer)         (None, 28, 28, 1)         0         \n",
      "_________________________________________________________________\n",
      "conv2d_28 (Conv2D)           (None, 28, 28, 5)         25        \n",
      "_________________________________________________________________\n",
      "re_lu_5 (ReLU)               (None, 28, 28, 5)         0         \n",
      "_________________________________________________________________\n",
      "conv2d_29 (Conv2D)           (None, 28, 28, 5)         105       \n",
      "_________________________________________________________________\n",
      "re_lu_6 (ReLU)               (None, 28, 28, 5)         0         \n",
      "_________________________________________________________________\n",
      "conv2d_30 (Conv2D)           (None, 28, 28, 5)         105       \n",
      "_________________________________________________________________\n",
      "re_lu_7 (ReLU)               (None, 28, 28, 5)         0         \n",
      "_________________________________________________________________\n",
      "flatten_10 (Flatten)         (None, 3920)              0         \n",
      "_________________________________________________________________\n",
      "dense_19 (Dense)             (None, 32)                125472    \n",
      "_________________________________________________________________\n",
      "re_lu_8 (ReLU)               (None, 32)                0         \n",
      "_________________________________________________________________\n",
      "dense_20 (Dense)             (None, 3)                 99        \n",
      "_________________________________________________________________\n",
      "softmax_2 (Softmax)          (None, 3)                 0         \n",
      "=================================================================\n",
      "Total params: 125,806\n",
      "Trainable params: 125,806\n",
      "Non-trainable params: 0\n",
      "_________________________________________________________________\n"
     ]
    }
   ],
   "source": [
    "# the Model class used with the functional API.\n",
    "from keras.models import Model\n",
    "from keras.layers import Input, Dense , ReLU, Softmax, Conv2D, Flatten\n",
    "\n",
    "a = Input(shape=(28, 28, 1))\n",
    "\n",
    "dense = Conv2D(filters= 5, kernel_size=(2,2), padding='same')(a)\n",
    "dense = ReLU()(dense)\n",
    "\n",
    "dense = Conv2D(filters= 5, kernel_size=(2,2), padding='same')(dense)\n",
    "dense = ReLU()(dense)\n",
    "\n",
    "dense = Conv2D(filters= 5, kernel_size=(2,2), padding='same')(dense)\n",
    "dense = ReLU()(dense)\n",
    "\n",
    "dense = Flatten()(dense)\n",
    "\n",
    "dense = Dense(32)(dense)\n",
    "dense = ReLU()(dense)\n",
    "\n",
    "dense = Dense(3)(dense)\n",
    "b     = Softmax()(dense)\n",
    "\n",
    "\n",
    "model = Model(inputs=a, outputs=b)\n",
    "model.summary()"
   ]
  },
  {
   "cell_type": "code",
   "execution_count": null,
   "metadata": {},
   "outputs": [],
   "source": []
  },
  {
   "cell_type": "code",
   "execution_count": 80,
   "metadata": {},
   "outputs": [
    {
     "name": "stdout",
     "output_type": "stream",
     "text": [
      "Epoch 1/5\n",
      "50/50 [==============================] - 0s 6ms/step - loss: 1.0125 - accuracy: 0.4400\n",
      "Epoch 2/5\n",
      "50/50 [==============================] - 0s 1ms/step - loss: 0.6782 - accuracy: 0.8800\n",
      "Epoch 3/5\n",
      "50/50 [==============================] - 0s 2ms/step - loss: 0.4186 - accuracy: 0.9800\n",
      "Epoch 4/5\n",
      "50/50 [==============================] - 0s 2ms/step - loss: 0.2356 - accuracy: 0.9800\n",
      "Epoch 5/5\n",
      "50/50 [==============================] - 0s 1ms/step - loss: 0.1278 - accuracy: 0.9800\n"
     ]
    }
   ],
   "source": [
    "# 編譯\n",
    "model.compile(optimizer='adam', loss='categorical_crossentropy', metrics=['accuracy'])\n",
    "# <keras.callbacks.callbacks.History at 0x1b93db60748>\n",
    "history = model.fit(train_data, train_labels, batch_size=10, epochs=5, verbose=1)"
   ]
  },
  {
   "cell_type": "code",
   "execution_count": 81,
   "metadata": {},
   "outputs": [
    {
     "data": {
      "text/plain": [
       "([1.0125471115112306,\n",
       "  0.6782320618629456,\n",
       "  0.418585205078125,\n",
       "  0.23560704290866852,\n",
       "  0.12775132209062576],\n",
       " [0.44, 0.88, 0.98, 0.98, 0.98])"
      ]
     },
     "execution_count": 81,
     "metadata": {},
     "output_type": "execute_result"
    }
   ],
   "source": [
    "# <keras.callbacks.callbacks.History at 0x1b93db60748>\n",
    "# history\n",
    "history.history.get('loss'), history.history.get('accuracy')"
   ]
  },
  {
   "cell_type": "code",
   "execution_count": 82,
   "metadata": {
    "scrolled": true
   },
   "outputs": [
    {
     "data": {
      "image/png": "[encoded data removed]",
      "text/plain": [
       "<Figure size 432x288 with 1 Axes>"
      ]
     },
     "metadata": {
      "needs_background": "light"
     },
     "output_type": "display_data"
    },
    {
     "data": {
      "image/png": "[encoded data removed]",
      "text/plain": [
       "<Figure size 432x288 with 1 Axes>"
      ]
     },
     "metadata": {
      "needs_background": "light"
     },
     "output_type": "display_data"
    }
   ],
   "source": [
    "import matplotlib.pyplot as plt\n",
    "plt.title('Keras Loss')\n",
    "plt.plot(history.history.get('loss'))\n",
    "plt.grid()\n",
    "plt.show()\n",
    "\n",
    "import matplotlib.pyplot as plt\n",
    "plt.title('Keras Accuracy')\n",
    "plt.plot(history.history.get('accuracy'))\n",
    "plt.grid()\n",
    "plt.show()"
   ]
  },
  {
   "cell_type": "code",
   "execution_count": 83,
   "metadata": {},
   "outputs": [
    {
     "name": "stdout",
     "output_type": "stream",
     "text": [
      "50/50 [==============================] - 0s 1ms/step\n"
     ]
    },
    {
     "data": {
      "text/plain": [
       "98.00000190734863"
      ]
     },
     "execution_count": 83,
     "metadata": {},
     "output_type": "execute_result"
    }
   ],
   "source": [
    "model.evaluate(train_data, train_labels)[1] * 100.0"
   ]
  },
  {
   "cell_type": "code",
   "execution_count": null,
   "metadata": {},
   "outputs": [],
   "source": [
    "# "
   ]
  },
  {
   "cell_type": "code",
   "execution_count": null,
   "metadata": {},
   "outputs": [],
   "source": []
  },
  {
   "cell_type": "code",
   "execution_count": null,
   "metadata": {},
   "outputs": [],
   "source": []
  },
  {
   "cell_type": "code",
   "execution_count": null,
   "metadata": {},
   "outputs": [],
   "source": []
  },
  {
   "cell_type": "code",
   "execution_count": null,
   "metadata": {},
   "outputs": [],
   "source": [
    "\n",
    "\n",
    "\n"
   ]
  },
  {
   "cell_type": "code",
   "execution_count": 84,
   "metadata": {},
   "outputs": [
    {
     "data": {
      "text/plain": [
       "[<keras.engine.input_layer.InputLayer at 0x1b943670c08>,\n",
       " <keras.layers.convolutional.Conv2D at 0x1b943670648>,\n",
       " <keras.layers.advanced_activations.ReLU at 0x1b943670608>,\n",
       " <keras.layers.convolutional.Conv2D at 0x1b943670248>,\n",
       " <keras.layers.advanced_activations.ReLU at 0x1b943666a88>,\n",
       " <keras.layers.convolutional.Conv2D at 0x1b94378fe08>,\n",
       " <keras.layers.advanced_activations.ReLU at 0x1b943784b88>,\n",
       " <keras.layers.core.Flatten at 0x1b943753e88>,\n",
       " <keras.layers.core.Dense at 0x1b9437533c8>,\n",
       " <keras.layers.advanced_activations.ReLU at 0x1b943705888>,\n",
       " <keras.layers.core.Dense at 0x1b94369bc88>,\n",
       " <keras.layers.advanced_activations.Softmax at 0x1b94369b608>]"
      ]
     },
     "execution_count": 84,
     "metadata": {},
     "output_type": "execute_result"
    }
   ],
   "source": [
    "model.layers"
   ]
  },
  {
   "cell_type": "code",
   "execution_count": 87,
   "metadata": {},
   "outputs": [
    {
     "name": "stdout",
     "output_type": "stream",
     "text": [
      "0 a\n",
      "1 b\n",
      "2 c\n"
     ]
    }
   ],
   "source": [
    "data = ['a', 'b', 'c']\n",
    "for i, d in enumerate(data):\n",
    "    print(i, d)"
   ]
  },
  {
   "cell_type": "code",
   "execution_count": 89,
   "metadata": {},
   "outputs": [
    {
     "name": "stdout",
     "output_type": "stream",
     "text": [
      "filters  1 5\n",
      "filters  3 5\n",
      "filters  5 5\n"
     ]
    },
    {
     "data": {
      "text/plain": [
       "3"
      ]
     },
     "execution_count": 89,
     "metadata": {},
     "output_type": "execute_result"
    }
   ],
   "source": [
    "# filters 來產生新圖像\n",
    "weights = []\n",
    "for i, m in enumerate(model.layers):\n",
    "    if type(m) == Conv2D :\n",
    "        weights.append( m.get_weights() )\n",
    "        print('filters ', i, m.filters)\n",
    "len(weights)\n",
    "# 表示有兩段 CONV2D"
   ]
  },
  {
   "cell_type": "code",
   "execution_count": 103,
   "metadata": {},
   "outputs": [
    {
     "data": {
      "text/plain": [
       "array([[ 0.13376431,  0.3069638 ],\n",
       "       [-0.35394442, -0.021495  ]], dtype=float32)"
      ]
     },
     "execution_count": 103,
     "metadata": {},
     "output_type": "execute_result"
    }
   ],
   "source": [
    "weights[0][0][:, :, 0  , 0]"
   ]
  },
  {
   "cell_type": "code",
   "execution_count": 94,
   "metadata": {},
   "outputs": [
    {
     "name": "stdout",
     "output_type": "stream",
     "text": [
      "[[ 0.13376431  0.3069638 ]\n",
      " [-0.35394442 -0.021495  ]]\n",
      "[[-0.28684402 -0.14940798]\n",
      " [-0.11696643  0.07581561]]\n",
      "[[ 0.18014836  0.11403303]\n",
      " [ 0.30782583 -0.26997155]]\n"
     ]
    }
   ],
   "source": [
    "# 十張  CNN 圖片     # 0 ... 9\n",
    "for w in weights:\n",
    "    print(w[0][:, :, 0  , 0])"
   ]
  },
  {
   "cell_type": "code",
   "execution_count": 95,
   "metadata": {},
   "outputs": [],
   "source": [
    "def conv_kernel(kernel, img):\n",
    "    height, width = img.shape[0]//kernel.shape[0], img.shape[1]//kernel.shape[1]\n",
    "    conv = np.zeros((height, width))\n",
    "    for ii in range(height):\n",
    "        for jj in range(width):\n",
    "            val = np.sum(kernel * img[ii*kernel.shape[0]:ii*kernel.shape[0]+kernel.shape[0], \n",
    "                                      jj*kernel.shape[1]:jj*kernel.shape[1]+kernel.shape[1]])\n",
    "            conv[ii, jj] = val\n",
    "    \n",
    "    return(conv)"
   ]
  },
  {
   "cell_type": "code",
   "execution_count": 97,
   "metadata": {},
   "outputs": [
    {
     "data": {
      "image/png": "[encoded data removed]",
      "text/plain": [
       "<Figure size 432x288 with 1 Axes>"
      ]
     },
     "metadata": {
      "needs_background": "light"
     },
     "output_type": "display_data"
    }
   ],
   "source": [
    "# 原始圖片\n",
    "%matplotlib inline\n",
    "import matplotlib.pyplot as plt\n",
    "plt.imshow( train_data[4, :, :, :].reshape(28, 28) , cmap='gray' )\n",
    "plt.show()"
   ]
  },
  {
   "cell_type": "code",
   "execution_count": 105,
   "metadata": {
    "collapsed": true
   },
   "outputs": [
    {
     "data": {
      "image/png": "[encoded data removed]",
      "text/plain": [
       "<Figure size 144x144 with 1 Axes>"
      ]
     },
     "metadata": {
      "needs_background": "light"
     },
     "output_type": "display_data"
    },
    {
     "name": "stdout",
     "output_type": "stream",
     "text": [
      "Con2D Layer 0\n"
     ]
    },
    {
     "data": {
      "image/png": "[encoded data removed]",
      "text/plain": [
       "<Figure size 144x144 with 1 Axes>"
      ]
     },
     "metadata": {
      "needs_background": "light"
     },
     "output_type": "display_data"
    },
    {
     "data": {
      "image/png": "[encoded data removed]",
      "text/plain": [
       "<Figure size 144x144 with 1 Axes>"
      ]
     },
     "metadata": {
      "needs_background": "light"
     },
     "output_type": "display_data"
    },
    {
     "data": {
      "image/png": "[encoded data removed]",
      "text/plain": [
       "<Figure size 144x144 with 1 Axes>"
      ]
     },
     "metadata": {
      "needs_background": "light"
     },
     "output_type": "display_data"
    },
    {
     "data": {
      "image/png": "[encoded data removed]",
      "text/plain": [
       "<Figure size 144x144 with 1 Axes>"
      ]
     },
     "metadata": {
      "needs_background": "light"
     },
     "output_type": "display_data"
    },
    {
     "data": {
      "image/png": "[encoded data removed]",
      "text/plain": [
       "<Figure size 144x144 with 1 Axes>"
      ]
     },
     "metadata": {
      "needs_background": "light"
     },
     "output_type": "display_data"
    },
    {
     "name": "stdout",
     "output_type": "stream",
     "text": [
      "--------------------------------------------------\n",
      "Con2D Layer 1\n"
     ]
    },
    {
     "data": {
      "image/png": "[encoded data removed]",
      "text/plain": [
       "<Figure size 144x144 with 1 Axes>"
      ]
     },
     "metadata": {
      "needs_background": "light"
     },
     "output_type": "display_data"
    },
    {
     "data": {
      "image/png": "[encoded data removed]",
      "text/plain": [
       "<Figure size 144x144 with 1 Axes>"
      ]
     },
     "metadata": {
      "needs_background": "light"
     },
     "output_type": "display_data"
    },
    {
     "data": {
      "image/png": "[encoded data removed]",
      "text/plain": [
       "<Figure size 144x144 with 1 Axes>"
      ]
     },
     "metadata": {
      "needs_background": "light"
     },
     "output_type": "display_data"
    },
    {
     "data": {
      "image/png": "[encoded data removed]",
      "text/plain": [
       "<Figure size 144x144 with 1 Axes>"
      ]
     },
     "metadata": {
      "needs_background": "light"
     },
     "output_type": "display_data"
    },
    {
     "data": {
      "image/png": "[encoded data removed]",
      "text/plain": [
       "<Figure size 144x144 with 1 Axes>"
      ]
     },
     "metadata": {
      "needs_background": "light"
     },
     "output_type": "display_data"
    },
    {
     "name": "stdout",
     "output_type": "stream",
     "text": [
      "--------------------------------------------------\n",
      "Con2D Layer 2\n"
     ]
    },
    {
     "data": {
      "image/png": "[encoded data removed]",
      "text/plain": [
       "<Figure size 144x144 with 1 Axes>"
      ]
     },
     "metadata": {
      "needs_background": "light"
     },
     "output_type": "display_data"
    },
    {
     "data": {
      "image/png": "[encoded data removed]",
      "text/plain": [
       "<Figure size 144x144 with 1 Axes>"
      ]
     },
     "metadata": {
      "needs_background": "light"
     },
     "output_type": "display_data"
    },
    {
     "data": {
      "image/png": "[encoded data removed]",
      "text/plain": [
       "<Figure size 144x144 with 1 Axes>"
      ]
     },
     "metadata": {
      "needs_background": "light"
     },
     "output_type": "display_data"
    },
    {
     "data": {
      "image/png": "[encoded data removed]",
      "text/plain": [
       "<Figure size 144x144 with 1 Axes>"
      ]
     },
     "metadata": {
      "needs_background": "light"
     },
     "output_type": "display_data"
    },
    {
     "data": {
      "image/png": "[encoded data removed]",
      "text/plain": [
       "<Figure size 144x144 with 1 Axes>"
      ]
     },
     "metadata": {
      "needs_background": "light"
     },
     "output_type": "display_data"
    },
    {
     "name": "stdout",
     "output_type": "stream",
     "text": [
      "--------------------------------------------------\n"
     ]
    }
   ],
   "source": [
    "#                     filter = 0\n",
    "\n",
    "clothes = 4\n",
    "\n",
    "import matplotlib.pyplot as plt\n",
    "plt.figure(figsize=(2,2))\n",
    "plt.imshow( train_data[clothes, :, :, :].reshape(28, 28) , cmap='gray' )\n",
    "plt.title('Original ')\n",
    "plt.axis('off')\n",
    "plt.show()\n",
    "for i, w in enumerate(weights):\n",
    "    print('Con2D Layer', str(i))\n",
    "    for j in range(5): # 唯一沒有修改 **********\n",
    "        kernel = w[0][:, :, 0  , j]\n",
    "        img = train_data[clothes, :, :, :].reshape(28, 28)  # 針對指定影像處理\n",
    "        img_filter = conv_kernel( kernel,  img)\n",
    "        plt.figure(figsize=(2,2))\n",
    "        plt.imshow( img_filter, cmap='gray' )\n",
    "        plt.title('Conv '+ str(j))\n",
    "        plt.axis('off')\n",
    "        plt.show()\n",
    "    print('-'*50)"
   ]
  },
  {
   "cell_type": "code",
   "execution_count": null,
   "metadata": {},
   "outputs": [],
   "source": []
  }
 ],
 "metadata": {
  "kernelspec": {
   "display_name": "Python 3",
   "language": "python",
   "name": "python3"
  },
  "language_info": {
   "codemirror_mode": {
    "name": "ipython",
    "version": 3
   },
   "file_extension": ".py",
   "mimetype": "text/x-python",
   "name": "python",
   "nbconvert_exporter": "python",
   "pygments_lexer": "ipython3",
   "version": "3.7.4"
  }
 },
 "nbformat": 4,
 "nbformat_minor": 2
}
