{
 "cells": [
  {
   "cell_type": "code",
   "execution_count": 1,
   "metadata": {},
   "outputs": [],
   "source": [
    "import ast , numpy as np\n",
    "with open('train_data.txt') as f:\n",
    "    train_data = np.array(ast.literal_eval(f.read())).astype('float32')\n",
    "\n",
    "with open('train_labels.txt') as f:\n",
    "    train_labels = np.array(ast.literal_eval(f.read())).astype('int')\n",
    "    "
   ]
  },
  {
   "cell_type": "code",
   "execution_count": 2,
   "metadata": {},
   "outputs": [],
   "source": [
    "# 用機器學習方式處理\n",
    "# 類似 sklearn.load_digits()\n",
    "from sklearn.model_selection import train_test_split\n",
    "X = train_data.reshape(50, 28*28)\n",
    "y = np.argmax(train_labels[:], axis=1 )\n",
    "X_train, X_test, y_train, y_test = train_test_split(X, y, test_size=0.2, random_state=42)"
   ]
  },
  {
   "cell_type": "code",
   "execution_count": 9,
   "metadata": {},
   "outputs": [
    {
     "data": {
      "text/plain": [
       "KNeighborsClassifier(algorithm='auto', leaf_size=30, metric='minkowski',\n",
       "                     metric_params=None, n_jobs=None, n_neighbors=3, p=2,\n",
       "                     weights='uniform')"
      ]
     },
     "execution_count": 9,
     "metadata": {},
     "output_type": "execute_result"
    }
   ],
   "source": [
    "# https://scikit-learn.org/stable/modules/multiclass.html\n",
    "from sklearn.linear_model import LogisticRegression\n",
    "from sklearn.neighbors import KNeighborsClassifier\n",
    "clf = KNeighborsClassifier(n_neighbors=3)\n",
    "clf.fit(X_train, y_train)"
   ]
  },
  {
   "cell_type": "code",
   "execution_count": 10,
   "metadata": {},
   "outputs": [
    {
     "data": {
      "text/plain": [
       "(1.0, 1.0)"
      ]
     },
     "execution_count": 10,
     "metadata": {},
     "output_type": "execute_result"
    }
   ],
   "source": [
    "clf.score(X_train, y_train), clf.score(X_test, y_test)"
   ]
  },
  {
   "cell_type": "code",
   "execution_count": 24,
   "metadata": {},
   "outputs": [
    {
     "data": {
      "text/plain": [
       "((784,), (1, 784))"
      ]
     },
     "execution_count": 24,
     "metadata": {},
     "output_type": "execute_result"
    }
   ],
   "source": [
    "X_test[0].shape , X_test[:1].shape"
   ]
  },
  {
   "cell_type": "code",
   "execution_count": 26,
   "metadata": {},
   "outputs": [
    {
     "data": {
      "text/plain": [
       "(array([0], dtype=int64), 0)"
      ]
     },
     "execution_count": 26,
     "metadata": {},
     "output_type": "execute_result"
    }
   ],
   "source": [
    "clf.predict(X_test[:1]), y_test[0]"
   ]
  },
  {
   "cell_type": "code",
   "execution_count": 18,
   "metadata": {},
   "outputs": [
    {
     "data": {
      "image/png": "[encoded data removed]",
      "text/plain": [
       "<Figure size 432x288 with 1 Axes>"
      ]
     },
     "metadata": {
      "needs_background": "light"
     },
     "output_type": "display_data"
    }
   ],
   "source": [
    "# 預測\n",
    "%matplotlib inline\n",
    "import matplotlib.pyplot as plt\n",
    "plt.imshow(X_test[0].reshape(28, 28), cmap='gray')\n",
    "plt.show()"
   ]
  },
  {
   "cell_type": "code",
   "execution_count": null,
   "metadata": {},
   "outputs": [],
   "source": []
  },
  {
   "cell_type": "code",
   "execution_count": 5,
   "metadata": {},
   "outputs": [],
   "source": [
    "# sklearn.naive_bayes.BernoulliNB\n",
    "\n",
    "# sklearn.tree.DecisionTreeClassifier\n",
    "\n",
    "# sklearn.tree.ExtraTreeClassifier\n",
    "\n",
    "# sklearn.ensemble.ExtraTreesClassifier\n",
    "\n",
    "# sklearn.naive_bayes.GaussianNB\n",
    "\n",
    "# sklearn.neighbors.KNeighborsClassifier\n",
    "\n",
    "# sklearn.semi_supervised.LabelPropagation\n",
    "\n",
    "# sklearn.semi_supervised.LabelSpreading\n",
    "\n",
    "# sklearn.discriminant_analysis.LinearDiscriminantAnalysis\n",
    "\n",
    "# sklearn.svm.LinearSVC (setting multi_class=”crammer_singer”)\n",
    "\n",
    "# sklearn.linear_model.LogisticRegression (setting multi_class=”multinomial”)\n",
    "\n",
    "# sklearn.linear_model.LogisticRegressionCV (setting multi_class=”multinomial”)\n",
    "\n",
    "# sklearn.neural_network.MLPClassifier\n",
    "\n",
    "# sklearn.neighbors.NearestCentroid\n",
    "\n",
    "# sklearn.discriminant_analysis.QuadraticDiscriminantAnalysis\n",
    "\n",
    "# sklearn.neighbors.RadiusNeighborsClassifier\n",
    "\n",
    "# sklearn.ensemble.RandomForestClassifier\n",
    "\n",
    "# sklearn.linear_model.RidgeClassifier\n",
    "\n",
    "# sklearn.linear_model.RidgeClassifierCV"
   ]
  }
 ],
 "metadata": {
  "kernelspec": {
   "display_name": "Python 3",
   "language": "python",
   "name": "python3"
  },
  "language_info": {
   "codemirror_mode": {
    "name": "ipython",
    "version": 3
   },
   "file_extension": ".py",
   "mimetype": "text/x-python",
   "name": "python",
   "nbconvert_exporter": "python",
   "pygments_lexer": "ipython3",
   "version": "3.7.4"
  }
 },
 "nbformat": 4,
 "nbformat_minor": 2
}
