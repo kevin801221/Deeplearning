{
 "cells": [
  {
   "cell_type": "code",
   "execution_count": 1,
   "metadata": {},
   "outputs": [
    {
     "data": {
      "text/plain": [
       "dict_keys(['data', 'target', 'target_names', 'DESCR', 'feature_names', 'filename'])"
      ]
     },
     "execution_count": 1,
     "metadata": {},
     "output_type": "execute_result"
    }
   ],
   "source": [
    "# 從sklearn中取出數據討論perceptron\n",
    "# 取出鳶尾花\n",
    "from sklearn import datasets\n",
    "iris = datasets.load_iris()\n",
    "iris.keys()"
   ]
  },
  {
   "cell_type": "code",
   "execution_count": 2,
   "metadata": {},
   "outputs": [
    {
     "data": {
      "text/plain": [
       "['sepal length (cm)',\n",
       " 'sepal width (cm)',\n",
       " 'petal length (cm)',\n",
       " 'petal width (cm)']"
      ]
     },
     "execution_count": 2,
     "metadata": {},
     "output_type": "execute_result"
    }
   ],
   "source": [
    "iris.get('feature_names')"
   ]
  },
  {
   "cell_type": "code",
   "execution_count": 3,
   "metadata": {},
   "outputs": [],
   "source": [
    "import pandas as pd\n",
    "# 僅取前面100筆數\n",
    "X = pd.DataFrame(iris.data, columns=['sepal length (cm)',\n",
    "                                     'sepal width (cm)',\n",
    "                                     'petal length (cm)',\n",
    "                                     'petal width (cm)'])[:100]     \n",
    "# 對應種類前面100筆數\n",
    "y = iris.target[:100]\n",
    "\n",
    "# 合併特徵(features) 與 種類(target)\n",
    "X['target'] = y\n",
    "\n",
    "# 匯出成CSV\n",
    "#X.to_csv('iris.csv', index=False)"
   ]
  },
  {
   "cell_type": "code",
   "execution_count": 4,
   "metadata": {},
   "outputs": [
    {
     "data": {
      "image/png": "[encoded data removed]",
      "text/plain": [
       "<Figure size 432x288 with 1 Axes>"
      ]
     },
     "metadata": {
      "needs_background": "light"
     },
     "output_type": "display_data"
    }
   ],
   "source": [
    "%matplotlib inline\n",
    "# activation function\n",
    "import matplotlib.pyplot as plt\n",
    "def phi(z):\n",
    "    if z >=0:\n",
    "        return(1)\n",
    "    else:\n",
    "        return(-1)\n",
    "    \n",
    "data = range(-10, 10, 1)\n",
    "result = [phi(z) for z in data]\n",
    "plt.scatter(data, result)\n",
    "plt.grid()\n",
    "plt.show()\n"
   ]
  },
  {
   "cell_type": "code",
   "execution_count": 12,
   "metadata": {},
   "outputs": [],
   "source": [
    "#class 觀念與感知器的使用 = logistic regression algorithm\n",
    "# eta   : 每一次 權重*數據 比對 正確性 之後的修正比率\n",
    "# n_iter: 針對所有的數據 要跑幾輪 epochs\n",
    "import numpy as np\n",
    "class Perceptron(object):\n",
    "    def __init__(self, eta=0.01, n_iter=10):\n",
    "        self.eta = eta\n",
    "        self.n_iter = n_iter\n",
    "    def fit(self, X, y):\n",
    "        self.w_ = np.zeros(1 + X.shape[1])\n",
    "        self.errors_ = []\n",
    "        for _ in range(self.n_iter): # 被要求的迴圈次數 10 輪 \n",
    "            errors = 0\n",
    "            print(_ ,'th', self.w_)  # _th 次的權重 = model = 模型\n",
    "            for xi, target in zip(X, y):      # 根據資料筆數跑回圈 該迴圈自我修正 w 參數\n",
    "                update = self.eta * (target - self.predict(xi))\n",
    "                self.w_[1:] += update * xi    # 多少欄位 特徵值 花萼長度 + 花瓣長度\n",
    "                self.w_[0] += update          # 固定的 w0 權重\n",
    "                errors += int(update != 0.0)  # 如果預測跟原先的y值 不同就紀錄起來多少錯誤\n",
    "            self.errors_.append(errors)       # 最後計算結果 就會記錄到erros_ list\n",
    "        return self\n",
    "    \n",
    "    def net_input(self, X):\n",
    "        return np.dot(X, self.w_[1:]) + self.w_[0]\n",
    "    def predict(self, X):\n",
    "        return np.where(self.net_input(X) >= 0.0, 1, -1)"
   ]
  },
  {
   "cell_type": "code",
   "execution_count": 13,
   "metadata": {},
   "outputs": [
    {
     "data": {
      "text/plain": [
       "(array([-1.51822999e-15,  4.66293670e-16]), array([1., 1.]))"
      ]
     },
     "execution_count": 13,
     "metadata": {},
     "output_type": "execute_result"
    }
   ],
   "source": [
    "# 針對iris 2/4 個特徵\n",
    "import numpy as np\n",
    "X = iris.data[:, [0,1]][:100]\n",
    "y = np.where(iris.target[:100]==1, 1, -1)\n",
    "\n",
    "# 資料處理\n",
    "# zscore : mean = 0, std = 1\n",
    "# (xi - mean) / std\n",
    "XZ = (X - np.mean(X, axis=0)) / np.std(X, axis=0)\n",
    "np.mean(XZ, axis=0), np.std(XZ, axis=0)"
   ]
  },
  {
   "cell_type": "code",
   "execution_count": 16,
   "metadata": {},
   "outputs": [
    {
     "name": "stdout",
     "output_type": "stream",
     "text": [
      "0 th [0. 0. 0.]\n",
      "1 th [ 0.02        0.02283542 -0.0419449 ]\n",
      "2 th [ 0.02        0.05415973 -0.06713704]\n",
      "3 th [ 0.02        0.06668945 -0.06293835]\n",
      "4 th [ 0.02        0.07921917 -0.05873966]\n",
      "5 th [ 0.02        0.07921917 -0.05873966]\n",
      "6 th [ 0.02        0.07921917 -0.05873966]\n",
      "7 th [ 0.02        0.07921917 -0.05873966]\n",
      "8 th [ 0.02        0.07921917 -0.05873966]\n",
      "9 th [ 0.02        0.07921917 -0.05873966]\n",
      "Final [ 0.02        0.07921917 -0.05873966]\n"
     ]
    },
    {
     "data": {
      "image/png": "[encoded data removed]",
      "text/plain": [
       "<Figure size 432x288 with 1 Axes>"
      ]
     },
     "metadata": {
      "needs_background": "light"
     },
     "output_type": "display_data"
    }
   ],
   "source": [
    "# 針對iris 2/4 個特徵\n",
    "import numpy as np\n",
    "X = iris.data[:, [0,1]][:100]\n",
    "y = np.where(iris.target[:100]==1, 1, -1)\n",
    "\n",
    "# 資料處理\n",
    "# zscore : mean = 0, std = 1\n",
    "# (xi - mean) / std\n",
    "XZ = (X - np.mean(X, axis=0)) / np.std(X, axis=0)\n",
    "\n",
    "\n",
    "ppn = Perceptron(eta=0.01, n_iter=10)\n",
    "ppn.fit(XZ, y) # 當使用standardized data(XZ) 加速收斂 , 否則需要花費很多時間處理 X\n",
    "\n",
    "print('Final',ppn.w_)\n",
    "plt.plot(range(1, len(ppn.errors_) + 1), ppn.errors_ , marker='o')\n",
    "plt.xlabel('Epochs')\n",
    "plt.ylabel('Number of misclassifications')\n",
    "plt.show()"
   ]
  },
  {
   "cell_type": "code",
   "execution_count": 17,
   "metadata": {},
   "outputs": [
    {
     "name": "stdout",
     "output_type": "stream",
     "text": [
      "[ 0.02        0.07921917 -0.05873966]\n"
     ]
    },
    {
     "data": {
      "text/plain": [
       "1.0"
      ]
     },
     "execution_count": 17,
     "metadata": {},
     "output_type": "execute_result"
    }
   ],
   "source": [
    "# final weight \n",
    "print(ppn.w_)\n",
    "np.sum(ppn.predict(XZ)==y) / len(y)"
   ]
  },
  {
   "cell_type": "code",
   "execution_count": null,
   "metadata": {},
   "outputs": [],
   "source": []
  }
 ],
 "metadata": {
  "kernelspec": {
   "display_name": "Python 3",
   "language": "python",
   "name": "python3"
  },
  "language_info": {
   "codemirror_mode": {
    "name": "ipython",
    "version": 3
   },
   "file_extension": ".py",
   "mimetype": "text/x-python",
   "name": "python",
   "nbconvert_exporter": "python",
   "pygments_lexer": "ipython3",
   "version": "3.7.4"
  }
 },
 "nbformat": 4,
 "nbformat_minor": 2
}
