{
 "cells": [
  {
   "cell_type": "code",
   "execution_count": 1,
   "metadata": {},
   "outputs": [
    {
     "name": "stdout",
     "output_type": "stream",
     "text": [
      "c:\\python\\20191207-yyyymmdd-第四階段-假日\\20200208-day7\\AM\n"
     ]
    }
   ],
   "source": [
    "path = %pwd\n",
    "print(path)"
   ]
  },
  {
   "cell_type": "code",
   "execution_count": 2,
   "metadata": {},
   "outputs": [],
   "source": [
    "import ast , numpy as np\n",
    "with open('train_data.txt') as f:\n",
    "    train_data = np.array(ast.literal_eval(f.read())).astype('float32')\n",
    "\n",
    "with open('train_labels.txt') as f:\n",
    "    train_labels = np.array(ast.literal_eval(f.read())).astype('int')\n",
    "    "
   ]
  },
  {
   "cell_type": "code",
   "execution_count": 3,
   "metadata": {},
   "outputs": [
    {
     "data": {
      "image/png": "[encoded data removed]",
      "text/plain": [
       "<Figure size 432x288 with 1 Axes>"
      ]
     },
     "metadata": {
      "needs_background": "light"
     },
     "output_type": "display_data"
    }
   ],
   "source": [
    "%matplotlib inline\n",
    "import matplotlib.pyplot as plt\n",
    "plt.imshow(train_data[2, :, :, :].reshape(28, 28), cmap='gray_r')\n",
    "plt.show()"
   ]
  },
  {
   "cell_type": "code",
   "execution_count": 4,
   "metadata": {},
   "outputs": [
    {
     "data": {
      "text/plain": [
       "((50, 28, 28, 1), (50, 3), array([[0, 1, 0]]))"
      ]
     },
     "execution_count": 4,
     "metadata": {},
     "output_type": "execute_result"
    }
   ],
   "source": [
    "# 檢查數據狀況\n",
    "train_data.shape, train_labels.shape, train_labels[:1]"
   ]
  },
  {
   "cell_type": "code",
   "execution_count": 5,
   "metadata": {},
   "outputs": [],
   "source": [
    "# 建立 model \n",
    "# the Sequential model\n",
    "# the Model class used with the functional API."
   ]
  },
  {
   "cell_type": "code",
   "execution_count": 6,
   "metadata": {},
   "outputs": [
    {
     "name": "stderr",
     "output_type": "stream",
     "text": [
      "Using TensorFlow backend.\n"
     ]
    },
    {
     "name": "stdout",
     "output_type": "stream",
     "text": [
      "Model: \"sequential_1\"\n",
      "_________________________________________________________________\n",
      "Layer (type)                 Output Shape              Param #   \n",
      "=================================================================\n",
      "conv2d_1 (Conv2D)            (None, 28, 28, 5)         25        \n",
      "_________________________________________________________________\n",
      "max_pooling2d_1 (MaxPooling2 (None, 14, 14, 5)         0         \n",
      "_________________________________________________________________\n",
      "conv2d_2 (Conv2D)            (None, 14, 14, 5)         105       \n",
      "_________________________________________________________________\n",
      "max_pooling2d_2 (MaxPooling2 (None, 7, 7, 5)           0         \n",
      "_________________________________________________________________\n",
      "conv2d_3 (Conv2D)            (None, 7, 7, 5)           105       \n",
      "_________________________________________________________________\n",
      "flatten_1 (Flatten)          (None, 245)               0         \n",
      "_________________________________________________________________\n",
      "dense_1 (Dense)              (None, 32)                7872      \n",
      "_________________________________________________________________\n",
      "dense_2 (Dense)              (None, 3)                 99        \n",
      "=================================================================\n",
      "Total params: 8,206\n",
      "Trainable params: 8,206\n",
      "Non-trainable params: 0\n",
      "_________________________________________________________________\n"
     ]
    }
   ],
   "source": [
    "# the Sequential model type II\n",
    "from keras.models import Sequential\n",
    "from keras.layers import Dense, Activation, Conv2D, Flatten, MaxPooling2D\n",
    "\n",
    "model = Sequential()\n",
    "model.add( Conv2D(filters= 5, kernel_size=(2,2), activation='relu', padding='same', input_shape=(28, 28, 1)) )\n",
    "model.add( MaxPooling2D(2,2) )\n",
    "model.add( Conv2D(filters= 5, kernel_size=(2,2), activation='relu', padding='same') )\n",
    "model.add( MaxPooling2D(2,2) )\n",
    "model.add( Conv2D(filters= 5, kernel_size=(2,2), activation='relu', padding='same') )\n",
    "model.add( Flatten())\n",
    "\n",
    "model.add( Dense(units= 32, activation='relu', input_dim=784) )\n",
    "model.add( Dense(units= 3, activation='softmax') )\n",
    "model.summary()"
   ]
  },
  {
   "cell_type": "code",
   "execution_count": 7,
   "metadata": {},
   "outputs": [],
   "source": [
    "# dict_keys(['val_loss', 'val_accuracy', 'loss', 'accuracy'])\n",
    "# Keras : 2.3.0\n",
    "# https://keras.io/callbacks/#earlystopping\n",
    "\n",
    "from keras.callbacks import ModelCheckpoint\n",
    "from keras.callbacks import EarlyStopping\n",
    "checkpoint = ModelCheckpoint('weights.hdf5', monitor='accuracy', save_best_only=True, verbose=1) # 顯示變更部分\n",
    "earlystopping = EarlyStopping(monitor='val_accuracy', patience=5, verbose=1) # 針對3次 val_accuracy 沒有改變就自動停止\n",
    "callbacks_list = [earlystopping, checkpoint]"
   ]
  },
  {
   "cell_type": "code",
   "execution_count": 8,
   "metadata": {
    "scrolled": true
   },
   "outputs": [
    {
     "name": "stdout",
     "output_type": "stream",
     "text": [
      "Train on 40 samples, validate on 10 samples\n",
      "Epoch 1/100\n",
      "40/40 [==============================] - 3s 73ms/step - loss: 1.0929 - accuracy: 0.4250 - val_loss: 1.1268 - val_accuracy: 0.3000\n",
      "\n",
      "Epoch 00001: accuracy improved from -inf to 0.42500, saving model to weights.hdf5\n",
      "Epoch 2/100\n",
      "40/40 [==============================] - 0s 5ms/step - loss: 1.0382 - accuracy: 0.3750 - val_loss: 1.0470 - val_accuracy: 0.3000\n",
      "\n",
      "Epoch 00002: accuracy did not improve from 0.42500\n",
      "Epoch 3/100\n",
      "40/40 [==============================] - 0s 3ms/step - loss: 0.9857 - accuracy: 0.4500 - val_loss: 0.9983 - val_accuracy: 0.3000\n",
      "\n",
      "Epoch 00003: accuracy improved from 0.42500 to 0.45000, saving model to weights.hdf5\n",
      "Epoch 4/100\n",
      "40/40 [==============================] - 0s 2ms/step - loss: 0.9362 - accuracy: 0.5250 - val_loss: 0.9531 - val_accuracy: 0.4000\n",
      "\n",
      "Epoch 00004: accuracy improved from 0.45000 to 0.52500, saving model to weights.hdf5\n",
      "Epoch 5/100\n",
      "40/40 [==============================] - 0s 2ms/step - loss: 0.8845 - accuracy: 0.6500 - val_loss: 0.8950 - val_accuracy: 0.5000\n",
      "\n",
      "Epoch 00005: accuracy improved from 0.52500 to 0.65000, saving model to weights.hdf5\n",
      "Epoch 6/100\n",
      "40/40 [==============================] - 0s 2ms/step - loss: 0.8258 - accuracy: 0.6500 - val_loss: 0.8314 - val_accuracy: 0.7000\n",
      "\n",
      "Epoch 00006: accuracy did not improve from 0.65000\n",
      "Epoch 7/100\n",
      "40/40 [==============================] - 0s 4ms/step - loss: 0.7590 - accuracy: 0.7750 - val_loss: 0.7867 - val_accuracy: 0.7000\n",
      "\n",
      "Epoch 00007: accuracy improved from 0.65000 to 0.77500, saving model to weights.hdf5\n",
      "Epoch 8/100\n",
      "40/40 [==============================] - 0s 5ms/step - loss: 0.6887 - accuracy: 0.8750 - val_loss: 0.7189 - val_accuracy: 0.9000\n",
      "\n",
      "Epoch 00008: accuracy improved from 0.77500 to 0.87500, saving model to weights.hdf5\n",
      "Epoch 9/100\n",
      "40/40 [==============================] - 0s 9ms/step - loss: 0.6143 - accuracy: 0.9250 - val_loss: 0.6634 - val_accuracy: 1.0000\n",
      "\n",
      "Epoch 00009: accuracy improved from 0.87500 to 0.92500, saving model to weights.hdf5\n",
      "Epoch 10/100\n",
      "40/40 [==============================] - 0s 2ms/step - loss: 0.5387 - accuracy: 0.9500 - val_loss: 0.5930 - val_accuracy: 1.0000\n",
      "\n",
      "Epoch 00010: accuracy improved from 0.92500 to 0.95000, saving model to weights.hdf5\n",
      "Epoch 11/100\n",
      "40/40 [==============================] - 0s 7ms/step - loss: 0.4652 - accuracy: 0.9750 - val_loss: 0.5196 - val_accuracy: 1.0000\n",
      "\n",
      "Epoch 00011: accuracy improved from 0.95000 to 0.97500, saving model to weights.hdf5\n",
      "Epoch 12/100\n",
      "40/40 [==============================] - 0s 9ms/step - loss: 0.3977 - accuracy: 0.9750 - val_loss: 0.4458 - val_accuracy: 1.0000\n",
      "\n",
      "Epoch 00012: accuracy did not improve from 0.97500\n",
      "Epoch 13/100\n",
      "40/40 [==============================] - 0s 2ms/step - loss: 0.3448 - accuracy: 0.9500 - val_loss: 0.3679 - val_accuracy: 1.0000\n",
      "\n",
      "Epoch 00013: accuracy did not improve from 0.97500\n",
      "Epoch 14/100\n",
      "40/40 [==============================] - 0s 10ms/step - loss: 0.2921 - accuracy: 0.9750 - val_loss: 0.3344 - val_accuracy: 1.0000\n",
      "\n",
      "Epoch 00014: accuracy did not improve from 0.97500\n",
      "Epoch 00014: early stopping\n"
     ]
    }
   ],
   "source": [
    "# 編譯\n",
    "model.compile(optimizer='adam', loss='categorical_crossentropy', metrics=['accuracy'])\n",
    "# <keras.callbacks.callbacks.History at 0x1b93db60748>\n",
    "history = model.fit(train_data, train_labels, batch_size=10, \n",
    "                    epochs=100, \n",
    "                    verbose=1, \n",
    "                    validation_split=0.2, \n",
    "                    callbacks = callbacks_list)"
   ]
  },
  {
   "cell_type": "code",
   "execution_count": 9,
   "metadata": {
    "scrolled": false
   },
   "outputs": [
    {
     "data": {
      "text/plain": [
       "dict_keys(['val_loss', 'val_accuracy', 'loss', 'accuracy'])"
      ]
     },
     "execution_count": 9,
     "metadata": {},
     "output_type": "execute_result"
    }
   ],
   "source": [
    "# <keras.callbacks.callbacks.History at 0x1b93db60748>\n",
    "history.history.keys()\n",
    "# history.history.get('loss'), history.history.get('accuracy')"
   ]
  },
  {
   "cell_type": "code",
   "execution_count": 10,
   "metadata": {
    "collapsed": true
   },
   "outputs": [
    {
     "data": {
      "image/png": "[encoded data removed]",
      "text/plain": [
       "<Figure size 432x288 with 1 Axes>"
      ]
     },
     "metadata": {
      "needs_background": "light"
     },
     "output_type": "display_data"
    }
   ],
   "source": [
    "import matplotlib.pyplot as plt\n",
    "plt.title('Keras Accuracy vs val_accuracy')\n",
    "\n",
    "plt.plot(history.history.get('accuracy'), color='blue')\n",
    "plt.plot(history.history.get('val_accuracy'), color='red')\n",
    "plt.legend(['accuracy', 'val_accuracy'])\n",
    "\n",
    "plt.grid()\n",
    "plt.show()"
   ]
  },
  {
   "cell_type": "code",
   "execution_count": 11,
   "metadata": {},
   "outputs": [
    {
     "data": {
      "image/png": "[encoded data removed]",
      "text/plain": [
       "<Figure size 432x288 with 1 Axes>"
      ]
     },
     "metadata": {
      "needs_background": "light"
     },
     "output_type": "display_data"
    }
   ],
   "source": [
    "import matplotlib.pyplot as plt\n",
    "plt.title('Keras loss vs val_loss ')\n",
    "plt.plot(history.history.get('loss'), color='blue')\n",
    "plt.plot(history.history.get('val_loss'), color='red')\n",
    "plt.legend(['loss', 'val_loss'])\n",
    "plt.grid()\n",
    "plt.show()"
   ]
  },
  {
   "cell_type": "code",
   "execution_count": 12,
   "metadata": {},
   "outputs": [
    {
     "name": "stdout",
     "output_type": "stream",
     "text": [
      "50/50 [==============================] - 1s 12ms/step\n"
     ]
    },
    {
     "data": {
      "text/plain": [
       "95.99999785423279"
      ]
     },
     "execution_count": 12,
     "metadata": {},
     "output_type": "execute_result"
    }
   ],
   "source": [
    "model.evaluate(train_data, train_labels)[1] * 100.0"
   ]
  },
  {
   "cell_type": "code",
   "execution_count": 13,
   "metadata": {},
   "outputs": [
    {
     "data": {
      "text/plain": [
       "98.0"
      ]
     },
     "execution_count": 13,
     "metadata": {},
     "output_type": "execute_result"
    }
   ],
   "source": [
    "# 找出過去幾次訓練中的最佳參數\n",
    "\n",
    "model.load_weights('weights.hdf5')\n",
    "np.sum(model.predict_classes(train_data[:]) == np.argmax(train_labels, axis=1)) / len(train_data) * 100"
   ]
  },
  {
   "cell_type": "code",
   "execution_count": 14,
   "metadata": {},
   "outputs": [
    {
     "data": {
      "text/plain": [
       "[<tf.Variable 'conv2d_1/kernel:0' shape=(2, 2, 1, 5) dtype=float32, numpy=\n",
       " array([[[[ 0.09520039,  0.1607752 , -0.05962634, -0.32753307,\n",
       "            0.08876777]],\n",
       " \n",
       "         [[ 0.15612306,  0.02754378, -0.25731385,  0.20032097,\n",
       "            0.36333543]]],\n",
       " \n",
       " \n",
       "        [[[ 0.46601963, -0.27574164, -0.16969192,  0.3314297 ,\n",
       "           -0.13969807]],\n",
       " \n",
       "         [[ 0.34938446,  0.34394056, -0.23929298,  0.08947626,\n",
       "           -0.3154069 ]]]], dtype=float32)>,\n",
       " <tf.Variable 'conv2d_1/bias:0' shape=(5,) dtype=float32, numpy=\n",
       " array([0.01099795, 0.02816306, 0.        , 0.00048311, 0.00068906],\n",
       "       dtype=float32)>,\n",
       " <tf.Variable 'conv2d_2/kernel:0' shape=(2, 2, 5, 5) dtype=float32, numpy=\n",
       " array([[[[-0.1377926 , -0.22186366,  0.12226294, -0.22288914,\n",
       "            0.1681889 ],\n",
       "          [ 0.01053894, -0.13663134, -0.22221752,  0.13204564,\n",
       "           -0.30066684],\n",
       "          [ 0.35303378,  0.04781735,  0.284841  , -0.3752515 ,\n",
       "            0.3649882 ],\n",
       "          [-0.27629858, -0.04780031, -0.13832831, -0.3325986 ,\n",
       "           -0.1381957 ],\n",
       "          [ 0.3414092 ,  0.06202104, -0.334831  , -0.01692724,\n",
       "           -0.02836057]],\n",
       " \n",
       "         [[ 0.25388244, -0.09439548,  0.24930558, -0.34088   ,\n",
       "           -0.4071635 ],\n",
       "          [ 0.3968053 , -0.13552617, -0.25260493,  0.26335257,\n",
       "           -0.12430387],\n",
       "          [ 0.15215975, -0.2141612 , -0.33053547,  0.3713656 ,\n",
       "           -0.20423973],\n",
       "          [ 0.02459674, -0.08329252,  0.11101481, -0.33103392,\n",
       "            0.3008874 ],\n",
       "          [ 0.1721428 , -0.29123613,  0.08662614, -0.12783544,\n",
       "            0.12021621]]],\n",
       " \n",
       " \n",
       "        [[[-0.00188173,  0.07859884, -0.0966142 ,  0.13857548,\n",
       "           -0.19178614],\n",
       "          [-0.14230534, -0.0429404 , -0.04329257,  0.15879318,\n",
       "            0.30977842],\n",
       "          [-0.3547922 , -0.07100463,  0.33682042,  0.01850262,\n",
       "            0.03503227],\n",
       "          [ 0.07751858, -0.09802613,  0.34297192, -0.09915937,\n",
       "           -0.2554531 ],\n",
       "          [ 0.20178992, -0.37229362,  0.1100479 ,  0.12559989,\n",
       "           -0.34752244]],\n",
       " \n",
       "         [[ 0.2632855 , -0.33718437, -0.04372359,  0.36282519,\n",
       "            0.40095416],\n",
       "          [ 0.07252103,  0.17763741,  0.26748478, -0.15005954,\n",
       "            0.08769949],\n",
       "          [-0.21963589,  0.15951574,  0.08116138,  0.06738779,\n",
       "            0.13033235],\n",
       "          [ 0.11728209, -0.05357573,  0.3875078 ,  0.38789475,\n",
       "           -0.23297128],\n",
       "          [-0.2199385 , -0.0723767 ,  0.3526898 ,  0.248989  ,\n",
       "            0.20525697]]]], dtype=float32)>,\n",
       " <tf.Variable 'conv2d_2/bias:0' shape=(5,) dtype=float32, numpy=\n",
       " array([0.01742659, 0.00094726, 0.00489343, 0.02643166, 0.00259989],\n",
       "       dtype=float32)>,\n",
       " <tf.Variable 'conv2d_3/kernel:0' shape=(2, 2, 5, 5) dtype=float32, numpy=\n",
       " array([[[[ 0.10162665,  0.2877002 ,  0.09771378, -0.2641032 ,\n",
       "           -0.0947892 ],\n",
       "          [ 0.04770596, -0.28646263, -0.1388833 ,  0.04867185,\n",
       "           -0.19300185],\n",
       "          [-0.01897176,  0.0445086 ,  0.38560614, -0.26886597,\n",
       "           -0.25498417],\n",
       "          [ 0.23535855,  0.23835978, -0.05269425, -0.00425077,\n",
       "            0.24778627],\n",
       "          [-0.28222057, -0.28563723, -0.32742286,  0.22056054,\n",
       "           -0.18698509]],\n",
       " \n",
       "         [[ 0.25141284,  0.40163425,  0.24565893, -0.32035446,\n",
       "            0.19773366],\n",
       "          [-0.0223095 ,  0.09706392,  0.09177557, -0.08253453,\n",
       "            0.17112947],\n",
       "          [-0.15527497,  0.34734443,  0.25246805,  0.37614238,\n",
       "           -0.32129636],\n",
       "          [ 0.23109026,  0.0355671 , -0.18860862,  0.38176572,\n",
       "           -0.18475361],\n",
       "          [ 0.3304565 ,  0.21094242,  0.1920399 ,  0.0919809 ,\n",
       "            0.14535572]]],\n",
       " \n",
       " \n",
       "        [[[-0.04131906,  0.38032424,  0.27886474,  0.03852113,\n",
       "           -0.2509988 ],\n",
       "          [-0.05608839, -0.10984208,  0.21604708,  0.33422413,\n",
       "           -0.23503192],\n",
       "          [-0.02005631,  0.14469422,  0.0280581 ,  0.04835602,\n",
       "           -0.05322179],\n",
       "          [-0.32719812,  0.07791034, -0.15511984, -0.28797537,\n",
       "           -0.05634328],\n",
       "          [-0.02672697,  0.23046993, -0.18349902, -0.03441469,\n",
       "           -0.20207013]],\n",
       " \n",
       "         [[ 0.281207  ,  0.21957044,  0.3502908 ,  0.24676274,\n",
       "            0.01056059],\n",
       "          [-0.14536339,  0.36769757,  0.37171522, -0.10094006,\n",
       "            0.16949694],\n",
       "          [ 0.27220342, -0.08811438,  0.07223352, -0.3079523 ,\n",
       "           -0.1853027 ],\n",
       "          [ 0.38445076, -0.21237685, -0.18662882, -0.0421688 ,\n",
       "           -0.28605717],\n",
       "          [-0.01641318,  0.2487734 , -0.17041916,  0.35300934,\n",
       "           -0.13806847]]]], dtype=float32)>,\n",
       " <tf.Variable 'conv2d_3/bias:0' shape=(5,) dtype=float32, numpy=\n",
       " array([0.01915587, 0.02018898, 0.00552322, 0.02032143, 0.01952646],\n",
       "       dtype=float32)>,\n",
       " <tf.Variable 'dense_1/kernel:0' shape=(245, 32) dtype=float32, numpy=\n",
       " array([[-0.13802615,  0.00706551,  0.10800808, ..., -0.13818407,\n",
       "         -0.12002699,  0.01094231],\n",
       "        [-0.07146078, -0.1335189 , -0.0685653 , ..., -0.10990249,\n",
       "         -0.09841382,  0.09799735],\n",
       "        [ 0.00998005, -0.13360395, -0.09734412, ..., -0.07241624,\n",
       "         -0.08859664,  0.03207339],\n",
       "        ...,\n",
       "        [ 0.06518868, -0.07825589,  0.08380653, ...,  0.01992486,\n",
       "         -0.04981234, -0.13128595],\n",
       "        [-0.02143455,  0.01533583,  0.05076513, ...,  0.02045762,\n",
       "          0.12673768,  0.10243727],\n",
       "        [-0.09892747, -0.04975875,  0.05855652, ...,  0.08729272,\n",
       "          0.07762051, -0.1647749 ]], dtype=float32)>,\n",
       " <tf.Variable 'dense_1/bias:0' shape=(32,) dtype=float32, numpy=\n",
       " array([ 0.02118605,  0.0156243 ,  0.0046206 ,  0.        ,  0.        ,\n",
       "         0.01111907,  0.02710291,  0.01733087,  0.01067457, -0.00755061,\n",
       "         0.01092318,  0.02817694, -0.00313513, -0.00296691, -0.00088205,\n",
       "         0.00458395, -0.0052571 ,  0.        , -0.01189326,  0.01804273,\n",
       "         0.01725363,  0.01549097,  0.        , -0.00785154,  0.        ,\n",
       "         0.01436288,  0.01079761, -0.01242696,  0.01362781,  0.03083495,\n",
       "         0.        , -0.01765647], dtype=float32)>,\n",
       " <tf.Variable 'dense_2/kernel:0' shape=(32, 3) dtype=float32, numpy=\n",
       " array([[-0.14770344, -0.01163644,  0.16611914],\n",
       "        [ 0.04252312,  0.13165477,  0.2983119 ],\n",
       "        [-0.05510002,  0.15933163,  0.31812224],\n",
       "        [ 0.40522543, -0.16076118,  0.39894876],\n",
       "        [ 0.34497246, -0.14967266,  0.12702444],\n",
       "        [ 0.18179   , -0.38382116, -0.19942942],\n",
       "        [-0.01325146, -0.2731686 ,  0.26988345],\n",
       "        [-0.216394  ,  0.3083456 ,  0.11341821],\n",
       "        [-0.2071605 ,  0.44307262,  0.04439855],\n",
       "        [-0.3722263 ,  0.28587148,  0.29012254],\n",
       "        [-0.29570302,  0.31128865, -0.34263262],\n",
       "        [-0.02143942,  0.01463244,  0.33734494],\n",
       "        [-0.01642798,  0.28430516, -0.35595658],\n",
       "        [-0.10140696, -0.06855379,  0.02324219],\n",
       "        [ 0.16827142,  0.3670227 , -0.32118112],\n",
       "        [ 0.3699046 ,  0.31585637, -0.3353363 ],\n",
       "        [-0.14295639, -0.30440995,  0.24410579],\n",
       "        [-0.2649104 ,  0.40529284, -0.32844928],\n",
       "        [ 0.21418935, -0.17376971, -0.14779975],\n",
       "        [ 0.05474208, -0.35941428,  0.3992668 ],\n",
       "        [ 0.36841437, -0.41253176,  0.36995858],\n",
       "        [-0.25136563,  0.39013717, -0.4508407 ],\n",
       "        [-0.3689068 , -0.06288579, -0.27043605],\n",
       "        [ 0.03501373, -0.21105245,  0.31232122],\n",
       "        [-0.2099828 , -0.06757265,  0.39929494],\n",
       "        [ 0.25883165,  0.0132982 ,  0.14534962],\n",
       "        [ 0.24127185, -0.21992663, -0.22977655],\n",
       "        [-0.27448264,  0.15526144, -0.09801747],\n",
       "        [-0.32577968, -0.0637996 , -0.04744802],\n",
       "        [ 0.27559778,  0.27064377,  0.43911672],\n",
       "        [ 0.1436654 , -0.11504889,  0.18660703],\n",
       "        [-0.31945822,  0.20511778,  0.34410948]], dtype=float32)>,\n",
       " <tf.Variable 'dense_2/bias:0' shape=(3,) dtype=float32, numpy=array([ 0.01138948, -0.00988501, -0.00211253], dtype=float32)>]"
      ]
     },
     "execution_count": 14,
     "metadata": {},
     "output_type": "execute_result"
    }
   ],
   "source": [
    "# 檢視載入權重\n",
    "model.weights"
   ]
  }
 ],
 "metadata": {
  "kernelspec": {
   "display_name": "Python 3",
   "language": "python",
   "name": "python3"
  },
  "language_info": {
   "codemirror_mode": {
    "name": "ipython",
    "version": 3
   },
   "file_extension": ".py",
   "mimetype": "text/x-python",
   "name": "python",
   "nbconvert_exporter": "python",
   "pygments_lexer": "ipython3",
   "version": "3.7.4"
  }
 },
 "nbformat": 4,
 "nbformat_minor": 2
}
