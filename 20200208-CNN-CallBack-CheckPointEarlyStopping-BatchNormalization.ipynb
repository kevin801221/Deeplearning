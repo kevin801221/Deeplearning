{
 "cells": [
  {
   "cell_type": "code",
   "execution_count": 1,
   "metadata": {},
   "outputs": [
    {
     "name": "stdout",
     "output_type": "stream",
     "text": [
      "c:\\python\\20191207-yyyymmdd-第四階段-假日\\20200208-day7\\AM\n"
     ]
    }
   ],
   "source": [
    "path = %pwd\n",
    "print(path)"
   ]
  },
  {
   "cell_type": "code",
   "execution_count": 2,
   "metadata": {},
   "outputs": [],
   "source": [
    "import ast , numpy as np\n",
    "with open('train_data.txt') as f:\n",
    "    train_data = np.array(ast.literal_eval(f.read())).astype('float32')\n",
    "\n",
    "with open('train_labels.txt') as f:\n",
    "    train_labels = np.array(ast.literal_eval(f.read())).astype('int')\n",
    "    "
   ]
  },
  {
   "cell_type": "code",
   "execution_count": 3,
   "metadata": {},
   "outputs": [
    {
     "data": {
      "image/png": "[encoded data removed]",
      "text/plain": [
       "<Figure size 432x288 with 1 Axes>"
      ]
     },
     "metadata": {
      "needs_background": "light"
     },
     "output_type": "display_data"
    }
   ],
   "source": [
    "%matplotlib inline\n",
    "import matplotlib.pyplot as plt\n",
    "plt.imshow(train_data[2, :, :, :].reshape(28, 28), cmap='gray_r')\n",
    "plt.show()"
   ]
  },
  {
   "cell_type": "code",
   "execution_count": 4,
   "metadata": {},
   "outputs": [
    {
     "data": {
      "text/plain": [
       "((50, 28, 28, 1), (50, 3), array([[0, 1, 0]]))"
      ]
     },
     "execution_count": 4,
     "metadata": {},
     "output_type": "execute_result"
    }
   ],
   "source": [
    "# 檢查數據狀況\n",
    "train_data.shape, train_labels.shape, train_labels[:1]"
   ]
  },
  {
   "cell_type": "code",
   "execution_count": 5,
   "metadata": {},
   "outputs": [],
   "source": [
    "# 建立 model \n",
    "# the Sequential model\n",
    "# the Model class used with the functional API."
   ]
  },
  {
   "cell_type": "code",
   "execution_count": 6,
   "metadata": {},
   "outputs": [
    {
     "name": "stderr",
     "output_type": "stream",
     "text": [
      "Using TensorFlow backend.\n"
     ]
    },
    {
     "name": "stdout",
     "output_type": "stream",
     "text": [
      "Model: \"sequential_1\"\n",
      "_________________________________________________________________\n",
      "Layer (type)                 Output Shape              Param #   \n",
      "=================================================================\n",
      "conv2d_1 (Conv2D)            (None, 28, 28, 5)         25        \n",
      "_________________________________________________________________\n",
      "batch_normalization_1 (Batch (None, 28, 28, 5)         20        \n",
      "_________________________________________________________________\n",
      "conv2d_2 (Conv2D)            (None, 28, 28, 5)         105       \n",
      "_________________________________________________________________\n",
      "batch_normalization_2 (Batch (None, 28, 28, 5)         20        \n",
      "_________________________________________________________________\n",
      "conv2d_3 (Conv2D)            (None, 28, 28, 5)         105       \n",
      "_________________________________________________________________\n",
      "flatten_1 (Flatten)          (None, 3920)              0         \n",
      "_________________________________________________________________\n",
      "dense_1 (Dense)              (None, 32)                125472    \n",
      "_________________________________________________________________\n",
      "dense_2 (Dense)              (None, 3)                 99        \n",
      "=================================================================\n",
      "Total params: 125,846\n",
      "Trainable params: 125,826\n",
      "Non-trainable params: 20\n",
      "_________________________________________________________________\n"
     ]
    }
   ],
   "source": [
    "# the Sequential model type II\n",
    "from keras.models import Sequential\n",
    "from keras.layers import Dense, Activation, Conv2D, Flatten, MaxPooling2D, Dropout, BatchNormalization\n",
    "\n",
    "model = Sequential()\n",
    "model.add( Conv2D(filters= 5, kernel_size=(2,2), activation='relu', padding='same', input_shape=(28, 28, 1)) )\n",
    "#model.add( Dropout(0.25) )\n",
    "model.add( BatchNormalization() )\n",
    "model.add( Conv2D(filters= 5, kernel_size=(2,2), activation='relu', padding='same') )\n",
    "#model.add( Dropout(0.25) )\n",
    "model.add( BatchNormalization() )\n",
    "model.add( Conv2D(filters= 5, kernel_size=(2,2), activation='relu', padding='same') )\n",
    "model.add( Flatten())\n",
    "\n",
    "model.add( Dense(units= 32, activation='relu', input_dim=784) )\n",
    "model.add( Dense(units= 3, activation='softmax') )\n",
    "model.summary()"
   ]
  },
  {
   "cell_type": "code",
   "execution_count": 7,
   "metadata": {},
   "outputs": [],
   "source": [
    "# dict_keys(['val_loss', 'val_accuracy', 'loss', 'accuracy'])\n",
    "# Keras : 2.3.0\n",
    "# https://keras.io/callbacks/#earlystopping\n",
    "\n",
    "from keras.callbacks import ModelCheckpoint\n",
    "from keras.callbacks import EarlyStopping\n",
    "checkpoint = ModelCheckpoint('weights.hdf5', monitor='accuracy', save_best_only=True, verbose=1) # 顯示變更部分\n",
    "earlystopping = EarlyStopping(monitor='val_accuracy', patience=5, verbose=1) # 針對3次 val_accuracy 沒有改變就自動停止\n",
    "callbacks_list = [earlystopping, checkpoint]"
   ]
  },
  {
   "cell_type": "code",
   "execution_count": 8,
   "metadata": {
    "scrolled": false
   },
   "outputs": [
    {
     "name": "stdout",
     "output_type": "stream",
     "text": [
      "Train on 40 samples, validate on 10 samples\n",
      "Epoch 1/100\n",
      "40/40 [==============================] - 4s 89ms/step - loss: 1.0073 - accuracy: 0.5250 - val_loss: 1.0812 - val_accuracy: 0.9000\n",
      "\n",
      "Epoch 00001: accuracy improved from -inf to 0.52500, saving model to weights.hdf5\n",
      "Epoch 2/100\n",
      "40/40 [==============================] - 0s 4ms/step - loss: 0.2340 - accuracy: 0.9000 - val_loss: 1.0369 - val_accuracy: 0.9000\n",
      "\n",
      "Epoch 00002: accuracy improved from 0.52500 to 0.90000, saving model to weights.hdf5\n",
      "Epoch 3/100\n",
      "40/40 [==============================] - 0s 2ms/step - loss: 0.1034 - accuracy: 0.9500 - val_loss: 0.9759 - val_accuracy: 0.9000\n",
      "\n",
      "Epoch 00003: accuracy improved from 0.90000 to 0.95000, saving model to weights.hdf5\n",
      "Epoch 4/100\n",
      "40/40 [==============================] - 0s 6ms/step - loss: 0.0427 - accuracy: 1.0000 - val_loss: 0.9294 - val_accuracy: 1.0000\n",
      "\n",
      "Epoch 00004: accuracy improved from 0.95000 to 1.00000, saving model to weights.hdf5\n",
      "Epoch 5/100\n",
      "40/40 [==============================] - 0s 2ms/step - loss: 0.0389 - accuracy: 1.0000 - val_loss: 0.8751 - val_accuracy: 1.0000\n",
      "\n",
      "Epoch 00005: accuracy did not improve from 1.00000\n",
      "Epoch 6/100\n",
      "40/40 [==============================] - 0s 4ms/step - loss: 0.0183 - accuracy: 1.0000 - val_loss: 0.8006 - val_accuracy: 1.0000\n",
      "\n",
      "Epoch 00006: accuracy did not improve from 1.00000\n",
      "Epoch 7/100\n",
      "40/40 [==============================] - 0s 4ms/step - loss: 0.0035 - accuracy: 1.0000 - val_loss: 0.7329 - val_accuracy: 1.0000\n",
      "\n",
      "Epoch 00007: accuracy did not improve from 1.00000\n",
      "Epoch 8/100\n",
      "40/40 [==============================] - 0s 3ms/step - loss: 0.0029 - accuracy: 1.0000 - val_loss: 0.6762 - val_accuracy: 1.0000\n",
      "\n",
      "Epoch 00008: accuracy did not improve from 1.00000\n",
      "Epoch 9/100\n",
      "40/40 [==============================] - 0s 2ms/step - loss: 0.0037 - accuracy: 1.0000 - val_loss: 0.6287 - val_accuracy: 1.0000\n",
      "\n",
      "Epoch 00009: accuracy did not improve from 1.00000\n",
      "Epoch 00009: early stopping\n"
     ]
    }
   ],
   "source": [
    "# 編譯\n",
    "model.compile(optimizer='adam', loss='categorical_crossentropy', metrics=['accuracy'])\n",
    "# <keras.callbacks.callbacks.History at 0x1b93db60748>\n",
    "history = model.fit(train_data, train_labels, batch_size=10, \n",
    "                    epochs=100, \n",
    "                    verbose=1, \n",
    "                    validation_split=0.2, \n",
    "                    callbacks = callbacks_list)"
   ]
  },
  {
   "cell_type": "code",
   "execution_count": 9,
   "metadata": {
    "scrolled": false
   },
   "outputs": [
    {
     "data": {
      "text/plain": [
       "dict_keys(['val_loss', 'val_accuracy', 'loss', 'accuracy'])"
      ]
     },
     "execution_count": 9,
     "metadata": {},
     "output_type": "execute_result"
    }
   ],
   "source": [
    "# <keras.callbacks.callbacks.History at 0x1b93db60748>\n",
    "history.history.keys()\n",
    "# history.history.get('loss'), history.history.get('accuracy')"
   ]
  },
  {
   "cell_type": "code",
   "execution_count": 10,
   "metadata": {},
   "outputs": [
    {
     "data": {
      "image/png": "[encoded data removed]",
      "text/plain": [
       "<Figure size 432x288 with 1 Axes>"
      ]
     },
     "metadata": {
      "needs_background": "light"
     },
     "output_type": "display_data"
    }
   ],
   "source": [
    "import matplotlib.pyplot as plt\n",
    "plt.title('Keras Accuracy vs val_accuracy')\n",
    "\n",
    "plt.plot(history.history.get('accuracy'), color='blue')\n",
    "plt.plot(history.history.get('val_accuracy'), color='red')\n",
    "plt.legend(['accuracy', 'val_accuracy'])\n",
    "\n",
    "plt.grid()\n",
    "plt.show()"
   ]
  },
  {
   "cell_type": "code",
   "execution_count": 11,
   "metadata": {},
   "outputs": [
    {
     "data": {
      "image/png": "[encoded data removed]",
      "text/plain": [
       "<Figure size 432x288 with 1 Axes>"
      ]
     },
     "metadata": {
      "needs_background": "light"
     },
     "output_type": "display_data"
    }
   ],
   "source": [
    "import matplotlib.pyplot as plt\n",
    "plt.title('Keras loss vs val_loss ')\n",
    "plt.plot(history.history.get('loss'), color='blue')\n",
    "plt.plot(history.history.get('val_loss'), color='red')\n",
    "plt.legend(['loss', 'val_loss'])\n",
    "plt.grid()\n",
    "plt.show()"
   ]
  },
  {
   "cell_type": "code",
   "execution_count": 12,
   "metadata": {},
   "outputs": [
    {
     "name": "stdout",
     "output_type": "stream",
     "text": [
      "50/50 [==============================] - 0s 8ms/step\n"
     ]
    },
    {
     "data": {
      "text/plain": [
       "87.99999952316284"
      ]
     },
     "execution_count": 12,
     "metadata": {},
     "output_type": "execute_result"
    }
   ],
   "source": [
    "model.evaluate(train_data, train_labels)[1] * 100.0"
   ]
  },
  {
   "cell_type": "code",
   "execution_count": 13,
   "metadata": {},
   "outputs": [
    {
     "data": {
      "text/plain": [
       "94.0"
      ]
     },
     "execution_count": 13,
     "metadata": {},
     "output_type": "execute_result"
    }
   ],
   "source": [
    "# 找出過去幾次訓練中的最佳參數\n",
    "\n",
    "model.load_weights('weights.hdf5')\n",
    "np.sum(model.predict_classes(train_data[:]) == np.argmax(train_labels, axis=1)) / len(train_data) * 100"
   ]
  },
  {
   "cell_type": "code",
   "execution_count": 14,
   "metadata": {},
   "outputs": [
    {
     "data": {
      "text/plain": [
       "[<tf.Variable 'conv2d_1/kernel:0' shape=(2, 2, 1, 5) dtype=float32, numpy=\n",
       " array([[[[-0.21995458, -0.36657166,  0.4696081 , -0.09725926,\n",
       "            0.14331701]],\n",
       " \n",
       "         [[-0.08239313, -0.35631302,  0.06796208, -0.276285  ,\n",
       "           -0.49419186]]],\n",
       " \n",
       " \n",
       "        [[[ 0.06872216,  0.32614902,  0.38981467,  0.500161  ,\n",
       "           -0.4313793 ]],\n",
       " \n",
       "         [[-0.2567509 ,  0.4380206 ,  0.18133102, -0.02478982,\n",
       "            0.04926238]]]], dtype=float32)>,\n",
       " <tf.Variable 'conv2d_1/bias:0' shape=(5,) dtype=float32, numpy=\n",
       " array([-0.00302811, -0.0025801 , -0.00680859,  0.00324784,  0.00142716],\n",
       "       dtype=float32)>,\n",
       " <tf.Variable 'batch_normalization_1/gamma:0' shape=(5,) dtype=float32, numpy=\n",
       " array([0.9984865 , 0.9897322 , 1.0038915 , 1.0081    , 0.99720526],\n",
       "       dtype=float32)>,\n",
       " <tf.Variable 'batch_normalization_1/beta:0' shape=(5,) dtype=float32, numpy=\n",
       " array([ 0.0068376 ,  0.00291452, -0.00801577,  0.00825943,  0.00786824],\n",
       "       dtype=float32)>,\n",
       " <tf.Variable 'conv2d_2/kernel:0' shape=(2, 2, 5, 5) dtype=float32, numpy=\n",
       " array([[[[-0.22195816, -0.11641381, -0.17787462,  0.18393186,\n",
       "           -0.11135276],\n",
       "          [-0.34942695,  0.24858508, -0.19814679, -0.0457692 ,\n",
       "            0.10301447],\n",
       "          [-0.00114403,  0.0631712 ,  0.2957728 ,  0.01347704,\n",
       "            0.28530714],\n",
       "          [ 0.33935824,  0.2822612 , -0.17197165,  0.3804899 ,\n",
       "           -0.18390441],\n",
       "          [ 0.08996502, -0.19762285, -0.2610888 , -0.01212201,\n",
       "           -0.26338583]],\n",
       " \n",
       "         [[ 0.06092142,  0.3619684 , -0.05268278,  0.03768516,\n",
       "            0.20488952],\n",
       "          [ 0.18006207,  0.08776555,  0.05955885,  0.10894938,\n",
       "           -0.18323077],\n",
       "          [ 0.13039851,  0.22516935,  0.31727397,  0.23508845,\n",
       "           -0.26203582],\n",
       "          [ 0.36664373, -0.15726642, -0.23792684,  0.30773893,\n",
       "            0.32175043],\n",
       "          [-0.22491018, -0.14966692,  0.07137457, -0.38686997,\n",
       "            0.30956173]]],\n",
       " \n",
       " \n",
       "        [[[-0.0390691 ,  0.18415515, -0.21582448,  0.17086166,\n",
       "            0.0962979 ],\n",
       "          [ 0.20305835,  0.06359894, -0.02339522,  0.0202604 ,\n",
       "            0.37411436],\n",
       "          [ 0.10614201,  0.07353275,  0.21299875,  0.07850458,\n",
       "            0.13817294],\n",
       "          [-0.08496919, -0.38352162, -0.24361446,  0.21222155,\n",
       "            0.19159181],\n",
       "          [ 0.05894564, -0.3082503 , -0.23113683,  0.15067413,\n",
       "            0.36760163]],\n",
       " \n",
       "         [[ 0.19023885, -0.00405205,  0.17557591,  0.3224875 ,\n",
       "           -0.3131605 ],\n",
       "          [-0.1593803 ,  0.30584678,  0.02129149, -0.1172323 ,\n",
       "            0.27935836],\n",
       "          [ 0.05956493, -0.12892409,  0.16088152,  0.37931344,\n",
       "           -0.3891115 ],\n",
       "          [-0.17161776,  0.28628433, -0.05456757,  0.1744996 ,\n",
       "            0.2733354 ],\n",
       "          [-0.0698311 ,  0.3338265 , -0.3293538 , -0.27145454,\n",
       "           -0.26277754]]]], dtype=float32)>,\n",
       " <tf.Variable 'conv2d_2/bias:0' shape=(5,) dtype=float32, numpy=\n",
       " array([-0.0062946 , -0.00011628, -0.00790056,  0.00778431,  0.0026724 ],\n",
       "       dtype=float32)>,\n",
       " <tf.Variable 'batch_normalization_2/gamma:0' shape=(5,) dtype=float32, numpy=\n",
       " array([1.0025762 , 0.9972908 , 0.99323756, 1.003058  , 1.0067987 ],\n",
       "       dtype=float32)>,\n",
       " <tf.Variable 'batch_normalization_2/beta:0' shape=(5,) dtype=float32, numpy=\n",
       " array([-0.00709348,  0.00153962,  0.00260405, -0.00050541, -0.00254464],\n",
       "       dtype=float32)>,\n",
       " <tf.Variable 'conv2d_3/kernel:0' shape=(2, 2, 5, 5) dtype=float32, numpy=\n",
       " array([[[[-0.16176131, -0.33220273,  0.19144575, -0.15555961,\n",
       "            0.1789535 ],\n",
       "          [-0.00551307,  0.04235794, -0.23934741, -0.13661818,\n",
       "            0.12485239],\n",
       "          [ 0.01174165,  0.04333168, -0.19987275, -0.35408723,\n",
       "            0.01697557],\n",
       "          [ 0.00718729,  0.2619714 , -0.17236793, -0.35074908,\n",
       "            0.09494952],\n",
       "          [-0.14784351, -0.3365023 ,  0.0344458 , -0.12245019,\n",
       "            0.09830192]],\n",
       " \n",
       "         [[ 0.22083652,  0.3563284 , -0.13295199, -0.2204667 ,\n",
       "            0.3294345 ],\n",
       "          [ 0.21961838,  0.2347534 , -0.06861662,  0.13956134,\n",
       "           -0.08786336],\n",
       "          [-0.33792913,  0.17940079,  0.12420781, -0.24168657,\n",
       "           -0.31097895],\n",
       "          [-0.03477626, -0.25308344,  0.04962115,  0.08581962,\n",
       "            0.16422378],\n",
       "          [-0.14791223, -0.13738576,  0.30556214, -0.06067656,\n",
       "           -0.25571728]]],\n",
       " \n",
       " \n",
       "        [[[-0.16034481, -0.19002365,  0.29515904, -0.09009186,\n",
       "           -0.13744724],\n",
       "          [-0.37378076, -0.0754342 , -0.03762332, -0.2270541 ,\n",
       "            0.25416976],\n",
       "          [ 0.06964609, -0.02654892, -0.30000997, -0.15283789,\n",
       "           -0.3769893 ],\n",
       "          [ 0.36668706,  0.32980746,  0.25257295,  0.02130154,\n",
       "            0.28076547],\n",
       "          [ 0.02970588, -0.03097532, -0.31135252, -0.07408225,\n",
       "           -0.21044342]],\n",
       " \n",
       "         [[-0.08986391, -0.35942286,  0.19965528,  0.07265158,\n",
       "           -0.24939647],\n",
       "          [ 0.28111398, -0.10535651,  0.18405254,  0.09491955,\n",
       "            0.31349394],\n",
       "          [ 0.06034246, -0.32702592, -0.13566951, -0.36498627,\n",
       "           -0.38520643],\n",
       "          [-0.01900716, -0.37636477, -0.11955598, -0.02397206,\n",
       "           -0.31012204],\n",
       "          [-0.21122734, -0.34240374,  0.22431532, -0.38019657,\n",
       "            0.17510532]]]], dtype=float32)>,\n",
       " <tf.Variable 'conv2d_3/bias:0' shape=(5,) dtype=float32, numpy=\n",
       " array([-8.27237964e-04,  1.13477865e-02, -6.93218783e-03, -1.36051606e-03,\n",
       "         2.05234392e-06], dtype=float32)>,\n",
       " <tf.Variable 'dense_1/kernel:0' shape=(3920, 32) dtype=float32, numpy=\n",
       " array([[-0.0037161 ,  0.01481108,  0.00582211, ..., -0.02863246,\n",
       "          0.01417706,  0.03296817],\n",
       "        [-0.02007008,  0.01393835,  0.02793312, ...,  0.02699271,\n",
       "          0.00412539, -0.03022868],\n",
       "        [ 0.03360354, -0.0226656 , -0.03222039, ..., -0.0242724 ,\n",
       "         -0.01801423, -0.00735874],\n",
       "        ...,\n",
       "        [-0.00567139,  0.02163541, -0.02874991, ..., -0.03177533,\n",
       "          0.02571274, -0.02229819],\n",
       "        [ 0.03094622, -0.00071214, -0.03280816, ...,  0.02733213,\n",
       "         -0.00817589,  0.02143869],\n",
       "        [ 0.03683808, -0.02381736, -0.01128954, ..., -0.01956294,\n",
       "         -0.03840604,  0.00272722]], dtype=float32)>,\n",
       " <tf.Variable 'dense_1/bias:0' shape=(32,) dtype=float32, numpy=\n",
       " array([-0.00497895,  0.00237853, -0.00059948,  0.00089857,  0.002536  ,\n",
       "        -0.00498246,  0.00500371,  0.00015467, -0.00496109, -0.00498249,\n",
       "        -0.00498185, -0.00125246,  0.00395474, -0.00044006,  0.00635814,\n",
       "         0.00461696,  0.00018442, -0.00498227,  0.0044453 ,  0.00276965,\n",
       "        -0.00310777,  0.0022443 ,  0.00069429, -0.00141948, -0.00497894,\n",
       "        -0.00498237, -0.00177429, -0.00441913,  0.00076718, -0.00023549,\n",
       "         0.00321324, -0.00442205], dtype=float32)>,\n",
       " <tf.Variable 'dense_2/kernel:0' shape=(32, 3) dtype=float32, numpy=\n",
       " array([[-0.30263773, -0.3674131 , -0.04497045],\n",
       "        [ 0.14358495, -0.28843054, -0.14604703],\n",
       "        [-0.13386424,  0.32434523,  0.19857535],\n",
       "        [ 0.110116  ,  0.20391789, -0.3746352 ],\n",
       "        [ 0.13790925,  0.0398631 ,  0.15239133],\n",
       "        [-0.16468994,  0.1350535 , -0.36253837],\n",
       "        [ 0.4008129 ,  0.10344741, -0.16596128],\n",
       "        [-0.03683216, -0.15209454,  0.20866354],\n",
       "        [-0.26963657,  0.3714298 ,  0.33183914],\n",
       "        [ 0.1071796 ,  0.3734811 , -0.20900054],\n",
       "        [ 0.2250856 ,  0.29893678,  0.23043475],\n",
       "        [ 0.39421317,  0.11702142,  0.30934772],\n",
       "        [ 0.3795379 ,  0.14869781,  0.10837707],\n",
       "        [-0.12152816,  0.34527308,  0.02634034],\n",
       "        [-0.03958214, -0.13707727,  0.00575085],\n",
       "        [-0.20187783, -0.25987568, -0.30950546],\n",
       "        [-0.18584545,  0.32064745,  0.04776733],\n",
       "        [-0.4135821 , -0.02165919, -0.36774218],\n",
       "        [ 0.18332215,  0.05540361,  0.06930764],\n",
       "        [ 0.03282803,  0.25813544, -0.11655803],\n",
       "        [-0.07348672, -0.3322183 ,  0.29502422],\n",
       "        [-0.30119562,  0.39708713,  0.13006842],\n",
       "        [-0.2284751 , -0.1322417 ,  0.07492818],\n",
       "        [ 0.21649855,  0.279365  , -0.31228387],\n",
       "        [-0.36565334, -0.26709062, -0.3869741 ],\n",
       "        [-0.22388205,  0.07630128, -0.30808693],\n",
       "        [-0.2297107 ,  0.38551113,  0.26279607],\n",
       "        [ 0.29413214,  0.1838246 ,  0.16954918],\n",
       "        [ 0.07273149, -0.28437302,  0.34041443],\n",
       "        [ 0.34598368, -0.10466112, -0.07181361],\n",
       "        [-0.41618633, -0.16053337, -0.03634061],\n",
       "        [-0.39392045, -0.296664  ,  0.12681846]], dtype=float32)>,\n",
       " <tf.Variable 'dense_2/bias:0' shape=(3,) dtype=float32, numpy=array([ 0.00335249, -0.00122516, -0.00070617], dtype=float32)>,\n",
       " <tf.Variable 'batch_normalization_1/moving_mean:0' shape=(5,) dtype=float32, numpy=\n",
       " array([1.9678711e-05, 4.2748521e-03, 4.3131340e-02, 6.1571570e-03,\n",
       "        9.5070885e-05], dtype=float32)>,\n",
       " <tf.Variable 'batch_normalization_1/moving_variance:0' shape=(5,) dtype=float32, numpy=\n",
       " array([0.8514582 , 0.85219675, 0.87125325, 0.8522094 , 0.85145986],\n",
       "       dtype=float32)>,\n",
       " <tf.Variable 'batch_normalization_2/moving_mean:0' shape=(5,) dtype=float32, numpy=\n",
       " array([0.03662137, 0.03707364, 0.04335802, 0.088493  , 0.03285906],\n",
       "       dtype=float32)>,\n",
       " <tf.Variable 'batch_normalization_2/moving_variance:0' shape=(5,) dtype=float32, numpy=\n",
       " array([0.87684333, 0.8884267 , 0.88566625, 0.97456306, 0.91220766],\n",
       "       dtype=float32)>]"
      ]
     },
     "execution_count": 14,
     "metadata": {},
     "output_type": "execute_result"
    }
   ],
   "source": [
    "# 檢視載入權重\n",
    "model.weights"
   ]
  }
 ],
 "metadata": {
  "kernelspec": {
   "display_name": "Python 3",
   "language": "python",
   "name": "python3"
  },
  "language_info": {
   "codemirror_mode": {
    "name": "ipython",
    "version": 3
   },
   "file_extension": ".py",
   "mimetype": "text/x-python",
   "name": "python",
   "nbconvert_exporter": "python",
   "pygments_lexer": "ipython3",
   "version": "3.7.4"
  }
 },
 "nbformat": 4,
 "nbformat_minor": 2
}
