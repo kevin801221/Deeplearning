{
 "cells": [
  {
   "cell_type": "code",
   "execution_count": 1,
   "metadata": {},
   "outputs": [],
   "source": [
    "path = %pwd\n",
    "print(path)"
   ]
  },
  {
   "cell_type": "code",
   "execution_count": 2,
   "metadata": {},
   "outputs": [],
   "source": [
    "import ast , numpy as np\n",
    "with open('train_data.txt') as f:\n",
    "    train_data = np.array(ast.literal_eval(f.read())).astype('float32')\n",
    "\n",
    "with open('train_labels.txt') as f:\n",
    "    train_labels = np.array(ast.literal_eval(f.read())).astype('int')\n",
    "    "
   ]
  },
  {
   "cell_type": "code",
   "execution_count": 3,
   "metadata": {},
   "outputs": [
    {
     "data": {
      "image/png": "[encoded data removed]",
      "text/plain": [
       "<Figure size 432x288 with 1 Axes>"
      ]
     },
     "metadata": {
      "needs_background": "light"
     },
     "output_type": "display_data"
    }
   ],
   "source": [
    "%matplotlib inline\n",
    "import matplotlib.pyplot as plt\n",
    "plt.imshow(train_data[2, :, :, :].reshape(28, 28), cmap='gray_r')\n",
    "plt.show()"
   ]
  },
  {
   "cell_type": "code",
   "execution_count": 4,
   "metadata": {},
   "outputs": [
    {
     "data": {
      "text/plain": [
       "((50, 28, 28, 1), (50, 3), array([[0, 1, 0]]))"
      ]
     },
     "execution_count": 4,
     "metadata": {},
     "output_type": "execute_result"
    }
   ],
   "source": [
    "# 檢查數據狀況\n",
    "train_data.shape, train_labels.shape, train_labels[:1]"
   ]
  },
  {
   "cell_type": "code",
   "execution_count": 5,
   "metadata": {},
   "outputs": [],
   "source": [
    "# 建立 model \n",
    "# the Sequential model\n",
    "# the Model class used with the functional API."
   ]
  },
  {
   "cell_type": "code",
   "execution_count": 6,
   "metadata": {},
   "outputs": [
    {
     "name": "stderr",
     "output_type": "stream",
     "text": [
      "Using TensorFlow backend.\n"
     ]
    },
    {
     "name": "stdout",
     "output_type": "stream",
     "text": [
      "Model: \"sequential_1\"\n",
      "_________________________________________________________________\n",
      "Layer (type)                 Output Shape              Param #   \n",
      "=================================================================\n",
      "conv2d_1 (Conv2D)            (None, 28, 28, 5)         25        \n",
      "_________________________________________________________________\n",
      "dropout_1 (Dropout)          (None, 28, 28, 5)         0         \n",
      "_________________________________________________________________\n",
      "conv2d_2 (Conv2D)            (None, 28, 28, 5)         105       \n",
      "_________________________________________________________________\n",
      "dropout_2 (Dropout)          (None, 28, 28, 5)         0         \n",
      "_________________________________________________________________\n",
      "conv2d_3 (Conv2D)            (None, 28, 28, 5)         105       \n",
      "_________________________________________________________________\n",
      "flatten_1 (Flatten)          (None, 3920)              0         \n",
      "_________________________________________________________________\n",
      "dense_1 (Dense)              (None, 32)                125472    \n",
      "_________________________________________________________________\n",
      "dense_2 (Dense)              (None, 3)                 99        \n",
      "=================================================================\n",
      "Total params: 125,806\n",
      "Trainable params: 125,806\n",
      "Non-trainable params: 0\n",
      "_________________________________________________________________\n"
     ]
    }
   ],
   "source": [
    "# the Sequential model type II\n",
    "from keras.models import Sequential\n",
    "from keras.layers import Dense, Activation, Conv2D, Flatten, MaxPooling2D, Dropout\n",
    "\n",
    "model = Sequential()\n",
    "model.add( Conv2D(filters= 5, kernel_size=(2,2), activation='relu', padding='same', input_shape=(28, 28, 1)) )\n",
    "model.add( Dropout(0.25) )\n",
    "model.add( Conv2D(filters= 5, kernel_size=(2,2), activation='relu', padding='same') )\n",
    "model.add( Dropout(0.25) )\n",
    "model.add( Conv2D(filters= 5, kernel_size=(2,2), activation='relu', padding='same') )\n",
    "model.add( Flatten())\n",
    "\n",
    "model.add( Dense(units= 32, activation='relu', input_dim=784) )\n",
    "model.add( Dense(units= 3, activation='softmax') )\n",
    "model.summary()"
   ]
  },
  {
   "cell_type": "code",
   "execution_count": 7,
   "metadata": {},
   "outputs": [],
   "source": [
    "# dict_keys(['val_loss', 'val_accuracy', 'loss', 'accuracy'])\n",
    "# Keras : 2.3.0\n",
    "# https://keras.io/callbacks/#earlystopping\n",
    "\n",
    "from keras.callbacks import ModelCheckpoint\n",
    "from keras.callbacks import EarlyStopping\n",
    "checkpoint = ModelCheckpoint('weights.hdf5', monitor='accuracy', save_best_only=True, verbose=1) # 顯示變更部分\n",
    "earlystopping = EarlyStopping(monitor='val_accuracy', patience=5, verbose=1) # 針對3次 val_accuracy 沒有改變就自動停止\n",
    "callbacks_list = [earlystopping, checkpoint]"
   ]
  },
  {
   "cell_type": "code",
   "execution_count": 8,
   "metadata": {
    "scrolled": true
   },
   "outputs": [
    {
     "name": "stdout",
     "output_type": "stream",
     "text": [
      "Train on 40 samples, validate on 10 samples\n",
      "Epoch 1/100\n",
      "40/40 [==============================] - 2s 55ms/step - loss: 1.0000 - accuracy: 0.4250 - val_loss: 0.7554 - val_accuracy: 0.8000\n",
      "\n",
      "Epoch 00001: accuracy improved from -inf to 0.42500, saving model to weights.hdf5\n",
      "Epoch 2/100\n",
      "40/40 [==============================] - 0s 3ms/step - loss: 0.5974 - accuracy: 0.8750 - val_loss: 0.4136 - val_accuracy: 1.0000\n",
      "\n",
      "Epoch 00002: accuracy improved from 0.42500 to 0.87500, saving model to weights.hdf5\n",
      "Epoch 3/100\n",
      "40/40 [==============================] - 0s 2ms/step - loss: 0.3218 - accuracy: 0.9000 - val_loss: 0.2275 - val_accuracy: 1.0000\n",
      "\n",
      "Epoch 00003: accuracy improved from 0.87500 to 0.90000, saving model to weights.hdf5\n",
      "Epoch 4/100\n",
      "40/40 [==============================] - 0s 1ms/step - loss: 0.1896 - accuracy: 0.9500 - val_loss: 0.1270 - val_accuracy: 1.0000\n",
      "\n",
      "Epoch 00004: accuracy improved from 0.90000 to 0.95000, saving model to weights.hdf5\n",
      "Epoch 5/100\n",
      "40/40 [==============================] - 0s 2ms/step - loss: 0.1118 - accuracy: 0.9750 - val_loss: 0.0646 - val_accuracy: 1.0000\n",
      "\n",
      "Epoch 00005: accuracy improved from 0.95000 to 0.97500, saving model to weights.hdf5\n",
      "Epoch 6/100\n",
      "40/40 [==============================] - 0s 1ms/step - loss: 0.0811 - accuracy: 1.0000 - val_loss: 0.0395 - val_accuracy: 1.0000\n",
      "\n",
      "Epoch 00006: accuracy improved from 0.97500 to 1.00000, saving model to weights.hdf5\n",
      "Epoch 7/100\n",
      "40/40 [==============================] - 0s 1ms/step - loss: 0.0521 - accuracy: 1.0000 - val_loss: 0.0262 - val_accuracy: 1.0000\n",
      "\n",
      "Epoch 00007: accuracy did not improve from 1.00000\n",
      "Epoch 00007: early stopping\n"
     ]
    }
   ],
   "source": [
    "# 編譯\n",
    "model.compile(optimizer='adam', loss='categorical_crossentropy', metrics=['accuracy'])\n",
    "# <keras.callbacks.callbacks.History at 0x1b93db60748>\n",
    "history = model.fit(train_data, train_labels, batch_size=10, \n",
    "                    epochs=100, \n",
    "                    verbose=1, \n",
    "                    validation_split=0.2, \n",
    "                    callbacks = callbacks_list)"
   ]
  },
  {
   "cell_type": "code",
   "execution_count": 9,
   "metadata": {
    "scrolled": false
   },
   "outputs": [
    {
     "data": {
      "text/plain": [
       "dict_keys(['val_loss', 'val_accuracy', 'loss', 'accuracy'])"
      ]
     },
     "execution_count": 9,
     "metadata": {},
     "output_type": "execute_result"
    }
   ],
   "source": [
    "# <keras.callbacks.callbacks.History at 0x1b93db60748>\n",
    "history.history.keys()\n",
    "# history.history.get('loss'), history.history.get('accuracy')"
   ]
  },
  {
   "cell_type": "code",
   "execution_count": 10,
   "metadata": {},
   "outputs": [
    {
     "data": {
      "image/png": "[encoded data removed]",
      "text/plain": [
       "<Figure size 432x288 with 1 Axes>"
      ]
     },
     "metadata": {
      "needs_background": "light"
     },
     "output_type": "display_data"
    }
   ],
   "source": [
    "import matplotlib.pyplot as plt\n",
    "plt.title('Keras Accuracy vs val_accuracy')\n",
    "\n",
    "plt.plot(history.history.get('accuracy'), color='blue')\n",
    "plt.plot(history.history.get('val_accuracy'), color='red')\n",
    "plt.legend(['accuracy', 'val_accuracy'])\n",
    "\n",
    "plt.grid()\n",
    "plt.show()"
   ]
  },
  {
   "cell_type": "code",
   "execution_count": 11,
   "metadata": {},
   "outputs": [
    {
     "data": {
      "image/png": "[encoded data removed]",
      "text/plain": [
       "<Figure size 432x288 with 1 Axes>"
      ]
     },
     "metadata": {
      "needs_background": "light"
     },
     "output_type": "display_data"
    }
   ],
   "source": [
    "import matplotlib.pyplot as plt\n",
    "plt.title('Keras loss vs val_loss ')\n",
    "plt.plot(history.history.get('loss'), color='blue')\n",
    "plt.plot(history.history.get('val_loss'), color='red')\n",
    "plt.legend(['loss', 'val_loss'])\n",
    "plt.grid()\n",
    "plt.show()"
   ]
  },
  {
   "cell_type": "code",
   "execution_count": 12,
   "metadata": {},
   "outputs": [
    {
     "name": "stdout",
     "output_type": "stream",
     "text": [
      "50/50 [==============================] - 0s 8ms/step\n"
     ]
    },
    {
     "data": {
      "text/plain": [
       "98.00000190734863"
      ]
     },
     "execution_count": 12,
     "metadata": {},
     "output_type": "execute_result"
    }
   ],
   "source": [
    "model.evaluate(train_data, train_labels)[1] * 100.0"
   ]
  },
  {
   "cell_type": "code",
   "execution_count": 13,
   "metadata": {},
   "outputs": [
    {
     "data": {
      "text/plain": [
       "98.0"
      ]
     },
     "execution_count": 13,
     "metadata": {},
     "output_type": "execute_result"
    }
   ],
   "source": [
    "# 找出過去幾次訓練中的最佳參數\n",
    "\n",
    "model.load_weights('weights.hdf5')\n",
    "np.sum(model.predict_classes(train_data[:]) == np.argmax(train_labels, axis=1)) / len(train_data) * 100"
   ]
  },
  {
   "cell_type": "code",
   "execution_count": 14,
   "metadata": {},
   "outputs": [
    {
     "data": {
      "text/plain": [
       "[<tf.Variable 'conv2d_1/kernel:0' shape=(2, 2, 1, 5) dtype=float32, numpy=\n",
       " array([[[[ 0.46658847,  0.3229896 , -0.10511883, -0.3231809 ,\n",
       "            0.06075419]],\n",
       " \n",
       "         [[ 0.1510743 , -0.3170263 ,  0.0836041 , -0.19854414,\n",
       "            0.4743922 ]]],\n",
       " \n",
       " \n",
       "        [[[ 0.10985001, -0.45849478,  0.40160218, -0.06080353,\n",
       "           -0.22630271]],\n",
       " \n",
       "         [[-0.07525405,  0.25063276, -0.27728552, -0.1185503 ,\n",
       "            0.4346909 ]]]], dtype=float32)>,\n",
       " <tf.Variable 'conv2d_1/bias:0' shape=(5,) dtype=float32, numpy=\n",
       " array([0.00393257, 0.00116883, 0.00525446, 0.        , 0.00760685],\n",
       "       dtype=float32)>,\n",
       " <tf.Variable 'conv2d_2/kernel:0' shape=(2, 2, 5, 5) dtype=float32, numpy=\n",
       " array([[[[ 0.0898845 , -0.18461   ,  0.21590658,  0.1592099 ,\n",
       "            0.16806525],\n",
       "          [ 0.01867947, -0.14551316,  0.3027617 , -0.15186179,\n",
       "           -0.13177316],\n",
       "          [ 0.16244805,  0.35633957,  0.38989264,  0.05683499,\n",
       "           -0.31541118],\n",
       "          [ 0.29314238,  0.3748507 , -0.16830024,  0.13721138,\n",
       "           -0.07793614],\n",
       "          [ 0.11995117,  0.10915376, -0.29742754, -0.07421108,\n",
       "           -0.22427587]],\n",
       " \n",
       "         [[-0.1750966 , -0.20556201, -0.11397007,  0.36584863,\n",
       "            0.3684217 ],\n",
       "          [ 0.31908855,  0.11049132, -0.12919098, -0.23816654,\n",
       "           -0.1346741 ],\n",
       "          [ 0.03050445,  0.25661212, -0.21798326, -0.39224613,\n",
       "            0.231848  ],\n",
       "          [ 0.08819956, -0.179462  , -0.02863428, -0.26699284,\n",
       "           -0.34504008],\n",
       "          [ 0.12567264,  0.09245366,  0.05983815,  0.22047357,\n",
       "            0.36355683]]],\n",
       " \n",
       " \n",
       "        [[[ 0.09044734,  0.08488698,  0.33001566, -0.01333795,\n",
       "           -0.25538504],\n",
       "          [-0.31373593, -0.27138555, -0.34854466,  0.06480553,\n",
       "            0.16777046],\n",
       "          [-0.33018717, -0.22129244, -0.0309175 ,  0.38884026,\n",
       "            0.25049922],\n",
       "          [ 0.21929985,  0.30288738, -0.3189458 , -0.336535  ,\n",
       "            0.36945254],\n",
       "          [-0.01867274, -0.01747118,  0.14612366, -0.20313491,\n",
       "            0.3149306 ]],\n",
       " \n",
       "         [[ 0.08460023,  0.2634449 , -0.2797622 ,  0.02403658,\n",
       "            0.20911202],\n",
       "          [ 0.06482416, -0.25657663,  0.38573834,  0.00391531,\n",
       "            0.15592422],\n",
       "          [-0.06148586,  0.3030591 , -0.31804112,  0.15017454,\n",
       "            0.33321732],\n",
       "          [-0.2964879 , -0.31106243, -0.07038596, -0.25713545,\n",
       "           -0.08083662],\n",
       "          [ 0.17338917,  0.12864   ,  0.35179278,  0.1415781 ,\n",
       "            0.18423733]]]], dtype=float32)>,\n",
       " <tf.Variable 'conv2d_2/bias:0' shape=(5,) dtype=float32, numpy=\n",
       " array([ 0.00733947, -0.0114571 ,  0.00378668, -0.01340277,  0.00596763],\n",
       "       dtype=float32)>,\n",
       " <tf.Variable 'conv2d_3/kernel:0' shape=(2, 2, 5, 5) dtype=float32, numpy=\n",
       " array([[[[-0.11426031,  0.34659776, -0.2708988 ,  0.07904194,\n",
       "           -0.33670795],\n",
       "          [ 0.29550308, -0.27369756,  0.12646359, -0.17411186,\n",
       "           -0.29700595],\n",
       "          [ 0.38347223,  0.30704284, -0.19062538,  0.11168637,\n",
       "           -0.11471442],\n",
       "          [-0.14980756,  0.3462517 , -0.24389173, -0.30681062,\n",
       "           -0.21369763],\n",
       "          [-0.08722347,  0.04707993,  0.26319587,  0.3739832 ,\n",
       "           -0.1287376 ]],\n",
       " \n",
       "         [[ 0.27572095,  0.00198661,  0.36683136, -0.00265309,\n",
       "            0.3422433 ],\n",
       "          [-0.35550144,  0.19120234, -0.30871755, -0.19616544,\n",
       "            0.20614682],\n",
       "          [ 0.11527739, -0.33673006,  0.08743405, -0.2130881 ,\n",
       "           -0.0510526 ],\n",
       "          [-0.13381964, -0.26985154,  0.23354544, -0.25294697,\n",
       "            0.1193934 ],\n",
       "          [ 0.37804273,  0.37655216, -0.32176912,  0.39378157,\n",
       "           -0.11848111]]],\n",
       " \n",
       " \n",
       "        [[[ 0.12334609,  0.37119707, -0.13555071, -0.18430977,\n",
       "            0.24830431],\n",
       "          [-0.00326564,  0.3028629 , -0.08264036, -0.3490936 ,\n",
       "           -0.33210814],\n",
       "          [ 0.29717505, -0.37544405, -0.22275764,  0.15777946,\n",
       "           -0.07386259],\n",
       "          [ 0.3173849 ,  0.21358424,  0.02627199, -0.20213348,\n",
       "           -0.10691993],\n",
       "          [-0.02415643,  0.18078853,  0.39499402,  0.05928005,\n",
       "           -0.3548503 ]],\n",
       " \n",
       "         [[ 0.05139729, -0.14759158,  0.07219989, -0.03601382,\n",
       "            0.31936216],\n",
       "          [-0.17923923,  0.30126777,  0.15778941,  0.16132487,\n",
       "           -0.12021053],\n",
       "          [-0.35426062, -0.28248632,  0.1224144 ,  0.252051  ,\n",
       "           -0.32840145],\n",
       "          [-0.12327399, -0.33315554,  0.06168043,  0.31337255,\n",
       "            0.10022705],\n",
       "          [ 0.3312301 , -0.00553313, -0.08744234,  0.24331352,\n",
       "           -0.3623853 ]]]], dtype=float32)>,\n",
       " <tf.Variable 'conv2d_3/bias:0' shape=(5,) dtype=float32, numpy=\n",
       " array([0.01105555, 0.00537179, 0.00590809, 0.00116002, 0.00588795],\n",
       "       dtype=float32)>,\n",
       " <tf.Variable 'dense_1/kernel:0' shape=(3920, 32) dtype=float32, numpy=\n",
       " array([[ 0.01872041,  0.05224018, -0.00573892, ..., -0.00138373,\n",
       "          0.02298387, -0.01231902],\n",
       "        [ 0.00117874,  0.01804946,  0.02315338, ..., -0.01920101,\n",
       "         -0.01862143, -0.02833797],\n",
       "        [-0.00460472, -0.02456076, -0.00467251, ..., -0.0030048 ,\n",
       "         -0.03124587, -0.0034746 ],\n",
       "        ...,\n",
       "        [ 0.03741842, -0.00283308, -0.02166887, ..., -0.00964421,\n",
       "          0.00524931,  0.00035014],\n",
       "        [ 0.02445901,  0.0338379 ,  0.01726812, ..., -0.02833832,\n",
       "         -0.03176644,  0.02808236],\n",
       "        [-0.0369654 ,  0.03422329, -0.00449008, ..., -0.01695417,\n",
       "          0.00873754, -0.00178591]], dtype=float32)>,\n",
       " <tf.Variable 'dense_1/bias:0' shape=(32,) dtype=float32, numpy=\n",
       " array([-0.00442698,  0.00906286,  0.01114995,  0.00357193, -0.00212361,\n",
       "         0.0086684 , -0.00105184,  0.01237203, -0.00552282, -0.00552267,\n",
       "         0.00095909,  0.01105777,  0.00995789,  0.00942266, -0.00491448,\n",
       "        -0.00830458,  0.00729053,  0.00267303, -0.00010287,  0.01099626,\n",
       "         0.00277547,  0.00379357, -0.00181175,  0.0077657 ,  0.00112661,\n",
       "         0.0042678 , -0.0010711 ,  0.00241105,  0.00045887,  0.00039354,\n",
       "         0.00734046,  0.00087683], dtype=float32)>,\n",
       " <tf.Variable 'dense_2/kernel:0' shape=(32, 3) dtype=float32, numpy=\n",
       " array([[-0.20333616,  0.13919848, -0.260141  ],\n",
       "        [-0.01215826, -0.33941725,  0.1844225 ],\n",
       "        [ 0.24074617, -0.02808374,  0.30995417],\n",
       "        [-0.00193013, -0.19195986, -0.25816533],\n",
       "        [ 0.15960184,  0.1374304 , -0.289086  ],\n",
       "        [-0.00344902,  0.41865554,  0.09070542],\n",
       "        [ 0.39516822, -0.09959031, -0.16549909],\n",
       "        [-0.3241534 , -0.19400184,  0.40142626],\n",
       "        [ 0.3702157 ,  0.18465571, -0.21866117],\n",
       "        [-0.23816547,  0.0118553 ,  0.33603203],\n",
       "        [ 0.19728658, -0.07003874, -0.29308584],\n",
       "        [-0.3085842 , -0.30144396,  0.38521487],\n",
       "        [-0.25359204, -0.11583351,  0.35695818],\n",
       "        [-0.1092848 , -0.19039913,  0.01979378],\n",
       "        [ 0.12346776, -0.33068123,  0.01339535],\n",
       "        [ 0.30929607, -0.3572169 , -0.00962112],\n",
       "        [-0.3026795 , -0.3231349 ,  0.31765896],\n",
       "        [ 0.17799342, -0.2189578 , -0.36611167],\n",
       "        [ 0.2048209 , -0.20683724, -0.2374424 ],\n",
       "        [-0.22332056,  0.22310942,  0.21052474],\n",
       "        [ 0.26283273,  0.38256794, -0.03297465],\n",
       "        [ 0.39501488, -0.40421686, -0.22464558],\n",
       "        [ 0.14433353,  0.04231425, -0.41772255],\n",
       "        [-0.34791306, -0.0078509 , -0.4195539 ],\n",
       "        [ 0.06899421, -0.23106493,  0.02250878],\n",
       "        [-0.25381452,  0.32645583, -0.04277287],\n",
       "        [ 0.0513978 , -0.35432595,  0.06548203],\n",
       "        [-0.04541416, -0.31767392, -0.32257017],\n",
       "        [ 0.3913856 , -0.14193346,  0.24281485],\n",
       "        [ 0.33613792,  0.12219252, -0.3043373 ],\n",
       "        [-0.09379061,  0.06277469, -0.02336724],\n",
       "        [ 0.1501343 , -0.3817099 , -0.1855169 ]], dtype=float32)>,\n",
       " <tf.Variable 'dense_2/bias:0' shape=(3,) dtype=float32, numpy=array([-0.00742825,  0.0052281 ,  0.00729692], dtype=float32)>]"
      ]
     },
     "execution_count": 14,
     "metadata": {},
     "output_type": "execute_result"
    }
   ],
   "source": [
    "# 檢視載入權重\n",
    "model.weights"
   ]
  }
 ],
 "metadata": {
  "kernelspec": {
   "display_name": "Python 3",
   "language": "python",
   "name": "python3"
  },
  "language_info": {
   "codemirror_mode": {
    "name": "ipython",
    "version": 3
   },
   "file_extension": ".py",
   "mimetype": "text/x-python",
   "name": "python",
   "nbconvert_exporter": "python",
   "pygments_lexer": "ipython3",
   "version": "3.7.4"
  }
 },
 "nbformat": 4,
 "nbformat_minor": 2
}
