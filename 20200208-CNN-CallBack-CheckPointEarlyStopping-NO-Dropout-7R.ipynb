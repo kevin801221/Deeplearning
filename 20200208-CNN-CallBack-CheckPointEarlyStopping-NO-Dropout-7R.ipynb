{
 "cells": [
  {
   "cell_type": "code",
   "execution_count": 1,
   "metadata": {},
   "outputs": [
    {
     "name": "stdout",
     "output_type": "stream",
     "text": [
      "c:\\python\\20191207-yyyymmdd-第四階段-假日\\20200208-day7\\AM\n"
     ]
    }
   ],
   "source": [
    "path = %pwd\n",
    "print(path)"
   ]
  },
  {
   "cell_type": "code",
   "execution_count": 2,
   "metadata": {},
   "outputs": [],
   "source": [
    "import ast , numpy as np\n",
    "with open('train_data.txt') as f:\n",
    "    train_data = np.array(ast.literal_eval(f.read())).astype('float32')\n",
    "\n",
    "with open('train_labels.txt') as f:\n",
    "    train_labels = np.array(ast.literal_eval(f.read())).astype('int')\n",
    "    "
   ]
  },
  {
   "cell_type": "code",
   "execution_count": 3,
   "metadata": {},
   "outputs": [
    {
     "data": {
      "image/png": "[encoded data removed]",
      "text/plain": [
       "<Figure size 432x288 with 1 Axes>"
      ]
     },
     "metadata": {
      "needs_background": "light"
     },
     "output_type": "display_data"
    }
   ],
   "source": [
    "%matplotlib inline\n",
    "import matplotlib.pyplot as plt\n",
    "plt.imshow(train_data[2, :, :, :].reshape(28, 28), cmap='gray_r')\n",
    "plt.show()"
   ]
  },
  {
   "cell_type": "code",
   "execution_count": 4,
   "metadata": {},
   "outputs": [
    {
     "data": {
      "text/plain": [
       "((50, 28, 28, 1), (50, 3), array([[0, 1, 0]]))"
      ]
     },
     "execution_count": 4,
     "metadata": {},
     "output_type": "execute_result"
    }
   ],
   "source": [
    "# 檢查數據狀況\n",
    "train_data.shape, train_labels.shape, train_labels[:1]"
   ]
  },
  {
   "cell_type": "code",
   "execution_count": 5,
   "metadata": {},
   "outputs": [],
   "source": [
    "# 建立 model \n",
    "# the Sequential model\n",
    "# the Model class used with the functional API."
   ]
  },
  {
   "cell_type": "code",
   "execution_count": 6,
   "metadata": {},
   "outputs": [
    {
     "name": "stderr",
     "output_type": "stream",
     "text": [
      "Using TensorFlow backend.\n"
     ]
    },
    {
     "name": "stdout",
     "output_type": "stream",
     "text": [
      "Model: \"sequential_1\"\n",
      "_________________________________________________________________\n",
      "Layer (type)                 Output Shape              Param #   \n",
      "=================================================================\n",
      "conv2d_1 (Conv2D)            (None, 28, 28, 5)         25        \n",
      "_________________________________________________________________\n",
      "conv2d_2 (Conv2D)            (None, 28, 28, 5)         105       \n",
      "_________________________________________________________________\n",
      "conv2d_3 (Conv2D)            (None, 28, 28, 5)         105       \n",
      "_________________________________________________________________\n",
      "flatten_1 (Flatten)          (None, 3920)              0         \n",
      "_________________________________________________________________\n",
      "dense_1 (Dense)              (None, 32)                125472    \n",
      "_________________________________________________________________\n",
      "dense_2 (Dense)              (None, 3)                 99        \n",
      "=================================================================\n",
      "Total params: 125,806\n",
      "Trainable params: 125,806\n",
      "Non-trainable params: 0\n",
      "_________________________________________________________________\n"
     ]
    }
   ],
   "source": [
    "# the Sequential model type II\n",
    "from keras.models import Sequential\n",
    "from keras.layers import Dense, Activation, Conv2D, Flatten, MaxPooling2D, Dropout\n",
    "\n",
    "model = Sequential()\n",
    "model.add( Conv2D(filters= 5, kernel_size=(2,2), activation='relu', padding='same', input_shape=(28, 28, 1)) )\n",
    "#model.add( Dropout(0.25) )\n",
    "model.add( Conv2D(filters= 5, kernel_size=(2,2), activation='relu', padding='same') )\n",
    "#model.add( Dropout(0.25) )\n",
    "model.add( Conv2D(filters= 5, kernel_size=(2,2), activation='relu', padding='same') )\n",
    "model.add( Flatten())\n",
    "\n",
    "model.add( Dense(units= 32, activation='relu', input_dim=784) )\n",
    "model.add( Dense(units= 3, activation='softmax') )\n",
    "model.summary()"
   ]
  },
  {
   "cell_type": "code",
   "execution_count": 7,
   "metadata": {},
   "outputs": [],
   "source": [
    "# dict_keys(['val_loss', 'val_accuracy', 'loss', 'accuracy'])\n",
    "# Keras : 2.3.0\n",
    "# https://keras.io/callbacks/#earlystopping\n",
    "\n",
    "from keras.callbacks import ModelCheckpoint\n",
    "from keras.callbacks import EarlyStopping\n",
    "checkpoint = ModelCheckpoint('weights.hdf5', monitor='accuracy', save_best_only=True, verbose=1) # 顯示變更部分\n",
    "earlystopping = EarlyStopping(monitor='val_accuracy', patience=5, verbose=1) # 針對3次 val_accuracy 沒有改變就自動停止\n",
    "callbacks_list = [earlystopping, checkpoint]"
   ]
  },
  {
   "cell_type": "code",
   "execution_count": 8,
   "metadata": {
    "scrolled": true
   },
   "outputs": [
    {
     "name": "stdout",
     "output_type": "stream",
     "text": [
      "Train on 40 samples, validate on 10 samples\n",
      "Epoch 1/100\n",
      "40/40 [==============================] - 2s 52ms/step - loss: 1.0101 - accuracy: 0.5000 - val_loss: 0.8413 - val_accuracy: 0.9000\n",
      "\n",
      "Epoch 00001: accuracy improved from -inf to 0.50000, saving model to weights.hdf5\n",
      "Epoch 2/100\n",
      "40/40 [==============================] - 0s 4ms/step - loss: 0.7850 - accuracy: 0.9500 - val_loss: 0.6284 - val_accuracy: 1.0000\n",
      "\n",
      "Epoch 00002: accuracy improved from 0.50000 to 0.95000, saving model to weights.hdf5\n",
      "Epoch 3/100\n",
      "40/40 [==============================] - 0s 1ms/step - loss: 0.5649 - accuracy: 0.9500 - val_loss: 0.4686 - val_accuracy: 1.0000\n",
      "\n",
      "Epoch 00003: accuracy did not improve from 0.95000\n",
      "Epoch 4/100\n",
      "40/40 [==============================] - 0s 2ms/step - loss: 0.3797 - accuracy: 0.9250 - val_loss: 0.2885 - val_accuracy: 1.0000\n",
      "\n",
      "Epoch 00004: accuracy did not improve from 0.95000\n",
      "Epoch 5/100\n",
      "40/40 [==============================] - 0s 2ms/step - loss: 0.2306 - accuracy: 0.9750 - val_loss: 0.1897 - val_accuracy: 1.0000\n",
      "\n",
      "Epoch 00005: accuracy improved from 0.95000 to 0.97500, saving model to weights.hdf5\n",
      "Epoch 6/100\n",
      "40/40 [==============================] - 0s 2ms/step - loss: 0.1484 - accuracy: 0.9750 - val_loss: 0.1309 - val_accuracy: 1.0000\n",
      "\n",
      "Epoch 00006: accuracy did not improve from 0.97500\n",
      "Epoch 7/100\n",
      "40/40 [==============================] - 0s 2ms/step - loss: 0.0983 - accuracy: 0.9750 - val_loss: 0.0934 - val_accuracy: 1.0000\n",
      "\n",
      "Epoch 00007: accuracy did not improve from 0.97500\n",
      "Epoch 00007: early stopping\n"
     ]
    }
   ],
   "source": [
    "# 編譯\n",
    "model.compile(optimizer='adam', loss='categorical_crossentropy', metrics=['accuracy'])\n",
    "# <keras.callbacks.callbacks.History at 0x1b93db60748>\n",
    "history = model.fit(train_data, train_labels, batch_size=10, \n",
    "                    epochs=100, \n",
    "                    verbose=1, \n",
    "                    validation_split=0.2, \n",
    "                    callbacks = callbacks_list)"
   ]
  },
  {
   "cell_type": "code",
   "execution_count": 9,
   "metadata": {
    "scrolled": false
   },
   "outputs": [
    {
     "data": {
      "text/plain": [
       "dict_keys(['val_loss', 'val_accuracy', 'loss', 'accuracy'])"
      ]
     },
     "execution_count": 9,
     "metadata": {},
     "output_type": "execute_result"
    }
   ],
   "source": [
    "# <keras.callbacks.callbacks.History at 0x1b93db60748>\n",
    "history.history.keys()\n",
    "# history.history.get('loss'), history.history.get('accuracy')"
   ]
  },
  {
   "cell_type": "code",
   "execution_count": 10,
   "metadata": {},
   "outputs": [
    {
     "data": {
      "image/png": "[encoded data removed]",
      "text/plain": [
       "<Figure size 432x288 with 1 Axes>"
      ]
     },
     "metadata": {
      "needs_background": "light"
     },
     "output_type": "display_data"
    }
   ],
   "source": [
    "import matplotlib.pyplot as plt\n",
    "plt.title('Keras Accuracy vs val_accuracy')\n",
    "\n",
    "plt.plot(history.history.get('accuracy'), color='blue')\n",
    "plt.plot(history.history.get('val_accuracy'), color='red')\n",
    "plt.legend(['accuracy', 'val_accuracy'])\n",
    "\n",
    "plt.grid()\n",
    "plt.show()"
   ]
  },
  {
   "cell_type": "code",
   "execution_count": 11,
   "metadata": {},
   "outputs": [
    {
     "data": {
      "image/png": "[encoded data removed]",
      "text/plain": [
       "<Figure size 432x288 with 1 Axes>"
      ]
     },
     "metadata": {
      "needs_background": "light"
     },
     "output_type": "display_data"
    }
   ],
   "source": [
    "import matplotlib.pyplot as plt\n",
    "plt.title('Keras loss vs val_loss ')\n",
    "plt.plot(history.history.get('loss'), color='blue')\n",
    "plt.plot(history.history.get('val_loss'), color='red')\n",
    "plt.legend(['loss', 'val_loss'])\n",
    "plt.grid()\n",
    "plt.show()"
   ]
  },
  {
   "cell_type": "code",
   "execution_count": 12,
   "metadata": {},
   "outputs": [
    {
     "name": "stdout",
     "output_type": "stream",
     "text": [
      "50/50 [==============================] - 0s 8ms/step\n"
     ]
    },
    {
     "data": {
      "text/plain": [
       "100.0"
      ]
     },
     "execution_count": 12,
     "metadata": {},
     "output_type": "execute_result"
    }
   ],
   "source": [
    "model.evaluate(train_data, train_labels)[1] * 100.0"
   ]
  },
  {
   "cell_type": "code",
   "execution_count": 13,
   "metadata": {},
   "outputs": [
    {
     "data": {
      "text/plain": [
       "98.0"
      ]
     },
     "execution_count": 13,
     "metadata": {},
     "output_type": "execute_result"
    }
   ],
   "source": [
    "# 找出過去幾次訓練中的最佳參數\n",
    "\n",
    "model.load_weights('weights.hdf5')\n",
    "np.sum(model.predict_classes(train_data[:]) == np.argmax(train_labels, axis=1)) / len(train_data) * 100"
   ]
  },
  {
   "cell_type": "code",
   "execution_count": 14,
   "metadata": {},
   "outputs": [
    {
     "data": {
      "text/plain": [
       "[<tf.Variable 'conv2d_1/kernel:0' shape=(2, 2, 1, 5) dtype=float32, numpy=\n",
       " array([[[[-0.00132651,  0.44768515,  0.4399618 , -0.28560576,\n",
       "           -0.40219882]],\n",
       " \n",
       "         [[-0.3078849 ,  0.1993703 , -0.14662048, -0.41825694,\n",
       "            0.28909832]]],\n",
       " \n",
       " \n",
       "        [[[-0.1689115 , -0.4172178 ,  0.03266909,  0.22001922,\n",
       "           -0.0095838 ]],\n",
       " \n",
       "         [[ 0.12901779, -0.24739176,  0.47713473, -0.07694238,\n",
       "            0.18446273]]]], dtype=float32)>,\n",
       " <tf.Variable 'conv2d_1/bias:0' shape=(5,) dtype=float32, numpy=\n",
       " array([-0.00763541,  0.00201584,  0.00469744,  0.00528336,  0.00261961],\n",
       "       dtype=float32)>,\n",
       " <tf.Variable 'conv2d_2/kernel:0' shape=(2, 2, 5, 5) dtype=float32, numpy=\n",
       " array([[[[ 0.011357  , -0.16928178,  0.31637937, -0.2710941 ,\n",
       "           -0.19436812],\n",
       "          [ 0.32659248, -0.15542917, -0.00579313,  0.21889137,\n",
       "           -0.2912844 ],\n",
       "          [-0.12431192,  0.01272638,  0.1636581 , -0.08609552,\n",
       "            0.15759331],\n",
       "          [ 0.14515008,  0.37395906, -0.05089548, -0.07194708,\n",
       "            0.18643424],\n",
       "          [-0.04616326,  0.08832956,  0.3708066 ,  0.27595508,\n",
       "           -0.02881857]],\n",
       " \n",
       "         [[-0.16721979,  0.11672743,  0.32780084, -0.32418242,\n",
       "            0.36080423],\n",
       "          [ 0.3926825 ,  0.20613328, -0.15882811,  0.38187754,\n",
       "            0.0524789 ],\n",
       "          [-0.14580482, -0.1743888 ,  0.0799345 ,  0.07587221,\n",
       "            0.3701862 ],\n",
       "          [ 0.15741971, -0.2692323 , -0.05290869, -0.34444866,\n",
       "           -0.11234445],\n",
       "          [-0.11036509, -0.23726973,  0.07827643, -0.27867296,\n",
       "           -0.37833092]]],\n",
       " \n",
       " \n",
       "        [[[ 0.03335526, -0.06883587,  0.01880553, -0.13511527,\n",
       "           -0.20869602],\n",
       "          [-0.03887055,  0.20102037, -0.2851121 ,  0.21368669,\n",
       "           -0.05534247],\n",
       "          [ 0.1432833 ,  0.01903046, -0.17158341, -0.2176747 ,\n",
       "            0.14783262],\n",
       "          [ 0.3828466 ,  0.15702304, -0.11185731,  0.3837397 ,\n",
       "            0.3060549 ],\n",
       "          [-0.3638885 ,  0.2924682 ,  0.21519335,  0.26890016,\n",
       "            0.31298998]],\n",
       " \n",
       "         [[ 0.1873014 , -0.25821638, -0.34750575,  0.01403695,\n",
       "           -0.24315076],\n",
       "          [-0.0140739 ,  0.04857365,  0.18453483,  0.33192405,\n",
       "            0.2446869 ],\n",
       "          [-0.32459533, -0.35339898,  0.28692627,  0.3851635 ,\n",
       "            0.10723899],\n",
       "          [-0.18691793, -0.01716363,  0.03011465, -0.24222067,\n",
       "            0.03453056],\n",
       "          [-0.28123438, -0.27005482,  0.07285191,  0.31909576,\n",
       "            0.01007773]]]], dtype=float32)>,\n",
       " <tf.Variable 'conv2d_2/bias:0' shape=(5,) dtype=float32, numpy=\n",
       " array([-8.6785411e-05,  1.8733484e-03,  1.9599618e-03,  9.7886352e-03,\n",
       "         5.4953969e-03], dtype=float32)>,\n",
       " <tf.Variable 'conv2d_3/kernel:0' shape=(2, 2, 5, 5) dtype=float32, numpy=\n",
       " array([[[[ 0.08300498,  0.08879095,  0.24631733,  0.18021505,\n",
       "            0.04204745],\n",
       "          [ 0.20757715,  0.00083732,  0.05073559, -0.17944415,\n",
       "            0.00042446],\n",
       "          [-0.16743942,  0.05644434, -0.17640904, -0.26408473,\n",
       "            0.39650542],\n",
       "          [-0.22398952,  0.1116278 ,  0.01603987, -0.05056814,\n",
       "           -0.08602358],\n",
       "          [-0.22377595, -0.17596382, -0.21588683,  0.17916861,\n",
       "            0.11356901]],\n",
       " \n",
       "         [[ 0.26520863,  0.3860746 , -0.22068366,  0.18028265,\n",
       "            0.04459611],\n",
       "          [ 0.03223533, -0.26615563,  0.2572396 , -0.2558592 ,\n",
       "            0.38445398],\n",
       "          [ 0.09574702,  0.08950258, -0.26285315,  0.02500698,\n",
       "            0.3722453 ],\n",
       "          [ 0.09518286,  0.3059476 ,  0.1451375 ,  0.40104052,\n",
       "            0.2391443 ],\n",
       "          [ 0.00543352,  0.06397194,  0.32830694,  0.0597527 ,\n",
       "            0.21444397]]],\n",
       " \n",
       " \n",
       "        [[[ 0.03625475,  0.16048737,  0.01213693, -0.2694934 ,\n",
       "            0.0528961 ],\n",
       "          [-0.27711177,  0.3554186 , -0.00437537,  0.17823096,\n",
       "           -0.31316414],\n",
       "          [ 0.38106292, -0.16445956, -0.03801508,  0.2538059 ,\n",
       "            0.01916029],\n",
       "          [ 0.33610827,  0.08100295,  0.01225186, -0.2866095 ,\n",
       "            0.30683127],\n",
       "          [-0.04333184,  0.12172765, -0.01864792, -0.33921966,\n",
       "            0.0180461 ]],\n",
       " \n",
       "         [[-0.3526766 , -0.25171724,  0.02230012,  0.20074345,\n",
       "            0.3025526 ],\n",
       "          [ 0.14303505, -0.26064536,  0.1346664 ,  0.3834511 ,\n",
       "            0.37890124],\n",
       "          [-0.3443418 , -0.3164099 , -0.28770003,  0.01873342,\n",
       "            0.1493075 ],\n",
       "          [ 0.18015502,  0.15768223,  0.14257912, -0.00442061,\n",
       "           -0.25605834],\n",
       "          [ 0.10481706,  0.05905915, -0.20196912,  0.2887908 ,\n",
       "           -0.19318788]]]], dtype=float32)>,\n",
       " <tf.Variable 'conv2d_3/bias:0' shape=(5,) dtype=float32, numpy=\n",
       " array([0.00860463, 0.00633383, 0.01551949, 0.00145623, 0.00554443],\n",
       "       dtype=float32)>,\n",
       " <tf.Variable 'dense_1/kernel:0' shape=(3920, 32) dtype=float32, numpy=\n",
       " array([[ 0.04370654, -0.00813264, -0.02259562, ...,  0.0247578 ,\n",
       "         -0.02767641, -0.03543418],\n",
       "        [ 0.03570997, -0.0073539 , -0.01754835, ..., -0.03484634,\n",
       "          0.02399567, -0.00422534],\n",
       "        [ 0.00894249, -0.01619847, -0.00793163, ..., -0.03680356,\n",
       "         -0.00606143, -0.02382399],\n",
       "        ...,\n",
       "        [-0.01395975,  0.04019371, -0.00257426, ..., -0.03789051,\n",
       "          0.03375527,  0.01716964],\n",
       "        [ 0.03129349,  0.01353668, -0.02067236, ...,  0.00498503,\n",
       "         -0.00964665,  0.01185098],\n",
       "        [ 0.00169884,  0.02642806,  0.01631806, ...,  0.0184496 ,\n",
       "          0.01256857, -0.02683656]], dtype=float32)>,\n",
       " <tf.Variable 'dense_1/bias:0' shape=(32,) dtype=float32, numpy=\n",
       " array([ 0.00170357,  0.00966335,  0.0048721 ,  0.00200431,  0.00561712,\n",
       "         0.0149604 , -0.00530173,  0.        ,  0.00307369,  0.        ,\n",
       "         0.00205881,  0.01284535,  0.00901032,  0.01505754,  0.00484819,\n",
       "         0.        ,  0.00757446,  0.00920268,  0.00564377, -0.00530297,\n",
       "        -0.00814059,  0.00635925,  0.00328005,  0.00540006,  0.00468145,\n",
       "        -0.00530281,  0.00363716,  0.00260828,  0.00411684, -0.00530263,\n",
       "        -0.00616307,  0.        ], dtype=float32)>,\n",
       " <tf.Variable 'dense_2/kernel:0' shape=(32, 3) dtype=float32, numpy=\n",
       " array([[-0.05181748, -0.10862096, -0.29560223],\n",
       "        [ 0.0808445 , -0.1172234 ,  0.10009065],\n",
       "        [ 0.2820572 ,  0.19501737, -0.24022536],\n",
       "        [-0.04397856, -0.21390459, -0.15916564],\n",
       "        [ 0.03255378,  0.35385507, -0.2511599 ],\n",
       "        [-0.08186149, -0.01619838,  0.07517289],\n",
       "        [ 0.1164905 , -0.03057254,  0.02584336],\n",
       "        [ 0.12178865,  0.01690677,  0.2697287 ],\n",
       "        [-0.31911504, -0.00831514, -0.2155017 ],\n",
       "        [ 0.23559913, -0.3499054 , -0.11476824],\n",
       "        [ 0.1132541 , -0.32787552, -0.07590441],\n",
       "        [ 0.1252697 ,  0.0921919 ,  0.28047085],\n",
       "        [ 0.3076899 , -0.20386378,  0.42279068],\n",
       "        [-0.225368  , -0.11763625,  0.30291384],\n",
       "        [ 0.30421662,  0.10205875, -0.32146612],\n",
       "        [ 0.39696428,  0.2840809 , -0.29946607],\n",
       "        [-0.21269062,  0.25042355, -0.1969136 ],\n",
       "        [ 0.2581564 , -0.2312021 ,  0.32308933],\n",
       "        [-0.34751928,  0.09097469,  0.02230806],\n",
       "        [ 0.06437907, -0.11512213,  0.12849793],\n",
       "        [-0.3861357 ,  0.37523493, -0.2377804 ],\n",
       "        [-0.01622352, -0.05707663, -0.15657784],\n",
       "        [ 0.05584546,  0.25495353,  0.15849626],\n",
       "        [-0.17788307,  0.37092623, -0.42319512],\n",
       "        [-0.37270108, -0.410727  ,  0.05248364],\n",
       "        [ 0.23947203, -0.23094855, -0.20493813],\n",
       "        [-0.31794932,  0.11809194, -0.2710125 ],\n",
       "        [-0.22393763,  0.3881823 ,  0.03091358],\n",
       "        [ 0.36485058,  0.33598387, -0.26154178],\n",
       "        [ 0.39796272,  0.05374798,  0.09894598],\n",
       "        [ 0.3522397 , -0.28602323, -0.19670452],\n",
       "        [ 0.11095271,  0.3978509 ,  0.3122364 ]], dtype=float32)>,\n",
       " <tf.Variable 'dense_2/bias:0' shape=(3,) dtype=float32, numpy=array([-0.00021202, -0.00281915,  0.0026991 ], dtype=float32)>]"
      ]
     },
     "execution_count": 14,
     "metadata": {},
     "output_type": "execute_result"
    }
   ],
   "source": [
    "# 檢視載入權重\n",
    "model.weights"
   ]
  }
 ],
 "metadata": {
  "kernelspec": {
   "display_name": "Python 3",
   "language": "python",
   "name": "python3"
  },
  "language_info": {
   "codemirror_mode": {
    "name": "ipython",
    "version": 3
   },
   "file_extension": ".py",
   "mimetype": "text/x-python",
   "name": "python",
   "nbconvert_exporter": "python",
   "pygments_lexer": "ipython3",
   "version": "3.7.4"
  }
 },
 "nbformat": 4,
 "nbformat_minor": 2
}
