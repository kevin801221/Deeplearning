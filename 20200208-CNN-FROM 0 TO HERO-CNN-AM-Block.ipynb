{
 "cells": [
  {
   "cell_type": "code",
   "execution_count": 1,
   "metadata": {},
   "outputs": [],
   "source": [
    "import ast , numpy as np\n",
    "with open('train_data.txt') as f:\n",
    "    train_data = np.array(ast.literal_eval(f.read())).astype('float32')\n",
    "\n",
    "with open('train_labels.txt') as f:\n",
    "    train_labels = np.array(ast.literal_eval(f.read())).astype('int')\n",
    "    "
   ]
  },
  {
   "cell_type": "code",
   "execution_count": 2,
   "metadata": {},
   "outputs": [
    {
     "name": "stdout",
     "output_type": "stream",
     "text": [
      "(28, 28, 1)\n"
     ]
    },
    {
     "data": {
      "text/plain": [
       "<Figure size 640x480 with 1 Axes>"
      ]
     },
     "metadata": {},
     "output_type": "display_data"
    }
   ],
   "source": [
    "print(train_data[0,:,:,:].shape)\n",
    "import matplotlib.pyplot as plt\n",
    "plt.imshow(train_data[2, :, :, :].reshape(28, 28), cmap='gray_r')\n",
    "plt.show()"
   ]
  },
  {
   "cell_type": "code",
   "execution_count": 3,
   "metadata": {},
   "outputs": [
    {
     "data": {
      "text/plain": [
       "((50, 28, 28, 1), (50, 3), array([[0, 1, 0]]))"
      ]
     },
     "execution_count": 3,
     "metadata": {},
     "output_type": "execute_result"
    }
   ],
   "source": [
    "# 檢查數據狀況\n",
    "train_data.shape, train_labels.shape, train_labels[:1]"
   ]
  },
  {
   "cell_type": "code",
   "execution_count": 4,
   "metadata": {},
   "outputs": [],
   "source": [
    "# 建立model \n",
    "# the Sequential model\n",
    "# the Model class used with the functional API."
   ]
  },
  {
   "cell_type": "code",
   "execution_count": 5,
   "metadata": {},
   "outputs": [
    {
     "name": "stderr",
     "output_type": "stream",
     "text": [
      "Using TensorFlow backend.\n"
     ]
    },
    {
     "name": "stdout",
     "output_type": "stream",
     "text": [
      "Model: \"sequential_1\"\n",
      "_________________________________________________________________\n",
      "Layer (type)                 Output Shape              Param #   \n",
      "=================================================================\n",
      "conv2d_1 (Conv2D)            (None, 28, 28, 5)         25        \n",
      "_________________________________________________________________\n",
      "activation_1 (Activation)    (None, 28, 28, 5)         0         \n",
      "_________________________________________________________________\n",
      "conv2d_2 (Conv2D)            (None, 28, 28, 5)         105       \n",
      "_________________________________________________________________\n",
      "activation_2 (Activation)    (None, 28, 28, 5)         0         \n",
      "_________________________________________________________________\n",
      "conv2d_3 (Conv2D)            (None, 28, 28, 5)         105       \n",
      "_________________________________________________________________\n",
      "activation_3 (Activation)    (None, 28, 28, 5)         0         \n",
      "_________________________________________________________________\n",
      "flatten_1 (Flatten)          (None, 3920)              0         \n",
      "_________________________________________________________________\n",
      "dense_1 (Dense)              (None, 32)                125472    \n",
      "_________________________________________________________________\n",
      "activation_4 (Activation)    (None, 32)                0         \n",
      "_________________________________________________________________\n",
      "dense_2 (Dense)              (None, 3)                 99        \n",
      "_________________________________________________________________\n",
      "activation_5 (Activation)    (None, 3)                 0         \n",
      "=================================================================\n",
      "Total params: 125,806\n",
      "Trainable params: 125,806\n",
      "Non-trainable params: 0\n",
      "_________________________________________________________________\n"
     ]
    }
   ],
   "source": [
    "from keras.models import Sequential\n",
    "from keras.layers import Dense, Activation, Conv2D, Flatten\n",
    "\n",
    "# the Sequential model type I\n",
    "model = Sequential()\n",
    "\n",
    "model.add( Conv2D(filters= 5, kernel_size=(2,2), \n",
    "                  strides=(1, 1), \n",
    "                  padding='same', \n",
    "                  #dilation_rate=2 , \n",
    "                  input_shape=(28, 28, 1)\n",
    "                 ) \n",
    "         )\n",
    "model.add( Activation('relu')  )\n",
    "\n",
    "\n",
    "model.add( Conv2D(filters= 5, kernel_size=(2,2), \n",
    "                  strides=(1, 1), \n",
    "                  padding='same', \n",
    "                  #dilation_rate=2 , \n",
    "                 ) \n",
    "         )\n",
    "model.add( Activation('relu')  )\n",
    "\n",
    "model.add( Conv2D(filters= 5, kernel_size=(2,2), \n",
    "                  strides=(1, 1), \n",
    "                  padding='same', \n",
    "                  #dilation_rate=2 , \n",
    "                 ) \n",
    "         )\n",
    "model.add( Activation('relu')  )\n",
    "\n",
    "model.add(Flatten())\n",
    "model.add( Dense(32) )\n",
    "model.add( Activation('relu')  )\n",
    "model.add( Dense(3)  )\n",
    "model.add( Activation('softmax')  ) \n",
    "\n",
    "model.summary()\n"
   ]
  },
  {
   "cell_type": "code",
   "execution_count": 6,
   "metadata": {},
   "outputs": [
    {
     "name": "stdout",
     "output_type": "stream",
     "text": [
      "Model: \"sequential_2\"\n",
      "_________________________________________________________________\n",
      "Layer (type)                 Output Shape              Param #   \n",
      "=================================================================\n",
      "conv2d_4 (Conv2D)            (None, 28, 28, 5)         25        \n",
      "_________________________________________________________________\n",
      "conv2d_5 (Conv2D)            (None, 28, 28, 5)         105       \n",
      "_________________________________________________________________\n",
      "conv2d_6 (Conv2D)            (None, 28, 28, 5)         105       \n",
      "_________________________________________________________________\n",
      "flatten_2 (Flatten)          (None, 3920)              0         \n",
      "_________________________________________________________________\n",
      "dense_3 (Dense)              (None, 32)                125472    \n",
      "_________________________________________________________________\n",
      "dense_4 (Dense)              (None, 3)                 99        \n",
      "=================================================================\n",
      "Total params: 125,806\n",
      "Trainable params: 125,806\n",
      "Non-trainable params: 0\n",
      "_________________________________________________________________\n"
     ]
    }
   ],
   "source": [
    "# the Sequential model type II\n",
    "model = Sequential()\n",
    "model.add( Conv2D(filters= 5, kernel_size=(2,2), activation='relu', padding='same', input_shape=(28, 28, 1)) )\n",
    "model.add( Conv2D(filters= 5, kernel_size=(2,2), activation='relu', padding='same') )\n",
    "model.add( Conv2D(filters= 5, kernel_size=(2,2), activation='relu', padding='same') )\n",
    "model.add( Flatten())\n",
    "\n",
    "model.add( Dense(32, activation='relu', input_dim=784) )\n",
    "model.add( Dense(3, activation='softmax') )\n",
    "model.summary()"
   ]
  },
  {
   "cell_type": "code",
   "execution_count": 7,
   "metadata": {},
   "outputs": [
    {
     "name": "stdout",
     "output_type": "stream",
     "text": [
      "Model: \"sequential_3\"\n",
      "_________________________________________________________________\n",
      "Layer (type)                 Output Shape              Param #   \n",
      "=================================================================\n",
      "conv2d_7 (Conv2D)            (None, 28, 28, 5)         25        \n",
      "_________________________________________________________________\n",
      "activation_6 (Activation)    (None, 28, 28, 5)         0         \n",
      "_________________________________________________________________\n",
      "conv2d_8 (Conv2D)            (None, 28, 28, 5)         105       \n",
      "_________________________________________________________________\n",
      "activation_7 (Activation)    (None, 28, 28, 5)         0         \n",
      "_________________________________________________________________\n",
      "conv2d_9 (Conv2D)            (None, 28, 28, 5)         105       \n",
      "_________________________________________________________________\n",
      "activation_8 (Activation)    (None, 28, 28, 5)         0         \n",
      "_________________________________________________________________\n",
      "flatten_3 (Flatten)          (None, 3920)              0         \n",
      "_________________________________________________________________\n",
      "dense_5 (Dense)              (None, 32)                125472    \n",
      "_________________________________________________________________\n",
      "activation_9 (Activation)    (None, 32)                0         \n",
      "_________________________________________________________________\n",
      "dense_6 (Dense)              (None, 3)                 99        \n",
      "_________________________________________________________________\n",
      "activation_10 (Activation)   (None, 3)                 0         \n",
      "=================================================================\n",
      "Total params: 125,806\n",
      "Trainable params: 125,806\n",
      "Non-trainable params: 0\n",
      "_________________________________________________________________\n"
     ]
    }
   ],
   "source": [
    "# the Sequential model type III\n",
    "model = Sequential([\n",
    "                    Conv2D(filters= 5, kernel_size=(2,2), padding='same', input_shape=(28, 28, 1)), \n",
    "    \n",
    "                    Activation('relu'),\n",
    "    \n",
    "                    Conv2D(filters= 5, kernel_size=(2,2), padding='same'), \n",
    "    \n",
    "                    Activation('relu'),\n",
    "    \n",
    "                    Conv2D(filters= 5, kernel_size=(2,2), padding='same'), \n",
    "    \n",
    "                    Activation('relu'),\n",
    "    \n",
    "                    Flatten(),\n",
    "    \n",
    "                    Dense(32), \n",
    "                    Activation('relu'),\n",
    "    \n",
    "                    Dense(3),  \n",
    "                    Activation('softmax'),\n",
    "                   ])\n",
    "model.summary()"
   ]
  },
  {
   "cell_type": "code",
   "execution_count": 8,
   "metadata": {},
   "outputs": [
    {
     "name": "stdout",
     "output_type": "stream",
     "text": [
      "Model: \"model_1\"\n",
      "_________________________________________________________________\n",
      "Layer (type)                 Output Shape              Param #   \n",
      "=================================================================\n",
      "input_1 (InputLayer)         (None, 28, 28, 1)         0         \n",
      "_________________________________________________________________\n",
      "conv2d_10 (Conv2D)           (None, 28, 28, 5)         25        \n",
      "_________________________________________________________________\n",
      "re_lu_1 (ReLU)               (None, 28, 28, 5)         0         \n",
      "_________________________________________________________________\n",
      "conv2d_11 (Conv2D)           (None, 28, 28, 5)         105       \n",
      "_________________________________________________________________\n",
      "re_lu_2 (ReLU)               (None, 28, 28, 5)         0         \n",
      "_________________________________________________________________\n",
      "conv2d_12 (Conv2D)           (None, 28, 28, 5)         105       \n",
      "_________________________________________________________________\n",
      "re_lu_3 (ReLU)               (None, 28, 28, 5)         0         \n",
      "_________________________________________________________________\n",
      "flatten_4 (Flatten)          (None, 3920)              0         \n",
      "_________________________________________________________________\n",
      "dense_7 (Dense)              (None, 32)                125472    \n",
      "_________________________________________________________________\n",
      "re_lu_4 (ReLU)               (None, 32)                0         \n",
      "_________________________________________________________________\n",
      "dense_8 (Dense)              (None, 3)                 99        \n",
      "_________________________________________________________________\n",
      "softmax_1 (Softmax)          (None, 3)                 0         \n",
      "=================================================================\n",
      "Total params: 125,806\n",
      "Trainable params: 125,806\n",
      "Non-trainable params: 0\n",
      "_________________________________________________________________\n"
     ]
    }
   ],
   "source": [
    "# the Model class used with the functional API.\n",
    "from keras.models import Model\n",
    "from keras.layers import Input, Dense , ReLU, Softmax, Conv2D, Flatten\n",
    "\n",
    "a = Input(shape=(28, 28, 1))\n",
    "\n",
    "dense = Conv2D(filters= 5, kernel_size=(2,2), padding='same')(a)\n",
    "dense = ReLU()(dense)\n",
    "\n",
    "dense = Conv2D(filters= 5, kernel_size=(2,2), padding='same')(dense)\n",
    "dense = ReLU()(dense)\n",
    "\n",
    "dense = Conv2D(filters= 5, kernel_size=(2,2), padding='same')(dense)\n",
    "dense = ReLU()(dense)\n",
    "\n",
    "dense = Flatten()(dense)\n",
    "\n",
    "dense = Dense(32)(dense)\n",
    "dense = ReLU()(dense)\n",
    "\n",
    "dense = Dense(3)(dense)\n",
    "b     = Softmax()(dense)\n",
    "\n",
    "\n",
    "model = Model(inputs=a, outputs=b)\n",
    "model.summary()"
   ]
  },
  {
   "cell_type": "code",
   "execution_count": null,
   "metadata": {},
   "outputs": [],
   "source": []
  },
  {
   "cell_type": "code",
   "execution_count": 9,
   "metadata": {},
   "outputs": [
    {
     "name": "stdout",
     "output_type": "stream",
     "text": [
      "Epoch 1/10\n",
      "50/50 [==============================] - 2s 45ms/step - loss: 1.0055 - accuracy: 0.7400\n",
      "Epoch 2/10\n",
      "50/50 [==============================] - 0s 1ms/step - loss: 0.7566 - accuracy: 0.8800\n",
      "Epoch 3/10\n",
      "50/50 [==============================] - 0s 5ms/step - loss: 0.4682 - accuracy: 0.9200\n",
      "Epoch 4/10\n",
      "50/50 [==============================] - 0s 2ms/step - loss: 0.2487 - accuracy: 0.9600\n",
      "Epoch 5/10\n",
      "50/50 [==============================] - 0s 1ms/step - loss: 0.1511 - accuracy: 0.9600\n",
      "Epoch 6/10\n",
      "50/50 [==============================] - 0s 3ms/step - loss: 0.1061 - accuracy: 0.9800\n",
      "Epoch 7/10\n",
      "50/50 [==============================] - 0s 2ms/step - loss: 0.0750 - accuracy: 0.9800\n",
      "Epoch 8/10\n",
      "50/50 [==============================] - 0s 2ms/step - loss: 0.0636 - accuracy: 0.9800\n",
      "Epoch 9/10\n",
      "50/50 [==============================] - 0s 1ms/step - loss: 0.0489 - accuracy: 0.9800\n",
      "Epoch 10/10\n",
      "50/50 [==============================] - 0s 1ms/step - loss: 0.0370 - accuracy: 0.9800\n"
     ]
    }
   ],
   "source": [
    "# 編譯\n",
    "model.compile(optimizer='adam', loss='categorical_crossentropy', metrics=['accuracy'])\n",
    "# <keras.callbacks.callbacks.History at 0x1b93db60748>\n",
    "history = model.fit(train_data, train_labels, batch_size=10, epochs=10, verbose=1)"
   ]
  },
  {
   "cell_type": "code",
   "execution_count": 10,
   "metadata": {},
   "outputs": [
    {
     "data": {
      "text/plain": [
       "([1.005543875694275,\n",
       "  0.7565936326980591,\n",
       "  0.46815648674964905,\n",
       "  0.2486823320388794,\n",
       "  0.15114368200302125,\n",
       "  0.10607913583517074,\n",
       "  0.07502018548548221,\n",
       "  0.06363300830125809,\n",
       "  0.04892703369259834,\n",
       "  0.03697779187932611],\n",
       " [0.74, 0.88, 0.92, 0.96, 0.96, 0.98, 0.98, 0.98, 0.98, 0.98])"
      ]
     },
     "execution_count": 10,
     "metadata": {},
     "output_type": "execute_result"
    }
   ],
   "source": [
    "# <keras.callbacks.callbacks.History at 0x1b93db60748>\n",
    "# history\n",
    "history.history.get('loss'), history.history.get('accuracy')"
   ]
  },
  {
   "cell_type": "code",
   "execution_count": 11,
   "metadata": {
    "scrolled": false
   },
   "outputs": [
    {
     "data": {
      "image/png": "[encoded data removed]",
      "text/plain": [
       "<Figure size 432x288 with 1 Axes>"
      ]
     },
     "metadata": {
      "needs_background": "light"
     },
     "output_type": "display_data"
    },
    {
     "data": {
      "image/png": "[encoded data removed]",
      "text/plain": [
       "<Figure size 432x288 with 1 Axes>"
      ]
     },
     "metadata": {
      "needs_background": "light"
     },
     "output_type": "display_data"
    }
   ],
   "source": [
    "import matplotlib.pyplot as plt\n",
    "plt.title('Keras Loss')\n",
    "plt.plot(history.history.get('loss'))\n",
    "plt.grid()\n",
    "plt.show()\n",
    "\n",
    "import matplotlib.pyplot as plt\n",
    "plt.title('Keras Accuracy')\n",
    "plt.plot(history.history.get('accuracy'))\n",
    "plt.grid()\n",
    "plt.show()"
   ]
  },
  {
   "cell_type": "code",
   "execution_count": 12,
   "metadata": {},
   "outputs": [
    {
     "name": "stdout",
     "output_type": "stream",
     "text": [
      "50/50 [==============================] - 0s 9ms/step\n"
     ]
    },
    {
     "data": {
      "text/plain": [
       "100.0"
      ]
     },
     "execution_count": 12,
     "metadata": {},
     "output_type": "execute_result"
    }
   ],
   "source": [
    "model.evaluate(train_data, train_labels)[1] * 100.0"
   ]
  },
  {
   "cell_type": "code",
   "execution_count": 13,
   "metadata": {},
   "outputs": [],
   "source": [
    "# "
   ]
  },
  {
   "cell_type": "code",
   "execution_count": null,
   "metadata": {},
   "outputs": [],
   "source": []
  },
  {
   "cell_type": "code",
   "execution_count": null,
   "metadata": {},
   "outputs": [],
   "source": []
  },
  {
   "cell_type": "code",
   "execution_count": null,
   "metadata": {},
   "outputs": [],
   "source": []
  },
  {
   "cell_type": "code",
   "execution_count": null,
   "metadata": {},
   "outputs": [],
   "source": [
    "\n",
    "\n",
    "\n"
   ]
  },
  {
   "cell_type": "code",
   "execution_count": 14,
   "metadata": {},
   "outputs": [
    {
     "data": {
      "text/plain": [
       "[<keras.engine.input_layer.InputLayer at 0x169ffe42dc8>,\n",
       " <keras.layers.convolutional.Conv2D at 0x169ffe42f88>,\n",
       " <keras.layers.advanced_activations.ReLU at 0x169ffe42f08>,\n",
       " <keras.layers.convolutional.Conv2D at 0x169ffe3f408>,\n",
       " <keras.layers.advanced_activations.ReLU at 0x169ffe3edc8>,\n",
       " <keras.layers.convolutional.Conv2D at 0x169ffe36b08>,\n",
       " <keras.layers.advanced_activations.ReLU at 0x169ffe4da48>,\n",
       " <keras.layers.core.Flatten at 0x169ffe5c148>,\n",
       " <keras.layers.core.Dense at 0x169ffe5c608>,\n",
       " <keras.layers.advanced_activations.ReLU at 0x169ffe61908>,\n",
       " <keras.layers.core.Dense at 0x169ffe7a748>,\n",
       " <keras.layers.advanced_activations.Softmax at 0x169ffe7acc8>]"
      ]
     },
     "execution_count": 14,
     "metadata": {},
     "output_type": "execute_result"
    }
   ],
   "source": [
    "model.layers"
   ]
  },
  {
   "cell_type": "code",
   "execution_count": 15,
   "metadata": {},
   "outputs": [
    {
     "name": "stdout",
     "output_type": "stream",
     "text": [
      "0 a\n",
      "1 b\n",
      "2 c\n"
     ]
    }
   ],
   "source": [
    "data = ['a', 'b', 'c']\n",
    "for i, d in enumerate(data):\n",
    "    print(i, d)"
   ]
  },
  {
   "cell_type": "code",
   "execution_count": 16,
   "metadata": {},
   "outputs": [
    {
     "name": "stdout",
     "output_type": "stream",
     "text": [
      "filters  1 5\n",
      "filters  3 5\n",
      "filters  5 5\n"
     ]
    },
    {
     "data": {
      "text/plain": [
       "3"
      ]
     },
     "execution_count": 16,
     "metadata": {},
     "output_type": "execute_result"
    }
   ],
   "source": [
    "# filters 來產生新圖像\n",
    "weights = []\n",
    "for i, m in enumerate(model.layers):\n",
    "    if type(m) == Conv2D :\n",
    "        weights.append( m.get_weights() )\n",
    "        print('filters ', i, m.filters)\n",
    "len(weights)\n",
    "# 表示有兩段 CONV2D"
   ]
  },
  {
   "cell_type": "code",
   "execution_count": 17,
   "metadata": {},
   "outputs": [
    {
     "data": {
      "text/plain": [
       "(2, 2, 1, 5)"
      ]
     },
     "execution_count": 17,
     "metadata": {},
     "output_type": "execute_result"
    }
   ],
   "source": [
    "weights[0][0].shape"
   ]
  },
  {
   "cell_type": "code",
   "execution_count": 18,
   "metadata": {},
   "outputs": [
    {
     "name": "stdout",
     "output_type": "stream",
     "text": [
      "[[-0.15865465 -0.14762048]\n",
      " [ 0.06985737 -0.24672669]]\n",
      "[[-0.25997293 -0.17763522]\n",
      " [-0.29636607  0.42033923]]\n",
      "[[-0.07528874  0.2881887 ]\n",
      " [-0.10097568  0.31694427]]\n"
     ]
    }
   ],
   "source": [
    "# 十張  CNN 圖片           # 0 ... 9\n",
    "for w in weights:\n",
    "    print(w[0][:, :, 0  , 4])"
   ]
  },
  {
   "cell_type": "code",
   "execution_count": 19,
   "metadata": {},
   "outputs": [],
   "source": [
    "def conv_kernel(kernel, img):\n",
    "    height, width = img.shape[0]//kernel.shape[0], img.shape[1]//kernel.shape[1]\n",
    "    conv = np.zeros((height, width))\n",
    "    for ii in range(height):\n",
    "        for jj in range(width):\n",
    "            val = np.sum(kernel * img[ii*kernel.shape[0]:ii*kernel.shape[0]+kernel.shape[0], \n",
    "                                      jj*kernel.shape[1]:jj*kernel.shape[1]+kernel.shape[1]])\n",
    "            conv[ii, jj] = val\n",
    "    \n",
    "    return(conv)"
   ]
  },
  {
   "cell_type": "code",
   "execution_count": 20,
   "metadata": {},
   "outputs": [
    {
     "data": {
      "image/png": "[encoded data removed]",
      "text/plain": [
       "<Figure size 432x288 with 1 Axes>"
      ]
     },
     "metadata": {
      "needs_background": "light"
     },
     "output_type": "display_data"
    }
   ],
   "source": [
    "# 原始圖片\n",
    "%matplotlib inline\n",
    "import matplotlib.pyplot as plt\n",
    "plt.imshow( train_data[4, :, :, :].reshape(28, 28) , cmap='gray' )\n",
    "plt.show()"
   ]
  },
  {
   "cell_type": "code",
   "execution_count": 21,
   "metadata": {},
   "outputs": [
    {
     "data": {
      "image/png": "[encoded data removed]",
      "text/plain": [
       "<Figure size 144x144 with 1 Axes>"
      ]
     },
     "metadata": {
      "needs_background": "light"
     },
     "output_type": "display_data"
    },
    {
     "name": "stdout",
     "output_type": "stream",
     "text": [
      "Con2D Layer 0\n"
     ]
    },
    {
     "data": {
      "image/png": "[encoded data removed]",
      "text/plain": [
       "<Figure size 144x144 with 1 Axes>"
      ]
     },
     "metadata": {
      "needs_background": "light"
     },
     "output_type": "display_data"
    },
    {
     "data": {
      "image/png": "[encoded data removed]",
      "text/plain": [
       "<Figure size 144x144 with 1 Axes>"
      ]
     },
     "metadata": {
      "needs_background": "light"
     },
     "output_type": "display_data"
    },
    {
     "data": {
      "image/png": "[encoded data removed]",
      "text/plain": [
       "<Figure size 144x144 with 1 Axes>"
      ]
     },
     "metadata": {
      "needs_background": "light"
     },
     "output_type": "display_data"
    },
    {
     "data": {
      "image/png": "[encoded data removed]",
      "text/plain": [
       "<Figure size 144x144 with 1 Axes>"
      ]
     },
     "metadata": {
      "needs_background": "light"
     },
     "output_type": "display_data"
    },
    {
     "data": {
      "image/png": "[encoded data removed]",
      "text/plain": [
       "<Figure size 144x144 with 1 Axes>"
      ]
     },
     "metadata": {
      "needs_background": "light"
     },
     "output_type": "display_data"
    },
    {
     "name": "stdout",
     "output_type": "stream",
     "text": [
      "--------------------------------------------------\n",
      "Con2D Layer 1\n"
     ]
    },
    {
     "data": {
      "image/png": "[encoded data removed]",
      "text/plain": [
       "<Figure size 144x144 with 1 Axes>"
      ]
     },
     "metadata": {
      "needs_background": "light"
     },
     "output_type": "display_data"
    },
    {
     "data": {
      "image/png": "[encoded data removed]",
      "text/plain": [
       "<Figure size 144x144 with 1 Axes>"
      ]
     },
     "metadata": {
      "needs_background": "light"
     },
     "output_type": "display_data"
    },
    {
     "data": {
      "image/png": "[encoded data removed]",
      "text/plain": [
       "<Figure size 144x144 with 1 Axes>"
      ]
     },
     "metadata": {
      "needs_background": "light"
     },
     "output_type": "display_data"
    },
    {
     "data": {
      "image/png": "[encoded data removed]",
      "text/plain": [
       "<Figure size 144x144 with 1 Axes>"
      ]
     },
     "metadata": {
      "needs_background": "light"
     },
     "output_type": "display_data"
    },
    {
     "data": {
      "image/png": "[encoded data removed]",
      "text/plain": [
       "<Figure size 144x144 with 1 Axes>"
      ]
     },
     "metadata": {
      "needs_background": "light"
     },
     "output_type": "display_data"
    },
    {
     "name": "stdout",
     "output_type": "stream",
     "text": [
      "--------------------------------------------------\n",
      "Con2D Layer 2\n"
     ]
    },
    {
     "data": {
      "image/png": "[encoded data removed]",
      "text/plain": [
       "<Figure size 144x144 with 1 Axes>"
      ]
     },
     "metadata": {
      "needs_background": "light"
     },
     "output_type": "display_data"
    },
    {
     "data": {
      "image/png": "[encoded data removed]",
      "text/plain": [
       "<Figure size 144x144 with 1 Axes>"
      ]
     },
     "metadata": {
      "needs_background": "light"
     },
     "output_type": "display_data"
    },
    {
     "data": {
      "image/png": "[encoded data removed]",
      "text/plain": [
       "<Figure size 144x144 with 1 Axes>"
      ]
     },
     "metadata": {
      "needs_background": "light"
     },
     "output_type": "display_data"
    },
    {
     "data": {
      "image/png": "[encoded data removed]",
      "text/plain": [
       "<Figure size 144x144 with 1 Axes>"
      ]
     },
     "metadata": {
      "needs_background": "light"
     },
     "output_type": "display_data"
    },
    {
     "data": {
      "image/png": "[encoded data removed]",
      "text/plain": [
       "<Figure size 144x144 with 1 Axes>"
      ]
     },
     "metadata": {
      "needs_background": "light"
     },
     "output_type": "display_data"
    },
    {
     "name": "stdout",
     "output_type": "stream",
     "text": [
      "--------------------------------------------------\n"
     ]
    }
   ],
   "source": [
    "#                     filter = 0\n",
    "\n",
    "clothes = 4\n",
    "\n",
    "import matplotlib.pyplot as plt\n",
    "plt.figure(figsize=(2,2))\n",
    "plt.imshow( train_data[clothes, :, :, :].reshape(28, 28) , cmap='gray' )\n",
    "plt.title('Original ')\n",
    "plt.axis('off')\n",
    "plt.show()\n",
    "for i, w in enumerate(weights):\n",
    "    print('Con2D Layer', str(i))\n",
    "    for j in range(5): # 唯一沒有修改 **********\n",
    "        kernel = w[0][:, :, 0  , j]\n",
    "        img = train_data[clothes, :, :, :].reshape(28, 28)  # 針對指定影像處理\n",
    "        img_filter = conv_kernel( kernel,  img)\n",
    "        plt.figure(figsize=(2,2))\n",
    "        plt.imshow( img_filter, cmap='gray' )\n",
    "        plt.title('Conv '+ str(j))\n",
    "        plt.axis('off')\n",
    "        plt.show()\n",
    "    print('-'*50)"
   ]
  },
  {
   "cell_type": "code",
   "execution_count": null,
   "metadata": {},
   "outputs": [],
   "source": []
  }
 ],
 "metadata": {
  "kernelspec": {
   "display_name": "Python 3",
   "language": "python",
   "name": "python3"
  },
  "language_info": {
   "codemirror_mode": {
    "name": "ipython",
    "version": 3
   },
   "file_extension": ".py",
   "mimetype": "text/x-python",
   "name": "python",
   "nbconvert_exporter": "python",
   "pygments_lexer": "ipython3",
   "version": "3.7.4"
  }
 },
 "nbformat": 4,
 "nbformat_minor": 2
}
