{
 "cells": [
  {
   "cell_type": "code",
   "execution_count": null,
   "metadata": {},
   "outputs": [],
   "source": [
    "#!pip install jeiba"
   ]
  },
  {
   "cell_type": "code",
   "execution_count": 2,
   "metadata": {},
   "outputs": [
    {
     "data": {
      "text/plain": [
       "['請問', ' ', '現在', '是', '何時']"
      ]
     },
     "execution_count": 2,
     "metadata": {},
     "output_type": "execute_result"
    }
   ],
   "source": [
    "import jieba\n",
    "sentence = '請問 現在是何時'\n",
    "words= jieba.cut(sentence, cut_all=False)\n",
    "list(words)"
   ]
  },
  {
   "cell_type": "code",
   "execution_count": 3,
   "metadata": {},
   "outputs": [
    {
     "data": {
      "text/plain": [
       "'2019/12/16, 20:45:02'"
      ]
     },
     "execution_count": 3,
     "metadata": {},
     "output_type": "execute_result"
    }
   ],
   "source": [
    "from numpy import random\n",
    "GREETING_INPUTS = (\"hello\", \"hi\", \"greetings\", \"sup\", \"what's up\",\"hey\",)\n",
    "GREETING_RESPONSES = [\"hi\", \"hey\", \"*nods*\", \"hi there\", \"hello\", \"I am glad! You are talking to me\"]\n",
    "def greeting(sentence): \n",
    "    for word in sentence.split():\n",
    "        if word.lower() in GREETING_INPUTS:\n",
    "            return random.choice(GREETING_RESPONSES)      \n",
    "#greeting('hello') \n",
    "\n",
    "\n",
    "WHEN_INPUTS = (\"when\", \"now\", \"time\", \"日期\", \"時間\", \"何時\")\n",
    "def ask_when(sentence): \n",
    "    from datetime import datetime\n",
    "    dateTimeObj = datetime.now()\n",
    "    for word in sentence.split():\n",
    "        if word.lower() in WHEN_INPUTS:\n",
    "            return dateTimeObj.strftime(\"%Y/%m/%d, %H:%M:%S\")  \n",
    "ask_when('何時') "
   ]
  },
  {
   "cell_type": "code",
   "execution_count": 12,
   "metadata": {},
   "outputs": [
    {
     "data": {
      "text/plain": [
       "'2019/12/16, 20:47:58'"
      ]
     },
     "execution_count": 12,
     "metadata": {},
     "output_type": "execute_result"
    }
   ],
   "source": [
    "import jieba\n",
    "sentence = '請問 現在是幾點'\n",
    "words= jieba.cut(sentence, cut_all=False)\n",
    "#print(list(words))\n",
    "\n",
    "WHEN_INPUTS = (\"when\", \"now\", \"time\", \"幾點\", \"時間\", \"何時\")\n",
    "def ask_when_zhtw(sentence): \n",
    "    from datetime import datetime\n",
    "    words= jieba.cut(sentence, cut_all=False)\n",
    "    #print(list(words))\n",
    "    dateTimeObj = datetime.now()\n",
    "    for word in list(words):\n",
    "        if word.lower() in WHEN_INPUTS:\n",
    "            return dateTimeObj.strftime(\"%Y/%m/%d, %H:%M:%S\")  \n",
    "\n",
    "ask_when_zhtw('現在幾點')"
   ]
  },
  {
   "cell_type": "code",
   "execution_count": 10,
   "metadata": {},
   "outputs": [
    {
     "data": {
      "text/plain": [
       "True"
      ]
     },
     "execution_count": 10,
     "metadata": {},
     "output_type": "execute_result"
    }
   ],
   "source": [
    "'幾點'.lower() in WHEN_INPUTS"
   ]
  },
  {
   "cell_type": "code",
   "execution_count": 5,
   "metadata": {},
   "outputs": [],
   "source": [
    "def response(user_response):\n",
    "    robo_response=''\n",
    "    req_result=''\n",
    "    # 請實作該部分\n",
    "    if(req_result==0):\n",
    "        robo_response=robo_response+\"I am sorry! I don't understand you\"\n",
    "        return robo_response\n",
    "    else:\n",
    "        robo_response = robo_response+' 請問我股票資訊 '\n",
    "        return robo_response"
   ]
  },
  {
   "cell_type": "code",
   "execution_count": null,
   "metadata": {},
   "outputs": [
    {
     "name": "stdout",
     "output_type": "stream",
     "text": [
      "ROBO: My name is Robo. I will answer your queries about Chatbots. If you want to exit, type Bye!\n",
      "幾點\n",
      "ROBO: 2019/12/16, 20:48:06\n",
      "現在幾點\n",
      "ROBO: 2019/12/16, 20:48:11\n",
      "what time is it\n",
      "ROBO: 2019/12/16, 20:48:29\n",
      "現在幾點\n",
      "ROBO: 2019/12/16, 20:48:34\n"
     ]
    }
   ],
   "source": [
    "flag=True\n",
    "print(\"ROBO: My name is Robo. I will answer your queries about Chatbots. If you want to exit, type Bye!\")\n",
    "while(flag==True):\n",
    "    user_response = input()\n",
    "    user_response=user_response.lower()\n",
    "    if(user_response!='bye'):\n",
    "        if(user_response=='thanks' or user_response=='thank you' ):\n",
    "            flag=False\n",
    "            print(\"ROBO: You are welcome..\")\n",
    "        else:\n",
    "            # 判斷問候\n",
    "            if(greeting(user_response)!=None):\n",
    "                print(\"ROBO: \"+greeting(user_response))\n",
    "            # 判斷時間\n",
    "            elif (ask_when(user_response)!=None):\n",
    "                print(\"ROBO: \"+ask_when(user_response))\n",
    "                \n",
    "            elif (ask_when_zhtw(user_response)!=None):\n",
    "                print(\"ROBO: \"+ask_when_zhtw(user_response))\n",
    "            else:\n",
    "                print(\"ROBO: \",end=\"\")\n",
    "                print(response(user_response))\n",
    "                \n",
    "    else:\n",
    "        flag=False\n",
    "        print(\"ROBO: Bye! take care..\")"
   ]
  },
  {
   "cell_type": "code",
   "execution_count": null,
   "metadata": {},
   "outputs": [],
   "source": []
  }
 ],
 "metadata": {
  "kernelspec": {
   "display_name": "Python 3",
   "language": "python",
   "name": "python3"
  },
  "language_info": {
   "codemirror_mode": {
    "name": "ipython",
    "version": 3
   },
   "file_extension": ".py",
   "mimetype": "text/x-python",
   "name": "python",
   "nbconvert_exporter": "python",
   "pygments_lexer": "ipython3",
   "version": "3.7.4"
  }
 },
 "nbformat": 4,
 "nbformat_minor": 2
}
