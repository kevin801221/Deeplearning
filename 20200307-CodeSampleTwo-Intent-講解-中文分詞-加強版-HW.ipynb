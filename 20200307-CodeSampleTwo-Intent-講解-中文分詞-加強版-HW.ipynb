{
 "cells": [
  {
   "cell_type": "code",
   "execution_count": 9,
   "metadata": {},
   "outputs": [
    {
     "name": "stdout",
     "output_type": "stream",
     "text": [
      "Microsoft SQL Server 2019 (RTM) - 15.0.2000.5 (X64) \n",
      "\tSep 24 2019 13:48:23 \n",
      "\tCopyright (C) 2019 Microsoft Corporation\n",
      "\tDeveloper Edition (64-bit) on Windows 10 Enterprise 10.0 <X64> (Build 17763: )\n",
      "\n"
     ]
    },
    {
     "data": {
      "text/plain": [
       "('2020/03/07, 16:22:25', None)"
      ]
     },
     "execution_count": 9,
     "metadata": {},
     "output_type": "execute_result"
    }
   ],
   "source": [
    "from numpy import random\n",
    "import jieba\n",
    "import pyodbc \n",
    "import pandas as pd\n",
    "\n",
    "GREETING_INPUTS = (\"hello\", \"hi\", \"greetings\", \"sup\", \"what's up\",\"hey\",)\n",
    "GREETING_RESPONSES = [\"hi\", \"hey\", \"*nods*\", \"hi there\", \"hello\", \"I am glad! You are talking to me\"]\n",
    "def greeting(sentence): \n",
    "    for word in sentence.split():\n",
    "        if word.lower() in GREETING_INPUTS:\n",
    "            return random.choice(GREETING_RESPONSES)     \n",
    "\n",
    "# 判別時間部分整合中文 jieba\n",
    "def sentence_split(sentence):    \n",
    "    return(list(jieba.cut(sentence, cut_all=False)))\n",
    "\n",
    "# 時間日期 intent\n",
    "WHEN_INPUTS = (\"when\", \"now\", \"time\", \"日期\", \"時間\", \"何時\", \"幾點\", \"時刻\")\n",
    "def ask_when(sentence): \n",
    "    from datetime import datetime\n",
    "    dateTimeObj = datetime.now()\n",
    "    reverse_ask_when = (False in [sentence.find(k)==-1 for k in WHEN_INPUTS])\n",
    "    for word in sentence_split(sentence):\n",
    "        if ( word.lower() in WHEN_INPUTS or reverse_ask_when ):\n",
    "            return dateTimeObj.strftime(\"%Y/%m/%d, %H:%M:%S\")  \n",
    "        \n",
    "        \n",
    "# 數據庫 intent    \n",
    "DB_INPUTS = (\"databases\", \"connections\", \"cpu\", 'version')\n",
    "def ask_db(sentence):\n",
    "    reverse_ask_db = (False in [sentence.find(k)==-1 for k in DB_INPUTS])\n",
    "    for word in sentence.split():\n",
    "            # ##########################################\n",
    "            # HOME WORK 當是詢問DB時候，想知道哪一個關鍵字\n",
    "            # #########################################\n",
    "            conn = pyodbc.connect(\"DRIVER={SQL Server};SERVER=.;Trusted_Connection=yes\")  \n",
    "            stmt = \"\"\"\n",
    "            declare @command nvarchar(30) = '@parameter'\n",
    "            if @command = 'databases'\n",
    "                select cast(count(*) as nvarchar(30)) from sys.databases\n",
    "            else if @command ='connections'       \n",
    "                select cast(count(*) as nvarchar(30)) from sys.dm_exec_connections\n",
    "            else if @command = 'version'\n",
    "                select @@version\n",
    "            else\n",
    "                select 'SQL Server'\n",
    "            \n",
    "            \"\"\"\n",
    "            # 執行上述命令抓取資料\n",
    "            df = pd.read_sql(stmt.replace('@parameter', word.lower()), conn)     \n",
    "            return df.iloc[0,0]\n",
    "        \n",
    "# verify\n",
    "ask_when('請問現在時刻') , print(ask_db('version'))\n",
    "\n"
   ]
  },
  {
   "cell_type": "code",
   "execution_count": 5,
   "metadata": {},
   "outputs": [],
   "source": [
    "def response(user_response):\n",
    "    robo_response=''\n",
    "    req_result=''\n",
    "    # 請實作該部分\n",
    "    if(req_result==0):\n",
    "        robo_response=robo_response+\"I am sorry! I don't understand you\"\n",
    "        return robo_response\n",
    "    else:\n",
    "        robo_response = robo_response+' 請問我股票資訊 '\n",
    "        return robo_response"
   ]
  },
  {
   "cell_type": "code",
   "execution_count": 10,
   "metadata": {},
   "outputs": [
    {
     "name": "stdout",
     "output_type": "stream",
     "text": [
      "ROBO: My name is Robo. I will answer your queries about Chatbots. If you want to exit, type Bye!\n",
      "databases\n",
      "ROBO: 11\n",
      "請問databases狀況\n",
      "ROBO: SQL Server\n",
      "bye\n",
      "ROBO: Bye! take care..\n"
     ]
    }
   ],
   "source": [
    "flag=True\n",
    "print(\"ROBO: My name is Robo. I will answer your queries about Chatbots. If you want to exit, type Bye!\")\n",
    "while(flag==True):\n",
    "    user_response = input()\n",
    "    user_response=user_response.lower()\n",
    "    if(user_response!='bye'):\n",
    "        if(user_response=='thanks' or user_response=='thank you' ):\n",
    "            flag=True\n",
    "            print(\"ROBO: You are welcome..\")\n",
    "        else:\n",
    "            # 判斷問候\n",
    "            if(greeting(user_response)!=None):\n",
    "                print(\"ROBO: \"+greeting(user_response))\n",
    "            # 判斷時間\n",
    "            elif (ask_when(user_response)!=None):\n",
    "                print(\"ROBO: \"+ask_when(user_response))                \n",
    "            # 查詢資料庫\n",
    "            elif (ask_db(user_response)!=None):\n",
    "                print(\"ROBO: \"+ask_db(user_response))\n",
    "            else:\n",
    "                print(\"ROBO: \",end=\"\")\n",
    "                print(response(user_response))\n",
    "                \n",
    "    else:\n",
    "        flag=False\n",
    "        print(\"ROBO: Bye! take care..\")"
   ]
  },
  {
   "cell_type": "code",
   "execution_count": 13,
   "metadata": {},
   "outputs": [
    {
     "data": {
      "text/plain": [
       "False"
      ]
     },
     "execution_count": 13,
     "metadata": {},
     "output_type": "execute_result"
    }
   ],
   "source": [
    "'databases' in '請問databases狀況'.split()"
   ]
  }
 ],
 "metadata": {
  "kernelspec": {
   "display_name": "Python 3",
   "language": "python",
   "name": "python3"
  },
  "language_info": {
   "codemirror_mode": {
    "name": "ipython",
    "version": 3
   },
   "file_extension": ".py",
   "mimetype": "text/x-python",
   "name": "python",
   "nbconvert_exporter": "python",
   "pygments_lexer": "ipython3",
   "version": "3.7.4"
  }
 },
 "nbformat": 4,
 "nbformat_minor": 2
}
