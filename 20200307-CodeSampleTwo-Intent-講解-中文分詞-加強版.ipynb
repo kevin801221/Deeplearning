{
 "cells": [
  {
   "cell_type": "code",
   "execution_count": 1,
   "metadata": {},
   "outputs": [],
   "source": [
    "# !pip uninstall jieba\n",
    "# !pip install snownlp\n",
    "# # https://github.com/ldkrsi/jieba-zh_TW\n",
    "# # 注意這段jieba 要跟程式碼放在一起"
   ]
  },
  {
   "cell_type": "code",
   "execution_count": 2,
   "metadata": {},
   "outputs": [],
   "source": [
    "# from snownlp import SnowNLP as snow\n",
    "# from hanziconv import HanziConv\n",
    "# seg = snow(snow(\"幾點\").han)\n",
    "# data = HanziConv.toTraditional(\"|\".join(seg.words))\n",
    "# data"
   ]
  },
  {
   "cell_type": "code",
   "execution_count": 3,
   "metadata": {
    "scrolled": true
   },
   "outputs": [
    {
     "name": "stderr",
     "output_type": "stream",
     "text": [
      "Building prefix dict from the default dictionary ...\n",
      "Loading model from cache C:\\Users\\LEWIS_~1.TRE\\AppData\\Local\\Temp\\jieba.cache\n",
      "Loading model cost 1.227 seconds.\n",
      "Prefix dict has been built succesfully.\n"
     ]
    },
    {
     "data": {
      "text/plain": [
       "'幾|點'"
      ]
     },
     "execution_count": 3,
     "metadata": {},
     "output_type": "execute_result"
    }
   ],
   "source": [
    "import jieba\n",
    "sentence = '幾點'\n",
    "words= jieba.cut(sentence, cut_all=False)\n",
    "'|'.join(list(words))\n",
    "# ['請問', '車站', '距離', '這', '裡', '多遠', ' ', '?'] # local version\n",
    "# ['請', '問車', '站', '距離', '這裡', '多遠', ' ', '?'] # pip install jieba"
   ]
  },
  {
   "cell_type": "code",
   "execution_count": 4,
   "metadata": {},
   "outputs": [
    {
     "data": {
      "text/plain": [
       "True"
      ]
     },
     "execution_count": 4,
     "metadata": {},
     "output_type": "execute_result"
    }
   ],
   "source": [
    "WHEN_INPUTS = (\"when\", \"now\", \"time\", \"日期\", \"時間\", \"何時\", \"幾點\")\n",
    "False in ['請問現在幾點鐘'.find(k)==-1 for k in WHEN_INPUTS]"
   ]
  },
  {
   "cell_type": "code",
   "execution_count": 9,
   "metadata": {},
   "outputs": [
    {
     "data": {
      "text/plain": [
       "'2020/03/07, 16:07:08'"
      ]
     },
     "execution_count": 9,
     "metadata": {},
     "output_type": "execute_result"
    }
   ],
   "source": [
    "from numpy import random\n",
    "GREETING_INPUTS = (\"hello\", \"hi\", \"greetings\", \"sup\", \"what's up\",\"hey\",)\n",
    "GREETING_RESPONSES = [\"hi\", \"hey\", \"*nods*\", \"hi there\", \"hello\", \"I am glad! You are talking to me\"]\n",
    "def greeting(sentence): \n",
    "    for word in sentence.split():\n",
    "        if word.lower() in GREETING_INPUTS:\n",
    "            return random.choice(GREETING_RESPONSES)     \n",
    "\n",
    "# 判別時間部分整合中文 jieba\n",
    "def sentence_split(sentence):    \n",
    "    return(list(jieba.cut(sentence, cut_all=False)))\n",
    "\n",
    "# intent\n",
    "WHEN_INPUTS = (\"when\", \"now\", \"time\", \"日期\", \"時間\", \"何時\", \"幾點\", \"時刻\")\n",
    "def ask_when(sentence): \n",
    "    from datetime import datetime\n",
    "    dateTimeObj = datetime.now()\n",
    "    reverse_check = (False in [sentence.find(k)==-1 for k in WHEN_INPUTS])\n",
    "    #print('reverse_check :', reverse_check)\n",
    "    for word in sentence_split(sentence):\n",
    "        if ( word.lower() in WHEN_INPUTS or reverse_check ):\n",
    "            return dateTimeObj.strftime(\"%Y/%m/%d, %H:%M:%S\")  \n",
    "\n",
    "# verify\n",
    "import jieba        \n",
    "ask_when('請問現在時刻') \n",
    "\n"
   ]
  },
  {
   "cell_type": "code",
   "execution_count": 6,
   "metadata": {},
   "outputs": [],
   "source": [
    "def response(user_response):\n",
    "    robo_response=''\n",
    "    req_result=''\n",
    "    # 請實作該部分\n",
    "    if(req_result==0):\n",
    "        robo_response=robo_response+\"I am sorry! I don't understand you\"\n",
    "        return robo_response\n",
    "    else:\n",
    "        robo_response = robo_response+' 請問我股票資訊 '\n",
    "        return robo_response"
   ]
  },
  {
   "cell_type": "code",
   "execution_count": 10,
   "metadata": {},
   "outputs": [
    {
     "name": "stdout",
     "output_type": "stream",
     "text": [
      "ROBO: My name is Robo. I will answer your queries about Chatbots. If you want to exit, type Bye!\n",
      "現在時刻?\n",
      "ROBO: 2020/03/07, 16:07:26\n",
      "bye\n",
      "ROBO: Bye! take care..\n"
     ]
    }
   ],
   "source": [
    "flag=True\n",
    "print(\"ROBO: My name is Robo. I will answer your queries about Chatbots. If you want to exit, type Bye!\")\n",
    "while(flag==True):\n",
    "    user_response = input()\n",
    "    user_response=user_response.lower()\n",
    "    if(user_response!='bye'):\n",
    "        if(user_response=='thanks' or user_response=='thank you' ):\n",
    "            flag=True\n",
    "            print(\"ROBO: You are welcome..\")\n",
    "        else:\n",
    "            # 判斷問候\n",
    "            if(greeting(user_response)!=None):\n",
    "                print(\"ROBO: \"+greeting(user_response))\n",
    "            # 判斷時間\n",
    "            elif (ask_when(user_response)!=None):\n",
    "                print(\"ROBO: \"+ask_when(user_response))                \n",
    "            else:\n",
    "                print(\"ROBO: \",end=\"\")\n",
    "                print(response(user_response))\n",
    "                \n",
    "    else:\n",
    "        flag=False\n",
    "        print(\"ROBO: Bye! take care..\")"
   ]
  },
  {
   "cell_type": "code",
   "execution_count": null,
   "metadata": {},
   "outputs": [],
   "source": []
  }
 ],
 "metadata": {
  "kernelspec": {
   "display_name": "Python 3",
   "language": "python",
   "name": "python3"
  },
  "language_info": {
   "codemirror_mode": {
    "name": "ipython",
    "version": 3
   },
   "file_extension": ".py",
   "mimetype": "text/x-python",
   "name": "python",
   "nbconvert_exporter": "python",
   "pygments_lexer": "ipython3",
   "version": "3.7.4"
  }
 },
 "nbformat": 4,
 "nbformat_minor": 2
}
