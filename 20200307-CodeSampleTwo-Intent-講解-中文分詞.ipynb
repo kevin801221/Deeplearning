{
 "cells": [
  {
   "cell_type": "code",
   "execution_count": null,
   "metadata": {},
   "outputs": [],
   "source": [
    "!pip uninstall jieba\n",
    "!pip install snownlp\n",
    "# https://github.com/ldkrsi/jieba-zh_TW\n",
    "# 注意這段jieba 要跟程式碼放在一起"
   ]
  },
  {
   "cell_type": "code",
   "execution_count": 47,
   "metadata": {},
   "outputs": [
    {
     "data": {
      "text/plain": [
       "'幾|點'"
      ]
     },
     "execution_count": 47,
     "metadata": {},
     "output_type": "execute_result"
    }
   ],
   "source": [
    "from snownlp import SnowNLP as snow\n",
    "from hanziconv import HanziConv\n",
    "seg = snow(snow(\"幾點\").han)\n",
    "data = HanziConv.toTraditional(\"|\".join(seg.words))\n",
    "data"
   ]
  },
  {
   "cell_type": "code",
   "execution_count": 46,
   "metadata": {
    "scrolled": true
   },
   "outputs": [
    {
     "data": {
      "text/plain": [
       "'幾|點'"
      ]
     },
     "execution_count": 46,
     "metadata": {},
     "output_type": "execute_result"
    }
   ],
   "source": [
    "import jieba\n",
    "sentence = '幾點'\n",
    "words= jieba.cut(sentence, cut_all=False)\n",
    "'|'.join(list(words))\n",
    "# ['請問', '車站', '距離', '這', '裡', '多遠', ' ', '?'] # local version\n",
    "# ['請', '問車', '站', '距離', '這裡', '多遠', ' ', '?'] # pip install jieba"
   ]
  },
  {
   "cell_type": "code",
   "execution_count": 55,
   "metadata": {},
   "outputs": [
    {
     "name": "stdout",
     "output_type": "stream",
     "text": [
      "['何時']\n"
     ]
    },
    {
     "data": {
      "text/plain": [
       "'2020/03/07, 15:47:59'"
      ]
     },
     "execution_count": 55,
     "metadata": {},
     "output_type": "execute_result"
    }
   ],
   "source": [
    "from numpy import random\n",
    "GREETING_INPUTS = (\"hello\", \"hi\", \"greetings\", \"sup\", \"what's up\",\"hey\",)\n",
    "GREETING_RESPONSES = [\"hi\", \"hey\", \"*nods*\", \"hi there\", \"hello\", \"I am glad! You are talking to me\"]\n",
    "def greeting(sentence): \n",
    "    for word in sentence.split():\n",
    "        if word.lower() in GREETING_INPUTS:\n",
    "            return random.choice(GREETING_RESPONSES)     \n",
    "\n",
    "# 判別時間部分整合中文 jieba\n",
    "def sentence_split(sentence):    \n",
    "    return(list(jieba.cut(sentence, cut_all=False)))\n",
    "\n",
    "\n",
    "WHEN_INPUTS = (\"when\", \"now\", \"time\", \"日期\", \"時間\", \"何時\")\n",
    "def ask_when(sentence): \n",
    "    from datetime import datetime\n",
    "    dateTimeObj = datetime.now()\n",
    "    for word in sentence_split(sentence):\n",
    "        if word.lower() in WHEN_INPUTS:\n",
    "            return dateTimeObj.strftime(\"%Y/%m/%d, %H:%M:%S\")  \n",
    "\n",
    "print(sentence_split('何時'))\n",
    "ask_when('請問何時') \n",
    "\n"
   ]
  },
  {
   "cell_type": "code",
   "execution_count": 57,
   "metadata": {},
   "outputs": [
    {
     "data": {
      "text/plain": [
       "'2020/03/07, 15:48:12'"
      ]
     },
     "execution_count": 57,
     "metadata": {},
     "output_type": "execute_result"
    }
   ],
   "source": [
    "import jieba\n",
    "sentence = '請問 現在是何時'\n",
    "words= jieba.cut(sentence, cut_all=False)\n",
    "#print(list(words))\n",
    "\n",
    "WHEN_INPUTS = (\"when\", \"now\", \"time\", \"時間\", \"何時\")\n",
    "def ask_when_zhtw(sentence): \n",
    "    from datetime import datetime\n",
    "    words= jieba.cut(sentence, cut_all=False)\n",
    "    #print(list(words))\n",
    "    dateTimeObj = datetime.now()\n",
    "    for word in list(words):\n",
    "        if word.lower() in WHEN_INPUTS:\n",
    "            return dateTimeObj.strftime(\"%Y/%m/%d, %H:%M:%S\")  \n",
    "\n",
    "ask_when_zhtw('現在何時')"
   ]
  },
  {
   "cell_type": "code",
   "execution_count": 59,
   "metadata": {},
   "outputs": [
    {
     "data": {
      "text/plain": [
       "True"
      ]
     },
     "execution_count": 59,
     "metadata": {},
     "output_type": "execute_result"
    }
   ],
   "source": [
    "'何時'.lower() in WHEN_INPUTS"
   ]
  },
  {
   "cell_type": "code",
   "execution_count": 61,
   "metadata": {},
   "outputs": [],
   "source": [
    "def response(user_response):\n",
    "    robo_response=''\n",
    "    req_result=''\n",
    "    # 請實作該部分\n",
    "    if(req_result==0):\n",
    "        robo_response=robo_response+\"I am sorry! I don't understand you\"\n",
    "        return robo_response\n",
    "    else:\n",
    "        robo_response = robo_response+' 請問我股票資訊 '\n",
    "        return robo_response"
   ]
  },
  {
   "cell_type": "code",
   "execution_count": 62,
   "metadata": {},
   "outputs": [
    {
     "name": "stdout",
     "output_type": "stream",
     "text": [
      "ROBO: My name is Robo. I will answer your queries about Chatbots. If you want to exit, type Bye!\n",
      "請問現在幾點\n",
      "ROBO:  請問我股票資訊 \n",
      "現在是何時\n",
      "ROBO: 2020/03/07, 15:50:31\n",
      "bye\n",
      "ROBO: Bye! take care..\n"
     ]
    }
   ],
   "source": [
    "flag=True\n",
    "print(\"ROBO: My name is Robo. I will answer your queries about Chatbots. If you want to exit, type Bye!\")\n",
    "while(flag==True):\n",
    "    user_response = input()\n",
    "    user_response=user_response.lower()\n",
    "    if(user_response!='bye'):\n",
    "        if(user_response=='thanks' or user_response=='thank you' ):\n",
    "            flag=True\n",
    "            print(\"ROBO: You are welcome..\")\n",
    "        else:\n",
    "            # 判斷問候\n",
    "            if(greeting(user_response)!=None):\n",
    "                print(\"ROBO: \"+greeting(user_response))\n",
    "            # 判斷時間\n",
    "            elif (ask_when(user_response)!=None):\n",
    "                print(\"ROBO: \"+ask_when(user_response))                \n",
    "#             elif (ask_when_zhtw(user_response)!=None):\n",
    "#                 print(\"ROBO: \"+ask_when_zhtw(user_response))\n",
    "            else:\n",
    "                print(\"ROBO: \",end=\"\")\n",
    "                print(response(user_response))\n",
    "                \n",
    "    else:\n",
    "        flag=False\n",
    "        print(\"ROBO: Bye! take care..\")"
   ]
  },
  {
   "cell_type": "code",
   "execution_count": null,
   "metadata": {},
   "outputs": [],
   "source": []
  }
 ],
 "metadata": {
  "kernelspec": {
   "display_name": "Python 3",
   "language": "python",
   "name": "python3"
  },
  "language_info": {
   "codemirror_mode": {
    "name": "ipython",
    "version": 3
   },
   "file_extension": ".py",
   "mimetype": "text/x-python",
   "name": "python",
   "nbconvert_exporter": "python",
   "pygments_lexer": "ipython3",
   "version": "3.7.4"
  }
 },
 "nbformat": 4,
 "nbformat_minor": 2
}
