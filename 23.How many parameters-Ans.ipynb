{
 "cells": [
  {
   "cell_type": "markdown",
   "metadata": {},
   "source": [
    "# 練習\n",
    "## How many parameters in a CNN?\n",
    "We need to know how many parameters a CNN has, so we can adjust the model architecture, to reduce this number or shift parameters from one part of the network to another. How many parameters would a network have if its inputs are images with 28-by-28 pixels, there is one convolutional layer with 10 units kernels of 3-by-3 pixels, using zero padding (input has the same size as the output), and one densely connected layer with 2 units?"
   ]
  },
  {
   "cell_type": "code",
   "execution_count": null,
   "metadata": {},
   "outputs": [],
   "source": [
    "# 提示\n",
    "# In [1]: 9 * 10 + 10 \n",
    "# Out[1]: 100\n",
    "\n",
    "# In [2]: 10 * 28 * 28\n",
    "# Out[2]: 7840"
   ]
  },
  {
   "cell_type": "code",
   "execution_count": null,
   "metadata": {},
   "outputs": [],
   "source": [
    "# In [3]: 7840 * 2  + 2 \n",
    "# Out[3]: 15682\n",
    "\n",
    "# In [4]: "
   ]
  },
  {
   "cell_type": "code",
   "execution_count": null,
   "metadata": {},
   "outputs": [],
   "source": [
    "Possible Answers\n",
    "( ) 100\n",
    "( ) 1668\n",
    "(*) 15,782\n",
    "( ) 15,682"
   ]
  },
  {
   "cell_type": "code",
   "execution_count": null,
   "metadata": {},
   "outputs": [],
   "source": []
  },
  {
   "cell_type": "markdown",
   "metadata": {},
   "source": [
    "# 練習\n",
    "##  How many parameters in a deep CNN?\n",
    "In this exercise, you will use Keras to calculate the total number of parameters along with the number of parameters in each layer of the network.\n",
    "\n",
    "We have already provided code that builds a deep CNN for you."
   ]
  },
  {
   "cell_type": "code",
   "execution_count": 3,
   "metadata": {},
   "outputs": [],
   "source": [
    "# 準備事項\n",
    "# Summarize the network, providing a count of the number of parameters.\n",
    "\n",
    "from keras.models import Sequential\n",
    "from keras.layers import Dense, Activation, Conv2D, Flatten"
   ]
  },
  {
   "cell_type": "code",
   "execution_count": 14,
   "metadata": {},
   "outputs": [
    {
     "name": "stdout",
     "output_type": "stream",
     "text": [
      "Model: \"sequential_11\"\n",
      "_________________________________________________________________\n",
      "Layer (type)                 Output Shape              Param #   \n",
      "=================================================================\n",
      "conv2d_21 (Conv2D)           (None, 27, 27, 10)        50        \n",
      "_________________________________________________________________\n",
      "conv2d_22 (Conv2D)           (None, 26, 26, 10)        410       \n",
      "_________________________________________________________________\n",
      "flatten_11 (Flatten)         (None, 6760)              0         \n",
      "_________________________________________________________________\n",
      "dense_11 (Dense)             (None, 3)                 20283     \n",
      "=================================================================\n",
      "Total params: 20,743\n",
      "Trainable params: 20,743\n",
      "Non-trainable params: 0\n",
      "_________________________________________________________________\n"
     ]
    }
   ],
   "source": [
    "# CNN model\n",
    "model = Sequential()\n",
    "model.add(Conv2D(10, kernel_size=2, activation='relu', strides=1,\n",
    "                 input_shape=(28, 28, 1)))\n",
    "model.add(Conv2D(10, kernel_size=2, activation='relu', ))\n",
    "model.add(Flatten())\n",
    "model.add(Dense(3, activation='softmax'))\n",
    "\n",
    "# Summarize the model \n",
    "model.summary()"
   ]
  },
  {
   "cell_type": "code",
   "execution_count": null,
   "metadata": {},
   "outputs": [],
   "source": [
    "# 預期結果\n",
    "# <script.py> output:\n",
    "#     Model: \"sequential_1\"\n",
    "#     _________________________________________________________________\n",
    "#     Layer (type)                 Output Shape              Param #   \n",
    "#     =================================================================\n",
    "#     conv2d_1 (Conv2D)            (None, 27, 27, 10)        50        \n",
    "#     _________________________________________________________________\n",
    "#     conv2d_2 (Conv2D)            (None, 26, 26, 10)        410       \n",
    "#     _________________________________________________________________\n",
    "#     flatten_1 (Flatten)          (None, 6760)              0         \n",
    "#     _________________________________________________________________\n",
    "#     dense_1 (Dense)              (None, 3)                 20283     \n",
    "#     =================================================================\n",
    "#     Total params: 20,743\n",
    "#     Trainable params: 20,743\n",
    "#     Non-trainable params: 0\n",
    "#     _________________________________________________________________\n",
    "#     None\n",
    "\n",
    "# In [1]: "
   ]
  }
 ],
 "metadata": {
  "kernelspec": {
   "display_name": "Python 3",
   "language": "python",
   "name": "python3"
  },
  "language_info": {
   "codemirror_mode": {
    "name": "ipython",
    "version": 3
   },
   "file_extension": ".py",
   "mimetype": "text/x-python",
   "name": "python",
   "nbconvert_exporter": "python",
   "pygments_lexer": "ipython3",
   "version": "3.7.4"
  }
 },
 "nbformat": 4,
 "nbformat_minor": 2
}
