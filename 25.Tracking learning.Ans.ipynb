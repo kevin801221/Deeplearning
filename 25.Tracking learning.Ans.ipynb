{
 "cells": [
  {
   "cell_type": "markdown",
   "metadata": {},
   "source": [
    "# 練習\n",
    "## Plot the learning curves\n",
    "During learning, the model will store the loss function evaluated in each epoch. Looking at the learning curves can tell us quite a bit about the learning process. In this exercise, you will plot the learning and validation loss curves for a model that you will train."
   ]
  },
  {
   "cell_type": "code",
   "execution_count": 3,
   "metadata": {},
   "outputs": [
    {
     "name": "stdout",
     "output_type": "stream",
     "text": [
      "(50, 28, 28, 1)\n"
     ]
    }
   ],
   "source": [
    "# 準備事項\n",
    "# Fit the model to the training data (train_data).\n",
    "# Use a validation split of 20%, 3 epochs and batch size of 10.\n",
    "# Plot the training loss.\n",
    "# Plot the validation loss.\n",
    "\n",
    "# In [4]: model.summary()\n",
    "# Model: \"sequential_1\"\n",
    "# _________________________________________________________________\n",
    "# Layer (type)                 Output Shape              Param #   \n",
    "# =================================================================\n",
    "# conv2d_1 (Conv2D)            (None, 27, 27, 4)         20        \n",
    "# _________________________________________________________________\n",
    "# max_pooling2d_1 (MaxPooling2 (None, 13, 13, 4)         0         \n",
    "# _________________________________________________________________\n",
    "# conv2d_2 (Conv2D)            (None, 11, 11, 8)         296       \n",
    "# _________________________________________________________________\n",
    "# flatten_1 (Flatten)          (None, 968)               0         \n",
    "# _________________________________________________________________\n",
    "# dense_1 (Dense)              (None, 3)                 2907      \n",
    "# =================================================================\n",
    "# Total params: 3,223\n",
    "# Trainable params: 3,223\n",
    "# Non-trainable params: 0\n",
    "# _________________________________________________________________\n",
    "%matplotlib inline\n",
    "import matplotlib.pyplot as plt\n",
    "\n",
    "import ast , numpy as np\n",
    "with open('train_data.txt') as f:\n",
    "    train_data = np.array(ast.literal_eval(f.read())).astype('float32')\n",
    "with open('train_labels.txt') as f:\n",
    "    train_labels = np.array(ast.literal_eval(f.read())).astype('float64')\n",
    "\n",
    "with open('test_data.txt') as f:\n",
    "    test_data = np.array(ast.literal_eval(f.read())).astype('float32')\n",
    "with open('test_labels.txt') as f:\n",
    "    test_labels = np.array(ast.literal_eval(f.read())).astype('float64')\n",
    "    \n",
    "    \n",
    "print(train_data.shape)\n",
    "# 請訓練建構一個Keras模型 根據上述參數    \n",
    "\n",
    "from keras import Sequential\n",
    "from keras.layers import Dense, Conv2D, Flatten, MaxPooling2D"
   ]
  },
  {
   "cell_type": "code",
   "execution_count": 9,
   "metadata": {
    "collapsed": true
   },
   "outputs": [
    {
     "name": "stdout",
     "output_type": "stream",
     "text": [
      "Model: \"sequential_7\"\n",
      "_________________________________________________________________\n",
      "Layer (type)                 Output Shape              Param #   \n",
      "=================================================================\n",
      "conv2d_10 (Conv2D)           (None, 27, 27, 4)         20        \n",
      "_________________________________________________________________\n",
      "max_pooling2d_5 (MaxPooling2 (None, 13, 13, 4)         0         \n",
      "_________________________________________________________________\n",
      "conv2d_11 (Conv2D)           (None, 11, 11, 8)         296       \n",
      "_________________________________________________________________\n",
      "flatten_5 (Flatten)          (None, 968)               0         \n",
      "_________________________________________________________________\n",
      "dense_5 (Dense)              (None, 3)                 2907      \n",
      "=================================================================\n",
      "Total params: 3,223\n",
      "Trainable params: 3,223\n",
      "Non-trainable params: 0\n",
      "_________________________________________________________________\n"
     ]
    }
   ],
   "source": [
    "model = Sequential()\n",
    "model.add( Conv2D(filters=4, kernel_size=(2, 2), activation='relu', input_shape=(28, 28, 1) ) )\n",
    "model.add( MaxPooling2D(2, 2) )\n",
    "model.add( Conv2D(filters=8, kernel_size=(3, 3), activation='relu' ) )\n",
    "model.add( Flatten())\n",
    "model.add( Dense(units=3, activation='softmax'))\n",
    "model.summary()"
   ]
  },
  {
   "cell_type": "code",
   "execution_count": 21,
   "metadata": {},
   "outputs": [
    {
     "data": {
      "image/png": "[encoded data removed]",
      "text/plain": [
       "<Figure size 432x288 with 1 Axes>"
      ]
     },
     "metadata": {
      "needs_background": "light"
     },
     "output_type": "display_data"
    }
   ],
   "source": [
    "import matplotlib.pyplot as plt\n",
    "\n",
    "# Train the model and store the training object\n",
    "training = model.compile(optimizer='adam', loss='categorical_crossentropy', metrics=['accuracy'])\n",
    "\n",
    "# Extract the history from the training object\n",
    "hist = model.fit(train_data, train_labels, \n",
    "                       batch_size=10, \n",
    "                       epochs=3, \n",
    "                       verbose=0, \n",
    "                       validation_split=0.2 )\n",
    "\n",
    "#print(dir(history))\n",
    "#history.history.keys()\n",
    "#history.history.keys()\n",
    "# Plot the training loss \n",
    "plt.plot(hist.history['loss'])\n",
    "# Plot the validation loss\n",
    "plt.plot(hist.history['val_loss'])\n",
    "\n",
    "# # # Show the figure\n",
    "plt.show()"
   ]
  },
  {
   "cell_type": "code",
   "execution_count": 10,
   "metadata": {},
   "outputs": [
    {
     "data": {
      "image/png": "[encoded data removed]",
      "text/plain": [
       "<Figure size 432x288 with 1 Axes>"
      ]
     },
     "metadata": {
      "needs_background": "light"
     },
     "output_type": "display_data"
    }
   ],
   "source": [
    "# 預計結果\n",
    "# <script.py> output:\n",
    "#     Train on 40 samples, validate on 10 samples\n",
    "#     Epoch 1/3\n",
    "    \n",
    "#     10/40 [======>.......................] - ETA: 0s - loss: 1.0841 - acc: 0.2000\n",
    "#     40/40 [==============================] - 0s 8ms/step - loss: 1.0812 - acc: 0.2750 - val_loss: 1.0342 - val_acc: 0.6000\n",
    "#     Epoch 2/3\n",
    "    \n",
    "#     10/40 [======>.......................] - ETA: 0s - loss: 1.0686 - acc: 0.6000\n",
    "#     40/40 [==============================] - 0s 409us/step - loss: 1.0389 - acc: 0.5000 - val_loss: 0.9763 - val_acc: 0.8000\n",
    "#     Epoch 3/3\n",
    "    \n",
    "#     10/40 [======>.......................] - ETA: 0s - loss: 1.0375 - acc: 0.3000\n",
    "#     40/40 [==============================] - 0s 425us/step - loss: 0.9910 - acc: 0.5750 - val_loss: 0.9132 - val_acc: 0.8000\n",
    "\n",
    "plt.imshow(plt.imread('model_loss_val_loss.png'))\n",
    "plt.show()"
   ]
  },
  {
   "cell_type": "code",
   "execution_count": null,
   "metadata": {},
   "outputs": [],
   "source": []
  },
  {
   "cell_type": "markdown",
   "metadata": {},
   "source": [
    "# 練習\n",
    "## Using stored weights to predict in a test set\n",
    "Model weights stored in an hdf5 file can be reused to populate an untrained model. Once the weights are loaded into this model, it behaves just like a model that has been trained to reach these weights. For example, you can use this model to make predictions from an unseen data set (e.g. test_data)."
   ]
  },
  {
   "cell_type": "code",
   "execution_count": null,
   "metadata": {},
   "outputs": [],
   "source": [
    "# 準備事項\n",
    "# Load the weights from a file called 'weights.hdf5'.\n",
    "# Predict the classes of the first three images from test_data."
   ]
  },
  {
   "cell_type": "code",
   "execution_count": 24,
   "metadata": {},
   "outputs": [
    {
     "data": {
      "text/plain": [
       "array([2, 2, 1, 2, 0, 1, 0, 0, 2, 0], dtype=int64)"
      ]
     },
     "execution_count": 24,
     "metadata": {},
     "output_type": "execute_result"
    }
   ],
   "source": [
    "# Load the weights from file\n",
    "model.load_weights('weights.hdf5')\n",
    "\n",
    "# Predict from the first three images in the test data\n",
    "model.predict_classes(test_data) "
   ]
  },
  {
   "cell_type": "code",
   "execution_count": null,
   "metadata": {},
   "outputs": [],
   "source": [
    "# 預期結果\n",
    "# In [1]: # Predict from the first three images in the test data\n",
    "#         model.predict(test_data[:3])\n",
    "# Out[1]: \n",
    "# array([[0.34210655, 0.3343466 , 0.32354683],\n",
    "#        [0.34009394, 0.33120042, 0.32870564],\n",
    "#        [0.3223502 , 0.3246222 , 0.3530276 ]], dtype=float32)\n",
    "\n",
    "# In [2]: "
   ]
  }
 ],
 "metadata": {
  "kernelspec": {
   "display_name": "Python 3",
   "language": "python",
   "name": "python3"
  },
  "language_info": {
   "codemirror_mode": {
    "name": "ipython",
    "version": 3
   },
   "file_extension": ".py",
   "mimetype": "text/x-python",
   "name": "python",
   "nbconvert_exporter": "python",
   "pygments_lexer": "ipython3",
   "version": "3.7.4"
  }
 },
 "nbformat": 4,
 "nbformat_minor": 2
}
