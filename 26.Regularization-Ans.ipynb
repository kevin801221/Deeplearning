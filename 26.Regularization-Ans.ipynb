{
 "cells": [
  {
   "cell_type": "markdown",
   "metadata": {},
   "source": [
    "# 練習\n",
    "## Adding dropout to your network\n",
    "Dropout is a form of regularization that removes a different random subset of the units in a layer in each round of training. In this exercise, we will add dropout to the convolutional neural network that we have used in previous exercises:\n",
    "\n",
    "Convolution (15 units, kernel size 2, 'relu' activation)\n",
    "Dropout (20%)\n",
    "Convolution (5 units, kernel size 2, 'relu' activation)\n",
    "Flatten\n",
    "Dense (3 units, 'softmax' activation)\n",
    "A Sequential model along with Dense, Conv2D, Flatten, and Dropout objects are available in your workspace."
   ]
  },
  {
   "cell_type": "code",
   "execution_count": null,
   "metadata": {},
   "outputs": [],
   "source": [
    "# 準備事項\n",
    "\n",
    "# Add dropout applied to the first layer with 20%.\n",
    "# Add a flattening layer.\n",
    "img_rows, img_cols = 28, 28\n",
    "from keras.models import Sequential\n",
    "from keras.layers import Dense, Conv2D, MaxPool2D, Flatten, Dropout\n",
    "model = Sequential()"
   ]
  },
  {
   "cell_type": "code",
   "execution_count": null,
   "metadata": {},
   "outputs": [],
   "source": [
    "# Add a convolutional layer\n",
    "model.add(Conv2D(15, kernel_size=2, activation='relu', \n",
    "                 input_shape=(img_rows, img_cols, 1)))\n",
    "\n",
    "# Add a dropout layer\n",
    "model.add(Dropout(0.2))\n",
    "\n",
    "# Add another convolutional layer\n",
    "model.add(Conv2D(5, kernel_size=2, activation='relu'))\n",
    "\n",
    "# Flatten and feed to output layer\n",
    "model.add(Flatten())\n",
    "model.add(Dense(3, activation='softmax'))\n",
    "\n",
    "model.summary()"
   ]
  },
  {
   "cell_type": "code",
   "execution_count": null,
   "metadata": {},
   "outputs": [],
   "source": [
    "# 預期結果\n",
    "# Model: \"sequential_1\"\n",
    "# _________________________________________________________________\n",
    "# Layer (type)                 Output Shape              Param #   \n",
    "# =================================================================\n",
    "# conv2d_1 (Conv2D)            (None, 27, 27, 15)        75        \n",
    "# _________________________________________________________________\n",
    "# dropout_1 (Dropout)          (None, 27, 27, 15)        0         \n",
    "# _________________________________________________________________\n",
    "# conv2d_2 (Conv2D)            (None, 26, 26, 5)         305       \n",
    "# _________________________________________________________________\n",
    "# flatten_1 (Flatten)          (None, 3380)              0         \n",
    "# _________________________________________________________________\n",
    "# dense_1 (Dense)              (None, 3)                 10143     \n",
    "# =================================================================\n",
    "# Total params: 10,523\n",
    "# Trainable params: 10,523\n",
    "# Non-trainable params: 0\n",
    "# _________________________________________________________________\n"
   ]
  },
  {
   "cell_type": "code",
   "execution_count": null,
   "metadata": {},
   "outputs": [],
   "source": []
  },
  {
   "cell_type": "markdown",
   "metadata": {},
   "source": [
    "# 練習\n",
    "## Add batch normalization to your network\n",
    "Batch normalization is another form of regularization that rescales the outputs of a layer to make sure that they have mean 0 and standard deviation 1. In this exercise, we will add batch normalization to the convolutional neural network that we have used in previous exercises:\n",
    "\n",
    "Convolution (15 units, kernel size 2, 'relu' activation)\n",
    "Batch normalization\n",
    "Convolution (5 unites, kernel size 2, 'relu' activation)\n",
    "Flatten\n",
    "Dense (3 units, 'softmax' activation)\n",
    "A Sequential model along with Dense, Conv2D, Flatten, and Dropout objects are available in your workspace."
   ]
  },
  {
   "cell_type": "code",
   "execution_count": 2,
   "metadata": {},
   "outputs": [
    {
     "name": "stderr",
     "output_type": "stream",
     "text": [
      "Using TensorFlow backend.\n"
     ]
    }
   ],
   "source": [
    "# 準備事項\n",
    "\n",
    "# Add the first convolutional layer. You can use the img_rows and img_cols objects available in your workspace to define the input_shape of this layer.\n",
    "# Add batch normalization applied to the outputs of the first layer.\n",
    "img_rows, img_cols = 28, 28\n",
    "from keras.models import Sequential\n",
    "from keras.layers import Dense, Conv2D, MaxPool2D, Flatten, Dropout, BatchNormalization\n",
    "model = Sequential()\n"
   ]
  },
  {
   "cell_type": "code",
   "execution_count": 3,
   "metadata": {},
   "outputs": [
    {
     "name": "stdout",
     "output_type": "stream",
     "text": [
      "Model: \"sequential_1\"\n",
      "_________________________________________________________________\n",
      "Layer (type)                 Output Shape              Param #   \n",
      "=================================================================\n",
      "conv2d_1 (Conv2D)            (None, 27, 27, 15)        75        \n",
      "_________________________________________________________________\n",
      "batch_normalization_1 (Batch (None, 27, 27, 15)        60        \n",
      "_________________________________________________________________\n",
      "conv2d_2 (Conv2D)            (None, 26, 26, 5)         305       \n",
      "_________________________________________________________________\n",
      "flatten_1 (Flatten)          (None, 3380)              0         \n",
      "_________________________________________________________________\n",
      "dense_1 (Dense)              (None, 3)                 10143     \n",
      "=================================================================\n",
      "Total params: 10,583\n",
      "Trainable params: 10,553\n",
      "Non-trainable params: 30\n",
      "_________________________________________________________________\n"
     ]
    }
   ],
   "source": [
    "# Add a convolutional layer\n",
    "model.add(Conv2D(15, kernel_size=2, activation='relu', \n",
    "                 input_shape=(img_rows, img_cols, 1)))\n",
    "\n",
    "\n",
    "# Add batch normalization layer\n",
    "model.add(BatchNormalization())\n",
    "\n",
    "# Add another convolutional layer\n",
    "model.add(Conv2D(5, kernel_size=2, activation='relu'))\n",
    "\n",
    "# Flatten and feed to output layer\n",
    "model.add(Flatten())\n",
    "model.add(Dense(3, activation='softmax'))\n",
    "model.summary()"
   ]
  },
  {
   "cell_type": "code",
   "execution_count": null,
   "metadata": {},
   "outputs": [],
   "source": [
    "# 預期結果\n",
    "# <script.py> output:\n",
    "#     Model: \"sequential_1\"\n",
    "#     _________________________________________________________________\n",
    "#     Layer (type)                 Output Shape              Param #   \n",
    "#     =================================================================\n",
    "#     conv2d_1 (Conv2D)            (None, 27, 27, 15)        75        \n",
    "#     _________________________________________________________________\n",
    "#     batch_normalization_1 (Batch (None, 27, 27, 15)        60        \n",
    "#     _________________________________________________________________\n",
    "#     conv2d_2 (Conv2D)            (None, 26, 26, 5)         305       \n",
    "#     _________________________________________________________________\n",
    "#     flatten_1 (Flatten)          (None, 3380)              0         \n",
    "#     _________________________________________________________________\n",
    "#     dense_1 (Dense)              (None, 3)                 10143     \n",
    "#     =================================================================\n",
    "#     Total params: 10,583\n",
    "#     Trainable params: 10,553\n",
    "#     Non-trainable params: 30\n",
    "#     _________________________________________________________________\n"
   ]
  }
 ],
 "metadata": {
  "kernelspec": {
   "display_name": "Python 3",
   "language": "python",
   "name": "python3"
  },
  "language_info": {
   "codemirror_mode": {
    "name": "ipython",
    "version": 3
   },
   "file_extension": ".py",
   "mimetype": "text/x-python",
   "name": "python",
   "nbconvert_exporter": "python",
   "pygments_lexer": "ipython3",
   "version": "3.7.4"
  }
 },
 "nbformat": 4,
 "nbformat_minor": 2
}
