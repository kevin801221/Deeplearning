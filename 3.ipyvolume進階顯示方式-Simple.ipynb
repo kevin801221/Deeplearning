{
 "cells": [
  {
   "cell_type": "code",
   "execution_count": 2,
   "metadata": {},
   "outputs": [
    {
     "name": "stdout",
     "output_type": "stream",
     "text": [
      "Reading DICOM (examining files): 1/20 files (5.0%20/20 files (100.0%)\n",
      "  Found 1 correct series.\n",
      "Reading DICOM (loading data): 20/20  (100.0%)\n"
     ]
    }
   ],
   "source": [
    "import imageio\n",
    "vol = imageio.volread('data2')"
   ]
  },
  {
   "cell_type": "code",
   "execution_count": 3,
   "metadata": {},
   "outputs": [],
   "source": [
    "import ipyvolume as ipv\n",
    "import numpy as np\n",
    "from matplotlib.pyplot import cm"
   ]
  },
  {
   "cell_type": "code",
   "execution_count": 4,
   "metadata": {},
   "outputs": [
    {
     "name": "stdout",
     "output_type": "stream",
     "text": [
      "['pet_data', 'ct_data', 'label_data']\n"
     ]
    }
   ],
   "source": [
    "full_scan = {k: v.swapaxes(0, 1)[::-1] for k,v in np.load('petct.npz').items()}\n",
    "print(list(full_scan.keys()))"
   ]
  },
  {
   "cell_type": "code",
   "execution_count": 5,
   "metadata": {},
   "outputs": [],
   "source": [
    "table_ct = cm.gray_r(np.linspace(0, 1, 255))\n",
    "table_ct[:50, 3] = 0 # make the lower values transparent\n",
    "table_ct[50:, 3] = np.linspace(0, 0.05, table_ct[50:].shape[0])\n",
    "tf_ct = ipv.TransferFunction(rgba=table_ct)"
   ]
  },
  {
   "cell_type": "code",
   "execution_count": 6,
   "metadata": {},
   "outputs": [],
   "source": [
    "# ct_vol = ipv.quickvolshow(vol, \n",
    "#                           tf=tf_ct, lighting=False, \n",
    "#                           data_min=-1000, data_max=1000)\n",
    "# ct_vol"
   ]
  },
  {
   "cell_type": "code",
   "execution_count": 7,
   "metadata": {},
   "outputs": [
    {
     "name": "stderr",
     "output_type": "stream",
     "text": [
      "c:\\python37\\lib\\site-packages\\ipyvolume\\serialize.py:81: RuntimeWarning: invalid value encountered in true_divide\n",
      "  gradient = gradient / np.sqrt(gradient[0]**2 + gradient[1]**2 + gradient[2]**2)\n"
     ]
    },
    {
     "data": {
      "application/vnd.jupyter.widget-view+json": {
       "model_id": "d1bd529ba6334645973c966ae2f5976b",
       "version_major": 2,
       "version_minor": 0
      },
      "text/plain": [
       "VBox(children=(Figure(camera=PerspectiveCamera(fov=46.0, position=(0.0, 0.0, 2.0), quaternion=(0.0, 0.0, 0.0, …"
      ]
     },
     "metadata": {},
     "output_type": "display_data"
    }
   ],
   "source": [
    "ct_vol = ipv.quickvolshow(full_scan['ct_data'], \n",
    "                          tf=tf_ct, lighting=False, \n",
    "                          data_min=-1000, data_max=1000)\n",
    "ct_vol"
   ]
  },
  {
   "cell_type": "code",
   "execution_count": null,
   "metadata": {},
   "outputs": [],
   "source": []
  }
 ],
 "metadata": {
  "kernelspec": {
   "display_name": "Python 3",
   "language": "python",
   "name": "python3"
  },
  "language_info": {
   "codemirror_mode": {
    "name": "ipython",
    "version": 3
   },
   "file_extension": ".py",
   "mimetype": "text/x-python",
   "name": "python",
   "nbconvert_exporter": "python",
   "pygments_lexer": "ipython3",
   "version": "3.7.4"
  }
 },
 "nbformat": 4,
 "nbformat_minor": 2
}
