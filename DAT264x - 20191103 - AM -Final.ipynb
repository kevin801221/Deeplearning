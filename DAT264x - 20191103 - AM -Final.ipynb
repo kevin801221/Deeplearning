{
 "cells": [
  {
   "cell_type": "code",
   "execution_count": 1,
   "metadata": {},
   "outputs": [
    {
     "name": "stdout",
     "output_type": "stream",
     "text": [
      " 磁碟區 C 中的磁碟沒有標籤。\n",
      " 磁碟區序號:  18E0-5F57\n",
      "\n",
      " C:\\Users\\supervisor\\巨匠楊老師的第三階段課程\\20191103-Capstone\\AM 的目錄\n",
      "\n",
      "2020/06/10  下午 02:42    <DIR>          .\n",
      "2020/06/10  下午 02:42    <DIR>          ..\n",
      "2020/06/10  下午 02:08    <DIR>          .ipynb_checkpoints\n",
      "2019/11/02  下午 08:21           712,281 DAT263x-Lab2.pdf\n",
      "2019/11/02  下午 08:59           409,412 DAT264x - 20191103 - AM -Final.html\n",
      "2019/11/02  下午 08:59           126,697 DAT264x - 20191103 - AM -Final.ipynb\n",
      "2019/11/02  下午 08:42           379,225 DAT264x - 20191103.html\n",
      "2020/06/10  下午 02:42           139,852 DAT264x - 20191103.ipynb\n",
      "2019/11/02  下午 08:34               481 DAT264x - 20191103.txt\n",
      "2020/06/10  下午 02:07             1,589 Moon.txt\n",
      "2019/10/16  上午 01:57           999,188 submission_format.csv\n",
      "2019/10/16  上午 01:57       326,681,498 test_values.csv\n",
      "2020/06/10  下午 02:08            32,589 Text and Speech - Demo.ipynb\n",
      "2019/10/16  上午 01:56           998,540 train_labels.csv\n",
      "2020/06/10  下午 01:22         1,084,185 train_label_analysis.xlsx\n",
      "2019/10/16  上午 01:56       325,842,028 train_values.csv\n",
      "              13 個檔案     657,407,565 位元組\n",
      "               3 個目錄   2,533,208,064 位元組可用\n"
     ]
    }
   ],
   "source": [
    "!dir"
   ]
  },
  {
   "cell_type": "code",
   "execution_count": 2,
   "metadata": {},
   "outputs": [],
   "source": [
    "# 套件\n",
    "import pandas as pd\n",
    "import numpy as np\n",
    "import matplotlib.pyplot as plt\n",
    "import nltk\n",
    "import re\n",
    "from string import punctuation"
   ]
  },
  {
   "cell_type": "code",
   "execution_count": 3,
   "metadata": {},
   "outputs": [],
   "source": [
    "# 讀取 train data\n",
    "train = pd.read_csv('train_values.csv')\n",
    "train_label = pd.read_csv('train_labels.csv')"
   ]
  },
  {
   "cell_type": "code",
   "execution_count": 4,
   "metadata": {},
   "outputs": [
    {
     "data": {
      "text/plain": [
       "((18687, 2), (18687, 25))"
      ]
     },
     "execution_count": 4,
     "metadata": {},
     "output_type": "execute_result"
    }
   ],
   "source": [
    "# 0 - 18686\n",
    "train.shape , train_label.shape # 筆數正確"
   ]
  },
  {
   "cell_type": "code",
   "execution_count": 5,
   "metadata": {},
   "outputs": [
    {
     "data": {
      "text/plain": [
       "'84327 v2\\nThe findings, interpretations, and conclusions expressed in this report do not\\nnecessarily reflect the views and position of the Executive Directors of the\\nWorld Bank, the European Union, or the Government of Romania.\\nTABLE OF CONTENTs                                                                                                           Table of Contents\\nList of Abbreviations ........................................................................................         7\\n\\nRomanias growth poles policy has shaped an important part of the\\ncountrys development in recent years .........................................................                        9\\n\\nThe current growth poles policy includes several positive features .......                                             11\\n                                                                                                                             3 Policies adapted to the expected evolution of growth poles .................                         25\\n\\n\\nOn the other hand, the current growth poles policy has a few\\nshortcomings ....................................................................................................      13\\n                                                                                                                             4 Planning  for growth poles beyond defined metropolitan boundaries\\n                                                                                                                               based on each areas economic growth potential ..................................                    27\\n\\nA new urban systems approach in Romania is currently prepared\\nby DG Regional Development within the Ministry of Regional\\n                                                                                                                             5 Truly integrated programs ........................................................................   27\\n\\nDevelopment and Public Administration (MRDPA) ...................................... 15\\n\\nThere are several recommendations worth considering for the future\\n                                                                                                                             6K  eep the same number of growth poles (if regions stay the same), but\\n                                                                                                                               consider having a different number of urban development poles ..........                             29\\ngrowth poles policy (2014-2020) ....................................................................                   17\\n\\nEqually important, rather than targeting public investments and\\n                                                                                                                             7 Consider the polarizing effect of Bucureti within the South Region .....                            29\\n\\nprograms at cities, the ROP should place at its core the people living in\\nthose areas ........................................................................................................   19\\n                                                                                                                             8 Design proper monitoring and evaluation mechanisms .........................                         31\\n\\nIn practice, the implications of this new paradigm for the future growth\\npoles policy include the following recommendations:                      21\\n                                                                                                                             9 Designing robust governance structures for growth poles .....................                        33\\n\\n\\n   1 Better definitions of intervention areas around growth poles based on\\n     functional criteria ......................................................................................        21\\n                                                                                                                            10 Consider alternative governance structures to IDAs ..............................                    35\\n\\n\\n   2M  ore targeted interventions based on specific contextual factors for\\n     each growth pole ......................................................................................           23\\n                                                                                                                            11 Ensure better policy correlations .............................................................      37\\nList of Abbreviations   List of Abbreviations\\n\\n\\n\\n\\n                        EC     European Commission\\n                        ERDF   European Regional Development Fund\\n                        EU     European Union\\n                        ICT    Information and Communication Technology\\n                        IDA    International Development Association\\n                        IDP    Integrated Development Plan\\n                        IEC    Increasing Economic Competitiveness\\n                        MA     Managing Authority\\n                        RDA    Regional Development Agency\\n                        ROP    Regional Operational Program\\n                        SOP    Sectoral Operational Program\\n\\n\\n\\n\\n                                                                          3\\n                                                                          7\\nGrowth Poles and Urban Development Poles\\n\\n                                                                                                            Urban Development Poles\\n                                                                                                            Growth Poles\\n                                    Satu-Mare                               Suceava\\n\\n\\n\\n\\n                                                                                                                                      Romanias growth poles policy has shaped an\\n                                                                                                     Iai\\n\\n                      Oradea\\n                                                Cluj-Napoca\\n\\n\\n                                                                                      Bacu\\n                                                                                                                                      important part of the countrys development in\\n               Arad                                                                                                                   recent years.\\n                               Deva                                Braov\\n                                                      Sibiu\\n                Timioara                                                                            Galai\\n\\n                                                                                                   Brila\\n\\n                                                                          Ploieti\\n                                        Rmnicu Vlcea\\n                                                                Piteti\\n                                                                                                                                      Prepared in March 2008, it defined several categories of urban centers: 7\\n                                                                                                                                      growth poles, one for each development region beyond Bucureti and 13\\n                                                                                                                       Constana\\n                                                                                                                                      urban development centers of regional importance.\\n                                                      Craiova\\n\\n\\n                                                                                                                                      The 2007-2013 Regional Operational Programme\\n                                                                                                                                      allocated dedicated funding for these various\\n                                                                                                                                      tiers of urban agglomerations with the specified\\nPerformance of the growth poles under the ROP 2007-2013 (by July 2013)\\n                                                                                                                                      purpose of increasing the quality of life and to\\n                                                                                                                                      create jobs in cities by rehabilitating the urban infrastructure, improving\\n                      Allocated Funds                                     Share of                                   Share of\\n                      (ERDF and State                                     allocated                                  allocated\\n                                            Projects submitted                          Contracted projects\\n    Growth                Budget)                                           funds                                      funds\\n     Pole\\n                                                          Value                                     Value                             services, including social services, as well as by developing business support\\n                        Mil. EURO               Nr.    (Mil. EURO)            %         Nr.      (Mil. EURO)               %\\n                                                                                                                                      structures and entrepreneurship.\\n      Iai                  111.25              16        171.98            154.59      10         108.68              97.69\\n   Constana                90.32               36        92.64             102.57      27          58.04              64.26\\n    Ploieti                97.00               16        121.58            125.34      14          93.19              96.07\\n    Craiova                  95.5               17        122.75            128.54      15          94.9               99.37\\n   Timioara                70.49               28        92.14             130.73      23          76.94             109.15\\n  Cluj-Napoca               82.41               23        97.51             118.32      17          86.88             105.42\\n    Braov                   74.3               26        95.44             128.45      23          76.16             102.50\\n    TOTAL                   621.27              162       794.04            127.81     129         594.79              95.74\\n\\nSource: The Ministry of Regional Development and Public Administration\\n\\n                                                                                                                                                                                                                       9\\n                    In most countries economic growth is driven by a small number of large cities\\n                    Share of growth in total GDP (%), 2000-2007\\n                                                                                                                                                                             0%                                                                                            10%                                                         20%                                                                 30%                                                                                                           40%                                     50%               60%                              70%             80%              90%        100%\\n\\n         Unitary South & West                                                                                                                                                                                                                                                                                         37.9%                                                                                                                                                                                                                         25.6%                                                     9.7%                            26.8%\\n                        Cyprus                                                                                                                                                                                                                                                                                                                                                                                                                                                                                                                     100.0%\\n                    Luxembourg                                                                                                                                                                                                                                                                                                                                                                                                                                                                                                                     100.0%\\n                          Malta                                                                                                                                                                                                                                                                                                                                                                                                                                                                                                                 94.5%                                                                                                         5.5%\\n                        Greece                                                                                                                                                                                                                                                                                                                                                                                      64.9%                                                                                                                                                                                      7.3%                          27.8%\\n                        Ireland                                                                                                                                                                                                                                                                                                                                                          51.1%                                                                                                                                                                                         21.3%                                                 27.6%\\n                             UK                                                                                                                                                                                                                                                                 38.7%                                                                                                                                                                                                                                                             24.0%                                 15.2%                                    22.1%\\n                       Portugal                                                                                                                                                                                                                                                             33.5%                                                                                                                                  2.2%                                                                                                                                                              64.3%\\n                        France                                                                                                                                                                                                                                                         27.2%                                                                                                                                                                                                                                 34.4%                                                              5.3%                                      33.0%\\n                    Netherlands                                                                                                                                                                                                                                                        26.6%                                                                                                                                                                                                                              31.1%                                                                  14.8%                                        27.4%\\n\\n     Unitary Former Socialist                                                                                                                                                                                                                                                                                  36.6%                                                                                                                                                                                                                                       25.2%                               4.5%                                       33.8%\\n                          Latvia                                                                                                                                                                                                                                                                                                                                                                                  68.1%                                                                                                                                                                                               8.7%                         23.2%\\n                       Bulgaria                                                                                                                                                                                                                                                                                                                              '"
      ]
     },
     "execution_count": 5,
     "metadata": {},
     "output_type": "execute_result"
    }
   ],
   "source": [
    "# 檢視數據\n",
    "train['doc_text'][0]\n",
    "\n",
    "train.loc[0, ['doc_text']]\n",
    "\n",
    "train.iloc[0, 1]"
   ]
  },
  {
   "cell_type": "code",
   "execution_count": 6,
   "metadata": {},
   "outputs": [
    {
     "data": {
      "text/plain": [
       "Index(['information_and_communication_technologies', 'governance',\n",
       "       'urban_development', 'law_and_development', 'public_sector_development',\n",
       "       'agriculture', 'communities_and_human_settlements',\n",
       "       'health_and_nutrition_and_population', 'culture_and_development',\n",
       "       'social_protections_and_labor', 'international_economics_and_trade',\n",
       "       'conflict_and_development', 'science_and_technology_development',\n",
       "       'rural_development', 'poverty_reduction', 'social_development',\n",
       "       'education', 'transport', 'gender',\n",
       "       'infrastructure_economics_and_finance', 'energy_and_environment',\n",
       "       'finance_and_development', 'macroeconomics_and_growth', 'water'],\n",
       "      dtype='object')"
      ]
     },
     "execution_count": 6,
     "metadata": {},
     "output_type": "execute_result"
    }
   ],
   "source": [
    "# 檢視答案 回到 python計算 想知道 每一種類數量是多少 看數據是否平衡\n",
    "train_label.iloc[:, 1:].columns"
   ]
  },
  {
   "cell_type": "code",
   "execution_count": 7,
   "metadata": {},
   "outputs": [],
   "source": [
    "# 知道每一種類數量是多少 看數據是否平衡\n",
    "# ModuleNotFoundError: No module named 'openpyxl'\n",
    "train_label.iloc[:, 1:].to_excel('train_label_analysis.xlsx')"
   ]
  },
  {
   "cell_type": "code",
   "execution_count": 8,
   "metadata": {},
   "outputs": [
    {
     "data": {
      "text/plain": [
       "culture_and_development                        306\n",
       "infrastructure_economics_and_finance           335\n",
       "information_and_communication_technologies     784\n",
       "conflict_and_development                       819\n",
       "science_and_technology_development             875\n",
       "gender                                        1066\n",
       "agriculture                                   1174\n",
       "urban_development                             1395\n",
       "transport                                     1542\n",
       "communities_and_human_settlements             1607\n",
       "social_development                            1614\n",
       "water                                         1619\n",
       "governance                                    1663\n",
       "rural_development                             1793\n",
       "social_protections_and_labor                  2290\n",
       "education                                     2323\n",
       "law_and_development                           2418\n",
       "international_economics_and_trade             2419\n",
       "poverty_reduction                             2580\n",
       "public_sector_development                     2642\n",
       "energy_and_environment                        3276\n",
       "health_and_nutrition_and_population           3397\n",
       "macroeconomics_and_growth                     7959\n",
       "finance_and_development                       8805\n",
       "dtype: int64"
      ]
     },
     "execution_count": 8,
     "metadata": {},
     "output_type": "execute_result"
    }
   ],
   "source": [
    "# 知道每一種類數量是多少 看數據是否平衡\n",
    "np.sum(train_label.iloc[:, 1:], axis = 0).sort_values()"
   ]
  },
  {
   "cell_type": "code",
   "execution_count": 9,
   "metadata": {},
   "outputs": [
    {
     "data": {
      "image/png": "[encoded data removed]",
      "text/plain": [
       "<Figure size 1152x360 with 1 Axes>"
      ]
     },
     "metadata": {
      "needs_background": "light"
     },
     "output_type": "display_data"
    }
   ],
   "source": [
    "# 知道每一種類數量是多少 看數據是否平衡\n",
    "plt.figure(figsize=(16,5))\n",
    "np.sum(train_label.iloc[:, 1:], axis = 0).sort_values(ascending=False).plot(kind='bar')\n",
    "plt.show()"
   ]
  },
  {
   "cell_type": "code",
   "execution_count": 10,
   "metadata": {},
   "outputs": [
    {
     "data": {
      "text/plain": [
       "'84327 v2\\nThe findings, interpretations, and conclusions expressed in this report do not\\nnecessarily reflect the views and position of the Executive Directors of the\\nWorld Bank, the European Union, or the Government of Romania.\\nTABLE OF CONTENTs                                                                                                           Table of Contents\\nList of Abbreviations ........................................................................................         7\\n\\nRomanias growth poles policy has shaped an important part of the\\ncountrys development in recent years .........................................................                        9\\n\\nThe current growth poles policy includes several positive features .......                                             11\\n                                                                                                                             3 Policies adapted to the expected evolution of growth poles .................                         25\\n\\n\\nOn the other hand, the current growth poles policy has a few\\nshortcomings ....................................................................................................      13\\n                                                                                                                             4 Planning  for growth poles beyond defined metropolitan boundaries\\n                                                                                                                               based on each areas economic growth potential ..................................                    27\\n\\nA new urban systems approach in Romania is currently prepared\\nby DG Regional Development within the Ministry of Regional\\n                                                                                                                             5 Truly integrated programs ........................................................................   27\\n\\nDevelopment and Public Administration (MRDPA) ...................................... 15\\n\\nThere are several recommendations worth considering for the future\\n                                                                                                                             6K  eep the same number of growth poles (if regions stay the same), but\\n                                                                                                                               consider having a different number of urban development poles ..........                             29\\ngrowth poles policy (2014-2020) ....................................................................                   17\\n\\nEqually important, rather than targeting public investments and\\n                                                                                                                             7 Consider the polarizing effect of Bucureti within the South Region .....                            29\\n\\nprograms at cities, the ROP should place at its core the people living in\\nthose areas ........................................................................................................   19\\n                                                                                                                             8 Design proper monitoring and evaluation mechanisms .........................                         31\\n\\nIn practice, the implications of this new paradigm for the future growth\\npoles policy include the following recommendations:                      21\\n                                                                                                                             9 Designing robust governance structures for growth poles .....................                        33\\n\\n\\n   1 Better definitions of intervention areas around growth poles based on\\n     functional criteria ......................................................................................        21\\n                                                                                                                            10 Consider alternative governance structures to IDAs ..............................                    35\\n\\n\\n   2M  ore targeted interventions based on specific contextual factors for\\n     each growth pole ......................................................................................           23\\n                                                                                                                            11 Ensure better policy correlations .............................................................      37\\nList of Abbreviations   List of Abbreviations\\n\\n\\n\\n\\n                        EC     European Commission\\n                        ERDF   European Regional Development Fund\\n                        EU     European Union\\n                        ICT    Information and Communication Technology\\n                        IDA    International Development Association\\n                        IDP    Integrated Development Plan\\n                        IEC    Increasing Economic Competitiveness\\n                        MA     Managing Authority\\n                        RDA    Regional Development Agency\\n                        ROP    Regional Operational Program\\n                        SOP    Sectoral Operational Program\\n\\n\\n\\n\\n                                                                          3\\n                                                                          7\\nGrowth Poles and Urban Development Poles\\n\\n                                                                                                            Urban Development Poles\\n                                                                                                            Growth Poles\\n                                    Satu-Mare                               Suceava\\n\\n\\n\\n\\n                                                                                                                                      Romanias growth poles policy has shaped an\\n                                                                                                     Iai\\n\\n                      Oradea\\n                                                Cluj-Napoca\\n\\n\\n                                                                                      Bacu\\n                                                                                                                                      important part of the countrys development in\\n               Arad                                                                                                                   recent years.\\n                               Deva                                Braov\\n                                                      Sibiu\\n                Timioara                                                                            Galai\\n\\n                                                                                                   Brila\\n\\n                                                                          Ploieti\\n                                        Rmnicu Vlcea\\n                                                                Piteti\\n                                                                                                                                      Prepared in March 2008, it defined several categories of urban centers: 7\\n                                                                                                                                      growth poles, one for each development region beyond Bucureti and 13\\n                                                                                                                       Constana\\n                                                                                                                                      urban development centers of regional importance.\\n                                                      Craiova\\n\\n\\n                                                                                                                                      The 2007-2013 Regional Operational Programme\\n                                                                                                                                      allocated dedicated funding for these various\\n                                                                                                                                      tiers of urban agglomerations with the specified\\nPerformance of the growth poles under the ROP 2007-2013 (by July 2013)\\n                                                                                                                                      purpose of increasing the quality of life and to\\n                                                                                                                                      create jobs in cities by rehabilitating the urban infrastructure, improving\\n                      Allocated Funds                                     Share of                                   Share of\\n                      (ERDF and State                                     allocated                                  allocated\\n                                            Projects submitted                          Contracted projects\\n    Growth                Budget)                                           funds                                      funds\\n     Pole\\n                                                          Value                                     Value                             services, including social services, as well as by developing business support\\n                        Mil. EURO               Nr.    (Mil. EURO)            %         Nr.      (Mil. EURO)               %\\n                                                                                                                                      structures and entrepreneurship.\\n      Iai                  111.25              16        171.98            154.59      10         108.68              97.69\\n   Constana                90.32               36        92.64             102.57      27          58.04              64.26\\n    Ploieti                97.00               16        121.58            125.34      14          93.19              96.07\\n    Craiova                  95.5               17        122.75            128.54      15          94.9               99.37\\n   Timioara                70.49               28        92.14             130.73      23          76.94             109.15\\n  Cluj-Napoca               82.41               23        97.51             118.32      17          86.88             105.42\\n    Braov                   74.3               26        95.44             128.45      23          76.16             102.50\\n    TOTAL                   621.27              162       794.04            127.81     129         594.79              95.74\\n\\nSource: The Ministry of Regional Development and Public Administration\\n\\n                                                                                                                                                                                                                       9\\n                    In most countries economic growth is driven by a small number of large cities\\n                    Share of growth in total GDP (%), 2000-2007\\n                                                                                                                                                                             0%                                                                                            10%                                                         20%                                                                 30%                                                                                                           40%                                     50%               60%                              70%             80%              90%        100%\\n\\n         Unitary South & West                                                                                                                                                                                                                                                                                         37.9%                                                                                                                                                                                                                         25.6%                                                     9.7%                            26.8%\\n                        Cyprus                                                                                                                                                                                                                                                                                                                                                                                                                                                                                                                     100.0%\\n                    Luxembourg                                                                                                                                                                                                                                                                                                                                                                                                                                                                                                                     100.0%\\n                          Malta                                                                                                                                                                                                                                                                                                                                                                                                                                                                                                                 94.5%                                                                                                         5.5%\\n                        Greece                                                                                                                                                                                                                                                                                                                                                                                      64.9%                                                                                                                                                                                      7.3%                          27.8%\\n                        Ireland                                                                                                                                                                                                                                                                                                                                                          51.1%                                                                                                                                                                                         21.3%                                                 27.6%\\n                             UK                                                                                                                                                                                                                                                                 38.7%                                                                                                                                                                                                                                                             24.0%                                 15.2%                                    22.1%\\n                       Portugal                                                                                                                                                                                                                                                             33.5%                                                                                                                                  2.2%                                                                                                                                                              64.3%\\n                        France                                                                                                                                                                                                                                                         27.2%                                                                                                                                                                                                                                 34.4%                                                              5.3%                                      33.0%\\n                    Netherlands                                                                                                                                                                                                                                                        26.6%                                                                                                                                                                                                                              31.1%                                                                  14.8%                                        27.4%\\n\\n     Unitary Former Socialist                                                                                                                                                                                                                                                                                  36.6%                                                                                                                                                                                                                                       25.2%                               4.5%                                       33.8%\\n                          Latvia                                                                                                                                                                                                                                                                                                                                                                                  68.1%                                                                                                                                                                                               8.7%                         23.2%\\n                       Bulgaria                                                                                                                                                                                                                                                                                                                              '"
      ]
     },
     "execution_count": 10,
     "metadata": {},
     "output_type": "execute_result"
    }
   ],
   "source": [
    "# 不移除之前\n",
    "train.loc[0, ['doc_text']].values[0]"
   ]
  },
  {
   "cell_type": "code",
   "execution_count": 11,
   "metadata": {},
   "outputs": [
    {
     "data": {
      "text/plain": [
       "the            30\n",
       "of             28\n",
       "growth         20\n",
       "poles          18\n",
       "development    14\n",
       "               ..\n",
       "boundaries      1\n",
       "socialist       1\n",
       "idas            1\n",
       "643%            1\n",
       "&               1\n",
       "Length: 403, dtype: int64"
      ]
     },
     "execution_count": 11,
     "metadata": {},
     "output_type": "execute_result"
    }
   ],
   "source": [
    "#  移除不需要的文字\n",
    "cleaned_text = train.loc[0, ['doc_text']].values[0].replace(',','').replace('.','').replace('\\n',' ').replace('  ',' ').replace('  ',' ').replace('  ',' ').replace('  ',' ').replace('  ',' ').replace('  ',' ').replace('  ',' ').replace('  ',' ').replace('  ',' ').lower()\n",
    "pd.Series(cleaned_text.split()).value_counts()\n"
   ]
  },
  {
   "cell_type": "code",
   "execution_count": 12,
   "metadata": {},
   "outputs": [
    {
     "data": {
      "text/plain": [
       "of        27\n",
       "the       26\n",
       "growth    17\n",
       "poles     13\n",
       "and       12\n",
       "          ..\n",
       "8          1\n",
       "25.6%      1\n",
       "IDAs       1\n",
       "2008,      1\n",
       "&          1\n",
       "Length: 451, dtype: int64"
      ]
     },
     "execution_count": 12,
     "metadata": {},
     "output_type": "execute_result"
    }
   ],
   "source": [
    "# 了解數據之後 接下來就要針對文字 進行 斷詞切字\n",
    "pd.Series(train.loc[0, ['doc_text']].values.tolist()[0].split()).value_counts()"
   ]
  },
  {
   "cell_type": "code",
   "execution_count": 13,
   "metadata": {},
   "outputs": [
    {
     "name": "stderr",
     "output_type": "stream",
     "text": [
      "[nltk_data] Downloading package stopwords to\n",
      "[nltk_data]     C:\\Users\\supervisor\\AppData\\Roaming\\nltk_data...\n",
      "[nltk_data]   Package stopwords is already up-to-date!\n"
     ]
    }
   ],
   "source": [
    "# 發現上述都有stop words 佔據前面幾名 the of this that 要移除\n",
    "# 請安裝nltk\n",
    "nltk.download(\"stopwords\")\n",
    "from nltk.corpus import stopwords\n",
    "stop = stopwords.words('english')"
   ]
  },
  {
   "cell_type": "code",
   "execution_count": 18,
   "metadata": {},
   "outputs": [
    {
     "data": {
      "text/plain": [
       "'84327 v2 findings interpretations conclusions expressed report necessarily reflect views position executive directors world bank european union government romania table contents table contents list abbreviations 7 romanias growth poles policy shaped important part countrys development recent years 9 current growth poles policy includes several positive features 11 3 policies adapted expected evolution growth poles 25 hand current growth poles policy shortcomings 13 4 planning growth poles beyond defined metropolitan boundaries based areas economic growth potential 27 new urban systems approach romania currently prepared dg regional development within ministry regional 5 truly integrated programs 27 development public administration (mrdpa) 15 several recommendations worth considering future 6k eep number growth poles (if regions stay same) consider different number urban development poles 29 growth poles policy (2014-2020) 17 equally important rather targeting public investments 7 consider polarizing effect bucureti within south region 29 programs cities rop place core people living areas 19 8 design proper monitoring evaluation mechanisms 31 practice implications new paradigm future growth poles policy include following recommendations: 21 9 designing robust governance structures growth poles 33 1 better definitions intervention areas around growth poles based functional criteria 21 10 consider alternative governance structures idas 35 2m ore targeted interventions based specific contextual factors growth pole 23 11 ensure better policy correlations 37 list abbreviations list abbreviations ec european commission erdf european regional development fund eu european union ict information communication technology ida international development association idp integrated development plan iec increasing economic competitiveness managing authority rda regional development agency rop regional operational program sop sectoral operational program 3 7 growth poles urban development poles urban development poles growth poles satu-mare suceava romanias growth poles policy shaped iai oradea cluj-napoca bacu important part countrys development arad recent years deva braov sibiu timioara galai brila ploieti rmnicu vlcea piteti prepared march 2008 defined several categories urban centers: 7 growth poles one development region beyond bucureti 13 constana urban development centers regional importance craiova 2007-2013 regional operational programme allocated dedicated funding various tiers urban agglomerations specified performance growth poles rop 2007-2013 (by july 2013) purpose increasing quality life create jobs cities rehabilitating urban infrastructure improving allocated funds share share (erdf state allocated allocated projects submitted contracted projects growth budget) funds funds pole value value services including social services well developing business support mil euro nr (mil euro) % nr (mil euro) % structures entrepreneurship iai 11125 16 17198 15459 10 10868 9769 constana 9032 36 9264 10257 27 5804 6426 ploieti 9700 16 12158 12534 14 9319 9607 craiova 955 17 12275 12854 15 949 9937 timioara 7049 28 9214 13073 23 7694 10915 cluj-napoca 8241 23 9751 11832 17 8688 10542 braov 743 26 9544 12845 23 7616 10250 total 62127 162 79404 12781 129 59479 9574 source: ministry regional development public administration 9 countries economic growth driven small number large cities share growth total gdp (%) 2000-2007 0% 10% 20% 30% 40% 50% 60% 70% 80% 90% 100% unitary south & west 379% 256% 97% 268% cyprus 1000% luxembourg 1000% malta 945% 55% greece 649% 73% 278% ireland 511% 213% 276% uk 387% 240% 152% 221% portugal 335% 22% 643% france 272% 344% 53% 330% netherlands 266% 311% 148% 274% unitary former socialist 366% 252% 45% 338% latvia 681% 87% 232% bulgaria'"
      ]
     },
     "execution_count": 18,
     "metadata": {},
     "output_type": "execute_result"
    }
   ],
   "source": [
    "\" \".join([w for w in cleaned_text.split() if w not in stop])"
   ]
  },
  {
   "cell_type": "code",
   "execution_count": 19,
   "metadata": {},
   "outputs": [
    {
     "data": {
      "text/plain": [
       "growth         20\n",
       "poles          18\n",
       "development    14\n",
       "urban           8\n",
       "regional        8\n",
       "               ..\n",
       "84327           1\n",
       "government      1\n",
       "living          1\n",
       "148%            1\n",
       "53%             1\n",
       "Length: 367, dtype: int64"
      ]
     },
     "execution_count": 19,
     "metadata": {},
     "output_type": "execute_result"
    }
   ],
   "source": [
    "pd.Series([w for w in cleaned_text.split() if w not in stop]).value_counts  #第一名為growth"
   ]
  },
  {
   "cell_type": "code",
   "execution_count": 15,
   "metadata": {},
   "outputs": [
    {
     "data": {
      "text/plain": [
       "['i',\n",
       " 'me',\n",
       " 'my',\n",
       " 'myself',\n",
       " 'we',\n",
       " 'our',\n",
       " 'ours',\n",
       " 'ourselves',\n",
       " 'you',\n",
       " \"you're\",\n",
       " \"you've\",\n",
       " \"you'll\",\n",
       " \"you'd\",\n",
       " 'your',\n",
       " 'yours',\n",
       " 'yourself',\n",
       " 'yourselves',\n",
       " 'he',\n",
       " 'him',\n",
       " 'his',\n",
       " 'himself',\n",
       " 'she',\n",
       " \"she's\",\n",
       " 'her',\n",
       " 'hers',\n",
       " 'herself',\n",
       " 'it',\n",
       " \"it's\",\n",
       " 'its',\n",
       " 'itself',\n",
       " 'they',\n",
       " 'them',\n",
       " 'their',\n",
       " 'theirs',\n",
       " 'themselves',\n",
       " 'what',\n",
       " 'which',\n",
       " 'who',\n",
       " 'whom',\n",
       " 'this',\n",
       " 'that',\n",
       " \"that'll\",\n",
       " 'these',\n",
       " 'those',\n",
       " 'am',\n",
       " 'is',\n",
       " 'are',\n",
       " 'was',\n",
       " 'were',\n",
       " 'be',\n",
       " 'been',\n",
       " 'being',\n",
       " 'have',\n",
       " 'has',\n",
       " 'had',\n",
       " 'having',\n",
       " 'do',\n",
       " 'does',\n",
       " 'did',\n",
       " 'doing',\n",
       " 'a',\n",
       " 'an',\n",
       " 'the',\n",
       " 'and',\n",
       " 'but',\n",
       " 'if',\n",
       " 'or',\n",
       " 'because',\n",
       " 'as',\n",
       " 'until',\n",
       " 'while',\n",
       " 'of',\n",
       " 'at',\n",
       " 'by',\n",
       " 'for',\n",
       " 'with',\n",
       " 'about',\n",
       " 'against',\n",
       " 'between',\n",
       " 'into',\n",
       " 'through',\n",
       " 'during',\n",
       " 'before',\n",
       " 'after',\n",
       " 'above',\n",
       " 'below',\n",
       " 'to',\n",
       " 'from',\n",
       " 'up',\n",
       " 'down',\n",
       " 'in',\n",
       " 'out',\n",
       " 'on',\n",
       " 'off',\n",
       " 'over',\n",
       " 'under',\n",
       " 'again',\n",
       " 'further',\n",
       " 'then',\n",
       " 'once',\n",
       " 'here',\n",
       " 'there',\n",
       " 'when',\n",
       " 'where',\n",
       " 'why',\n",
       " 'how',\n",
       " 'all',\n",
       " 'any',\n",
       " 'both',\n",
       " 'each',\n",
       " 'few',\n",
       " 'more',\n",
       " 'most',\n",
       " 'other',\n",
       " 'some',\n",
       " 'such',\n",
       " 'no',\n",
       " 'nor',\n",
       " 'not',\n",
       " 'only',\n",
       " 'own',\n",
       " 'same',\n",
       " 'so',\n",
       " 'than',\n",
       " 'too',\n",
       " 'very',\n",
       " 's',\n",
       " 't',\n",
       " 'can',\n",
       " 'will',\n",
       " 'just',\n",
       " 'don',\n",
       " \"don't\",\n",
       " 'should',\n",
       " \"should've\",\n",
       " 'now',\n",
       " 'd',\n",
       " 'll',\n",
       " 'm',\n",
       " 'o',\n",
       " 're',\n",
       " 've',\n",
       " 'y',\n",
       " 'ain',\n",
       " 'aren',\n",
       " \"aren't\",\n",
       " 'couldn',\n",
       " \"couldn't\",\n",
       " 'didn',\n",
       " \"didn't\",\n",
       " 'doesn',\n",
       " \"doesn't\",\n",
       " 'hadn',\n",
       " \"hadn't\",\n",
       " 'hasn',\n",
       " \"hasn't\",\n",
       " 'haven',\n",
       " \"haven't\",\n",
       " 'isn',\n",
       " \"isn't\",\n",
       " 'ma',\n",
       " 'mightn',\n",
       " \"mightn't\",\n",
       " 'mustn',\n",
       " \"mustn't\",\n",
       " 'needn',\n",
       " \"needn't\",\n",
       " 'shan',\n",
       " \"shan't\",\n",
       " 'shouldn',\n",
       " \"shouldn't\",\n",
       " 'wasn',\n",
       " \"wasn't\",\n",
       " 'weren',\n",
       " \"weren't\",\n",
       " 'won',\n",
       " \"won't\",\n",
       " 'wouldn',\n",
       " \"wouldn't\"]"
      ]
     },
     "execution_count": 15,
     "metadata": {},
     "output_type": "execute_result"
    }
   ],
   "source": [
    "list(stopwords.words(\"english\"))  #不重要的字"
   ]
  },
  {
   "cell_type": "code",
   "execution_count": null,
   "metadata": {},
   "outputs": [],
   "source": [
    "# 請再移除數字 標點符號 \n",
    "# from string import punctuation\n",
    "# txt2 = ''.join(c for c in doc2Txt if not c.isdigit())\n",
    "# txt2 = ''.join(c for c in txt2 if c not in punctuation).lower()\n",
    "# txt2 = ' '.join([word for word in txt2.split() if word not in (stopwords.words('english'))])"
   ]
  },
  {
   "cell_type": "code",
   "execution_count": 132,
   "metadata": {},
   "outputs": [
    {
     "data": {
      "text/plain": [
       "'!\"#$%&\\'()*+,-./:;<=>?@[\\\\]^_`{|}~'"
      ]
     },
     "execution_count": 132,
     "metadata": {},
     "output_type": "execute_result"
    }
   ],
   "source": [
    "punctuation"
   ]
  },
  {
   "cell_type": "code",
   "execution_count": 20,
   "metadata": {},
   "outputs": [
    {
     "data": {
      "text/plain": [
       "growth         20\n",
       "poles          18\n",
       "development    14\n",
       "urban           8\n",
       "regional        8\n",
       "               ..\n",
       "living          1\n",
       "government      1\n",
       "driven          1\n",
       "information     1\n",
       "53%             1\n",
       "Length: 294, dtype: int64"
      ]
     },
     "execution_count": 20,
     "metadata": {},
     "output_type": "execute_result"
    }
   ],
   "source": [
    "txt = ' '.join([w for w in cleaned_text.split() if w not in stop])\n",
    "txt = ' '.join([c for c in txt.split() if not c.isdigit()])\n",
    "txt = ' '.join([c for c in txt.split() if c not in punctuation])\n",
    "pd.Series([w for w in txt.split() if w not in stop]).value_counts()\n",
    "#txt 拔掉Stop , isdigit(),punctuation"
   ]
  },
  {
   "cell_type": "code",
   "execution_count": 23,
   "metadata": {},
   "outputs": [
    {
     "name": "stdout",
     "output_type": "stream",
     "text": [
      "84327 v2\n",
      "The findings, interpretations, and conclusions expressed in this report do not\n",
      "necessarily reflect the views and position of the Executive Directors of the\n",
      "World Bank, the European Union, or the Government of Romania.\n",
      "TABLE OF CONTENTs                                                                                                           Table of Contents\n",
      "List of Abbreviations ........................................................................................         7\n",
      "\n",
      "Romanias growth poles policy has shaped an important part of the\n",
      "countrys development in recent years .........................................................                        9\n",
      "\n",
      "The current growth poles policy includes several positive features .......                                             11\n",
      "                                                                                                                             3 Policies adapted to the expected evolution of growth poles .................                         25\n",
      "\n",
      "\n",
      "On the other hand, the current growth poles policy has a few\n",
      "shortcomings ....................................................................................................      13\n",
      "                                                                                                                             4 Planning  for growth poles beyond defined metropolitan boundaries\n",
      "                                                                                                                               based on each areas economic growth potential ..................................                    27\n",
      "\n",
      "A new urban systems approach in Romania is currently prepared\n",
      "by DG Regional Development within the Ministry of Regional\n",
      "                                                                                                                             5 Truly integrated programs ........................................................................   27\n",
      "\n",
      "Development and Public Administration (MRDPA) ...................................... 15\n",
      "\n",
      "There are several recommendations worth considering for the future\n",
      "                                                                                                                             6K  eep the same number of growth poles (if regions stay the same), but\n",
      "                                                                                                                               consider having a different number of urban development poles ..........                             29\n",
      "growth poles policy (2014-2020) ....................................................................                   17\n",
      "\n",
      "Equally important, rather than targeting public investments and\n",
      "                                                                                                                             7 Consider the polarizing effect of Bucureti within the South Region .....                            29\n",
      "\n",
      "programs at cities, the ROP should place at its core the people living in\n",
      "those areas ........................................................................................................   19\n",
      "                                                                                                                             8 Design proper monitoring and evaluation mechanisms .........................                         31\n",
      "\n",
      "In practice, the implications of this new paradigm for the future growth\n",
      "poles policy include the following recommendations:                      21\n",
      "                                                                                                                             9 Designing robust governance structures for growth poles .....................                        33\n",
      "\n",
      "\n",
      "   1 Better definitions of intervention areas around growth poles based on\n",
      "     functional criteria ......................................................................................        21\n",
      "                                                                                                                            10 Consider alternative governance structures to IDAs ..............................                    35\n",
      "\n",
      "\n",
      "   2M  ore targeted interventions based on specific contextual factors for\n",
      "     each growth pole ......................................................................................           23\n",
      "                                                                                                                            11 Ensure better policy correlations .............................................................      37\n",
      "List of Abbreviations   List of Abbreviations\n",
      "\n",
      "\n",
      "\n",
      "\n",
      "                        EC     European Commission\n",
      "                        ERDF   European Regional Development Fund\n",
      "                        EU     European Union\n",
      "                        ICT    Information and Communication Technology\n",
      "                        IDA    International Development Association\n",
      "                        IDP    Integrated Development Plan\n",
      "                        IEC    Increasing Economic Competitiveness\n",
      "                        MA     Managing Authority\n",
      "                        RDA    Regional Development Agency\n",
      "                        ROP    Regional Operational Program\n",
      "                        SOP    Sectoral Operational Program\n",
      "\n",
      "\n",
      "\n",
      "\n",
      "                                                                          3\n",
      "                                                                          7\n",
      "Growth Poles and Urban Development Poles\n",
      "\n",
      "                                                                                                            Urban Development Poles\n",
      "                                                                                                            Growth Poles\n",
      "                                    Satu-Mare                               Suceava\n",
      "\n",
      "\n",
      "\n",
      "\n",
      "                                                                                                                                      Romanias growth poles policy has shaped an\n",
      "                                                                                                     Iai\n",
      "\n",
      "                      Oradea\n",
      "                                                Cluj-Napoca\n",
      "\n",
      "\n",
      "                                                                                      Bacu\n",
      "                                                                                                                                      important part of the countrys development in\n",
      "               Arad                                                                                                                   recent years.\n",
      "                               Deva                                Braov\n",
      "                                                      Sibiu\n",
      "                Timioara                                                                            Galai\n",
      "\n",
      "                                                                                                   Brila\n",
      "\n",
      "                                                                          Ploieti\n",
      "                                        Rmnicu Vlcea\n",
      "                                                                Piteti\n",
      "                                                                                                                                      Prepared in March 2008, it defined several categories of urban centers: 7\n",
      "                                                                                                                                      growth poles, one for each development region beyond Bucureti and 13\n",
      "                                                                                                                       Constana\n",
      "                                                                                                                                      urban development centers of regional importance.\n",
      "                                                      Craiova\n",
      "\n",
      "\n",
      "                                                                                                                                      The 2007-2013 Regional Operational Programme\n",
      "                                                                                                                                      allocated dedicated funding for these various\n",
      "                                                                                                                                      tiers of urban agglomerations with the specified\n",
      "Performance of the growth poles under the ROP 2007-2013 (by July 2013)\n",
      "                                                                                                                                      purpose of increasing the quality of life and to\n",
      "                                                                                                                                      create jobs in cities by rehabilitating the urban infrastructure, improving\n",
      "                      Allocated Funds                                     Share of                                   Share of\n",
      "                      (ERDF and State                                     allocated                                  allocated\n",
      "                                            Projects submitted                          Contracted projects\n",
      "    Growth                Budget)                                           funds                                      funds\n",
      "     Pole\n",
      "                                                          Value                                     Value                             services, including social services, as well as by developing business support\n",
      "                        Mil. EURO               Nr.    (Mil. EURO)            %         Nr.      (Mil. EURO)               %\n",
      "                                                                                                                                      structures and entrepreneurship.\n",
      "      Iai                  111.25              16        171.98            154.59      10         108.68              97.69\n",
      "   Constana                90.32               36        92.64             102.57      27          58.04              64.26\n",
      "    Ploieti                97.00               16        121.58            125.34      14          93.19              96.07\n",
      "    Craiova                  95.5               17        122.75            128.54      15          94.9               99.37\n",
      "   Timioara                70.49               28        92.14             130.73      23          76.94             109.15\n",
      "  Cluj-Napoca               82.41               23        97.51             118.32      17          86.88             105.42\n",
      "    Braov                   74.3               26        95.44             128.45      23          76.16             102.50\n",
      "    TOTAL                   621.27              162       794.04            127.81     129         594.79              95.74\n",
      "\n",
      "Source: The Ministry of Regional Development and Public Administration\n",
      "\n",
      "                                                                                                                                                                                                                       9\n",
      "                    In most countries economic growth is driven by a small number of large cities\n",
      "                    Share of growth in total GDP (%), 2000-2007\n",
      "                                                                                                                                                                             0%                                                                                            10%                                                         20%                                                                 30%                                                                                                           40%                                     50%               60%                              70%             80%              90%        100%\n",
      "\n",
      "         Unitary South & West                                                                                                                                                                                                                                                                                         37.9%                                                                                                                                                                                                                         25.6%                                                     9.7%                            26.8%\n",
      "                        Cyprus                                                                                                                                                                                                                                                                                                                                                                                                                                                                                                                     100.0%\n",
      "                    Luxembourg                                                                                                                                                                                                                                                                                                                                                                                                                                                                                                                     100.0%\n",
      "                          Malta                                                                                                                                                                                                                                                                                                                                                                                                                                                                                                                 94.5%                                                                                                         5.5%\n",
      "                        Greece                                                                                                                                                                                                                                                                                                                                                                                      64.9%                                                                                                                                                                                      7.3%                          27.8%\n",
      "                        Ireland                                                                                                                                                                                                                                                                                                                                                          51.1%                                                                                                                                                                                         21.3%                                                 27.6%\n",
      "                             UK                                                                                                                                                                                                                                                                 38.7%                                                                                                                                                                                                                                                             24.0%                                 15.2%                                    22.1%\n",
      "                       Portugal                                                                                                                                                                                                                                                             33.5%                                                                                                                                  2.2%                                                                                                                                                              64.3%\n",
      "                        France                                                                                                                                                                                                                                                         27.2%                                                                                                                                                                                                                                 34.4%                                                              5.3%                                      33.0%\n",
      "                    Netherlands                                                                                                                                                                                                                                                        26.6%                                                                                                                                                                                                                              31.1%                                                                  14.8%                                        27.4%\n",
      "\n",
      "     Unitary Former Socialist                                                                                                                                                                                                                                                                                  36.6%                                                                                                                                                                                                                                       25.2%                               4.5%                                       33.8%\n",
      "                          Latvia                                                                                                                                                                                                                                                                                                                                                                                  68.1%                                                                                                                                                                                               8.7%                         23.2%\n",
      "                       Bulgaria                                                                                                                                                                                                                                                                                                                              \n",
      "84327 v2 findings interpretations conclusions expressed report necessarily reflect views position executive directors world bank european union government romania table contents table contents list abbreviations 7 romanias growth poles policy shaped important part countrys development recent years 9 current growth poles policy includes several positive features 11 3 policies adapted expected evolution growth poles 25 hand current growth poles policy shortcomings 13 4 planning growth poles beyond defined metropolitan boundaries based areas economic growth potential 27 new urban systems approach romania currently prepared dg regional development within ministry regional 5 truly integrated programs 27 development public administration (mrdpa) 15 several recommendations worth considering future 6k eep number growth poles (if regions stay same) consider different number urban development poles 29 growth poles policy (2014-2020) 17 equally important rather targeting public investments 7 consider polarizing effect bucureti within south region 29 programs cities rop place core people living areas 19 8 design proper monitoring evaluation mechanisms 31 practice implications new paradigm future growth poles policy include following recommendations: 21 9 designing robust governance structures growth poles 33 1 better definitions intervention areas around growth poles based functional criteria 21 10 consider alternative governance structures idas 35 2m ore targeted interventions based specific contextual factors growth pole 23 11 ensure better policy correlations 37 list abbreviations list abbreviations ec european commission erdf european regional development fund eu european union ict information communication technology ida international development association idp integrated development plan iec increasing economic competitiveness managing authority rda regional development agency rop regional operational program sop sectoral operational program 3 7 growth poles urban development poles urban development poles growth poles satu-mare suceava romanias growth poles policy shaped iai oradea cluj-napoca bacu important part countrys development arad recent years deva braov sibiu timioara galai brila ploieti rmnicu vlcea piteti prepared march 2008 defined several categories urban centers: 7 growth poles one development region beyond bucureti 13 constana urban development centers regional importance craiova 2007-2013 regional operational programme allocated dedicated funding various tiers urban agglomerations specified performance growth poles rop 2007-2013 (by july 2013) purpose increasing quality life create jobs cities rehabilitating urban infrastructure improving allocated funds share share (erdf state allocated allocated projects submitted contracted projects growth budget) funds funds pole value value services including social services well developing business support mil euro nr (mil euro) % nr (mil euro) % structures entrepreneurship iai 11125 16 17198 15459 10 10868 9769 constana 9032 36 9264 10257 27 5804 6426 ploieti 9700 16 12158 12534 14 9319 9607 craiova 955 17 12275 12854 15 949 9937 timioara 7049 28 9214 13073 23 7694 10915 cluj-napoca 8241 23 9751 11832 17 8688 10542 braov 743 26 9544 12845 23 7616 10250 total 62127 162 79404 12781 129 59479 9574 source: ministry regional development public administration 9 countries economic growth driven small number large cities share growth total gdp (%) 2000-2007 0% 10% 20% 30% 40% 50% 60% 70% 80% 90% 100% unitary south & west 379% 256% 97% 268% cyprus 1000% luxembourg 1000% malta 945% 55% greece 649% 73% 278% ireland 511% 213% 276% uk 387% 240% 152% 221% portugal 335% 22% 643% france 272% 344% 53% 330% netherlands 266% 311% 148% 274% unitary former socialist 366% 252% 45% 338% latvia 681% 87% 232% bulgaria\n"
     ]
    }
   ],
   "source": [
    "# 必較前後落差\n",
    "print(train.loc[0]['doc_text']),\n",
    "print(' '.join([w for w in cleaned_text.split() if w not in stop]))"
   ]
  },
  {
   "cell_type": "code",
   "execution_count": 22,
   "metadata": {},
   "outputs": [
    {
     "name": "stdout",
     "output_type": "stream",
     "text": [
      "84327 v2\n",
      "The findings, interpretations, and conclusions expressed in this report do not\n",
      "necessarily reflect the views and position of the Executive Directors of the\n",
      "World Bank, the European Union, or the Government of Romania.\n",
      "TABLE OF CONTENTs                                                                                                           Table of Contents\n",
      "List of Abbreviations ........................................................................................         7\n",
      "\n",
      "Romanias growth poles policy has shaped an important part of the\n",
      "countrys development in recent years .........................................................                        9\n",
      "\n",
      "The current growth poles policy includes several positive features .......                                             11\n",
      "                                                                                                                             3 Policies adapted to the expected evolution of growth poles .................                         25\n",
      "\n",
      "\n",
      "On the other hand, the current growth poles policy has a few\n",
      "shortcomings ....................................................................................................      13\n",
      "                                                                                                                             4 Planning  for growth poles beyond defined metropolitan boundaries\n",
      "                                                                                                                               based on each areas economic growth potential ..................................                    27\n",
      "\n",
      "A new urban systems approach in Romania is currently prepared\n",
      "by DG Regional Development within the Ministry of Regional\n",
      "                                                                                                                             5 Truly integrated programs ........................................................................   27\n",
      "\n",
      "Development and Public Administration (MRDPA) ...................................... 15\n",
      "\n",
      "There are several recommendations worth considering for the future\n",
      "                                                                                                                             6K  eep the same number of growth poles (if regions stay the same), but\n",
      "                                                                                                                               consider having a different number of urban development poles ..........                             29\n",
      "growth poles policy (2014-2020) ....................................................................                   17\n",
      "\n",
      "Equally important, rather than targeting public investments and\n",
      "                                                                                                                             7 Consider the polarizing effect of Bucureti within the South Region .....                            29\n",
      "\n",
      "programs at cities, the ROP should place at its core the people living in\n",
      "those areas ........................................................................................................   19\n",
      "                                                                                                                             8 Design proper monitoring and evaluation mechanisms .........................                         31\n",
      "\n",
      "In practice, the implications of this new paradigm for the future growth\n",
      "poles policy include the following recommendations:                      21\n",
      "                                                                                                                             9 Designing robust governance structures for growth poles .....................                        33\n",
      "\n",
      "\n",
      "   1 Better definitions of intervention areas around growth poles based on\n",
      "     functional criteria ......................................................................................        21\n",
      "                                                                                                                            10 Consider alternative governance structures to IDAs ..............................                    35\n",
      "\n",
      "\n",
      "   2M  ore targeted interventions based on specific contextual factors for\n",
      "     each growth pole ......................................................................................           23\n",
      "                                                                                                                            11 Ensure better policy correlations .............................................................      37\n",
      "List of Abbreviations   List of Abbreviations\n",
      "\n",
      "\n",
      "\n",
      "\n",
      "                        EC     European Commission\n",
      "                        ERDF   European Regional Development Fund\n",
      "                        EU     European Union\n",
      "                        ICT    Information and Communication Technology\n",
      "                        IDA    International Development Association\n",
      "                        IDP    Integrated Development Plan\n",
      "                        IEC    Increasing Economic Competitiveness\n",
      "                        MA     Managing Authority\n",
      "                        RDA    Regional Development Agency\n",
      "                        ROP    Regional Operational Program\n",
      "                        SOP    Sectoral Operational Program\n",
      "\n",
      "\n",
      "\n",
      "\n",
      "                                                                          3\n",
      "                                                                          7\n",
      "Growth Poles and Urban Development Poles\n",
      "\n",
      "                                                                                                            Urban Development Poles\n",
      "                                                                                                            Growth Poles\n",
      "                                    Satu-Mare                               Suceava\n",
      "\n",
      "\n",
      "\n",
      "\n",
      "                                                                                                                                      Romanias growth poles policy has shaped an\n",
      "                                                                                                     Iai\n",
      "\n",
      "                      Oradea\n",
      "                                                Cluj-Napoca\n",
      "\n",
      "\n",
      "                                                                                      Bacu\n",
      "                                                                                                                                      important part of the countrys development in\n",
      "               Arad                                                                                                                   recent years.\n",
      "                               Deva                                Braov\n",
      "                                                      Sibiu\n",
      "                Timioara                                                                            Galai\n",
      "\n",
      "                                                                                                   Brila\n",
      "\n",
      "                                                                          Ploieti\n",
      "                                        Rmnicu Vlcea\n",
      "                                                                Piteti\n",
      "                                                                                                                                      Prepared in March 2008, it defined several categories of urban centers: 7\n",
      "                                                                                                                                      growth poles, one for each development region beyond Bucureti and 13\n",
      "                                                                                                                       Constana\n",
      "                                                                                                                                      urban development centers of regional importance.\n",
      "                                                      Craiova\n",
      "\n",
      "\n",
      "                                                                                                                                      The 2007-2013 Regional Operational Programme\n",
      "                                                                                                                                      allocated dedicated funding for these various\n",
      "                                                                                                                                      tiers of urban agglomerations with the specified\n",
      "Performance of the growth poles under the ROP 2007-2013 (by July 2013)\n",
      "                                                                                                                                      purpose of increasing the quality of life and to\n",
      "                                                                                                                                      create jobs in cities by rehabilitating the urban infrastructure, improving\n",
      "                      Allocated Funds                                     Share of                                   Share of\n",
      "                      (ERDF and State                                     allocated                                  allocated\n",
      "                                            Projects submitted                          Contracted projects\n",
      "    Growth                Budget)                                           funds                                      funds\n",
      "     Pole\n",
      "                                                          Value                                     Value                             services, including social services, as well as by developing business support\n",
      "                        Mil. EURO               Nr.    (Mil. EURO)            %         Nr.      (Mil. EURO)               %\n",
      "                                                                                                                                      structures and entrepreneurship.\n",
      "      Iai                  111.25              16        171.98            154.59      10         108.68              97.69\n",
      "   Constana                90.32               36        92.64             102.57      27          58.04              64.26\n",
      "    Ploieti                97.00               16        121.58            125.34      14          93.19              96.07\n",
      "    Craiova                  95.5               17        122.75            128.54      15          94.9               99.37\n",
      "   Timioara                70.49               28        92.14             130.73      23          76.94             109.15\n",
      "  Cluj-Napoca               82.41               23        97.51             118.32      17          86.88             105.42\n",
      "    Braov                   74.3               26        95.44             128.45      23          76.16             102.50\n",
      "    TOTAL                   621.27              162       794.04            127.81     129         594.79              95.74\n",
      "\n",
      "Source: The Ministry of Regional Development and Public Administration\n",
      "\n",
      "                                                                                                                                                                                                                       9\n",
      "                    In most countries economic growth is driven by a small number of large cities\n",
      "                    Share of growth in total GDP (%), 2000-2007\n",
      "                                                                                                                                                                             0%                                                                                            10%                                                         20%                                                                 30%                                                                                                           40%                                     50%               60%                              70%             80%              90%        100%\n",
      "\n",
      "         Unitary South & West                                                                                                                                                                                                                                                                                         37.9%                                                                                                                                                                                                                         25.6%                                                     9.7%                            26.8%\n",
      "                        Cyprus                                                                                                                                                                                                                                                                                                                                                                                                                                                                                                                     100.0%\n",
      "                    Luxembourg                                                                                                                                                                                                                                                                                                                                                                                                                                                                                                                     100.0%\n",
      "                          Malta                                                                                                                                                                                                                                                                                                                                                                                                                                                                                                                 94.5%                                                                                                         5.5%\n",
      "                        Greece                                                                                                                                                                                                                                                                                                                                                                                      64.9%                                                                                                                                                                                      7.3%                          27.8%\n",
      "                        Ireland                                                                                                                                                                                                                                                                                                                                                          51.1%                                                                                                                                                                                         21.3%                                                 27.6%\n",
      "                             UK                                                                                                                                                                                                                                                                 38.7%                                                                                                                                                                                                                                                             24.0%                                 15.2%                                    22.1%\n",
      "                       Portugal                                                                                                                                                                                                                                                             33.5%                                                                                                                                  2.2%                                                                                                                                                              64.3%\n",
      "                        France                                                                                                                                                                                                                                                         27.2%                                                                                                                                                                                                                                 34.4%                                                              5.3%                                      33.0%\n",
      "                    Netherlands                                                                                                                                                                                                                                                        26.6%                                                                                                                                                                                                                              31.1%                                                                  14.8%                                        27.4%\n",
      "\n",
      "     Unitary Former Socialist                                                                                                                                                                                                                                                                                  36.6%                                                                                                                                                                                                                                       25.2%                               4.5%                                       33.8%\n",
      "                          Latvia                                                                                                                                                                                                                                                                                                                                                                                  68.1%                                                                                                                                                                                               8.7%                         23.2%\n",
      "                       Bulgaria                                                                                                                                                                                                                                                                                                                              \n"
     ]
    }
   ],
   "source": [
    "# 必較前後\n",
    "print(train.loc[0]['doc_text'])"
   ]
  },
  {
   "cell_type": "code",
   "execution_count": null,
   "metadata": {},
   "outputs": [],
   "source": []
  }
 ],
 "metadata": {
  "kernelspec": {
   "display_name": "Python 3",
   "language": "python",
   "name": "python3"
  },
  "language_info": {
   "codemirror_mode": {
    "name": "ipython",
    "version": 3
   },
   "file_extension": ".py",
   "mimetype": "text/x-python",
   "name": "python",
   "nbconvert_exporter": "python",
   "pygments_lexer": "ipython3",
   "version": "3.7.4"
  }
 },
 "nbformat": 4,
 "nbformat_minor": 2
}
