{
 "cells": [
  {
   "cell_type": "code",
   "execution_count": 6,
   "metadata": {},
   "outputs": [],
   "source": [
    "# 套件\n",
    "import pandas as pd\n",
    "import numpy as np\n",
    "import matplotlib.pyplot as plt\n",
    "from nltk.corpus import stopwords\n",
    "import re\n",
    "from string import punctuation\n",
    "stop = stopwords.words('english')"
   ]
  },
  {
   "cell_type": "code",
   "execution_count": 3,
   "metadata": {},
   "outputs": [],
   "source": [
    "# 讀取 train data\n",
    "train = pd.read_csv('train_values.csv')\n",
    "train_label = pd.read_csv('train_labels.csv')"
   ]
  },
  {
   "cell_type": "code",
   "execution_count": 4,
   "metadata": {},
   "outputs": [
    {
     "data": {
      "text/plain": [
       "((18687, 2), (18687, 25))"
      ]
     },
     "execution_count": 4,
     "metadata": {},
     "output_type": "execute_result"
    }
   ],
   "source": [
    "# 0 - 18686\n",
    "train.shape , train_label.shape # 筆數正確"
   ]
  },
  {
   "cell_type": "code",
   "execution_count": 11,
   "metadata": {},
   "outputs": [],
   "source": [
    "# 拿高分的資料清除位置\n",
    "def rm_tags(text):\n",
    "    re_tag = r'<[^>]+>'\n",
    "    text = text.lower()\n",
    "    \n",
    "    text = re.sub(re_tag, '', text)\n",
    "    text = re.sub(r\"didn't\",\"did not\", text)\n",
    "    text = re.sub(r\"haven't\",\"have not\", text)\n",
    "    text = re.sub(r\"can't\",\"can not\", text)\n",
    "    text = re.sub(r\"it's\",\"it is\", text)\n",
    "    text = re.sub(r\"won't\",\"will not\", text)\n",
    "    text = re.sub(r\"wouldn't\",\"would not\",text)\n",
    "    # 請繼續加入\n",
    "    \n",
    "    text = re.sub(r\"[&-/()),%']\", ' ', text) #這特殊符號都去除\n",
    "    text = re.sub(r\"\\.\", ' ', text) # 點換成一個空白\n",
    "    text = re.sub(r\"\\s+\", ' ', text) #多空白換成一個空白\n",
    "    \n",
    "    text = ' '.join([c for c in text.split() if c not in stop])    \n",
    "    text = ' '.join([c for c in text.split() if not c.isdigit()])\n",
    "    text = ' '.join([c for c in text.split() if c not in punctuation])\n",
    "    return text"
   ]
  },
  {
   "cell_type": "code",
   "execution_count": 13,
   "metadata": {
    "collapsed": true
   },
   "outputs": [
    {
     "data": {
      "text/plain": [
       "'84327 v2\\nThe findings, interpretations, and conclusions expressed in this report do not\\nnecessarily reflect the views and position of the Executive Directors of the\\nWorld Bank, the European Union, or the Government of Romania.\\nTABLE OF CONTENTs                                                                                                           Table of Contents\\nList of Abbreviations ........................................................................................         7\\n\\nRomanias growth poles policy has shaped an important part of the\\ncountrys development in recent years .........................................................                        9\\n\\nThe current growth poles policy includes several positive features .......                                             11\\n                                                                                                                             3 Policies adapted to the expected evolution of growth poles .................                         25\\n\\n\\nOn the other hand, the current growth poles policy has a few\\nshortcomings ....................................................................................................      13\\n                                                                                                                             4 Planning  for growth poles beyond defined metropolitan boundaries\\n                                                                                                                               based on each areas economic growth potential ..................................                    27\\n\\nA new urban systems approach in Romania is currently prepared\\nby DG Regional Development within the Ministry of Regional\\n                                                                                                                             5 Truly integrated programs ........................................................................   27\\n\\nDevelopment and Public Administration (MRDPA) ...................................... 15\\n\\nThere are several recommendations worth considering for the future\\n                                                                                                                             6K  eep the same number of growth poles (if regions stay the same), but\\n                                                                                                                               consider having a different number of urban development poles ..........                             29\\ngrowth poles policy (2014-2020) ....................................................................                   17\\n\\nEqually important, rather than targeting public investments and\\n                                                                                                                             7 Consider the polarizing effect of Bucureti within the South Region .....                            29\\n\\nprograms at cities, the ROP should place at its core the people living in\\nthose areas ........................................................................................................   19\\n                                                                                                                             8 Design proper monitoring and evaluation mechanisms .........................                         31\\n\\nIn practice, the implications of this new paradigm for the future growth\\npoles policy include the following recommendations:                      21\\n                                                                                                                             9 Designing robust governance structures for growth poles .....................                        33\\n\\n\\n   1 Better definitions of intervention areas around growth poles based on\\n     functional criteria ......................................................................................        21\\n                                                                                                                            10 Consider alternative governance structures to IDAs ..............................                    35\\n\\n\\n   2M  ore targeted interventions based on specific contextual factors for\\n     each growth pole ......................................................................................           23\\n                                                                                                                            11 Ensure better policy correlations .............................................................      37\\nList of Abbreviations   List of Abbreviations\\n\\n\\n\\n\\n                        EC     European Commission\\n                        ERDF   European Regional Development Fund\\n                        EU     European Union\\n                        ICT    Information and Communication Technology\\n                        IDA    International Development Association\\n                        IDP    Integrated Development Plan\\n                        IEC    Increasing Economic Competitiveness\\n                        MA     Managing Authority\\n                        RDA    Regional Development Agency\\n                        ROP    Regional Operational Program\\n                        SOP    Sectoral Operational Program\\n\\n\\n\\n\\n                                                                          3\\n                                                                          7\\nGrowth Poles and Urban Development Poles\\n\\n                                                                                                            Urban Development Poles\\n                                                                                                            Growth Poles\\n                                    Satu-Mare                               Suceava\\n\\n\\n\\n\\n                                                                                                                                      Romanias growth poles policy has shaped an\\n                                                                                                     Iai\\n\\n                      Oradea\\n                                                Cluj-Napoca\\n\\n\\n                                                                                      Bacu\\n                                                                                                                                      important part of the countrys development in\\n               Arad                                                                                                                   recent years.\\n                               Deva                                Braov\\n                                                      Sibiu\\n                Timioara                                                                            Galai\\n\\n                                                                                                   Brila\\n\\n                                                                          Ploieti\\n                                        Rmnicu Vlcea\\n                                                                Piteti\\n                                                                                                                                      Prepared in March 2008, it defined several categories of urban centers: 7\\n                                                                                                                                      growth poles, one for each development region beyond Bucureti and 13\\n                                                                                                                       Constana\\n                                                                                                                                      urban development centers of regional importance.\\n                                                      Craiova\\n\\n\\n                                                                                                                                      The 2007-2013 Regional Operational Programme\\n                                                                                                                                      allocated dedicated funding for these various\\n                                                                                                                                      tiers of urban agglomerations with the specified\\nPerformance of the growth poles under the ROP 2007-2013 (by July 2013)\\n                                                                                                                                      purpose of increasing the quality of life and to\\n                                                                                                                                      create jobs in cities by rehabilitating the urban infrastructure, improving\\n                      Allocated Funds                                     Share of                                   Share of\\n                      (ERDF and State                                     allocated                                  allocated\\n                                            Projects submitted                          Contracted projects\\n    Growth                Budget)                                           funds                                      funds\\n     Pole\\n                                                          Value                                     Value                             services, including social services, as well as by developing business support\\n                        Mil. EURO               Nr.    (Mil. EURO)            %         Nr.      (Mil. EURO)               %\\n                                                                                                                                      structures and entrepreneurship.\\n      Iai                  111.25              16        171.98            154.59      10         108.68              97.69\\n   Constana                90.32               36        92.64             102.57      27          58.04              64.26\\n    Ploieti                97.00               16        121.58            125.34      14          93.19              96.07\\n    Craiova                  95.5               17        122.75            128.54      15          94.9               99.37\\n   Timioara                70.49               28        92.14             130.73      23          76.94             109.15\\n  Cluj-Napoca               82.41               23        97.51             118.32      17          86.88             105.42\\n    Braov                   74.3               26        95.44             128.45      23          76.16             102.50\\n    TOTAL                   621.27              162       794.04            127.81     129         594.79              95.74\\n\\nSource: The Ministry of Regional Development and Public Administration\\n\\n                                                                                                                                                                                                                       9\\n                    In most countries economic growth is driven by a small number of large cities\\n                    Share of growth in total GDP (%), 2000-2007\\n                                                                                                                                                                             0%                                                                                            10%                                                         20%                                                                 30%                                                                                                           40%                                     50%               60%                              70%             80%              90%        100%\\n\\n         Unitary South & West                                                                                                                                                                                                                                                                                         37.9%                                                                                                                                                                                                                         25.6%                                                     9.7%                            26.8%\\n                        Cyprus                                                                                                                                                                                                                                                                                                                                                                                                                                                                                                                     100.0%\\n                    Luxembourg                                                                                                                                                                                                                                                                                                                                                                                                                                                                                                                     100.0%\\n                          Malta                                                                                                                                                                                                                                                                                                                                                                                                                                                                                                                 94.5%                                                                                                         5.5%\\n                        Greece                                                                                                                                                                                                                                                                                                                                                                                      64.9%                                                                                                                                                                                      7.3%                          27.8%\\n                        Ireland                                                                                                                                                                                                                                                                                                                                                          51.1%                                                                                                                                                                                         21.3%                                                 27.6%\\n                             UK                                                                                                                                                                                                                                                                 38.7%                                                                                                                                                                                                                                                             24.0%                                 15.2%                                    22.1%\\n                       Portugal                                                                                                                                                                                                                                                             33.5%                                                                                                                                  2.2%                                                                                                                                                              64.3%\\n                        France                                                                                                                                                                                                                                                         27.2%                                                                                                                                                                                                                                 34.4%                                                              5.3%                                      33.0%\\n                    Netherlands                                                                                                                                                                                                                                                        26.6%                                                                                                                                                                                                                              31.1%                                                                  14.8%                                        27.4%\\n\\n     Unitary Former Socialist                                                                                                                                                                                                                                                                                  36.6%                                                                                                                                                                                                                                       25.2%                               4.5%                                       33.8%\\n                          Latvia                                                                                                                                                                                                                                                                                                                                                                                  68.1%                                                                                                                                                                                               8.7%                         23.2%\\n                       Bulgaria                                                                                                                                                                                                                                                                                                                              '"
      ]
     },
     "execution_count": 13,
     "metadata": {},
     "output_type": "execute_result"
    }
   ],
   "source": [
    "train['doc_text'][0]"
   ]
  },
  {
   "cell_type": "code",
   "execution_count": 12,
   "metadata": {
    "collapsed": true
   },
   "outputs": [
    {
     "data": {
      "text/plain": [
       "'v2 findings interpretations conclusions expressed report necessarily reflect views position executive directors world bank european union government romania table contents table contents list abbreviations romanias growth poles policy shaped important part countrys development recent years current growth poles policy includes several positive features policies adapted expected evolution growth poles hand current growth poles policy shortcomings planning growth poles beyond defined metropolitan boundaries based areas economic growth potential new urban systems approach romania currently prepared dg regional development within ministry regional truly integrated programs development public administration mrdpa several recommendations worth considering future 6k eep number growth poles regions stay consider different number urban development poles growth poles policy equally important rather targeting public investments consider polarizing effect bucureti within south region programs cities rop place core people living areas design proper monitoring evaluation mechanisms practice implications new paradigm future growth poles policy include following recommendations: designing robust governance structures growth poles better definitions intervention areas around growth poles based functional criteria consider alternative governance structures idas 2m ore targeted interventions based specific contextual factors growth pole ensure better policy correlations list abbreviations list abbreviations ec european commission erdf european regional development fund eu european union ict information communication technology ida international development association idp integrated development plan iec increasing economic competitiveness managing authority rda regional development agency rop regional operational program sop sectoral operational program growth poles urban development poles urban development poles growth poles satu mare suceava romanias growth poles policy shaped iai oradea cluj napoca bacu important part countrys development arad recent years deva braov sibiu timioara galai brila ploieti rmnicu vlcea piteti prepared march defined several categories urban centers: growth poles one development region beyond bucureti constana urban development centers regional importance craiova regional operational programme allocated dedicated funding various tiers urban agglomerations specified performance growth poles rop july purpose increasing quality life create jobs cities rehabilitating urban infrastructure improving allocated funds share share erdf state allocated allocated projects submitted contracted projects growth budget funds funds pole value value services including social services well developing business support mil euro nr mil euro nr mil euro structures entrepreneurship iai constana ploieti craiova timioara cluj napoca braov total source: ministry regional development public administration countries economic growth driven small number large cities share growth total gdp unitary south west cyprus luxembourg malta greece ireland uk portugal france netherlands unitary former socialist latvia bulgaria'"
      ]
     },
     "execution_count": 12,
     "metadata": {},
     "output_type": "execute_result"
    }
   ],
   "source": [
    "rm_tags(train['doc_text'][0])"
   ]
  },
  {
   "cell_type": "code",
   "execution_count": null,
   "metadata": {},
   "outputs": [],
   "source": []
  }
 ],
 "metadata": {
  "kernelspec": {
   "display_name": "Python 3",
   "language": "python",
   "name": "python3"
  },
  "language_info": {
   "codemirror_mode": {
    "name": "ipython",
    "version": 3
   },
   "file_extension": ".py",
   "mimetype": "text/x-python",
   "name": "python",
   "nbconvert_exporter": "python",
   "pygments_lexer": "ipython3",
   "version": "3.7.4"
  }
 },
 "nbformat": 4,
 "nbformat_minor": 2
}
