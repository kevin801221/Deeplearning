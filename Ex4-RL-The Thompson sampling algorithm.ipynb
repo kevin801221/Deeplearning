{
 "cells": [
  {
   "cell_type": "code",
   "execution_count": 1,
   "metadata": {},
   "outputs": [
    {
     "ename": "ModuleNotFoundError",
     "evalue": "No module named 'gym_bandits'",
     "output_type": "error",
     "traceback": [
      "\u001b[1;31m---------------------------------------------------------------------------\u001b[0m",
      "\u001b[1;31mModuleNotFoundError\u001b[0m                       Traceback (most recent call last)",
      "\u001b[1;32m<ipython-input-1-0b394468dce7>\u001b[0m in \u001b[0;36m<module>\u001b[1;34m\u001b[0m\n\u001b[1;32m----> 1\u001b[1;33m \u001b[1;32mimport\u001b[0m \u001b[0mgym_bandits\u001b[0m\u001b[1;33m\u001b[0m\u001b[1;33m\u001b[0m\u001b[0m\n\u001b[0m\u001b[0;32m      2\u001b[0m \u001b[1;32mimport\u001b[0m \u001b[0mgym\u001b[0m\u001b[1;33m\u001b[0m\u001b[1;33m\u001b[0m\u001b[0m\n\u001b[0;32m      3\u001b[0m \u001b[1;32mimport\u001b[0m \u001b[0mnumpy\u001b[0m \u001b[1;32mas\u001b[0m \u001b[0mnp\u001b[0m\u001b[1;33m\u001b[0m\u001b[1;33m\u001b[0m\u001b[0m\n\u001b[0;32m      4\u001b[0m \u001b[1;32mimport\u001b[0m \u001b[0mmath\u001b[0m\u001b[1;33m\u001b[0m\u001b[1;33m\u001b[0m\u001b[0m\n\u001b[0;32m      5\u001b[0m \u001b[1;32mimport\u001b[0m \u001b[0mrandom\u001b[0m\u001b[1;33m\u001b[0m\u001b[1;33m\u001b[0m\u001b[0m\n",
      "\u001b[1;31mModuleNotFoundError\u001b[0m: No module named 'gym_bandits'"
     ]
    }
   ],
   "source": [
    "import gym_bandits\n",
    "import gym\n",
    "import numpy as np\n",
    "import math\n",
    "import random\n",
    "np.random.seed(1234)\n",
    "env = gym.make(\"BanditTenArmedGaussian-v0\")\n"
   ]
  },
  {
   "cell_type": "code",
   "execution_count": 2,
   "metadata": {},
   "outputs": [],
   "source": [
    "# number of rounds (iterations)\n",
    "num_rounds = 20000\n",
    "\n",
    "# Count of number of times an arm was pulled\n",
    "count = np.zeros(10)\n",
    "\n",
    "# Sum of rewards of each arm\n",
    "sum_rewards = np.zeros(10)\n",
    "\n",
    "# Q value which is the average reward\n",
    "Q = np.zeros(10)\n",
    "\n",
    "# initialize alpha and beta values 因為要配合beta distribution alpha-1 , beta-1 關係\n",
    "# alpha = np.ones(10)\n",
    "# beta = np.ones(10)\n",
    "alpha = np.zeros(10)\n",
    "beta = np.zeros(10)\n",
    "\n",
    "# ---------------------------------\n",
    "# sum_rewards[0..9] :  十台拉霸機 累積獎賞\n",
    "\n",
    "# count[0..9]       :  十台拉霸機 各被玩幾次\n",
    "\n",
    "# Q[0..9]           :  十台拉霸機 個別拉霸機 平均收益"
   ]
  },
  {
   "cell_type": "code",
   "execution_count": 3,
   "metadata": {},
   "outputs": [],
   "source": [
    "# import numpy as np\n",
    "# np.random.beta?"
   ]
  },
  {
   "cell_type": "code",
   "execution_count": 4,
   "metadata": {},
   "outputs": [],
   "source": [
    "# 找出最佳拉霸機的號碼 根據理論 The Thompson sampling algorithm\n",
    "def thompson_sampling(alpha,beta):\n",
    "# Alpha represents the number of times we receive the positive rewards\n",
    "# Beta represents the number of times we receive the negative rewards\n",
    "    samples = [np.random.beta(alpha[i]+1,beta[i]+1) for i in range(10)]\n",
    "    # 如果加上1 就可以用 np.zeros 給 alpha beta 否則 不加1 就是用 np.ones\n",
    "    return np.argmax(samples)\n",
    "# 將 action 想成 0..9 之間的拉霸機"
   ]
  },
  {
   "cell_type": "code",
   "execution_count": 5,
   "metadata": {},
   "outputs": [
    {
     "name": "stdout",
     "output_type": "stream",
     "text": [
      "The optimal arm is 2\n"
     ]
    }
   ],
   "source": [
    "for i in range(num_rounds):\n",
    "\n",
    " # Select the arm using thompson sampling\n",
    " arm = thompson_sampling(alpha,beta)\n",
    "\n",
    " # Get the reward\n",
    " observation, reward, done, info = env.step(arm) \n",
    "\n",
    " # update the count of that arm\n",
    " count[arm] += 1\n",
    "\n",
    " # Sum the rewards obtained from the arm\n",
    " sum_rewards[arm]+=reward\n",
    "\n",
    " # calculate Q value which is the average rewards of the arm\n",
    " Q[arm] = sum_rewards[arm]/count[arm]\n",
    "\n",
    " # If it is a positive reward increment alpha\n",
    " if reward >0:\n",
    "    alpha[arm] += 1\n",
    "\n",
    " # If it is a negative reward increment beta\n",
    " else:\n",
    "    beta[arm] += 1\n",
    "\n",
    "print( 'The optimal arm is {}'.format(np.argmax(Q)))\n"
   ]
  },
  {
   "cell_type": "code",
   "execution_count": 6,
   "metadata": {},
   "outputs": [
    {
     "data": {
      "image/png": "[encoded data removed]",
      "text/plain": [
       "<Figure size 432x288 with 1 Axes>"
      ]
     },
     "metadata": {
      "needs_background": "light"
     },
     "output_type": "display_data"
    }
   ],
   "source": [
    "# 繪圖每一台拉霸機 個別拉霸機 平均收益\n",
    "%matplotlib inline\n",
    "import matplotlib.pyplot as plt\n",
    "plt.bar(range(len(Q)),  Q  )\n",
    "plt.show()"
   ]
  },
  {
   "cell_type": "code",
   "execution_count": 7,
   "metadata": {},
   "outputs": [
    {
     "data": {
      "image/png": "[encoded data removed]",
      "text/plain": [
       "<Figure size 432x288 with 1 Axes>"
      ]
     },
     "metadata": {
      "needs_background": "light"
     },
     "output_type": "display_data"
    }
   ],
   "source": [
    "# 繪圖每一台拉霸機 sum_rewards\n",
    "%matplotlib inline\n",
    "import matplotlib.pyplot as plt\n",
    "plt.bar(range(len(sum_rewards)),  sum_rewards  )\n",
    "plt.show()"
   ]
  },
  {
   "cell_type": "code",
   "execution_count": 8,
   "metadata": {},
   "outputs": [
    {
     "data": {
      "image/png": "[encoded data removed]",
      "text/plain": [
       "<Figure size 432x288 with 1 Axes>"
      ]
     },
     "metadata": {
      "needs_background": "light"
     },
     "output_type": "display_data"
    }
   ],
   "source": [
    "# 繪圖每一台拉霸機 count\n",
    "%matplotlib inline\n",
    "import matplotlib.pyplot as plt\n",
    "plt.bar(range(len(count)),  count  )\n",
    "plt.show()"
   ]
  }
 ],
 "metadata": {
  "kernelspec": {
   "display_name": "Python 3",
   "language": "python",
   "name": "python3"
  },
  "language_info": {
   "codemirror_mode": {
    "name": "ipython",
    "version": 3
   },
   "file_extension": ".py",
   "mimetype": "text/x-python",
   "name": "python",
   "nbconvert_exporter": "python",
   "pygments_lexer": "ipython3",
   "version": "3.7.4"
  }
 },
 "nbformat": 4,
 "nbformat_minor": 2
}
