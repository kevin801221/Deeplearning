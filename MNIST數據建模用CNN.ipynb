{
 "cells": [
  {
   "cell_type": "code",
   "execution_count": 11,
   "metadata": {},
   "outputs": [],
   "source": [
    "from tensorflow import keras\n",
    "from tensorflow.keras.datasets import mnist\n",
    "from tensorflow.keras.models import Sequential\n",
    "from tensorflow.keras.layers import Dense, Dropout, Flatten\n",
    "from tensorflow.keras.layers import Conv2D, MaxPooling2D\n",
    "from keras import backend as K\n",
    "import matplotlib as plt\n",
    "import util1 as u"
   ]
  },
  {
   "cell_type": "code",
   "execution_count": 9,
   "metadata": {},
   "outputs": [],
   "source": [
    "# 將圖片顯示出來, 每行 10 張圖, 最多 240 張圖\n",
    "# 參數依序為：圖片資料集,標籤資料集,開始顯示的索引,顯示的圖片數量,預測的答案資料集\n",
    "# 若 num 為 0 則顯示由 start 開始的全部圖片\n",
    "def showImgs(imgs, labs, start=0, num=0, predicts=[], by0123=True):\n",
    "    max_num = len(imgs)-start\n",
    "    if max_num > 240: max_num = 240  # 最多只顯示 240 張圖\n",
    "    if num <= 0 or num > max_num: num = max_num\n",
    "    plt.gcf().set_size_inches(16, 52 if len(predicts) else 40)\n",
    "    idx_list = get_idxs(imgs, labs, start, num, by0123)\n",
    "    for i in range(num):\n",
    "        ax = plt.subplot(24, 10, 1+i)\n",
    "        idx = idx_list[i]\n",
    "        ax.imshow(imgs[idx], cmap='gray_r',   #反白顯示 (白底黑字)\n",
    "                  norm=plt.Normalize(0.0, 255.0))  #指定灰階的範圍\n",
    "        if len(predicts):\n",
    "            title = 'label = ' + str(labs[idx])\n",
    "            if labs[idx] == predicts[idx]:\n",
    "                title += '\\npredi = ' + str(predicts[idx])\n",
    "            else:\n",
    "                title += '\\npre● = ' + str(predicts[idx])\n",
    "            ax.set_title(title, fontsize=13)\n",
    "        ax.set_xticks([]); ax.set_yticks([]) # X, Y 軸不顯示刻度\n",
    "    plt.show()"
   ]
  },
  {
   "cell_type": "code",
   "execution_count": 17,
   "metadata": {},
   "outputs": [
    {
     "data": {
      "image/png": "[encoded data removed]",
      "text/plain": [
       "<Figure size 1152x2880 with 10 Axes>"
      ]
     },
     "metadata": {},
     "output_type": "display_data"
    }
   ],
   "source": [
    "batch_size = 128\n",
    "num_classes = 10\n",
    "epochs = 12\n",
    "\n",
    "# input image dimensions\n",
    "img_rows, img_cols = 28, 28\n",
    "\n",
    "\n",
    "adj_size = 0   # 指定要將數字調整為多少像素, 設為 0 表示不調整\n",
    "fns = ''        # 檔名附加訊息\n",
    "\n",
    "# the data, split between train and test sets\n",
    "(x_train, y_train), (x_test, y_test) = mnist.load_data()\n",
    "\n",
    "u.showImgs(x_train, y_train, 0, 10)\n"
   ]
  },
  {
   "cell_type": "code",
   "execution_count": 18,
   "metadata": {},
   "outputs": [],
   "source": [
    "if adj_size > 0:\n",
    "    fns = '_S' + str(adj_size)\n",
    "    print(f'調整 MNIST 圖片的數字大小改為 {adj_size} 像素, 並置中')\n",
    "    import lab_mnist_util as u\n",
    "    for i in range(len(x_train)):\n",
    "        if i % 1000 == 0: print(i,end=',')\n",
    "        x_train[i] = u.img_best(x_train[i], size=adj_size, vdif=1, hdif=1)\n",
    "    for i in range(len(x_test)):\n",
    "        if i % 1000 == 0: print(i,end=',')\n",
    "        x_test[i] = u.img_best(x_test[i], size=adj_size, vdif=1, hdif=1)\n",
    "    u.showImgs(x_train, y_train, 0, 10)\n",
    "    print(f'\\n調整完成, 開始預處理及訓練模型...')\n",
    "\n",
    "if K.image_data_format() == 'channels_first':\n",
    "    x_train = x_train.reshape(x_train.shape[0], 1, img_rows, img_cols)\n",
    "    x_test = x_test.reshape(x_test.shape[0], 1, img_rows, img_cols)\n",
    "    input_shape = (1, img_rows, img_cols)\n",
    "else:\n",
    "    x_train = x_train.reshape(x_train.shape[0], img_rows, img_cols, 1)\n",
    "    x_test = x_test.reshape(x_test.shape[0], img_rows, img_cols, 1)\n",
    "    input_shape = (img_rows, img_cols, 1)\n"
   ]
  },
  {
   "cell_type": "code",
   "execution_count": 19,
   "metadata": {},
   "outputs": [
    {
     "name": "stdout",
     "output_type": "stream",
     "text": [
      "x_train shape: (60000, 28, 28, 1)\n",
      "60000 train samples\n",
      "10000 test samples\n"
     ]
    }
   ],
   "source": [
    "# 預設理\n",
    "x_train = x_train.astype('float32')\n",
    "x_test = x_test.astype('float32')\n",
    "x_train /= 255\n",
    "x_test /= 255\n",
    "print('x_train shape:', x_train.shape)\n",
    "print(x_train.shape[0], 'train samples')\n",
    "print(x_test.shape[0], 'test samples')\n",
    "\n",
    "# convert class vectors to binary class matrices\n",
    "y_train = keras.utils.to_categorical(y_train, num_classes)\n",
    "y_test  = keras.utils.to_categorical(y_test,  num_classes)\n"
   ]
  },
  {
   "cell_type": "code",
   "execution_count": 21,
   "metadata": {},
   "outputs": [
    {
     "name": "stdout",
     "output_type": "stream",
     "text": [
      "Model: \"sequential_1\"\n",
      "_________________________________________________________________\n",
      "Layer (type)                 Output Shape              Param #   \n",
      "=================================================================\n",
      "conv2d_2 (Conv2D)            (None, 26, 26, 32)        320       \n",
      "_________________________________________________________________\n",
      "conv2d_3 (Conv2D)            (None, 24, 24, 64)        18496     \n",
      "_________________________________________________________________\n",
      "max_pooling2d_1 (MaxPooling2 (None, 12, 12, 64)        0         \n",
      "_________________________________________________________________\n",
      "dropout_2 (Dropout)          (None, 12, 12, 64)        0         \n",
      "_________________________________________________________________\n",
      "flatten_1 (Flatten)          (None, 9216)              0         \n",
      "_________________________________________________________________\n",
      "dense_2 (Dense)              (None, 128)               1179776   \n",
      "_________________________________________________________________\n",
      "dropout_3 (Dropout)          (None, 128)               0         \n",
      "_________________________________________________________________\n",
      "dense_3 (Dense)              (None, 10)                1290      \n",
      "=================================================================\n",
      "Total params: 1,199,882\n",
      "Trainable params: 1,199,882\n",
      "Non-trainable params: 0\n",
      "_________________________________________________________________\n"
     ]
    }
   ],
   "source": [
    "model = Sequential()\n",
    "model.add(Conv2D(32, kernel_size=(3, 3),\n",
    "                 activation='relu',\n",
    "                 input_shape=input_shape))\n",
    "model.add(Conv2D(64, (3, 3), activation='relu'))\n",
    "model.add(MaxPooling2D(pool_size=(2, 2)))\n",
    "model.add(Dropout(0.25))  #0.25神經元暫停訓練不影響學習參數,但可避免overfitting\n",
    "model.add(Flatten())\n",
    "model.add(Dense(128, activation='relu'))\n",
    "model.add(Dropout(0.5))   #0.5神經元暫停訓練不影響學習參數,但可避免overfitting\n",
    "model.add(Dense(num_classes, activation='softmax'))\n",
    "\n",
    "model.compile(loss=keras.losses.categorical_crossentropy,\n",
    "              optimizer=keras.optimizers.Adam(),\n",
    "              metrics=['accuracy'])\n",
    "model.summary() #Total params: 1,199,882"
   ]
  },
  {
   "cell_type": "code",
   "execution_count": 22,
   "metadata": {},
   "outputs": [
    {
     "name": "stdout",
     "output_type": "stream",
     "text": [
      "Train on 60000 samples, validate on 10000 samples\n",
      "Epoch 1/12\n",
      "60000/60000 [==============================] - 64s 1ms/sample - loss: 0.2349 - accuracy: 0.9291 - val_loss: 0.0524 - val_accuracy: 0.9834\n",
      "Epoch 2/12\n",
      "60000/60000 [==============================] - 64s 1ms/sample - loss: 0.0842 - accuracy: 0.9747 - val_loss: 0.0367 - val_accuracy: 0.9883\n",
      "Epoch 3/12\n",
      "60000/60000 [==============================] - 64s 1ms/sample - loss: 0.0643 - accuracy: 0.9804 - val_loss: 0.0343 - val_accuracy: 0.9888\n",
      "Epoch 4/12\n",
      "60000/60000 [==============================] - 64s 1ms/sample - loss: 0.0520 - accuracy: 0.9844 - val_loss: 0.0305 - val_accuracy: 0.9909\n",
      "Epoch 5/12\n",
      "60000/60000 [==============================] - 66s 1ms/sample - loss: 0.0427 - accuracy: 0.9867 - val_loss: 0.0315 - val_accuracy: 0.9888\n",
      "Epoch 6/12\n",
      "60000/60000 [==============================] - 64s 1ms/sample - loss: 0.0399 - accuracy: 0.9875 - val_loss: 0.0335 - val_accuracy: 0.9902\n",
      "Epoch 7/12\n",
      "60000/60000 [==============================] - 64s 1ms/sample - loss: 0.0336 - accuracy: 0.9895 - val_loss: 0.0252 - val_accuracy: 0.9926\n",
      "Epoch 8/12\n",
      "60000/60000 [==============================] - 64s 1ms/sample - loss: 0.0299 - accuracy: 0.9904 - val_loss: 0.0294 - val_accuracy: 0.9908\n",
      "Epoch 9/12\n",
      "60000/60000 [==============================] - 64s 1ms/sample - loss: 0.0276 - accuracy: 0.9913 - val_loss: 0.0291 - val_accuracy: 0.9912\n",
      "Epoch 10/12\n",
      "60000/60000 [==============================] - 64s 1ms/sample - loss: 0.0260 - accuracy: 0.9911 - val_loss: 0.0277 - val_accuracy: 0.9915\n",
      "Epoch 11/12\n",
      "60000/60000 [==============================] - 65s 1ms/sample - loss: 0.0214 - accuracy: 0.9929 - val_loss: 0.0309 - val_accuracy: 0.9917\n",
      "Epoch 12/12\n",
      "60000/60000 [==============================] - 64s 1ms/sample - loss: 0.0207 - accuracy: 0.9934 - val_loss: 0.0330 - val_accuracy: 0.9913\n",
      "對測試資料集的準確率： 0.9913\n"
     ]
    }
   ],
   "source": [
    "model.fit(x_train, y_train,\n",
    "          batch_size=batch_size,\n",
    "          epochs=epochs,\n",
    "          verbose=1,\n",
    "          validation_data=(x_test, y_test))  #先不另外切validation出來直接用testing set\n",
    "\n",
    "score = model.evaluate(x_test, y_test, verbose=0)\n",
    "print('對測試資料集的準確率：', score[1])\n",
    "#對測試資料集的準確率： 0.9913"
   ]
  },
  {
   "cell_type": "code",
   "execution_count": 26,
   "metadata": {},
   "outputs": [],
   "source": [
    "#程 將模型存檔\n",
    "model.save('模型_CNN' + fns + '_new.h5')   #← 將模型以指定的檔名存檔\n"
   ]
  },
  {
   "cell_type": "code",
   "execution_count": null,
   "metadata": {},
   "outputs": [],
   "source": []
  }
 ],
 "metadata": {
  "kernelspec": {
   "display_name": "Python 3",
   "language": "python",
   "name": "python3"
  },
  "language_info": {
   "codemirror_mode": {
    "name": "ipython",
    "version": 3
   },
   "file_extension": ".py",
   "mimetype": "text/x-python",
   "name": "python",
   "nbconvert_exporter": "python",
   "pygments_lexer": "ipython3",
   "version": "3.7.4"
  }
 },
 "nbformat": 4,
 "nbformat_minor": 2
}
