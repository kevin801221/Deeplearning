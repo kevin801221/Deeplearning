{
 "cells": [
  {
   "cell_type": "markdown",
   "metadata": {},
   "source": [
    "# The Embedding layer is defined as the first hidden layer of a network. It must specify 3 arguments\n",
    "\n",
    "##### input_dim: This is the size of the vocabulary in the text data. For example, if your data is integer encoded to values between 0-10, then the size of the vocabulary would be 11 words.\n",
    "##### output_dim: This is the size of the vector space in which words will be embedded. It defines the size of the output vectors from this layer for each word. For example, it could be 32 or 100 or even larger. Test different values for your problem.\n",
    "##### input_length: This is the length of input sequences, as you would define for any input layer of a Keras model. For example, if all of your input documents are comprised of 1000 words, this would be 1000."
   ]
  },
  {
   "cell_type": "code",
   "execution_count": 2,
   "metadata": {},
   "outputs": [
    {
     "name": "stdout",
     "output_type": "stream",
     "text": [
      "encoded_docs [[5, 45], [5, 10], [25, 9], [44, 10], [31], [17], [9, 9], [2, 5], [9, 10], [6, 13, 45, 17]] \n",
      "\n",
      "padded_docs \n",
      " [[ 5 45  0  0]\n",
      " [ 5 10  0  0]\n",
      " [25  9  0  0]\n",
      " [44 10  0  0]\n",
      " [31  0  0  0]\n",
      " [17  0  0  0]\n",
      " [ 9  9  0  0]\n",
      " [ 2  5  0  0]\n",
      " [ 9 10  0  0]\n",
      " [ 6 13 45 17]]\n"
     ]
    }
   ],
   "source": [
    "# Sample\n",
    "from numpy import array\n",
    "from keras.preprocessing.text import one_hot\n",
    "from keras.preprocessing.sequence import pad_sequences\n",
    "from keras.models import Sequential\n",
    "from keras.layers import Dense\n",
    "from keras.layers import Flatten\n",
    "from keras.layers.embeddings import Embedding\n",
    "\n",
    "# define documents\n",
    "docs = ['Well done!',\n",
    "\t\t'Good work',\n",
    "\t\t'Great effort',\n",
    "\t\t'nice work',\n",
    "\t\t'Excellent!',\n",
    "\t\t'Weak',\n",
    "\t\t'Poor effort!',\n",
    "\t\t'not good',\n",
    "\t\t'poor work',\n",
    "\t\t'Could have done better.']\n",
    "# define class labels\n",
    "labels = array([1, 1, 1, 1, 1, 0, 0, 0, 0, 0])\n",
    "# integer encode the documents 1 - 50\n",
    "vocab_size = 50 # Tokenizer(num_words=50)\n",
    "encoded_docs = [one_hot(d, vocab_size) for d in docs] # token.texts_to_sequences(train_text)\n",
    "\n",
    "print('encoded_docs', encoded_docs, '\\n')\n",
    "# pad documents to a max length of 4 words\n",
    "max_length = 4\n",
    "padded_docs = pad_sequences(encoded_docs, maxlen=max_length, padding='post') # sequence.pad_sequences(x_train_seq, maxlen=4)\n",
    "print('padded_docs', '\\n', padded_docs)\n",
    "\n"
   ]
  },
  {
   "cell_type": "code",
   "execution_count": 3,
   "metadata": {},
   "outputs": [
    {
     "name": "stdout",
     "output_type": "stream",
     "text": [
      "_________________________________________________________________\n",
      "Layer (type)                 Output Shape              Param #   \n",
      "=================================================================\n",
      "embedding_1 (Embedding)      (None, 4, 8)              400       \n",
      "_________________________________________________________________\n",
      "flatten_1 (Flatten)          (None, 32)                0         \n",
      "_________________________________________________________________\n",
      "dense_1 (Dense)              (None, 1)                 33        \n",
      "=================================================================\n",
      "Total params: 433\n",
      "Trainable params: 433\n",
      "Non-trainable params: 0\n",
      "_________________________________________________________________\n",
      "None\n"
     ]
    }
   ],
   "source": [
    "# define the model\n",
    "# vocab_size = 50\n",
    "# max_length = 4\n",
    "# dimensions = 8\n",
    "# The output from the Embedding layer will be 4 vectors of 8 dimensions each, one for each word. \n",
    "# We flatten this to a one 32-element vector to pass on to the Dense output layer.\n",
    "# parameter of Embedding = vocab_size(50) * dimensions(8)\n",
    "\n",
    "model = Sequential()\n",
    "model.add(Embedding(input_dim=vocab_size, output_dim=8, input_length=max_length))\n",
    "model.add(Flatten())\n",
    "model.add(Dense(1, activation='sigmoid'))\n",
    "# compile the model\n",
    "model.compile(optimizer='sgd', loss='binary_crossentropy', metrics=['acc'])\n",
    "# summarize the model\n",
    "print(model.summary())\n",
    "\n",
    "\n",
    "# model.add(Embedding(output_dim=8,\n",
    "#                     input_dim=50, \n",
    "#                     input_length=4))"
   ]
  },
  {
   "cell_type": "code",
   "execution_count": 4,
   "metadata": {},
   "outputs": [
    {
     "name": "stdout",
     "output_type": "stream",
     "text": [
      "10/10 [==============================] - 0s 293us/step\n",
      "Accuracy: 90.000004\n"
     ]
    }
   ],
   "source": [
    "# fit the model\n",
    "history = model.fit(padded_docs, labels, epochs=3000, verbose=0, validation_split=0.2)\n",
    "# evaluate the model\n",
    "loss, accuracy = model.evaluate(padded_docs, labels, verbose=1)\n",
    "print('Accuracy: %f' % (accuracy*100))"
   ]
  },
  {
   "cell_type": "code",
   "execution_count": 5,
   "metadata": {},
   "outputs": [
    {
     "name": "stdout",
     "output_type": "stream",
     "text": [
      "<keras.layers.embeddings.Embedding object at 0x000001FE510E50B8>\n",
      "<keras.layers.core.Flatten object at 0x000001FE510113C8>\n",
      "<keras.layers.core.Dense object at 0x000001FE510E5080>\n"
     ]
    },
    {
     "data": {
      "text/plain": [
       "array([[-7.65648484e-02,  1.15480505e-01,  1.54343188e-01,\n",
       "        -7.82107934e-02,  5.27035408e-02,  1.19238131e-01,\n",
       "         1.91393355e-03,  1.45335823e-01],\n",
       "       [ 4.66549471e-02,  3.59262004e-02,  6.08018646e-03,\n",
       "         3.19707999e-03, -3.46541405e-02, -3.17942947e-02,\n",
       "         3.44695225e-02,  2.16018688e-02],\n",
       "       [ 9.12950933e-03,  9.87933353e-02, -3.88615429e-01,\n",
       "         5.04248142e-01,  4.92353350e-01,  2.03084648e-01,\n",
       "        -5.42740703e-01, -5.52355647e-02],\n",
       "       [ 2.17548311e-02, -1.74946617e-02,  2.18973886e-02,\n",
       "         3.41938399e-02, -1.69098526e-02, -4.05069627e-02,\n",
       "        -2.47947574e-02, -3.14503573e-02],\n",
       "       [-3.28334719e-02,  1.11246584e-02,  2.70771030e-02,\n",
       "         2.72490736e-02, -2.89229602e-02,  2.74093747e-02,\n",
       "        -4.26779315e-02,  2.26591360e-02],\n",
       "       [ 8.73702839e-02,  6.68417364e-02,  5.76438427e-01,\n",
       "        -4.23181593e-01, -3.35427046e-01, -1.76697858e-02,\n",
       "         9.58044469e-01,  4.47356701e-01],\n",
       "       [ 2.35049482e-02,  3.23651135e-02, -2.87681799e-02,\n",
       "         4.48936522e-02, -4.30588722e-02,  2.41459608e-02,\n",
       "        -4.32743952e-02, -9.21466388e-03],\n",
       "       [ 2.65400950e-02,  1.43956244e-02,  3.18692438e-02,\n",
       "         1.62079465e-02, -4.69651185e-02, -6.66155247e-03,\n",
       "         2.96343323e-02, -9.48826410e-03],\n",
       "       [ 3.67124937e-02, -2.63792388e-02, -2.13494245e-02,\n",
       "         3.36351767e-02,  3.54419425e-02,  7.79866567e-03,\n",
       "         1.62343569e-02, -3.73769887e-02],\n",
       "       [-6.97844401e-02,  2.42417917e-01, -5.13206124e-01,\n",
       "         6.65582776e-01,  6.95047140e-01,  3.54889244e-01,\n",
       "        -5.71401119e-01,  4.40649875e-02],\n",
       "       [-1.01251483e-01, -2.02827960e-01, -1.74649298e-01,\n",
       "        -1.33971393e-01, -2.25444525e-01, -2.66682297e-01,\n",
       "        -5.44067681e-01, -4.35517848e-01],\n",
       "       [-4.32194099e-02, -4.11346033e-02,  3.02686747e-02,\n",
       "         3.16996276e-02,  1.13354623e-02,  2.78338678e-02,\n",
       "        -3.08457948e-02, -2.63822060e-02],\n",
       "       [ 1.74885746e-02,  2.46035401e-02, -1.44097386e-02,\n",
       "        -4.99637388e-02,  4.04486023e-02, -1.67575330e-02,\n",
       "        -5.63671300e-03,  4.71984744e-02],\n",
       "       [ 9.85036511e-03,  9.84072685e-05, -6.45395834e-03,\n",
       "        -4.54488136e-02, -2.08198018e-02, -3.50027494e-02,\n",
       "         3.90420551e-03, -5.76148648e-03],\n",
       "       [-1.44033255e-02, -2.11746991e-02,  3.85467671e-02,\n",
       "         3.73455882e-02, -1.24180911e-03, -2.76832581e-02,\n",
       "        -1.41907930e-02, -1.66175459e-02],\n",
       "       [ 4.21776362e-02, -2.12242156e-02,  7.01359520e-03,\n",
       "        -3.09191947e-03, -1.91963352e-02,  1.25488164e-02,\n",
       "         3.35841551e-02,  2.91499197e-02],\n",
       "       [ 2.62684282e-02, -5.97022474e-03,  2.18987111e-02,\n",
       "        -4.78044190e-02, -2.23977175e-02, -3.43206041e-02,\n",
       "         1.84462368e-02,  3.94711979e-02],\n",
       "       [-4.49533053e-02,  9.83159691e-02, -5.47879457e-01,\n",
       "         5.89286804e-01,  5.31925976e-01,  2.39228472e-01,\n",
       "        -6.72442079e-01, -1.17004834e-01],\n",
       "       [-4.01730910e-02, -3.34461592e-02, -4.81338650e-02,\n",
       "         2.42600450e-03, -4.72380593e-02, -6.60544960e-03,\n",
       "         2.51836907e-02,  4.32240926e-02],\n",
       "       [ 3.38645168e-02,  2.01371852e-02, -3.13764699e-02,\n",
       "        -8.03220924e-03,  5.98318595e-03, -6.36784127e-03,\n",
       "        -3.70542221e-02,  1.81448217e-02],\n",
       "       [ 1.80316623e-02, -4.13733348e-02,  4.61938046e-02,\n",
       "        -2.31457353e-02, -1.41433571e-02, -4.09737378e-02,\n",
       "         4.45295870e-02, -4.31129560e-02],\n",
       "       [ 4.06323699e-03, -7.82091077e-03, -4.69596721e-02,\n",
       "         2.76336316e-02, -2.28789784e-02,  3.26107703e-02,\n",
       "         3.14553753e-02, -4.36262377e-02],\n",
       "       [ 3.13970335e-02,  3.74243669e-02, -7.57832825e-03,\n",
       "        -3.31666484e-03,  1.97208580e-02, -2.88663581e-02,\n",
       "        -3.05678253e-03,  1.29787866e-02],\n",
       "       [-6.62187953e-03,  3.44755910e-02, -2.30590459e-02,\n",
       "        -4.76838946e-02, -3.67892496e-02, -6.07446162e-03,\n",
       "         3.61143835e-02, -7.46155391e-03],\n",
       "       [-2.72389241e-02,  4.96518426e-02, -8.18444788e-03,\n",
       "         1.89971626e-02, -7.55742192e-03,  2.67893504e-02,\n",
       "        -2.53282860e-02,  2.79197693e-02],\n",
       "       [ 1.83110703e-02, -6.83154538e-02,  4.58144575e-01,\n",
       "        -4.85092133e-01, -4.34008688e-01, -1.61766559e-01,\n",
       "         5.37682295e-01,  4.70026396e-02],\n",
       "       [ 3.63240018e-02, -3.99055891e-02, -3.44594046e-02,\n",
       "         1.03759831e-02,  4.30968590e-02, -9.08818282e-03,\n",
       "         4.16653715e-02, -2.18768753e-02],\n",
       "       [ 4.59154956e-02, -2.92773303e-02, -3.42095383e-02,\n",
       "         4.14682217e-02, -2.82980818e-02,  2.48797424e-02,\n",
       "         3.41360234e-02, -3.92387286e-02],\n",
       "       [-3.16865817e-02,  1.15694227e-02,  3.53781879e-02,\n",
       "         4.43894267e-02, -2.46015191e-03, -6.53720228e-03,\n",
       "         2.96825776e-03,  4.17065015e-03],\n",
       "       [ 4.97700162e-02, -2.96607520e-02, -4.39272597e-02,\n",
       "         5.31060714e-03,  1.45456493e-02,  1.55222956e-02,\n",
       "        -2.99381297e-02, -4.52358164e-02],\n",
       "       [ 8.38935375e-03,  2.50601172e-02,  4.25227843e-02,\n",
       "         2.84729358e-02, -3.59713146e-03,  2.73872074e-02,\n",
       "         1.71942113e-03, -2.58087777e-02],\n",
       "       [ 4.28768136e-02, -1.29816458e-01,  4.85057563e-01,\n",
       "        -5.67757666e-01, -4.68186498e-01, -2.27744296e-01,\n",
       "         5.55282474e-01,  6.17436282e-02],\n",
       "       [-2.71223895e-02,  1.88894030e-02,  3.66816893e-02,\n",
       "         2.76248101e-02,  2.51473133e-02,  2.85160486e-02,\n",
       "        -3.84762809e-02, -2.04978921e-02],\n",
       "       [-4.25730124e-02, -2.54037994e-04,  4.84761596e-02,\n",
       "        -2.69926544e-02, -3.58824693e-02, -1.67557783e-02,\n",
       "        -1.55479915e-03,  4.95587103e-02],\n",
       "       [ 3.55122387e-02, -2.63677090e-02, -1.86024345e-02,\n",
       "        -4.54240106e-02, -2.50393823e-02, -2.84808371e-02,\n",
       "        -3.65786552e-02,  2.03598151e-03],\n",
       "       [-2.28306632e-02, -4.55443822e-02, -4.59241420e-02,\n",
       "         3.49666476e-02, -1.65711939e-02, -2.26416602e-03,\n",
       "        -4.75700274e-02,  1.22922240e-02],\n",
       "       [-4.11756672e-02,  5.13848662e-03,  2.09280266e-03,\n",
       "        -2.37024073e-02, -4.04304080e-02, -1.37501508e-02,\n",
       "        -1.99475624e-02, -1.14242285e-02],\n",
       "       [ 1.88380424e-02,  4.73685935e-02, -4.47341315e-02,\n",
       "         3.20070976e-04,  8.24618328e-04, -4.52442355e-02,\n",
       "        -1.80444624e-02,  2.33001653e-02],\n",
       "       [-2.43058596e-02,  1.92483254e-02, -2.86322217e-02,\n",
       "        -3.81434266e-03, -2.64969673e-02, -3.38621847e-02,\n",
       "         1.91528033e-02, -2.75151860e-02],\n",
       "       [-1.11497345e-03, -1.25023844e-02,  4.00127359e-02,\n",
       "         1.77665539e-02,  2.52969619e-02,  2.11643875e-02,\n",
       "         4.93572978e-03, -3.17539573e-02],\n",
       "       [-6.57140603e-03, -1.79351661e-02, -4.13549505e-02,\n",
       "         5.56650152e-03,  3.59080918e-02, -1.44639378e-02,\n",
       "         1.74436271e-02,  5.16973156e-03],\n",
       "       [ 3.09920311e-02, -7.89928157e-03,  1.03938822e-02,\n",
       "         5.63519588e-03,  1.35137141e-02, -3.06809451e-02,\n",
       "         2.33429503e-02,  4.58527822e-03],\n",
       "       [ 3.34846079e-02, -1.93976611e-02, -4.51359265e-02,\n",
       "        -4.61589918e-02,  1.31859779e-02, -1.15138595e-03,\n",
       "        -4.26994488e-02,  5.13862958e-03],\n",
       "       [ 1.48366038e-02,  1.52034229e-02,  3.64122652e-02,\n",
       "        -4.51453030e-02,  1.41094029e-02,  7.20248837e-03,\n",
       "        -4.04703766e-02, -3.24088372e-02],\n",
       "       [ 5.23581691e-02, -1.20507687e-01,  3.44844341e-01,\n",
       "        -4.09212142e-01, -2.99735069e-01, -1.14631474e-01,\n",
       "         3.88409942e-01,  2.28701811e-02],\n",
       "       [-6.88161477e-02, -1.35713741e-01, -1.03477024e-01,\n",
       "        -2.32786406e-02, -1.52192101e-01, -1.15220465e-01,\n",
       "        -2.72916496e-01, -1.82672873e-01],\n",
       "       [-3.75918741e-03,  3.61578353e-02, -3.42161469e-02,\n",
       "         4.26156409e-02,  1.80635098e-02,  2.60198722e-03,\n",
       "        -4.79829386e-02, -3.31111923e-02],\n",
       "       [ 3.15410867e-02,  3.58695462e-02,  3.90930194e-03,\n",
       "         1.03697181e-03, -2.22836286e-02, -4.14652787e-02,\n",
       "         1.76182222e-02, -1.46353547e-03],\n",
       "       [-1.81534197e-02, -2.19927146e-03,  3.75051759e-02,\n",
       "        -3.96514796e-02,  2.36991104e-02,  5.18833427e-03,\n",
       "        -2.06790417e-02,  6.59271469e-03],\n",
       "       [ 1.15335761e-02,  1.25414198e-02,  1.55056417e-02,\n",
       "        -3.76909412e-02,  1.70360096e-02, -6.49052858e-03,\n",
       "         4.85403053e-02,  3.37044671e-02]], dtype=float32)"
      ]
     },
     "execution_count": 5,
     "metadata": {},
     "output_type": "execute_result"
    }
   ],
   "source": [
    "for l in model.layers:\n",
    "    print(l)\n",
    "import numpy as np    \n",
    "np.array(model.layers[0].get_weights()).reshape(50,8)"
   ]
  },
  {
   "cell_type": "code",
   "execution_count": 6,
   "metadata": {},
   "outputs": [
    {
     "data": {
      "image/png": "[encoded data removed]",
      "text/plain": [
       "<Figure size 432x288 with 1 Axes>"
      ]
     },
     "metadata": {
      "needs_background": "light"
     },
     "output_type": "display_data"
    }
   ],
   "source": [
    "%matplotlib inline\n",
    "import matplotlib.pyplot as plt\n",
    "plt.plot(range(len(history.epoch)), history.history['acc'], color='red'  )\n",
    "plt.plot(range(len(history.epoch)), history.history['val_acc'], color='blue'  )\n",
    "plt.xlabel('Epochs')\n",
    "plt.ylabel('Acc')\n",
    "plt.grid()\n",
    "plt.show()"
   ]
  },
  {
   "cell_type": "code",
   "execution_count": 7,
   "metadata": {},
   "outputs": [
    {
     "data": {
      "image/png": "[encoded data removed]",
      "text/plain": [
       "<Figure size 432x288 with 1 Axes>"
      ]
     },
     "metadata": {
      "needs_background": "light"
     },
     "output_type": "display_data"
    }
   ],
   "source": [
    "import matplotlib.pyplot as plt\n",
    "plt.plot(range(len(history.epoch)), history.history['loss'], color='red'  )\n",
    "plt.plot(range(len(history.epoch)), history.history['val_loss'], color='blue'  )\n",
    "plt.xlabel('Epochs')\n",
    "plt.ylabel('Loss')\n",
    "plt.grid()\n",
    "plt.show()"
   ]
  },
  {
   "cell_type": "code",
   "execution_count": null,
   "metadata": {},
   "outputs": [],
   "source": []
  }
 ],
 "metadata": {
  "kernelspec": {
   "display_name": "Python 3",
   "language": "python",
   "name": "python3"
  },
  "language_info": {
   "codemirror_mode": {
    "name": "ipython",
    "version": 3
   },
   "file_extension": ".py",
   "mimetype": "text/x-python",
   "name": "python",
   "nbconvert_exporter": "python",
   "pygments_lexer": "ipython3",
   "version": "3.6.8"
  }
 },
 "nbformat": 4,
 "nbformat_minor": 2
}
