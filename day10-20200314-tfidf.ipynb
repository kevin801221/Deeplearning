{
 "cells": [
  {
   "cell_type": "code",
   "execution_count": null,
   "metadata": {},
   "outputs": [],
   "source": [
    "import numpy as np\n",
    "from sklearn.feature_extraction.text import CountVectorizer\n",
    "from sklearn.feature_extraction.text import TfidfTransformer\n",
    "from sklearn.metrics.pairwise import cosine_similarity\n",
    "\n",
    "base = 3 # index of corpus with zero-base\n",
    "\n",
    "#Case subject\n",
    "subject = [\n",
    "    'Hello, I feel so great to get your feedback',\n",
    "    'My name is Jason and great to see you.',\n",
    "    'Any feedback is welcome to me', \n",
    "    'I need your great feedback',\n",
    "]\n",
    "\n",
    "vectorizer = CountVectorizer()\n",
    "X = vectorizer.fit_transform(subject)\n",
    "word = vectorizer.get_feature_names()\n",
    "print(len(word))\n",
    "transformer = TfidfTransformer()\n",
    "tfidf = transformer.fit_transform(X)\n",
    "tfidf[base].toarray().shape\n",
    "similarity_subject = np.array(cosine_similarity(tfidf[base], tfidf)).ravel()\n",
    "print(similarity_subject)"
   ]
  }
 ],
 "metadata": {
  "kernelspec": {
   "display_name": "Python 3",
   "language": "python",
   "name": "python3"
  },
  "language_info": {
   "codemirror_mode": {
    "name": "ipython",
    "version": 3
   },
   "file_extension": ".py",
   "mimetype": "text/x-python",
   "name": "python",
   "nbconvert_exporter": "python",
   "pygments_lexer": "ipython3",
   "version": "3.7.4"
  }
 },
 "nbformat": 4,
 "nbformat_minor": 2
}
