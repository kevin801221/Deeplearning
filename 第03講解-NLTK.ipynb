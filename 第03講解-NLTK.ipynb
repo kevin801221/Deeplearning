{
 "cells": [
  {
   "cell_type": "code",
   "execution_count": 4,
   "metadata": {},
   "outputs": [
    {
     "data": {
      "text/plain": [
       "['11']"
      ]
     },
     "execution_count": 4,
     "metadata": {},
     "output_type": "execute_result"
    }
   ],
   "source": [
    "import re\n",
    "corpus = 'I have 11 cats.'\n",
    "pattern = r'\\d+'\n",
    "re.findall(pattern, corpus)"
   ]
  },
  {
   "cell_type": "code",
   "execution_count": 5,
   "metadata": {},
   "outputs": [
    {
     "data": {
      "text/plain": [
       "['I', 'have', '11', 'cats']"
      ]
     },
     "execution_count": 5,
     "metadata": {},
     "output_type": "execute_result"
    }
   ],
   "source": [
    "pattern = r'\\w+'\n",
    "re.findall(pattern, corpus)"
   ]
  },
  {
   "cell_type": "code",
   "execution_count": 6,
   "metadata": {},
   "outputs": [
    {
     "data": {
      "text/plain": [
       "['I', 'have', '11', 'cats']"
      ]
     },
     "execution_count": 6,
     "metadata": {},
     "output_type": "execute_result"
    }
   ],
   "source": [
    "pattern = r'(\\d+|\\w+)'\n",
    "re.findall(pattern, corpus)"
   ]
  },
  {
   "cell_type": "code",
   "execution_count": 52,
   "metadata": {},
   "outputs": [
    {
     "data": {
      "text/plain": [
       "'I used Windows-10 as my OS. He bought Windows-2019 as well'"
      ]
     },
     "execution_count": 52,
     "metadata": {},
     "output_type": "execute_result"
    }
   ],
   "source": [
    "# 分群\n",
    "text = 'I used Windows 10 as my OS. He bought Windows 2019 as well'\n",
    "text = re.sub(r\"(Windows)\\s(\\d+)\", \"\\g<1>-\\g<2>\" , text)\n",
    "text"
   ]
  },
  {
   "cell_type": "code",
   "execution_count": 48,
   "metadata": {},
   "outputs": [
    {
     "data": {
      "text/plain": [
       "'I used Windows-10 as my OS. He bought Windows-2019 as well'"
      ]
     },
     "execution_count": 48,
     "metadata": {},
     "output_type": "execute_result"
    }
   ],
   "source": [
    "# 怎樣處理多空格\n",
    "text = 'I used Windows 10 as my OS. He bought Windows    2019 as well'\n",
    "text = re.sub(r\"(Windows)\\s{1,}(\\d+)\", \"\\g<1>-\\g<2>\" , text)\n",
    "text"
   ]
  },
  {
   "cell_type": "code",
   "execution_count": 36,
   "metadata": {},
   "outputs": [
    {
     "data": {
      "text/plain": [
       "'I used Windows-10 as my OS. He bought windows-2019 as well'"
      ]
     },
     "execution_count": 36,
     "metadata": {},
     "output_type": "execute_result"
    }
   ],
   "source": [
    "# 怎樣大小通吃 Windows-10 , windows-10 \n",
    "text = 'I used Windows 10 as my OS. He bought windows 2019 as well'\n",
    "#text = re.sub(r\"(Windows|windows)\\s(\\d+)\", \"\\g<1>-\\g<2>\" , text)\n",
    "#text = re.sub(r\"(W|windows)\\s(\\d+)\", \"\\g<1>-\\g<2>\" , text)\n",
    "text = re.sub(r\"([Ww]indows)\\s(\\d+)\", \"\\g<1>-\\g<2>\" , text)\n",
    "text"
   ]
  },
  {
   "cell_type": "code",
   "execution_count": 40,
   "metadata": {},
   "outputs": [
    {
     "data": {
      "text/plain": [
       "'I used Windows-10 as my OS. He bought Windows-95 as well'"
      ]
     },
     "execution_count": 40,
     "metadata": {},
     "output_type": "execute_result"
    }
   ],
   "source": [
    "# 怎樣大小通吃 Windows-10 , window-10 少個s\n",
    "text = 'I used Windows 10 as my OS. He bought window 95 as well'\n",
    "text = re.sub(r\"([Ww]indows{0,1})\\s(\\d+)\", \"Windows-\\g<2>\" , text)\n",
    "text"
   ]
  },
  {
   "cell_type": "code",
   "execution_count": 60,
   "metadata": {},
   "outputs": [
    {
     "data": {
      "text/plain": [
       "['a-z', 'a-z']"
      ]
     },
     "execution_count": 60,
     "metadata": {},
     "output_type": "execute_result"
    }
   ],
   "source": [
    "sample ='my text includs a-z or a.z and others a-z.'\n",
    "pattern = r'(a-z)'\n",
    "re.findall(pattern, sample)\n"
   ]
  },
  {
   "cell_type": "code",
   "execution_count": 82,
   "metadata": {},
   "outputs": [
    {
     "data": {
      "text/plain": [
       "[' ', ' ', ' ', ' ', ' ', '+++', ' ', ' ', ' ']"
      ]
     },
     "execution_count": 82,
     "metadata": {},
     "output_type": "execute_result"
    }
   ],
   "source": [
    "sample ='my text includes a-z or a+++z and others a-z.'\n",
    "pattern = r'(\\s+|\\+{1,})'\n",
    "re.findall(pattern, sample)\n"
   ]
  },
  {
   "cell_type": "code",
   "execution_count": 81,
   "metadata": {},
   "outputs": [
    {
     "data": {
      "text/plain": [
       "<_sre.SRE_Match object; span=(0, 35), match='match lowercase spaces nums like 12'>"
      ]
     },
     "execution_count": 81,
     "metadata": {},
     "output_type": "execute_result"
    }
   ],
   "source": [
    "sentence = 'match lowercase spaces nums like 12, but no commas'\n",
    "pattern = r'[a-z0-9\\s]+'\n",
    "re.match(pattern, sentence)"
   ]
  },
  {
   "cell_type": "code",
   "execution_count": 89,
   "metadata": {},
   "outputs": [
    {
     "data": {
      "text/plain": [
       "'my text includes A or B or C or az and others az'"
      ]
     },
     "execution_count": 89,
     "metadata": {},
     "output_type": "execute_result"
    }
   ],
   "source": [
    "# 特別 [^A-Z] [^表示不是]\n",
    "# 除了A-Z a-z 0-9 空白這些字元，其他都移除\n",
    "text ='my text includes A or B or C or a+++z and others a-z.'\n",
    "pattern = r'[^A-Za-z0-9 ]'\n",
    "text = re.sub(pattern, '',  text)\n",
    "text"
   ]
  },
  {
   "cell_type": "code",
   "execution_count": 105,
   "metadata": {},
   "outputs": [
    {
     "data": {
      "text/plain": [
       "'account id:lewis'"
      ]
     },
     "execution_count": 105,
     "metadata": {},
     "output_type": "execute_result"
    }
   ],
   "source": [
    "# 針對敏感資料有特定格式者 進行移除 session id:okdofkdsofksofksofksoskdf \n",
    "text ='''session id:00-99-88\n",
    "account id:lewis'''\n",
    "text = re.sub(r'session id\\W*:.*\\n', '', text)\n",
    "text"
   ]
  },
  {
   "cell_type": "code",
   "execution_count": 115,
   "metadata": {},
   "outputs": [
    {
     "data": {
      "text/plain": [
       "['127.0.0.1', '10.30.48.148', '52.76.89.9', '1277.0.0.1']"
      ]
     },
     "execution_count": 115,
     "metadata": {},
     "output_type": "execute_result"
    }
   ],
   "source": [
    "# 僅取三碼以內\n",
    "mydata = 'my IP is 127.0.0.1 , 10.30.48.148 and 52.76.89.9. But she gave me one IP 1277.0.0.1 '\n",
    "pattern = r'(\\d+\\.\\d{,3}\\.\\d{,3}\\.\\d{,3})'\n",
    "re.findall(pattern, mydata)"
   ]
  },
  {
   "cell_type": "code",
   "execution_count": null,
   "metadata": {},
   "outputs": [],
   "source": []
  },
  {
   "cell_type": "code",
   "execution_count": 142,
   "metadata": {},
   "outputs": [
    {
     "data": {
      "image/png": "[encoded data removed]",
      "text/plain": [
       "<Figure size 1296x216 with 1 Axes>"
      ]
     },
     "metadata": {
      "needs_background": "light"
     },
     "output_type": "display_data"
    }
   ],
   "source": [
    "%matplotlib inline\n",
    "# 實戰演練\n",
    "news = '''Abominable, about a Chinese girl who discovers a yeti on her roof, is a joint China-DreamWorks production.\n",
    "\n",
    "The map shows China's unilaterally declared \"nine-dash line\", which carves out a huge area in the sea that Vietnam lays claim to.\n",
    "\n",
    "China and Vietnam have been locked in a recent standoff in the region.\n",
    "\n",
    "The latest dispute started in July when China conducted an energy survey in waters controlled by Vietnam.\n",
    "\n",
    "Why is the South China Sea contentious?\n",
    "Taiwan, the Philippines, Brunei, Malaysia and Vietnam all make claims to parts of the sea.\n",
    "\n",
    "What's in the controversial scene?\n",
    "The film, jointly produced by Shanghai-based Pearl Studio and DreamWorks Animation, was first shown in Vietnamese cinemas on 4 October.\n",
    "\n",
    "The controversial scene shows China's \"nine dash line\" on a map in the background. What has the reaction been?\n",
    "Vietnamese viewers quickly spotted the map and started sharing screenshots on social media.\n",
    "\n",
    "The government swiftly announced that the film was to be pulled from cinemas.\n",
    "\n",
    "\"We will revoke [the film's license],\" Ta Quang Dong, deputy minister of culture, sports and tourism, was quoted as saying by the Thanh Nien newspaper.'''\n",
    "\n",
    "from nltk.tokenize import word_tokenize\n",
    "import matplotlib.pyplot as plt\n",
    "import pandas as pd\n",
    "plt.figure(figsize=(18,3))\n",
    "pd.Series(word_tokenize(news.lower())).value_counts()[:20].plot(kind='bar')\n",
    "plt.show()"
   ]
  },
  {
   "cell_type": "code",
   "execution_count": 143,
   "metadata": {},
   "outputs": [
    {
     "data": {
      "image/png": "[encoded data removed]",
      "text/plain": [
       "<Figure size 1296x216 with 1 Axes>"
      ]
     },
     "metadata": {
      "needs_background": "light"
     },
     "output_type": "display_data"
    }
   ],
   "source": [
    "# 不同切自方法 re.findall(r'\\w+')\n",
    "from nltk.tokenize import word_tokenize\n",
    "import matplotlib.pyplot as plt\n",
    "import pandas as pd\n",
    "plt.figure(figsize=(18,3))\n",
    "pd.Series(re.findall(r'\\w+', news.lower())).value_counts()[:20].plot(kind='bar')\n",
    "plt.show()"
   ]
  },
  {
   "cell_type": "code",
   "execution_count": 144,
   "metadata": {},
   "outputs": [
    {
     "data": {
      "image/png": "[encoded data removed]",
      "text/plain": [
       "<Figure size 1296x216 with 1 Axes>"
      ]
     },
     "metadata": {
      "needs_background": "light"
     },
     "output_type": "display_data"
    }
   ],
   "source": [
    "# 去除is a the and 字頻 = tf\n",
    "from nltk.corpus import stopwords\n",
    "stopwords = stopwords.words('english')\n",
    "stopwords # 請選上述的兩種方式任一個 去除 stopwords\n",
    "\n",
    "\n",
    "plt.figure(figsize=(18,3))\n",
    "words = [i for i in re.findall(r'\\w+', news.lower()) if i not in stopwords ] # list comprehensive\n",
    "pd.Series(words).value_counts().plot(kind='bar')\n",
    "plt.show()"
   ]
  },
  {
   "cell_type": "code",
   "execution_count": null,
   "metadata": {},
   "outputs": [],
   "source": []
  }
 ],
 "metadata": {
  "kernelspec": {
   "display_name": "Python 3",
   "language": "python",
   "name": "python3"
  },
  "language_info": {
   "codemirror_mode": {
    "name": "ipython",
    "version": 3
   },
   "file_extension": ".py",
   "mimetype": "text/x-python",
   "name": "python",
   "nbconvert_exporter": "python",
   "pygments_lexer": "ipython3",
   "version": "3.6.8"
  }
 },
 "nbformat": 4,
 "nbformat_minor": 2
}
